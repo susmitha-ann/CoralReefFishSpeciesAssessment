{
 "cells": [
  {
   "cell_type": "code",
   "execution_count": 1,
   "metadata": {},
   "outputs": [],
   "source": [
    "#Library needed\n",
    "\n",
    "import numpy as np\n",
    "import pandas as pd\n",
    "import matplotlib.pyplot as plt\n",
    "import seaborn as sns\n",
    "import plotly.express as px\n",
    "import plotly.graph_objects as go\n",
    "from plotly.offline import download_plotlyjs, init_notebook_mode, plot, iplot\n",
    "\n",
    "#this line will allow to set an option in pandas for it display all the columns of the dataset \n",
    "# what ever the number\n",
    "pd.set_option('display.max_columns', None)"
   ]
  },
  {
   "cell_type": "code",
   "execution_count": 86,
   "metadata": {},
   "outputs": [],
   "source": [
    "#upload csv file\n",
    "\n",
    "species = pd.read_csv(\"C:/Users/marie/Documents/DSTI_Cours/Python_Class/Python_Lab/Exam_project/Project 2/Resources/doi_10_5061_dryad_xpnvx0kmn__v20230901/species.csv\", sep=';', index_col='Index')\n",
    "\n",
    "index= pd.read_csv(\"C:/Users/marie/Documents/DSTI_Cours/Python_Class/Python_Lab/Exam_project/Project 2/CoralReefFishSpeciesAssessment/Data/Species_diversity.csv\", sep=';')"
   ]
  },
  {
   "cell_type": "markdown",
   "metadata": {},
   "source": [
    "Merge of the dataset to get the indexes in the species tables"
   ]
  },
  {
   "cell_type": "code",
   "execution_count": 87,
   "metadata": {},
   "outputs": [
    {
     "name": "stdout",
     "output_type": "stream",
     "text": [
      "<class 'pandas.core.frame.DataFrame'>\n",
      "RangeIndex: 3999 entries, 0 to 3998\n",
      "Data columns (total 4 columns):\n",
      " #   Column          Non-Null Count  Dtype  \n",
      "---  ------          --------------  -----  \n",
      " 0   site            3999 non-null   object \n",
      " 1   Total           3999 non-null   float64\n",
      " 2   Nb_dif_Sp       3999 non-null   int64  \n",
      " 3   Margalef_Index  3999 non-null   float64\n",
      "dtypes: float64(2), int64(1), object(1)\n",
      "memory usage: 125.1+ KB\n"
     ]
    }
   ],
   "source": [
    "index.info()"
   ]
  },
  {
   "cell_type": "code",
   "execution_count": 89,
   "metadata": {},
   "outputs": [
    {
     "name": "stdout",
     "output_type": "stream",
     "text": [
      "<class 'pandas.core.frame.DataFrame'>\n",
      "Index: 3999 entries, 0 to 3998\n",
      "Data columns (total 55 columns):\n",
      " #   Column                       Non-Null Count  Dtype  \n",
      "---  ------                       --------------  -----  \n",
      " 0   site                         3999 non-null   object \n",
      " 1   model                        3999 non-null   object \n",
      " 2   Year                         3999 non-null   int64  \n",
      " 3   Month                        3999 non-null   object \n",
      " 4   Latitude                     3999 non-null   float64\n",
      " 5   Longitude                    3999 non-null   float64\n",
      " 6   Depth                        3999 non-null   float64\n",
      " 7   Region                       3999 non-null   object \n",
      " 8   Coral_cover                  3292 non-null   float64\n",
      " 9   Reef_complexity              3292 non-null   float64\n",
      " 10  SST                          3999 non-null   float64\n",
      " 11  NPP                          3999 non-null   float64\n",
      " 12  Wave_exposure                3999 non-null   float64\n",
      " 13  Habitat_type_classLV0        3999 non-null   object \n",
      " 14  Habitat_type_classLV2        3999 non-null   object \n",
      " 15  Coral_area_UFRTM_20km        3999 non-null   int64  \n",
      " 16  Coral_area_UFRTM_200km       3999 non-null   int64  \n",
      " 17  Depth_Sbrocco                3999 non-null   float64\n",
      " 18  Deepwater                    3999 non-null   float64\n",
      " 19  FSA                          3999 non-null   float64\n",
      " 20  Marina_slips_10km            3999 non-null   int64  \n",
      " 21  Marina_slips_25km            3999 non-null   int64  \n",
      " 22  Marine_reserve               3999 non-null   object \n",
      " 23  Population_20km              3999 non-null   int64  \n",
      " 24  Population_50km              3999 non-null   int64  \n",
      " 25  Recreational_fishermen_50km  3999 non-null   int64  \n",
      " 26  Tourist_fishing              3999 non-null   float64\n",
      " 27  Artificial_reefs_1km         3999 non-null   int64  \n",
      " 28  SG_permits_50km              3999 non-null   int64  \n",
      " 29  SG_charter_permits_25km      3999 non-null   int64  \n",
      " 30  Total_gravity_intercept      3896 non-null   float64\n",
      " 31  Total_gravity                3896 non-null   float64\n",
      " 32  Keys_Divisions               2570 non-null   object \n",
      " 33  FKNMS                        1658 non-null   object \n",
      " 34  DryTortugas                  627 non-null    object \n",
      " 35  BNP                          259 non-null    object \n",
      " 36  CoralECA                     1364 non-null   object \n",
      " 37  Nursery_seagrass             3999 non-null   float64\n",
      " 38  Nursery_mangroves            3999 non-null   float64\n",
      " 39  connectivity                 3376 non-null   float64\n",
      " 40  Comm_engagement              3910 non-null   float64\n",
      " 41  Comm_reliance                3910 non-null   float64\n",
      " 42  Rec_engagement               3910 non-null   float64\n",
      " 43  Rec_reliance                 3910 non-null   float64\n",
      " 44  Commercial_pounds_landed     3998 non-null   float64\n",
      " 45  Pop_per_area_reef_20km       3999 non-null   float64\n",
      " 46  Random                       3999 non-null   int64  \n",
      " 47  impact                       2779 non-null   float64\n",
      " 48  YEAR                         3999 non-null   int64  \n",
      " 49  HABITAT_CD                   3999 non-null   object \n",
      " 50  REGION                       3999 non-null   object \n",
      " 51  PCT_CORAL                    3292 non-null   float64\n",
      " 52  MAX_HARD_RELIEF              3292 non-null   float64\n",
      " 53  no.divers                    3999 non-null   int64  \n",
      " 54  Diversity_index              3999 non-null   float64\n",
      "dtypes: float64(27), int64(14), object(14)\n",
      "memory usage: 1.7+ MB\n"
     ]
    }
   ],
   "source": [
    "species.info()"
   ]
  },
  {
   "cell_type": "code",
   "execution_count": 90,
   "metadata": {},
   "outputs": [],
   "source": [
    "#Inner join\n",
    "species_2 = pd.merge(left=species, right=index, on='site')"
   ]
  },
  {
   "cell_type": "code",
   "execution_count": 91,
   "metadata": {},
   "outputs": [
    {
     "name": "stdout",
     "output_type": "stream",
     "text": [
      "<class 'pandas.core.frame.DataFrame'>\n",
      "RangeIndex: 3999 entries, 0 to 3998\n",
      "Data columns (total 58 columns):\n",
      " #   Column                       Non-Null Count  Dtype  \n",
      "---  ------                       --------------  -----  \n",
      " 0   site                         3999 non-null   object \n",
      " 1   model                        3999 non-null   object \n",
      " 2   Year                         3999 non-null   int64  \n",
      " 3   Month                        3999 non-null   object \n",
      " 4   Latitude                     3999 non-null   float64\n",
      " 5   Longitude                    3999 non-null   float64\n",
      " 6   Depth                        3999 non-null   float64\n",
      " 7   Region                       3999 non-null   object \n",
      " 8   Coral_cover                  3292 non-null   float64\n",
      " 9   Reef_complexity              3292 non-null   float64\n",
      " 10  SST                          3999 non-null   float64\n",
      " 11  NPP                          3999 non-null   float64\n",
      " 12  Wave_exposure                3999 non-null   float64\n",
      " 13  Habitat_type_classLV0        3999 non-null   object \n",
      " 14  Habitat_type_classLV2        3999 non-null   object \n",
      " 15  Coral_area_UFRTM_20km        3999 non-null   int64  \n",
      " 16  Coral_area_UFRTM_200km       3999 non-null   int64  \n",
      " 17  Depth_Sbrocco                3999 non-null   float64\n",
      " 18  Deepwater                    3999 non-null   float64\n",
      " 19  FSA                          3999 non-null   float64\n",
      " 20  Marina_slips_10km            3999 non-null   int64  \n",
      " 21  Marina_slips_25km            3999 non-null   int64  \n",
      " 22  Marine_reserve               3999 non-null   object \n",
      " 23  Population_20km              3999 non-null   int64  \n",
      " 24  Population_50km              3999 non-null   int64  \n",
      " 25  Recreational_fishermen_50km  3999 non-null   int64  \n",
      " 26  Tourist_fishing              3999 non-null   float64\n",
      " 27  Artificial_reefs_1km         3999 non-null   int64  \n",
      " 28  SG_permits_50km              3999 non-null   int64  \n",
      " 29  SG_charter_permits_25km      3999 non-null   int64  \n",
      " 30  Total_gravity_intercept      3896 non-null   float64\n",
      " 31  Total_gravity                3896 non-null   float64\n",
      " 32  Keys_Divisions               2570 non-null   object \n",
      " 33  FKNMS                        1658 non-null   object \n",
      " 34  DryTortugas                  627 non-null    object \n",
      " 35  BNP                          259 non-null    object \n",
      " 36  CoralECA                     1364 non-null   object \n",
      " 37  Nursery_seagrass             3999 non-null   float64\n",
      " 38  Nursery_mangroves            3999 non-null   float64\n",
      " 39  connectivity                 3376 non-null   float64\n",
      " 40  Comm_engagement              3910 non-null   float64\n",
      " 41  Comm_reliance                3910 non-null   float64\n",
      " 42  Rec_engagement               3910 non-null   float64\n",
      " 43  Rec_reliance                 3910 non-null   float64\n",
      " 44  Commercial_pounds_landed     3998 non-null   float64\n",
      " 45  Pop_per_area_reef_20km       3999 non-null   float64\n",
      " 46  Random                       3999 non-null   int64  \n",
      " 47  impact                       2779 non-null   float64\n",
      " 48  YEAR                         3999 non-null   int64  \n",
      " 49  HABITAT_CD                   3999 non-null   object \n",
      " 50  REGION                       3999 non-null   object \n",
      " 51  PCT_CORAL                    3292 non-null   float64\n",
      " 52  MAX_HARD_RELIEF              3292 non-null   float64\n",
      " 53  no.divers                    3999 non-null   int64  \n",
      " 54  Diversity_index              3999 non-null   float64\n",
      " 55  Total                        3999 non-null   float64\n",
      " 56  Nb_dif_Sp                    3999 non-null   int64  \n",
      " 57  Margalef_Index               3999 non-null   float64\n",
      "dtypes: float64(29), int64(15), object(14)\n",
      "memory usage: 1.8+ MB\n"
     ]
    }
   ],
   "source": [
    "species_2.info()"
   ]
  },
  {
   "cell_type": "markdown",
   "metadata": {},
   "source": [
    "Based on the exploration I select the following features:\n",
    "- Numerical: Nursery_seagrass, nursery_mangrove, connectivity, coral_cover, reef_complexity, tourist fishing, marina slip 25km, SG permits 50km, rec reliance, commercial pound landed, artificial reef, pop per aera reef 20km, recreational fishermen 50km, Depth, wave exposure, depth sbrocco, deepwater, SST, Marina slips 10 km, and NPP\n",
    "\n",
    "- Categorical Region, habibtat type class LV2\n",
    "\n",
    "- kept the adding index col to get the number of fish per sites, the number of different fish observed per site and the margaleft index showing the fish diversity\n",
    "\n",
    "The numerical cols contain missing values for coral_cover, reef_complexity, and connectivity by filling them I will use the mean of the values for each features in function of the Habitat_type_classLV2 and region."
   ]
  },
  {
   "cell_type": "code",
   "execution_count": 92,
   "metadata": {},
   "outputs": [
    {
     "data": {
      "text/plain": [
       "Index(['site', 'model', 'Year', 'Month', 'Latitude', 'Longitude', 'Depth',\n",
       "       'Region', 'Coral_cover', 'Reef_complexity', 'SST', 'NPP',\n",
       "       'Wave_exposure', 'Habitat_type_classLV0', 'Habitat_type_classLV2',\n",
       "       'Coral_area_UFRTM_20km', 'Coral_area_UFRTM_200km', 'Depth_Sbrocco',\n",
       "       'Deepwater', 'FSA', 'Marina_slips_10km', 'Marina_slips_25km',\n",
       "       'Marine_reserve', 'Population_20km', 'Population_50km',\n",
       "       'Recreational_fishermen_50km', 'Tourist_fishing',\n",
       "       'Artificial_reefs_1km', 'SG_permits_50km', 'SG_charter_permits_25km',\n",
       "       'Total_gravity_intercept', 'Total_gravity', 'Keys_Divisions', 'FKNMS',\n",
       "       'DryTortugas', 'BNP', 'CoralECA', 'Nursery_seagrass',\n",
       "       'Nursery_mangroves', 'connectivity', 'Comm_engagement', 'Comm_reliance',\n",
       "       'Rec_engagement', 'Rec_reliance', 'Commercial_pounds_landed',\n",
       "       'Pop_per_area_reef_20km', 'Random', 'impact', 'YEAR', 'HABITAT_CD',\n",
       "       'REGION', 'PCT_CORAL', 'MAX_HARD_RELIEF', 'no.divers',\n",
       "       'Diversity_index', 'Total', 'Nb_dif_Sp', 'Margalef_Index'],\n",
       "      dtype='object')"
      ]
     },
     "execution_count": 92,
     "metadata": {},
     "output_type": "execute_result"
    }
   ],
   "source": [
    "species_2.columns"
   ]
  },
  {
   "cell_type": "code",
   "execution_count": 93,
   "metadata": {},
   "outputs": [],
   "source": [
    "#Create a copy of the data set to drop the unuseable columns and fill the missing values\n",
    "\n",
    "test = species_2.loc[:,['Depth',\n",
    "       'Region', 'Coral_cover', 'Reef_complexity', 'SST', 'NPP',\n",
    "       'Wave_exposure','Habitat_type_classLV2', 'Depth_Sbrocco',\n",
    "       'Deepwater','Marina_slips_10km', 'Tourist_fishing',\n",
    "       'Artificial_reefs_1km','SG_permits_50km', 'Total_gravity','Nursery_seagrass',\n",
    "       'Nursery_mangroves', 'connectivity', 'Diversity_index', 'Total', 'Nb_dif_Sp', 'Margalef_Index'\n",
    "]]"
   ]
  },
  {
   "cell_type": "code",
   "execution_count": 94,
   "metadata": {},
   "outputs": [
    {
     "name": "stdout",
     "output_type": "stream",
     "text": [
      "<class 'pandas.core.frame.DataFrame'>\n",
      "RangeIndex: 3999 entries, 0 to 3998\n",
      "Data columns (total 22 columns):\n",
      " #   Column                 Non-Null Count  Dtype  \n",
      "---  ------                 --------------  -----  \n",
      " 0   Depth                  3999 non-null   float64\n",
      " 1   Region                 3999 non-null   object \n",
      " 2   Coral_cover            3292 non-null   float64\n",
      " 3   Reef_complexity        3292 non-null   float64\n",
      " 4   SST                    3999 non-null   float64\n",
      " 5   NPP                    3999 non-null   float64\n",
      " 6   Wave_exposure          3999 non-null   float64\n",
      " 7   Habitat_type_classLV2  3999 non-null   object \n",
      " 8   Depth_Sbrocco          3999 non-null   float64\n",
      " 9   Deepwater              3999 non-null   float64\n",
      " 10  Marina_slips_10km      3999 non-null   int64  \n",
      " 11  Tourist_fishing        3999 non-null   float64\n",
      " 12  Artificial_reefs_1km   3999 non-null   int64  \n",
      " 13  SG_permits_50km        3999 non-null   int64  \n",
      " 14  Total_gravity          3896 non-null   float64\n",
      " 15  Nursery_seagrass       3999 non-null   float64\n",
      " 16  Nursery_mangroves      3999 non-null   float64\n",
      " 17  connectivity           3376 non-null   float64\n",
      " 18  Diversity_index        3999 non-null   float64\n",
      " 19  Total                  3999 non-null   float64\n",
      " 20  Nb_dif_Sp              3999 non-null   int64  \n",
      " 21  Margalef_Index         3999 non-null   float64\n",
      "dtypes: float64(16), int64(4), object(2)\n",
      "memory usage: 687.5+ KB\n"
     ]
    }
   ],
   "source": [
    "test.info()"
   ]
  },
  {
   "cell_type": "code",
   "execution_count": 95,
   "metadata": {},
   "outputs": [
    {
     "data": {
      "text/plain": [
       "Habitat_type_classLV2                Region  \n",
       "Aggregate Reef                       DRY TORT    4.740157\n",
       "                                     FLA KEYS    2.994240\n",
       "                                     SEFCRI      1.752857\n",
       "Colonized Pavement                   FLA KEYS    2.252332\n",
       "                                     SEFCRI      1.249485\n",
       "Individual or Aggregated Patch Reef  DRY TORT    4.717778\n",
       "                                     FLA KEYS    6.587518\n",
       "                                     SEFCRI      1.746295\n",
       "Pavement                             FLA KEYS    2.737093\n",
       "Pavement with Sand Channels          DRY TORT    2.000000\n",
       "                                     FLA KEYS    2.514799\n",
       "Reef Rubble                          FLA KEYS    1.000000\n",
       "Ridge                                FLA KEYS    2.546567\n",
       "                                     SEFCRI      1.000000\n",
       "Spur and Groove                      DRY TORT    5.306240\n",
       "                                     FLA KEYS    3.274208\n",
       "                                     SEFCRI      2.500000\n",
       "Name: Coral_cover, dtype: float64"
      ]
     },
     "execution_count": 95,
     "metadata": {},
     "output_type": "execute_result"
    }
   ],
   "source": [
    "#Fill the missing values by the mean of the values in function of habitat type class lv2\n",
    "test.groupby(['Habitat_type_classLV2','Region'])['Coral_cover'].median()\n"
   ]
  },
  {
   "cell_type": "code",
   "execution_count": 96,
   "metadata": {},
   "outputs": [
    {
     "data": {
      "text/html": [
       "<div>\n",
       "<style scoped>\n",
       "    .dataframe tbody tr th:only-of-type {\n",
       "        vertical-align: middle;\n",
       "    }\n",
       "\n",
       "    .dataframe tbody tr th {\n",
       "        vertical-align: top;\n",
       "    }\n",
       "\n",
       "    .dataframe thead th {\n",
       "        text-align: right;\n",
       "    }\n",
       "</style>\n",
       "<table border=\"1\" class=\"dataframe\">\n",
       "  <thead>\n",
       "    <tr style=\"text-align: right;\">\n",
       "      <th></th>\n",
       "      <th>Habitat_type_classLV2</th>\n",
       "      <th>Region</th>\n",
       "    </tr>\n",
       "  </thead>\n",
       "  <tbody>\n",
       "    <tr>\n",
       "      <th>1350</th>\n",
       "      <td>Spur and Groove</td>\n",
       "      <td>SEFCRI</td>\n",
       "    </tr>\n",
       "    <tr>\n",
       "      <th>1351</th>\n",
       "      <td>Spur and Groove</td>\n",
       "      <td>SEFCRI</td>\n",
       "    </tr>\n",
       "    <tr>\n",
       "      <th>1352</th>\n",
       "      <td>Spur and Groove</td>\n",
       "      <td>SEFCRI</td>\n",
       "    </tr>\n",
       "    <tr>\n",
       "      <th>1353</th>\n",
       "      <td>Spur and Groove</td>\n",
       "      <td>SEFCRI</td>\n",
       "    </tr>\n",
       "    <tr>\n",
       "      <th>1354</th>\n",
       "      <td>Spur and Groove</td>\n",
       "      <td>SEFCRI</td>\n",
       "    </tr>\n",
       "    <tr>\n",
       "      <th>...</th>\n",
       "      <td>...</td>\n",
       "      <td>...</td>\n",
       "    </tr>\n",
       "    <tr>\n",
       "      <th>3327</th>\n",
       "      <td>Ridge</td>\n",
       "      <td>SEFCRI</td>\n",
       "    </tr>\n",
       "    <tr>\n",
       "      <th>3328</th>\n",
       "      <td>Ridge</td>\n",
       "      <td>SEFCRI</td>\n",
       "    </tr>\n",
       "    <tr>\n",
       "      <th>3350</th>\n",
       "      <td>Colonized Pavement</td>\n",
       "      <td>SEFCRI</td>\n",
       "    </tr>\n",
       "    <tr>\n",
       "      <th>3394</th>\n",
       "      <td>Ridge</td>\n",
       "      <td>SEFCRI</td>\n",
       "    </tr>\n",
       "    <tr>\n",
       "      <th>3436</th>\n",
       "      <td>Ridge</td>\n",
       "      <td>SEFCRI</td>\n",
       "    </tr>\n",
       "  </tbody>\n",
       "</table>\n",
       "<p>707 rows × 2 columns</p>\n",
       "</div>"
      ],
      "text/plain": [
       "     Habitat_type_classLV2  Region\n",
       "1350       Spur and Groove  SEFCRI\n",
       "1351       Spur and Groove  SEFCRI\n",
       "1352       Spur and Groove  SEFCRI\n",
       "1353       Spur and Groove  SEFCRI\n",
       "1354       Spur and Groove  SEFCRI\n",
       "...                    ...     ...\n",
       "3327                 Ridge  SEFCRI\n",
       "3328                 Ridge  SEFCRI\n",
       "3350    Colonized Pavement  SEFCRI\n",
       "3394                 Ridge  SEFCRI\n",
       "3436                 Ridge  SEFCRI\n",
       "\n",
       "[707 rows x 2 columns]"
      ]
     },
     "execution_count": 96,
     "metadata": {},
     "output_type": "execute_result"
    }
   ],
   "source": [
    "test.loc[test.Coral_cover.isna(),['Habitat_type_classLV2','Region']]"
   ]
  },
  {
   "cell_type": "code",
   "execution_count": 97,
   "metadata": {},
   "outputs": [],
   "source": [
    "coral_median = test.groupby(['Habitat_type_classLV2','Region'])['Coral_cover'].median().astype(int).to_dict()"
   ]
  },
  {
   "cell_type": "code",
   "execution_count": 98,
   "metadata": {},
   "outputs": [
    {
     "data": {
      "text/plain": [
       "dict_keys([('Aggregate Reef', 'DRY TORT'), ('Aggregate Reef', 'FLA KEYS'), ('Aggregate Reef', 'SEFCRI'), ('Colonized Pavement', 'FLA KEYS'), ('Colonized Pavement', 'SEFCRI'), ('Individual or Aggregated Patch Reef', 'DRY TORT'), ('Individual or Aggregated Patch Reef', 'FLA KEYS'), ('Individual or Aggregated Patch Reef', 'SEFCRI'), ('Pavement', 'FLA KEYS'), ('Pavement with Sand Channels', 'DRY TORT'), ('Pavement with Sand Channels', 'FLA KEYS'), ('Reef Rubble', 'FLA KEYS'), ('Ridge', 'FLA KEYS'), ('Ridge', 'SEFCRI'), ('Spur and Groove', 'DRY TORT'), ('Spur and Groove', 'FLA KEYS'), ('Spur and Groove', 'SEFCRI')])"
      ]
     },
     "execution_count": 98,
     "metadata": {},
     "output_type": "execute_result"
    }
   ],
   "source": [
    "coral_median.keys()"
   ]
  },
  {
   "cell_type": "code",
   "execution_count": 99,
   "metadata": {},
   "outputs": [
    {
     "data": {
      "text/plain": [
       "4"
      ]
     },
     "execution_count": 99,
     "metadata": {},
     "output_type": "execute_result"
    }
   ],
   "source": [
    "coral_median[('Aggregate Reef', 'DRY TORT')]"
   ]
  },
  {
   "cell_type": "code",
   "execution_count": 100,
   "metadata": {},
   "outputs": [],
   "source": [
    "def coral_fill_na(Habitat_Region):\n",
    "    Habitat_Region = tuple(Habitat_Region)\n",
    "    val = coral_median[Habitat_Region]\n",
    "    return val"
   ]
  },
  {
   "cell_type": "code",
   "execution_count": 101,
   "metadata": {},
   "outputs": [
    {
     "data": {
      "text/plain": [
       "4"
      ]
     },
     "execution_count": 101,
     "metadata": {},
     "output_type": "execute_result"
    }
   ],
   "source": [
    "coral_fill_na(['Aggregate Reef', 'DRY TORT'])"
   ]
  },
  {
   "cell_type": "code",
   "execution_count": 102,
   "metadata": {},
   "outputs": [],
   "source": [
    "for Habitat_type_classLV2,Region in coral_median.keys():\n",
    "    temp = test.loc[(test.Habitat_type_classLV2 == Habitat_type_classLV2) & (test.Region == Region), :]\n",
    "    missing_val_index = temp.loc[temp.Coral_cover.isna()].index\n",
    "    test.loc[missing_val_index, 'Coral_cover'] = coral_fill_na([Habitat_type_classLV2,Region])"
   ]
  },
  {
   "cell_type": "markdown",
   "metadata": {},
   "source": [
    "The same logic is used for reef complexity and connectivity"
   ]
  },
  {
   "cell_type": "code",
   "execution_count": 103,
   "metadata": {},
   "outputs": [],
   "source": [
    "#Reef complixity\n",
    "\n",
    "Reef_median = test.groupby(['Habitat_type_classLV2','Region'])['Reef_complexity'].median().astype(int).to_dict()\n",
    "\n",
    "def reef_fill_na(Habitat_Region):\n",
    "    Habitat_Region = tuple(Habitat_Region)\n",
    "    val_reef = Reef_median[Habitat_Region]\n",
    "    return val_reef\n",
    "\n",
    "for Habitat_type_classLV2,Region in Reef_median.keys():\n",
    "    temp = test.loc[(test.Habitat_type_classLV2 == Habitat_type_classLV2) & (test.Region == Region), :]\n",
    "    missing_val_index = temp.loc[temp.Reef_complexity.isna()].index\n",
    "    test.loc[missing_val_index, 'Reef_complexity'] = reef_fill_na([Habitat_type_classLV2,Region])\n"
   ]
  },
  {
   "cell_type": "code",
   "execution_count": 104,
   "metadata": {},
   "outputs": [],
   "source": [
    "#Connectivity\n",
    "\n",
    "conn_median = test.groupby(['Habitat_type_classLV2','Region'])['connectivity'].median().astype(int).to_dict()\n",
    "\n",
    "def conn_fill_na(Habitat_Region):\n",
    "    Habitat_Region = tuple(Habitat_Region)\n",
    "    val_conn = Reef_median[Habitat_Region]\n",
    "    return val_conn\n",
    "\n",
    "for Habitat_type_classLV2,Region in conn_median.keys():\n",
    "    temp = test.loc[(test.Habitat_type_classLV2 == Habitat_type_classLV2) & (test.Region == Region), :]\n",
    "    missing_val_index = temp.loc[temp.connectivity.isna()].index\n",
    "    test.loc[missing_val_index, 'connectivity'] = reef_fill_na([Habitat_type_classLV2,Region])"
   ]
  },
  {
   "cell_type": "code",
   "execution_count": 116,
   "metadata": {},
   "outputs": [],
   "source": [
    "#Total_gravity\n",
    "\n",
    "grav_median = test.groupby(['Habitat_type_classLV2','Region'])['Total_gravity'].median().astype(int).to_dict()\n",
    "\n",
    "def grav_fill_na(Habitat_Region):\n",
    "    Habitat_Region = tuple(Habitat_Region)\n",
    "    val_grav = Reef_median[Habitat_Region]\n",
    "    return val_grav\n",
    "\n",
    "for Habitat_type_classLV2,Region in grav_median.keys():\n",
    "    temp = test.loc[(test.Habitat_type_classLV2 == Habitat_type_classLV2) & (test.Region == Region), :]\n",
    "    missing_val_index = temp.loc[temp.Total_gravity.isna()].index\n",
    "    test.loc[missing_val_index, 'Total_gravity'] = grav_fill_na([Habitat_type_classLV2,Region])"
   ]
  },
  {
   "cell_type": "code",
   "execution_count": 106,
   "metadata": {},
   "outputs": [
    {
     "data": {
      "application/vnd.plotly.v1+json": {
       "config": {
        "plotlyServerURL": "https://plot.ly"
       },
       "data": [
        {
         "coloraxis": "coloraxis",
         "hovertemplate": "x: %{x}<br>y: %{y}<br>color: %{z}<extra></extra>",
         "name": "0",
         "type": "heatmap",
         "x": [
          "Depth",
          "Coral_cover",
          "Reef_complexity",
          "SST",
          "NPP",
          "Wave_exposure",
          "Depth_Sbrocco",
          "Deepwater",
          "Marina_slips_10km",
          "Tourist_fishing",
          "Artificial_reefs_1km",
          "SG_permits_50km",
          "Total_gravity",
          "Nursery_seagrass",
          "Nursery_mangroves",
          "connectivity",
          "Diversity_index",
          "Total",
          "Nb_dif_Sp",
          "Margalef_Index"
         ],
         "xaxis": "x",
         "y": [
          "Depth",
          "Coral_cover",
          "Reef_complexity",
          "SST",
          "NPP",
          "Wave_exposure",
          "Depth_Sbrocco",
          "Deepwater",
          "Marina_slips_10km",
          "Tourist_fishing",
          "Artificial_reefs_1km",
          "SG_permits_50km",
          "Total_gravity",
          "Nursery_seagrass",
          "Nursery_mangroves",
          "connectivity",
          "Diversity_index",
          "Total",
          "Nb_dif_Sp",
          "Margalef_Index"
         ],
         "yaxis": "y",
         "z": [
          [
           1,
           -0.09404212417770041,
           0.06218880071194935,
           0.07082610199745161,
           -0.3532814492974772,
           0.26243998683041075,
           -0.7832204031160901,
           -0.3247905439355316,
           0.008588111953277034,
           0.006211845821788653,
           0.1758885945316551,
           -0.19565435419516014,
           -0.12621592114306407,
           -0.45112648049813536,
           -0.3079436997336721,
           -0.08999414082897784,
           -0.20773518214334744,
           0.04921268805680811,
           -0.02096583471311936,
           0.04921256269275702
          ],
          [
           -0.09404212417770041,
           1,
           0.43605160400577814,
           -0.31251856773037834,
           0.4212415238423239,
           -0.20019713829028765,
           0.12647395612939216,
           0.2352406083867386,
           -0.2134748509846244,
           -0.23862329323780387,
           -0.09805048778360353,
           -0.018756995181457483,
           -0.14405018491849594,
           0.23353834386697345,
           0.2823341378892491,
           -0.17303763091263205,
           -0.12944905749682215,
           0.2805745103925401,
           0.2623601345631858,
           0.28057442087518164
          ],
          [
           0.06218880071194935,
           0.43605160400577814,
           1,
           -0.2833353332458576,
           0.23994437019289214,
           -0.10463761151299242,
           -0.0672720064118851,
           0.10264150815093986,
           -0.2824448408220884,
           -0.27083639096613077,
           -0.07491372177470132,
           -0.11374278156118875,
           -0.23244791240847038,
           0.13395125630827884,
           -0.033743819646552535,
           -0.18888819299218595,
           -0.12404738903464248,
           0.43016128889305005,
           0.5154144567894944,
           0.43016159947275895
          ],
          [
           0.07082610199745161,
           -0.31251856773037834,
           -0.2833353332458576,
           1,
           -0.6501020483241251,
           0.05040866700864858,
           -0.14097179535728813,
           -0.6101060759130195,
           0.4440245104480516,
           0.556878322212509,
           0.20560465760579255,
           0.5285075260010244,
           0.28063758428970287,
           0.12258875866613574,
           -0.0005663937815238551,
           0.449491038856304,
           0.1519072601430078,
           -0.27382501772214013,
           -0.18739739032742106,
           -0.2738251723895811
          ],
          [
           -0.3532814492974772,
           0.4212415238423239,
           0.23994437019289214,
           -0.6501020483241251,
           1,
           -0.25767646467581656,
           0.36124617095692363,
           0.5007824248622716,
           -0.4562574130879623,
           -0.5685143559686306,
           -0.24399782531970582,
           -0.016062577626763053,
           -0.34582054382120225,
           0.4099107189622255,
           0.4315410056152523,
           -0.36259706806427555,
           -0.04810922701259049,
           0.2179448847289827,
           0.19048770214412702,
           0.21794506028195337
          ],
          [
           0.26243998683041075,
           -0.20019713829028765,
           -0.10463761151299242,
           0.05040866700864858,
           -0.25767646467581656,
           1,
           -0.19101080206653648,
           -0.0682075271212954,
           0.0676348189703788,
           0.07637782520866888,
           0.058103322098004284,
           -0.5269842069760924,
           0.04385366997156374,
           -0.05556171427535493,
           -0.28178585418076785,
           0.04219370659216447,
           -0.06786417085167479,
           0.0025145150180912344,
           -0.07746087286621756,
           0.0025149243796628888
          ],
          [
           -0.7832204031160901,
           0.12647395612939216,
           -0.0672720064118851,
           -0.14097179535728813,
           0.36124617095692363,
           -0.19101080206653648,
           1,
           0.4003908672687815,
           -0.015043915018252382,
           -0.07033543190379332,
           -0.19002735559126388,
           0.10117348896777578,
           0.14972204853917515,
           0.37853647279819036,
           0.3171933016147215,
           0.03829867482204695,
           0.12166757305246824,
           -0.027973153066442217,
           -0.009917614105984535,
           -0.027973085116080237
          ],
          [
           -0.3247905439355316,
           0.2352406083867386,
           0.10264150815093986,
           -0.6101060759130195,
           0.5007824248622716,
           -0.0682075271212954,
           0.4003908672687815,
           1,
           -0.201164497408073,
           -0.3002301485271896,
           -0.15624726688304091,
           -0.34789499642197347,
           -0.09947151043133441,
           0.045447061082199536,
           0.3810909676720867,
           -0.2758500675630682,
           -0.03790976141059133,
           0.03351980331214083,
           -0.027406409428552384,
           0.033519919961567814
          ],
          [
           0.008588111953277034,
           -0.2134748509846244,
           -0.2824448408220884,
           0.4440245104480516,
           -0.4562574130879623,
           0.0676348189703788,
           -0.015043915018252382,
           -0.201164497408073,
           1,
           0.7476824618572383,
           0.2595948103518372,
           0.10295082258409788,
           0.5904990209986983,
           -0.3787346675504303,
           0.09688083662593501,
           0.7149568336805346,
           0.05885966887712809,
           -0.2770349566586037,
           -0.2903816459271588,
           -0.2770350435842093
          ],
          [
           0.006211845821788653,
           -0.23862329323780387,
           -0.27083639096613077,
           0.556878322212509,
           -0.5685143559686306,
           0.07637782520866888,
           -0.07033543190379332,
           -0.3002301485271896,
           0.7476824618572383,
           1,
           0.3086577256511376,
           0.19638238380438983,
           0.5761073471934679,
           -0.28251538701321954,
           -0.06612114070693817,
           0.6974899875889948,
           0.09587517417471371,
           -0.27682015346476635,
           -0.23965610371593343,
           -0.2768202619683935
          ],
          [
           0.1758885945316551,
           -0.09805048778360353,
           -0.07491372177470132,
           0.20560465760579255,
           -0.24399782531970582,
           0.058103322098004284,
           -0.19002735559126388,
           -0.15624726688304091,
           0.2595948103518372,
           0.3086577256511376,
           1,
           0.023519352328773554,
           0.14876623584944482,
           -0.19206913358908784,
           -0.06353022425677929,
           0.28707141602200054,
           0.01155334303389611,
           -0.09131534720431793,
           -0.08590458337809732,
           -0.09131543819459705
          ],
          [
           -0.19565435419516014,
           -0.018756995181457483,
           -0.11374278156118875,
           0.5285075260010244,
           -0.016062577626763053,
           -0.5269842069760924,
           0.10117348896777578,
           -0.34789499642197347,
           0.10295082258409788,
           0.19638238380438983,
           0.023519352328773554,
           1,
           0.10578546694560931,
           0.2573402124713886,
           0.2871927073153052,
           0.20151510342936224,
           0.12150519762141089,
           -0.15353672092345585,
           -0.05820839331582663,
           -0.1535369729067545
          ],
          [
           -0.12621592114306407,
           -0.14405018491849594,
           -0.23244791240847038,
           0.28063758428970287,
           -0.34582054382120225,
           0.04385366997156374,
           0.14972204853917515,
           -0.09947151043133441,
           0.5904990209986983,
           0.5761073471934679,
           0.14876623584944482,
           0.10578546694560931,
           1,
           -0.2971645378921811,
           0.09170946379460002,
           0.4074774170255185,
           0.04289980562378542,
           -0.20139704599540248,
           -0.23750324165037615,
           -0.2013971784970518
          ],
          [
           -0.45112648049813536,
           0.23353834386697345,
           0.13395125630827884,
           0.12258875866613574,
           0.4099107189622255,
           -0.05556171427535493,
           0.37853647279819036,
           0.045447061082199536,
           -0.3787346675504303,
           -0.28251538701321954,
           -0.19206913358908784,
           0.2573402124713886,
           -0.2971645378921811,
           1,
           0.32062229887309907,
           -0.07163085539923596,
           0.11059000025058743,
           0.12058515020167725,
           0.20332214786086092,
           0.1205854790284346
          ],
          [
           -0.3079436997336721,
           0.2823341378892491,
           -0.033743819646552535,
           -0.0005663937815238551,
           0.4315410056152523,
           -0.28178585418076785,
           0.3171933016147215,
           0.3810909676720867,
           0.09688083662593501,
           -0.06612114070693817,
           -0.06353022425677929,
           0.2871927073153052,
           0.09170946379460002,
           0.32062229887309907,
           1,
           -0.03725232354810076,
           0.02229167298667305,
           -0.10638569416179325,
           -0.1583613941124997,
           -0.10638531765393595
          ],
          [
           -0.08999414082897784,
           -0.17303763091263205,
           -0.18888819299218595,
           0.449491038856304,
           -0.36259706806427555,
           0.04219370659216447,
           0.03829867482204695,
           -0.2758500675630682,
           0.7149568336805346,
           0.6974899875889948,
           0.28707141602200054,
           0.20151510342936224,
           0.4074774170255185,
           -0.07163085539923596,
           -0.03725232354810076,
           1,
           0.11818412065521623,
           -0.1628292917068586,
           -0.08788519201036187,
           -0.16282932546634543
          ],
          [
           -0.20773518214334744,
           -0.12944905749682215,
           -0.12404738903464248,
           0.1519072601430078,
           -0.04810922701259049,
           -0.06786417085167479,
           0.12166757305246824,
           -0.03790976141059133,
           0.05885966887712809,
           0.09587517417471371,
           0.01155334303389611,
           0.12150519762141089,
           0.04289980562378542,
           0.11059000025058743,
           0.02229167298667305,
           0.11818412065521623,
           1,
           -0.35482269221451473,
           0.1337518305068434,
           -0.35482240284041133
          ],
          [
           0.04921268805680811,
           0.2805745103925401,
           0.43016128889305005,
           -0.27382501772214013,
           0.2179448847289827,
           0.0025145150180912344,
           -0.027973153066442217,
           0.03351980331214083,
           -0.2770349566586037,
           -0.27682015346476635,
           -0.09131534720431793,
           -0.15353672092345585,
           -0.20139704599540248,
           0.12058515020167725,
           -0.10638569416179325,
           -0.1628292917068586,
           -0.35482269221451473,
           1,
           0.6018277235265369,
           0.9999999998833554
          ],
          [
           -0.02096583471311936,
           0.2623601345631858,
           0.5154144567894944,
           -0.18739739032742106,
           0.19048770214412702,
           -0.07746087286621756,
           -0.009917614105984535,
           -0.027406409428552384,
           -0.2903816459271588,
           -0.23965610371593343,
           -0.08590458337809732,
           -0.05820839331582663,
           -0.23750324165037615,
           0.20332214786086092,
           -0.1583613941124997,
           -0.08788519201036187,
           0.1337518305068434,
           0.6018277235265369,
           1,
           0.6018278669684102
          ],
          [
           0.04921256269275702,
           0.28057442087518164,
           0.43016159947275895,
           -0.2738251723895811,
           0.21794506028195337,
           0.0025149243796628888,
           -0.027973085116080237,
           0.033519919961567814,
           -0.2770350435842093,
           -0.2768202619683935,
           -0.09131543819459705,
           -0.1535369729067545,
           -0.2013971784970518,
           0.1205854790284346,
           -0.10638531765393595,
           -0.16282932546634543,
           -0.35482240284041133,
           0.9999999998833554,
           0.6018278669684102,
           1
          ]
         ]
        }
       ],
       "layout": {
        "coloraxis": {
         "colorscale": [
          [
           0,
           "#0d0887"
          ],
          [
           0.1111111111111111,
           "#46039f"
          ],
          [
           0.2222222222222222,
           "#7201a8"
          ],
          [
           0.3333333333333333,
           "#9c179e"
          ],
          [
           0.4444444444444444,
           "#bd3786"
          ],
          [
           0.5555555555555556,
           "#d8576b"
          ],
          [
           0.6666666666666666,
           "#ed7953"
          ],
          [
           0.7777777777777778,
           "#fb9f3a"
          ],
          [
           0.8888888888888888,
           "#fdca26"
          ],
          [
           1,
           "#f0f921"
          ]
         ]
        },
        "margin": {
         "t": 60
        },
        "template": {
         "data": {
          "bar": [
           {
            "error_x": {
             "color": "#2a3f5f"
            },
            "error_y": {
             "color": "#2a3f5f"
            },
            "marker": {
             "line": {
              "color": "#E5ECF6",
              "width": 0.5
             },
             "pattern": {
              "fillmode": "overlay",
              "size": 10,
              "solidity": 0.2
             }
            },
            "type": "bar"
           }
          ],
          "barpolar": [
           {
            "marker": {
             "line": {
              "color": "#E5ECF6",
              "width": 0.5
             },
             "pattern": {
              "fillmode": "overlay",
              "size": 10,
              "solidity": 0.2
             }
            },
            "type": "barpolar"
           }
          ],
          "carpet": [
           {
            "aaxis": {
             "endlinecolor": "#2a3f5f",
             "gridcolor": "white",
             "linecolor": "white",
             "minorgridcolor": "white",
             "startlinecolor": "#2a3f5f"
            },
            "baxis": {
             "endlinecolor": "#2a3f5f",
             "gridcolor": "white",
             "linecolor": "white",
             "minorgridcolor": "white",
             "startlinecolor": "#2a3f5f"
            },
            "type": "carpet"
           }
          ],
          "choropleth": [
           {
            "colorbar": {
             "outlinewidth": 0,
             "ticks": ""
            },
            "type": "choropleth"
           }
          ],
          "contour": [
           {
            "colorbar": {
             "outlinewidth": 0,
             "ticks": ""
            },
            "colorscale": [
             [
              0,
              "#0d0887"
             ],
             [
              0.1111111111111111,
              "#46039f"
             ],
             [
              0.2222222222222222,
              "#7201a8"
             ],
             [
              0.3333333333333333,
              "#9c179e"
             ],
             [
              0.4444444444444444,
              "#bd3786"
             ],
             [
              0.5555555555555556,
              "#d8576b"
             ],
             [
              0.6666666666666666,
              "#ed7953"
             ],
             [
              0.7777777777777778,
              "#fb9f3a"
             ],
             [
              0.8888888888888888,
              "#fdca26"
             ],
             [
              1,
              "#f0f921"
             ]
            ],
            "type": "contour"
           }
          ],
          "contourcarpet": [
           {
            "colorbar": {
             "outlinewidth": 0,
             "ticks": ""
            },
            "type": "contourcarpet"
           }
          ],
          "heatmap": [
           {
            "colorbar": {
             "outlinewidth": 0,
             "ticks": ""
            },
            "colorscale": [
             [
              0,
              "#0d0887"
             ],
             [
              0.1111111111111111,
              "#46039f"
             ],
             [
              0.2222222222222222,
              "#7201a8"
             ],
             [
              0.3333333333333333,
              "#9c179e"
             ],
             [
              0.4444444444444444,
              "#bd3786"
             ],
             [
              0.5555555555555556,
              "#d8576b"
             ],
             [
              0.6666666666666666,
              "#ed7953"
             ],
             [
              0.7777777777777778,
              "#fb9f3a"
             ],
             [
              0.8888888888888888,
              "#fdca26"
             ],
             [
              1,
              "#f0f921"
             ]
            ],
            "type": "heatmap"
           }
          ],
          "heatmapgl": [
           {
            "colorbar": {
             "outlinewidth": 0,
             "ticks": ""
            },
            "colorscale": [
             [
              0,
              "#0d0887"
             ],
             [
              0.1111111111111111,
              "#46039f"
             ],
             [
              0.2222222222222222,
              "#7201a8"
             ],
             [
              0.3333333333333333,
              "#9c179e"
             ],
             [
              0.4444444444444444,
              "#bd3786"
             ],
             [
              0.5555555555555556,
              "#d8576b"
             ],
             [
              0.6666666666666666,
              "#ed7953"
             ],
             [
              0.7777777777777778,
              "#fb9f3a"
             ],
             [
              0.8888888888888888,
              "#fdca26"
             ],
             [
              1,
              "#f0f921"
             ]
            ],
            "type": "heatmapgl"
           }
          ],
          "histogram": [
           {
            "marker": {
             "pattern": {
              "fillmode": "overlay",
              "size": 10,
              "solidity": 0.2
             }
            },
            "type": "histogram"
           }
          ],
          "histogram2d": [
           {
            "colorbar": {
             "outlinewidth": 0,
             "ticks": ""
            },
            "colorscale": [
             [
              0,
              "#0d0887"
             ],
             [
              0.1111111111111111,
              "#46039f"
             ],
             [
              0.2222222222222222,
              "#7201a8"
             ],
             [
              0.3333333333333333,
              "#9c179e"
             ],
             [
              0.4444444444444444,
              "#bd3786"
             ],
             [
              0.5555555555555556,
              "#d8576b"
             ],
             [
              0.6666666666666666,
              "#ed7953"
             ],
             [
              0.7777777777777778,
              "#fb9f3a"
             ],
             [
              0.8888888888888888,
              "#fdca26"
             ],
             [
              1,
              "#f0f921"
             ]
            ],
            "type": "histogram2d"
           }
          ],
          "histogram2dcontour": [
           {
            "colorbar": {
             "outlinewidth": 0,
             "ticks": ""
            },
            "colorscale": [
             [
              0,
              "#0d0887"
             ],
             [
              0.1111111111111111,
              "#46039f"
             ],
             [
              0.2222222222222222,
              "#7201a8"
             ],
             [
              0.3333333333333333,
              "#9c179e"
             ],
             [
              0.4444444444444444,
              "#bd3786"
             ],
             [
              0.5555555555555556,
              "#d8576b"
             ],
             [
              0.6666666666666666,
              "#ed7953"
             ],
             [
              0.7777777777777778,
              "#fb9f3a"
             ],
             [
              0.8888888888888888,
              "#fdca26"
             ],
             [
              1,
              "#f0f921"
             ]
            ],
            "type": "histogram2dcontour"
           }
          ],
          "mesh3d": [
           {
            "colorbar": {
             "outlinewidth": 0,
             "ticks": ""
            },
            "type": "mesh3d"
           }
          ],
          "parcoords": [
           {
            "line": {
             "colorbar": {
              "outlinewidth": 0,
              "ticks": ""
             }
            },
            "type": "parcoords"
           }
          ],
          "pie": [
           {
            "automargin": true,
            "type": "pie"
           }
          ],
          "scatter": [
           {
            "fillpattern": {
             "fillmode": "overlay",
             "size": 10,
             "solidity": 0.2
            },
            "type": "scatter"
           }
          ],
          "scatter3d": [
           {
            "line": {
             "colorbar": {
              "outlinewidth": 0,
              "ticks": ""
             }
            },
            "marker": {
             "colorbar": {
              "outlinewidth": 0,
              "ticks": ""
             }
            },
            "type": "scatter3d"
           }
          ],
          "scattercarpet": [
           {
            "marker": {
             "colorbar": {
              "outlinewidth": 0,
              "ticks": ""
             }
            },
            "type": "scattercarpet"
           }
          ],
          "scattergeo": [
           {
            "marker": {
             "colorbar": {
              "outlinewidth": 0,
              "ticks": ""
             }
            },
            "type": "scattergeo"
           }
          ],
          "scattergl": [
           {
            "marker": {
             "colorbar": {
              "outlinewidth": 0,
              "ticks": ""
             }
            },
            "type": "scattergl"
           }
          ],
          "scattermapbox": [
           {
            "marker": {
             "colorbar": {
              "outlinewidth": 0,
              "ticks": ""
             }
            },
            "type": "scattermapbox"
           }
          ],
          "scatterpolar": [
           {
            "marker": {
             "colorbar": {
              "outlinewidth": 0,
              "ticks": ""
             }
            },
            "type": "scatterpolar"
           }
          ],
          "scatterpolargl": [
           {
            "marker": {
             "colorbar": {
              "outlinewidth": 0,
              "ticks": ""
             }
            },
            "type": "scatterpolargl"
           }
          ],
          "scatterternary": [
           {
            "marker": {
             "colorbar": {
              "outlinewidth": 0,
              "ticks": ""
             }
            },
            "type": "scatterternary"
           }
          ],
          "surface": [
           {
            "colorbar": {
             "outlinewidth": 0,
             "ticks": ""
            },
            "colorscale": [
             [
              0,
              "#0d0887"
             ],
             [
              0.1111111111111111,
              "#46039f"
             ],
             [
              0.2222222222222222,
              "#7201a8"
             ],
             [
              0.3333333333333333,
              "#9c179e"
             ],
             [
              0.4444444444444444,
              "#bd3786"
             ],
             [
              0.5555555555555556,
              "#d8576b"
             ],
             [
              0.6666666666666666,
              "#ed7953"
             ],
             [
              0.7777777777777778,
              "#fb9f3a"
             ],
             [
              0.8888888888888888,
              "#fdca26"
             ],
             [
              1,
              "#f0f921"
             ]
            ],
            "type": "surface"
           }
          ],
          "table": [
           {
            "cells": {
             "fill": {
              "color": "#EBF0F8"
             },
             "line": {
              "color": "white"
             }
            },
            "header": {
             "fill": {
              "color": "#C8D4E3"
             },
             "line": {
              "color": "white"
             }
            },
            "type": "table"
           }
          ]
         },
         "layout": {
          "annotationdefaults": {
           "arrowcolor": "#2a3f5f",
           "arrowhead": 0,
           "arrowwidth": 1
          },
          "autotypenumbers": "strict",
          "coloraxis": {
           "colorbar": {
            "outlinewidth": 0,
            "ticks": ""
           }
          },
          "colorscale": {
           "diverging": [
            [
             0,
             "#8e0152"
            ],
            [
             0.1,
             "#c51b7d"
            ],
            [
             0.2,
             "#de77ae"
            ],
            [
             0.3,
             "#f1b6da"
            ],
            [
             0.4,
             "#fde0ef"
            ],
            [
             0.5,
             "#f7f7f7"
            ],
            [
             0.6,
             "#e6f5d0"
            ],
            [
             0.7,
             "#b8e186"
            ],
            [
             0.8,
             "#7fbc41"
            ],
            [
             0.9,
             "#4d9221"
            ],
            [
             1,
             "#276419"
            ]
           ],
           "sequential": [
            [
             0,
             "#0d0887"
            ],
            [
             0.1111111111111111,
             "#46039f"
            ],
            [
             0.2222222222222222,
             "#7201a8"
            ],
            [
             0.3333333333333333,
             "#9c179e"
            ],
            [
             0.4444444444444444,
             "#bd3786"
            ],
            [
             0.5555555555555556,
             "#d8576b"
            ],
            [
             0.6666666666666666,
             "#ed7953"
            ],
            [
             0.7777777777777778,
             "#fb9f3a"
            ],
            [
             0.8888888888888888,
             "#fdca26"
            ],
            [
             1,
             "#f0f921"
            ]
           ],
           "sequentialminus": [
            [
             0,
             "#0d0887"
            ],
            [
             0.1111111111111111,
             "#46039f"
            ],
            [
             0.2222222222222222,
             "#7201a8"
            ],
            [
             0.3333333333333333,
             "#9c179e"
            ],
            [
             0.4444444444444444,
             "#bd3786"
            ],
            [
             0.5555555555555556,
             "#d8576b"
            ],
            [
             0.6666666666666666,
             "#ed7953"
            ],
            [
             0.7777777777777778,
             "#fb9f3a"
            ],
            [
             0.8888888888888888,
             "#fdca26"
            ],
            [
             1,
             "#f0f921"
            ]
           ]
          },
          "colorway": [
           "#636efa",
           "#EF553B",
           "#00cc96",
           "#ab63fa",
           "#FFA15A",
           "#19d3f3",
           "#FF6692",
           "#B6E880",
           "#FF97FF",
           "#FECB52"
          ],
          "font": {
           "color": "#2a3f5f"
          },
          "geo": {
           "bgcolor": "white",
           "lakecolor": "white",
           "landcolor": "#E5ECF6",
           "showlakes": true,
           "showland": true,
           "subunitcolor": "white"
          },
          "hoverlabel": {
           "align": "left"
          },
          "hovermode": "closest",
          "mapbox": {
           "style": "light"
          },
          "paper_bgcolor": "white",
          "plot_bgcolor": "#E5ECF6",
          "polar": {
           "angularaxis": {
            "gridcolor": "white",
            "linecolor": "white",
            "ticks": ""
           },
           "bgcolor": "#E5ECF6",
           "radialaxis": {
            "gridcolor": "white",
            "linecolor": "white",
            "ticks": ""
           }
          },
          "scene": {
           "xaxis": {
            "backgroundcolor": "#E5ECF6",
            "gridcolor": "white",
            "gridwidth": 2,
            "linecolor": "white",
            "showbackground": true,
            "ticks": "",
            "zerolinecolor": "white"
           },
           "yaxis": {
            "backgroundcolor": "#E5ECF6",
            "gridcolor": "white",
            "gridwidth": 2,
            "linecolor": "white",
            "showbackground": true,
            "ticks": "",
            "zerolinecolor": "white"
           },
           "zaxis": {
            "backgroundcolor": "#E5ECF6",
            "gridcolor": "white",
            "gridwidth": 2,
            "linecolor": "white",
            "showbackground": true,
            "ticks": "",
            "zerolinecolor": "white"
           }
          },
          "shapedefaults": {
           "line": {
            "color": "#2a3f5f"
           }
          },
          "ternary": {
           "aaxis": {
            "gridcolor": "white",
            "linecolor": "white",
            "ticks": ""
           },
           "baxis": {
            "gridcolor": "white",
            "linecolor": "white",
            "ticks": ""
           },
           "bgcolor": "#E5ECF6",
           "caxis": {
            "gridcolor": "white",
            "linecolor": "white",
            "ticks": ""
           }
          },
          "title": {
           "x": 0.05
          },
          "xaxis": {
           "automargin": true,
           "gridcolor": "white",
           "linecolor": "white",
           "ticks": "",
           "title": {
            "standoff": 15
           },
           "zerolinecolor": "white",
           "zerolinewidth": 2
          },
          "yaxis": {
           "automargin": true,
           "gridcolor": "white",
           "linecolor": "white",
           "ticks": "",
           "title": {
            "standoff": 15
           },
           "zerolinecolor": "white",
           "zerolinewidth": 2
          }
         }
        },
        "xaxis": {
         "anchor": "y",
         "constrain": "domain",
         "domain": [
          0,
          1
         ],
         "scaleanchor": "y"
        },
        "yaxis": {
         "anchor": "x",
         "autorange": "reversed",
         "constrain": "domain",
         "domain": [
          0,
          1
         ]
        }
       }
      }
     },
     "metadata": {},
     "output_type": "display_data"
    }
   ],
   "source": [
    "#Correlation between those features\n",
    "\n",
    "test_num = test.select_dtypes(include=np.number) \n",
    "\n",
    "px.imshow(test_num.corr())"
   ]
  },
  {
   "cell_type": "markdown",
   "metadata": {},
   "source": [
    "The Categorical features are converting by one_hot_encoding"
   ]
  },
  {
   "cell_type": "code",
   "execution_count": 120,
   "metadata": {},
   "outputs": [],
   "source": [
    "#Isolation of the categorical columns\n",
    "test_cat = test.select_dtypes(exclude=np.number)"
   ]
  },
  {
   "cell_type": "code",
   "execution_count": 121,
   "metadata": {},
   "outputs": [],
   "source": [
    "test_cat_dumm = pd.get_dummies(test_cat, dtype=float)"
   ]
  },
  {
   "cell_type": "code",
   "execution_count": 109,
   "metadata": {},
   "outputs": [
    {
     "data": {
      "text/html": [
       "<div>\n",
       "<style scoped>\n",
       "    .dataframe tbody tr th:only-of-type {\n",
       "        vertical-align: middle;\n",
       "    }\n",
       "\n",
       "    .dataframe tbody tr th {\n",
       "        vertical-align: top;\n",
       "    }\n",
       "\n",
       "    .dataframe thead th {\n",
       "        text-align: right;\n",
       "    }\n",
       "</style>\n",
       "<table border=\"1\" class=\"dataframe\">\n",
       "  <thead>\n",
       "    <tr style=\"text-align: right;\">\n",
       "      <th></th>\n",
       "      <th>Region_DRY TORT</th>\n",
       "      <th>Region_FLA KEYS</th>\n",
       "      <th>Region_SEFCRI</th>\n",
       "      <th>Habitat_type_classLV2_Aggregate Reef</th>\n",
       "      <th>Habitat_type_classLV2_Colonized Pavement</th>\n",
       "      <th>Habitat_type_classLV2_Individual or Aggregated Patch Reef</th>\n",
       "      <th>Habitat_type_classLV2_Pavement</th>\n",
       "      <th>Habitat_type_classLV2_Pavement with Sand Channels</th>\n",
       "      <th>Habitat_type_classLV2_Reef Rubble</th>\n",
       "      <th>Habitat_type_classLV2_Ridge</th>\n",
       "      <th>Habitat_type_classLV2_Spur and Groove</th>\n",
       "    </tr>\n",
       "  </thead>\n",
       "  <tbody>\n",
       "    <tr>\n",
       "      <th>0</th>\n",
       "      <td>0.0</td>\n",
       "      <td>1.0</td>\n",
       "      <td>0.0</td>\n",
       "      <td>1.0</td>\n",
       "      <td>0.0</td>\n",
       "      <td>0.0</td>\n",
       "      <td>0.0</td>\n",
       "      <td>0.0</td>\n",
       "      <td>0.0</td>\n",
       "      <td>0.0</td>\n",
       "      <td>0.0</td>\n",
       "    </tr>\n",
       "    <tr>\n",
       "      <th>1</th>\n",
       "      <td>0.0</td>\n",
       "      <td>1.0</td>\n",
       "      <td>0.0</td>\n",
       "      <td>0.0</td>\n",
       "      <td>0.0</td>\n",
       "      <td>0.0</td>\n",
       "      <td>0.0</td>\n",
       "      <td>0.0</td>\n",
       "      <td>0.0</td>\n",
       "      <td>0.0</td>\n",
       "      <td>1.0</td>\n",
       "    </tr>\n",
       "    <tr>\n",
       "      <th>2</th>\n",
       "      <td>0.0</td>\n",
       "      <td>1.0</td>\n",
       "      <td>0.0</td>\n",
       "      <td>0.0</td>\n",
       "      <td>0.0</td>\n",
       "      <td>0.0</td>\n",
       "      <td>1.0</td>\n",
       "      <td>0.0</td>\n",
       "      <td>0.0</td>\n",
       "      <td>0.0</td>\n",
       "      <td>0.0</td>\n",
       "    </tr>\n",
       "    <tr>\n",
       "      <th>3</th>\n",
       "      <td>0.0</td>\n",
       "      <td>1.0</td>\n",
       "      <td>0.0</td>\n",
       "      <td>0.0</td>\n",
       "      <td>0.0</td>\n",
       "      <td>0.0</td>\n",
       "      <td>1.0</td>\n",
       "      <td>0.0</td>\n",
       "      <td>0.0</td>\n",
       "      <td>0.0</td>\n",
       "      <td>0.0</td>\n",
       "    </tr>\n",
       "    <tr>\n",
       "      <th>4</th>\n",
       "      <td>0.0</td>\n",
       "      <td>1.0</td>\n",
       "      <td>0.0</td>\n",
       "      <td>0.0</td>\n",
       "      <td>0.0</td>\n",
       "      <td>0.0</td>\n",
       "      <td>1.0</td>\n",
       "      <td>0.0</td>\n",
       "      <td>0.0</td>\n",
       "      <td>0.0</td>\n",
       "      <td>0.0</td>\n",
       "    </tr>\n",
       "    <tr>\n",
       "      <th>...</th>\n",
       "      <td>...</td>\n",
       "      <td>...</td>\n",
       "      <td>...</td>\n",
       "      <td>...</td>\n",
       "      <td>...</td>\n",
       "      <td>...</td>\n",
       "      <td>...</td>\n",
       "      <td>...</td>\n",
       "      <td>...</td>\n",
       "      <td>...</td>\n",
       "      <td>...</td>\n",
       "    </tr>\n",
       "    <tr>\n",
       "      <th>3994</th>\n",
       "      <td>0.0</td>\n",
       "      <td>0.0</td>\n",
       "      <td>1.0</td>\n",
       "      <td>0.0</td>\n",
       "      <td>0.0</td>\n",
       "      <td>1.0</td>\n",
       "      <td>0.0</td>\n",
       "      <td>0.0</td>\n",
       "      <td>0.0</td>\n",
       "      <td>0.0</td>\n",
       "      <td>0.0</td>\n",
       "    </tr>\n",
       "    <tr>\n",
       "      <th>3995</th>\n",
       "      <td>0.0</td>\n",
       "      <td>1.0</td>\n",
       "      <td>0.0</td>\n",
       "      <td>0.0</td>\n",
       "      <td>0.0</td>\n",
       "      <td>0.0</td>\n",
       "      <td>1.0</td>\n",
       "      <td>0.0</td>\n",
       "      <td>0.0</td>\n",
       "      <td>0.0</td>\n",
       "      <td>0.0</td>\n",
       "    </tr>\n",
       "    <tr>\n",
       "      <th>3996</th>\n",
       "      <td>0.0</td>\n",
       "      <td>1.0</td>\n",
       "      <td>0.0</td>\n",
       "      <td>1.0</td>\n",
       "      <td>0.0</td>\n",
       "      <td>0.0</td>\n",
       "      <td>0.0</td>\n",
       "      <td>0.0</td>\n",
       "      <td>0.0</td>\n",
       "      <td>0.0</td>\n",
       "      <td>0.0</td>\n",
       "    </tr>\n",
       "    <tr>\n",
       "      <th>3997</th>\n",
       "      <td>0.0</td>\n",
       "      <td>0.0</td>\n",
       "      <td>1.0</td>\n",
       "      <td>1.0</td>\n",
       "      <td>0.0</td>\n",
       "      <td>0.0</td>\n",
       "      <td>0.0</td>\n",
       "      <td>0.0</td>\n",
       "      <td>0.0</td>\n",
       "      <td>0.0</td>\n",
       "      <td>0.0</td>\n",
       "    </tr>\n",
       "    <tr>\n",
       "      <th>3998</th>\n",
       "      <td>0.0</td>\n",
       "      <td>0.0</td>\n",
       "      <td>1.0</td>\n",
       "      <td>1.0</td>\n",
       "      <td>0.0</td>\n",
       "      <td>0.0</td>\n",
       "      <td>0.0</td>\n",
       "      <td>0.0</td>\n",
       "      <td>0.0</td>\n",
       "      <td>0.0</td>\n",
       "      <td>0.0</td>\n",
       "    </tr>\n",
       "  </tbody>\n",
       "</table>\n",
       "<p>3999 rows × 11 columns</p>\n",
       "</div>"
      ],
      "text/plain": [
       "      Region_DRY TORT  Region_FLA KEYS  Region_SEFCRI  \\\n",
       "0                 0.0              1.0            0.0   \n",
       "1                 0.0              1.0            0.0   \n",
       "2                 0.0              1.0            0.0   \n",
       "3                 0.0              1.0            0.0   \n",
       "4                 0.0              1.0            0.0   \n",
       "...               ...              ...            ...   \n",
       "3994              0.0              0.0            1.0   \n",
       "3995              0.0              1.0            0.0   \n",
       "3996              0.0              1.0            0.0   \n",
       "3997              0.0              0.0            1.0   \n",
       "3998              0.0              0.0            1.0   \n",
       "\n",
       "      Habitat_type_classLV2_Aggregate Reef  \\\n",
       "0                                      1.0   \n",
       "1                                      0.0   \n",
       "2                                      0.0   \n",
       "3                                      0.0   \n",
       "4                                      0.0   \n",
       "...                                    ...   \n",
       "3994                                   0.0   \n",
       "3995                                   0.0   \n",
       "3996                                   1.0   \n",
       "3997                                   1.0   \n",
       "3998                                   1.0   \n",
       "\n",
       "      Habitat_type_classLV2_Colonized Pavement  \\\n",
       "0                                          0.0   \n",
       "1                                          0.0   \n",
       "2                                          0.0   \n",
       "3                                          0.0   \n",
       "4                                          0.0   \n",
       "...                                        ...   \n",
       "3994                                       0.0   \n",
       "3995                                       0.0   \n",
       "3996                                       0.0   \n",
       "3997                                       0.0   \n",
       "3998                                       0.0   \n",
       "\n",
       "      Habitat_type_classLV2_Individual or Aggregated Patch Reef  \\\n",
       "0                                                   0.0           \n",
       "1                                                   0.0           \n",
       "2                                                   0.0           \n",
       "3                                                   0.0           \n",
       "4                                                   0.0           \n",
       "...                                                 ...           \n",
       "3994                                                1.0           \n",
       "3995                                                0.0           \n",
       "3996                                                0.0           \n",
       "3997                                                0.0           \n",
       "3998                                                0.0           \n",
       "\n",
       "      Habitat_type_classLV2_Pavement  \\\n",
       "0                                0.0   \n",
       "1                                0.0   \n",
       "2                                1.0   \n",
       "3                                1.0   \n",
       "4                                1.0   \n",
       "...                              ...   \n",
       "3994                             0.0   \n",
       "3995                             1.0   \n",
       "3996                             0.0   \n",
       "3997                             0.0   \n",
       "3998                             0.0   \n",
       "\n",
       "      Habitat_type_classLV2_Pavement with Sand Channels  \\\n",
       "0                                                   0.0   \n",
       "1                                                   0.0   \n",
       "2                                                   0.0   \n",
       "3                                                   0.0   \n",
       "4                                                   0.0   \n",
       "...                                                 ...   \n",
       "3994                                                0.0   \n",
       "3995                                                0.0   \n",
       "3996                                                0.0   \n",
       "3997                                                0.0   \n",
       "3998                                                0.0   \n",
       "\n",
       "      Habitat_type_classLV2_Reef Rubble  Habitat_type_classLV2_Ridge  \\\n",
       "0                                   0.0                          0.0   \n",
       "1                                   0.0                          0.0   \n",
       "2                                   0.0                          0.0   \n",
       "3                                   0.0                          0.0   \n",
       "4                                   0.0                          0.0   \n",
       "...                                 ...                          ...   \n",
       "3994                                0.0                          0.0   \n",
       "3995                                0.0                          0.0   \n",
       "3996                                0.0                          0.0   \n",
       "3997                                0.0                          0.0   \n",
       "3998                                0.0                          0.0   \n",
       "\n",
       "      Habitat_type_classLV2_Spur and Groove  \n",
       "0                                       0.0  \n",
       "1                                       1.0  \n",
       "2                                       0.0  \n",
       "3                                       0.0  \n",
       "4                                       0.0  \n",
       "...                                     ...  \n",
       "3994                                    0.0  \n",
       "3995                                    0.0  \n",
       "3996                                    0.0  \n",
       "3997                                    0.0  \n",
       "3998                                    0.0  \n",
       "\n",
       "[3999 rows x 11 columns]"
      ]
     },
     "execution_count": 109,
     "metadata": {},
     "output_type": "execute_result"
    }
   ],
   "source": [
    "test_cat_dumm"
   ]
  },
  {
   "cell_type": "code",
   "execution_count": 122,
   "metadata": {},
   "outputs": [],
   "source": [
    "#concat of dummies variables with the main dataset\n",
    "\n",
    "test2 = pd.concat([test,test_cat_dumm], axis=1)"
   ]
  },
  {
   "cell_type": "code",
   "execution_count": 123,
   "metadata": {},
   "outputs": [],
   "source": [
    "test_proceed = test2.drop(test_cat, axis=1)"
   ]
  },
  {
   "cell_type": "code",
   "execution_count": 124,
   "metadata": {},
   "outputs": [
    {
     "data": {
      "application/vnd.plotly.v1+json": {
       "config": {
        "plotlyServerURL": "https://plot.ly"
       },
       "data": [
        {
         "coloraxis": "coloraxis",
         "hovertemplate": "x: %{x}<br>y: %{y}<br>color: %{z}<extra></extra>",
         "name": "0",
         "type": "heatmap",
         "x": [
          "Depth",
          "Coral_cover",
          "Reef_complexity",
          "SST",
          "NPP",
          "Wave_exposure",
          "Depth_Sbrocco",
          "Deepwater",
          "Marina_slips_10km",
          "Tourist_fishing",
          "Artificial_reefs_1km",
          "SG_permits_50km",
          "Total_gravity",
          "Nursery_seagrass",
          "Nursery_mangroves",
          "connectivity",
          "Diversity_index",
          "Total",
          "Nb_dif_Sp",
          "Margalef_Index",
          "Region_DRY TORT",
          "Region_FLA KEYS",
          "Region_SEFCRI",
          "Habitat_type_classLV2_Aggregate Reef",
          "Habitat_type_classLV2_Colonized Pavement",
          "Habitat_type_classLV2_Individual or Aggregated Patch Reef",
          "Habitat_type_classLV2_Pavement",
          "Habitat_type_classLV2_Pavement with Sand Channels",
          "Habitat_type_classLV2_Reef Rubble",
          "Habitat_type_classLV2_Ridge",
          "Habitat_type_classLV2_Spur and Groove"
         ],
         "xaxis": "x",
         "y": [
          "Depth",
          "Coral_cover",
          "Reef_complexity",
          "SST",
          "NPP",
          "Wave_exposure",
          "Depth_Sbrocco",
          "Deepwater",
          "Marina_slips_10km",
          "Tourist_fishing",
          "Artificial_reefs_1km",
          "SG_permits_50km",
          "Total_gravity",
          "Nursery_seagrass",
          "Nursery_mangroves",
          "connectivity",
          "Diversity_index",
          "Total",
          "Nb_dif_Sp",
          "Margalef_Index",
          "Region_DRY TORT",
          "Region_FLA KEYS",
          "Region_SEFCRI",
          "Habitat_type_classLV2_Aggregate Reef",
          "Habitat_type_classLV2_Colonized Pavement",
          "Habitat_type_classLV2_Individual or Aggregated Patch Reef",
          "Habitat_type_classLV2_Pavement",
          "Habitat_type_classLV2_Pavement with Sand Channels",
          "Habitat_type_classLV2_Reef Rubble",
          "Habitat_type_classLV2_Ridge",
          "Habitat_type_classLV2_Spur and Groove"
         ],
         "yaxis": "y",
         "z": [
          [
           1,
           -0.09404212417770041,
           0.06218880071194935,
           0.07082610199745161,
           -0.3532814492974772,
           0.26243998683041075,
           -0.7832204031160901,
           -0.3247905439355316,
           0.008588111953277034,
           0.006211845821788653,
           0.1758885945316551,
           -0.19565435419516014,
           -0.11985926354387462,
           -0.45112648049813536,
           -0.3079436997336721,
           -0.08999414082897784,
           -0.20773518214334744,
           0.04921268805680811,
           -0.02096583471311936,
           0.04921256269275702,
           0.03350768446360561,
           -0.36996134576885,
           0.3596724908101292,
           0.058396505786408065,
           -0.17179867960890324,
           -0.0030909649422644864,
           -0.24673119164472218,
           0.1072481287777123,
           -0.1667067382233225,
           0.27813831586586124,
           0.0037491041997743673
          ],
          [
           -0.09404212417770041,
           1,
           0.43605160400577814,
           -0.31251856773037834,
           0.4212415238423239,
           -0.20019713829028765,
           0.12647395612939216,
           0.2352406083867386,
           -0.2134748509846244,
           -0.23862329323780387,
           -0.09805048778360353,
           -0.018756995181457483,
           -0.13790628491952084,
           0.23353834386697345,
           0.2823341378892491,
           -0.17303763091263205,
           -0.12944905749682215,
           0.2805745103925401,
           0.2623601345631858,
           0.28057442087518164,
           0.22722653414469016,
           0.1603279206420694,
           -0.3427642086242683,
           0.039125366949167815,
           -0.10752425345472931,
           0.16928610743569944,
           0.0811732423487961,
           -0.023298348095291525,
           -0.059498775061943905,
           -0.19983926720587633,
           0.014878346590716907
          ],
          [
           0.06218880071194935,
           0.43605160400577814,
           1,
           -0.2833353332458576,
           0.23994437019289214,
           -0.10463761151299242,
           -0.0672720064118851,
           0.10264150815093986,
           -0.2824448408220884,
           -0.27083639096613077,
           -0.07491372177470132,
           -0.11374278156118875,
           -0.2255332552835788,
           0.13395125630827884,
           -0.033743819646552535,
           -0.18888819299218595,
           -0.12404738903464248,
           0.43016128889305005,
           0.5154144567894944,
           0.43016159947275895,
           0.2750734464288595,
           0.14350821344565176,
           -0.3622250089742132,
           0.043567790501692585,
           -0.17281790631549482,
           0.1772298737542507,
           -0.040644438944983395,
           0.07395796819067656,
           -0.0712852733530141,
           -0.2778002046513582,
           0.19484371861003788
          ],
          [
           0.07082610199745161,
           -0.31251856773037834,
           -0.2833353332458576,
           1,
           -0.6501020483241251,
           0.05040866700864858,
           -0.14097179535728813,
           -0.6101060759130195,
           0.4440245104480516,
           0.556878322212509,
           0.20560465760579255,
           0.5285075260010244,
           0.2853364043245789,
           0.12258875866613574,
           -0.0005663937815238551,
           0.449491038856304,
           0.1519072601430078,
           -0.27382501772214013,
           -0.18739739032742106,
           -0.2738251723895811,
           -0.8559129832142811,
           0.20136891984415625,
           0.45183794118448184,
           -0.22646150871674076,
           0.13144323775939337,
           -0.06074872424842034,
           0.022522086859067814,
           0.07916501807222866,
           0.03297399207833567,
           0.13634884758564073,
           0.0481134777871993
          ],
          [
           -0.3532814492974772,
           0.4212415238423239,
           0.23994437019289214,
           -0.6501020483241251,
           1,
           -0.25767646467581656,
           0.36124617095692363,
           0.5007824248622716,
           -0.4562574130879623,
           -0.5685143559686306,
           -0.24399782531970582,
           -0.016062577626763053,
           -0.3409085777019594,
           0.4099107189622255,
           0.4315410056152523,
           -0.36259706806427555,
           -0.04810922701259049,
           0.2179448847289827,
           0.19048770214412702,
           0.21794506028195337,
           0.33371942060553,
           0.37671401030029794,
           -0.6506135648308471,
           -0.03132234703002324,
           -0.18061608693387857,
           0.1290204901467289,
           0.2313847546790346,
           0.009710471734034148,
           0.0423703347236509,
           -0.23578089441656663,
           0.01171397948892833
          ],
          [
           0.26243998683041075,
           -0.20019713829028765,
           -0.10463761151299242,
           0.05040866700864858,
           -0.25767646467581656,
           1,
           -0.19101080206653648,
           -0.0682075271212954,
           0.0676348189703788,
           0.07637782520866888,
           0.058103322098004284,
           -0.5269842069760924,
           0.04045492082752134,
           -0.05556171427535493,
           -0.28178585418076785,
           0.04219370659216447,
           -0.06786417085167479,
           0.0025145150180912344,
           -0.07746087286621756,
           0.0025149243796628888,
           0.14496106600135034,
           -0.3512041651840305,
           0.25395893416661125,
           0.08212964586694779,
           0.027262478705746874,
           -0.0677425711950385,
           -0.2740835040420685,
           0.14690902285577875,
           -0.10054165191425035,
           0.24091488000240244,
           -0.10787872710614449
          ],
          [
           -0.7832204031160901,
           0.12647395612939216,
           -0.0672720064118851,
           -0.14097179535728813,
           0.36124617095692363,
           -0.19101080206653648,
           1,
           0.4003908672687815,
           -0.015043915018252382,
           -0.07033543190379332,
           -0.19002735559126388,
           0.10117348896777578,
           0.14149917878984938,
           0.37853647279819036,
           0.3171933016147215,
           0.03829867482204695,
           0.12166757305246824,
           -0.027973153066442217,
           -0.009917614105984535,
           -0.027973085116080237,
           0.03354984160076169,
           0.2715794193782016,
           -0.30898008885892314,
           -0.07378383372976353,
           0.14726282842642233,
           -0.0020172073763306017,
           0.22623658528959936,
           -0.07896068095378223,
           0.10109971997976833,
           -0.14666613887965874,
           -0.07210940441082313
          ],
          [
           -0.3247905439355316,
           0.2352406083867386,
           0.10264150815093986,
           -0.6101060759130195,
           0.5007824248622716,
           -0.0682075271212954,
           0.4003908672687815,
           1,
           -0.201164497408073,
           -0.3002301485271896,
           -0.15624726688304091,
           -0.34789499642197347,
           -0.10985533846535386,
           0.045447061082199536,
           0.3810909676720867,
           -0.2758500675630682,
           -0.03790976141059133,
           0.03351980331214083,
           -0.027406409428552384,
           0.033519919961567814,
           0.5289864803419163,
           -0.16446240567010537,
           -0.23755529259813754,
           0.024607347100719604,
           0.035024838179254524,
           0.1443929866971826,
           0.04481644729315201,
           -0.15542193667728565,
           -0.05681042224483797,
           -0.024955226130574982,
           -0.08163650045604957
          ],
          [
           0.008588111953277034,
           -0.2134748509846244,
           -0.2824448408220884,
           0.4440245104480516,
           -0.4562574130879623,
           0.0676348189703788,
           -0.015043915018252382,
           -0.201164497408073,
           1,
           0.7476824618572383,
           0.2595948103518372,
           0.10295082258409788,
           0.5905005427112329,
           -0.3787346675504303,
           0.09688083662593501,
           0.7149568336805346,
           0.05885966887712809,
           -0.2770349566586037,
           -0.2903816459271588,
           -0.2770350435842093,
           -0.30809707724141217,
           -0.4243850731079261,
           0.6804881662731702,
           0.029882878442963594,
           0.356359737129146,
           -0.039057334935215855,
           -0.15579609857710672,
           -0.15560078486752166,
           -0.06675390526103785,
           0.12841189427451527,
           -0.06827996364761128
          ],
          [
           0.006211845821788653,
           -0.23862329323780387,
           -0.27083639096613077,
           0.556878322212509,
           -0.5685143559686306,
           0.07637782520866888,
           -0.07033543190379332,
           -0.3002301485271896,
           0.7476824618572383,
           1,
           0.3086577256511376,
           0.19638238380438983,
           0.5781115380568884,
           -0.28251538701321954,
           -0.06612114070693817,
           0.6974899875889948,
           0.09587517417471371,
           -0.27682015346476635,
           -0.23965610371593343,
           -0.2768202619683935,
           -0.3105297035302809,
           -0.3641534000432015,
           0.6195947983654795,
           0.1247326779885565,
           0.26540944902846786,
           -0.061596262048372784,
           -0.19791501779502227,
           -0.1185373729934713,
           -0.06576628112483165,
           0.1141348227504811,
           -0.0880100252911992
          ],
          [
           0.1758885945316551,
           -0.09805048778360353,
           -0.07491372177470132,
           0.20560465760579255,
           -0.24399782531970582,
           0.058103322098004284,
           -0.19002735559126388,
           -0.15624726688304091,
           0.2595948103518372,
           0.3086577256511376,
           1,
           0.023519352328773554,
           0.14962819761975904,
           -0.19206913358908784,
           -0.06353022425677929,
           0.28707141602200054,
           0.01155334303389611,
           -0.09131534720431793,
           -0.08590458337809732,
           -0.09131543819459705,
           -0.11407292481473118,
           -0.19570461767045558,
           0.2921550560050495,
           0.07664817405026608,
           0.04633759147853523,
           0.007015680580105422,
           -0.09613074720112873,
           -0.05579395774382956,
           -0.03229740990883357,
           0.020302095466094384,
           -0.0073529232002404014
          ],
          [
           -0.19565435419516014,
           -0.018756995181457483,
           -0.11374278156118875,
           0.5285075260010244,
           -0.016062577626763053,
           -0.5269842069760924,
           0.10117348896777578,
           -0.34789499642197347,
           0.10295082258409788,
           0.19638238380438983,
           0.023519352328773554,
           1,
           0.10497552130843917,
           0.2573402124713886,
           0.2871927073153052,
           0.20151510342936224,
           0.12150519762141089,
           -0.15353672092345585,
           -0.05820839331582663,
           -0.1535369729067545,
           -0.751918565699499,
           0.570529611109056,
           -0.013303014801356546,
           -0.2852323191975634,
           0.03640777899442285,
           -0.061205015628287875,
           0.30599283169146063,
           -0.04001591748886899,
           0.09984465625794484,
           -0.018659042717694283,
           0.13298272617855303
          ],
          [
           -0.11985926354387462,
           -0.13790628491952084,
           -0.2255332552835788,
           0.2853364043245789,
           -0.3409085777019594,
           0.04045492082752134,
           0.14149917878984938,
           -0.10985533846535386,
           0.5905005427112329,
           0.5781115380568884,
           0.14962819761975904,
           0.10497552130843917,
           1,
           -0.2884078729992845,
           0.057029617064417386,
           0.4098672686052228,
           0.048003125111220325,
           -0.19536632625848696,
           -0.21944831360936085,
           -0.19536647961714734,
           -0.15963715243566182,
           -0.3103177126368041,
           0.44683164930907576,
           0.0628111160808213,
           0.2544450948098559,
           -0.10357417117836094,
           -0.13750212801664286,
           -0.09865819439933747,
           -0.05217328738793928,
           0.17560946850997192,
           -0.10064821771412058
          ],
          [
           -0.45112648049813536,
           0.23353834386697345,
           0.13395125630827884,
           0.12258875866613574,
           0.4099107189622255,
           -0.05556171427535493,
           0.37853647279819036,
           0.045447061082199536,
           -0.3787346675504303,
           -0.28251538701321954,
           -0.19206913358908784,
           0.2573402124713886,
           -0.2884078729992845,
           1,
           0.32062229887309907,
           -0.07163085539923596,
           0.11059000025058743,
           0.12058515020167725,
           0.20332214786086092,
           0.1205854790284346,
           -0.21927325300986097,
           0.7968797615285829,
           -0.6609955761584555,
           -0.20656829759281342,
           -0.1584584215440533,
           0.11079199423608005,
           0.35902565777611284,
           0.23911108103585663,
           0.11682695332989619,
           -0.34966014678344864,
           0.02288307882517223
          ],
          [
           -0.3079436997336721,
           0.2823341378892491,
           -0.033743819646552535,
           -0.0005663937815238551,
           0.4315410056152523,
           -0.28178585418076785,
           0.3171933016147215,
           0.3810909676720867,
           0.09688083662593501,
           -0.06612114070693817,
           -0.06353022425677929,
           0.2871927073153052,
           0.057029617064417386,
           0.32062229887309907,
           1,
           -0.03725232354810076,
           0.02229167298667305,
           -0.10638569416179325,
           -0.1583613941124997,
           -0.10638531765393595,
           -0.2266527456227874,
           0.22571198244036292,
           -0.06001390674844889,
           -0.19832414254721417,
           0.05087632734107059,
           0.10531818693891608,
           0.2860276354374736,
           -0.08400585791621222,
           -0.012572938629479915,
           -0.006573985664204665,
           -0.0917798075374484
          ],
          [
           -0.08999414082897784,
           -0.17303763091263205,
           -0.18888819299218595,
           0.449491038856304,
           -0.36259706806427555,
           0.04219370659216447,
           0.03829867482204695,
           -0.2758500675630682,
           0.7149568336805346,
           0.6974899875889948,
           0.28707141602200054,
           0.20151510342936224,
           0.4098672686052228,
           -0.07163085539923596,
           -0.03725232354810076,
           1,
           0.11818412065521623,
           -0.1628292917068586,
           -0.08788519201036187,
           -0.16282932546634543,
           -0.31326058124608236,
           -0.10044612693004118,
           0.34686777111154227,
           0.04027180396613154,
           0.3295814530716558,
           -0.06797654431307573,
           -0.06231196484966701,
           -0.01327318693673026,
           -0.0230321003858826,
           -0.10058372373265631,
           -0.031062533955433163
          ],
          [
           -0.20773518214334744,
           -0.12944905749682215,
           -0.12404738903464248,
           0.1519072601430078,
           -0.04810922701259049,
           -0.06786417085167479,
           0.12166757305246824,
           -0.03790976141059133,
           0.05885966887712809,
           0.09587517417471371,
           0.01155334303389611,
           0.12150519762141089,
           0.048003125111220325,
           0.11059000025058743,
           0.02229167298667305,
           0.11818412065521623,
           1,
           -0.35482269221451473,
           0.1337518305068434,
           -0.35482240284041133,
           -0.11806421334882047,
           0.11805833587520108,
           -0.03176606137315864,
           -0.04930172898628833,
           -0.02581828036191766,
           0.008578469360384693,
           0.07444053218447406,
           0.015670191374537675,
           0.02080730914135998,
           -0.05924603955746927,
           0.04230894601579591
          ],
          [
           0.04921268805680811,
           0.2805745103925401,
           0.43016128889305005,
           -0.27382501772214013,
           0.2179448847289827,
           0.0025145150180912344,
           -0.027973153066442217,
           0.03351980331214083,
           -0.2770349566586037,
           -0.27682015346476635,
           -0.09131534720431793,
           -0.15353672092345585,
           -0.19536632625848696,
           0.12058515020167725,
           -0.10638569416179325,
           -0.1628292917068586,
           -0.35482269221451473,
           1,
           0.6018277235265369,
           0.9999999998833554,
           0.2705069496124362,
           0.13766181713614975,
           -0.35260147819915105,
           0.10110394164587279,
           -0.13397680021532885,
           0.02948038710135956,
           0.006594710307535022,
           0.11284500639359689,
           -0.002081562029753392,
           -0.21397937628226313,
           0.04720289028865047
          ],
          [
           -0.02096583471311936,
           0.2623601345631858,
           0.5154144567894944,
           -0.18739739032742106,
           0.19048770214412702,
           -0.07746087286621756,
           -0.009917614105984535,
           -0.027406409428552384,
           -0.2903816459271588,
           -0.23965610371593343,
           -0.08590458337809732,
           -0.05820839331582663,
           -0.21944831360936085,
           0.20332214786086092,
           -0.1583613941124997,
           -0.08788519201036187,
           0.1337518305068434,
           0.6018277235265369,
           1,
           0.6018278669684102,
           0.21502933025591695,
           0.2767627685124106,
           -0.4546840709141997,
           0.1473366641302673,
           -0.21074906119856968,
           0.06278448666553456,
           0.015561808367726004,
           0.16439379872799845,
           -0.045562796916866766,
           -0.38402517293698224,
           0.15346962393583713
          ],
          [
           0.04921256269275702,
           0.28057442087518164,
           0.43016159947275895,
           -0.2738251723895811,
           0.21794506028195337,
           0.0025149243796628888,
           -0.027973085116080237,
           0.033519919961567814,
           -0.2770350435842093,
           -0.2768202619683935,
           -0.09131543819459705,
           -0.1535369729067545,
           -0.19536647961714734,
           0.1205854790284346,
           -0.10638531765393595,
           -0.16282932546634543,
           -0.35482240284041133,
           0.9999999998833554,
           0.6018278669684102,
           1,
           0.2705070613670913,
           0.13766194296043663,
           -0.35260169573199673,
           0.1011040240544072,
           -0.13397709444246947,
           0.029480455179410135,
           0.00659481790925638,
           0.11284524739786654,
           -0.002081842931700999,
           -0.21397936461204967,
           0.047202701208831084
          ],
          [
           0.03350768446360561,
           0.22722653414469016,
           0.2750734464288595,
           -0.8559129832142811,
           0.33371942060553,
           0.14496106600135034,
           0.03354984160076169,
           0.5289864803419163,
           -0.30809707724141217,
           -0.3105297035302809,
           -0.11407292481473118,
           -0.751918565699499,
           -0.15963715243566182,
           -0.21927325300986097,
           -0.2266527456227874,
           -0.31326058124608236,
           -0.11806421334882047,
           0.2705069496124362,
           0.21502933025591695,
           0.2705070613670913,
           1,
           -0.42438710699769666,
           -0.33079994494471926,
           0.35987579015161986,
           -0.11003368163811508,
           0.08067301687976669,
           -0.1811425279083161,
           -0.04722113795455172,
           -0.06841554907864295,
           -0.17518667137075083,
           -0.07648477385115483
          ],
          [
           -0.36996134576885,
           0.1603279206420694,
           0.14350821344565176,
           0.20136891984415625,
           0.37671401030029794,
           -0.3512041651840305,
           0.2715794193782016,
           -0.16446240567010537,
           -0.4243850731079261,
           -0.3641534000432015,
           -0.19570461767045558,
           0.570529611109056,
           -0.3103177126368041,
           0.7968797615285829,
           0.22571198244036292,
           -0.10044612693004118,
           0.11805833587520108,
           0.13766181713614975,
           0.2767627685124106,
           0.13766194296043663,
           -0.42438710699769666,
           1,
           -0.7141158723101235,
           -0.24988636634873562,
           -0.1797170229467501,
           0.0024180536581191363,
           0.4268332494589644,
           0.2472276599494048,
           0.16121024402141979,
           -0.37525544523115734,
           0.147503583351651
          ],
          [
           0.3596724908101292,
           -0.3427642086242683,
           -0.3622250089742132,
           0.45183794118448184,
           -0.6506135648308471,
           0.25395893416661125,
           -0.30898008885892314,
           -0.23755529259813754,
           0.6804881662731702,
           0.6195947983654795,
           0.2921550560050495,
           -0.013303014801356546,
           0.44683164930907576,
           -0.6609955761584555,
           -0.06001390674844889,
           0.34686777111154227,
           -0.03176606137315864,
           -0.35260147819915105,
           -0.4546840709141997,
           -0.35260169573199673,
           -0.33079994494471926,
           -0.7141158723101235,
           1,
           -0.017786091101240183,
           0.2723698901379963,
           -0.06488845171925092,
           -0.3048083982683527,
           -0.22115638195328216,
           -0.11512279403468392,
           0.5265317196614974,
           -0.09459925974698664
          ],
          [
           0.058396505786408065,
           0.039125366949167815,
           0.043567790501692585,
           -0.22646150871674076,
           -0.03132234703002324,
           0.08212964586694779,
           -0.07378383372976353,
           0.024607347100719604,
           0.029882878442963594,
           0.1247326779885565,
           0.07664817405026608,
           -0.2852323191975634,
           0.0628111160808213,
           -0.20656829759281342,
           -0.19832414254721417,
           0.04027180396613154,
           -0.04930172898628833,
           0.10110394164587279,
           0.1473366641302673,
           0.1011040240544072,
           0.35987579015161986,
           -0.24988636634873562,
           -0.017786091101240183,
           1,
           -0.1711543713168129,
           -0.2701597890769465,
           -0.28176222972209286,
           -0.20443503410810307,
           -0.10641850855596136,
           -0.27249805836869934,
           -0.23562848646895349
          ],
          [
           -0.17179867960890324,
           -0.10752425345472931,
           -0.17281790631549482,
           0.13144323775939337,
           -0.18061608693387857,
           0.027262478705746874,
           0.14726282842642233,
           0.035024838179254524,
           0.356359737129146,
           0.26540944902846786,
           0.04633759147853523,
           0.03640777899442285,
           0.2544450948098559,
           -0.1584584215440533,
           0.05087632734107059,
           0.3295814530716558,
           -0.02581828036191766,
           -0.13397680021532885,
           -0.21074906119856968,
           -0.13397709444246947,
           -0.11003368163811508,
           -0.1797170229467501,
           0.2723698901379963,
           -0.1711543713168129,
           1,
           -0.09721316384470426,
           -0.10138813735682005,
           -0.07356304405719089,
           -0.038293189166701935,
           -0.09805455684604189,
           -0.0847875649438785
          ],
          [
           -0.0030909649422644864,
           0.16928610743569944,
           0.1772298737542507,
           -0.06074872424842034,
           0.1290204901467289,
           -0.0677425711950385,
           -0.0020172073763306017,
           0.1443929866971826,
           -0.039057334935215855,
           -0.061596262048372784,
           0.007015680580105422,
           -0.061205015628287875,
           -0.10357417117836094,
           0.11079199423608005,
           0.10531818693891608,
           -0.06797654431307573,
           0.008578469360384693,
           0.02948038710135956,
           0.06278448666553456,
           0.029480455179410135,
           0.08067301687976669,
           0.0024180536581191363,
           -0.06488845171925092,
           -0.2701597890769465,
           -0.09721316384470426,
           1,
           -0.16003679948390706,
           -0.11611609048279468,
           -0.06044414658396481,
           -0.15477488650596827,
           -0.13383351231611715
          ],
          [
           -0.24673119164472218,
           0.0811732423487961,
           -0.040644438944983395,
           0.022522086859067814,
           0.2313847546790346,
           -0.2740835040420685,
           0.22623658528959936,
           0.04481644729315201,
           -0.15579609857710672,
           -0.19791501779502227,
           -0.09613074720112873,
           0.30599283169146063,
           -0.13750212801664286,
           0.35902565777611284,
           0.2860276354374736,
           -0.06231196484966701,
           0.07444053218447406,
           0.006594710307535022,
           0.015561808367726004,
           0.00659481790925638,
           -0.1811425279083161,
           0.4268332494589644,
           -0.3048083982683527,
           -0.28176222972209286,
           -0.10138813735682005,
           -0.16003679948390706,
           1,
           -0.1211028801615101,
           -0.0630400163300995,
           -0.1614219394970162,
           -0.13958120477725217
          ],
          [
           0.1072481287777123,
           -0.023298348095291525,
           0.07395796819067656,
           0.07916501807222866,
           0.009710471734034148,
           0.14690902285577875,
           -0.07896068095378223,
           -0.15542193667728565,
           -0.15560078486752166,
           -0.1185373729934713,
           -0.05579395774382956,
           -0.04001591748886899,
           -0.09865819439933747,
           0.23911108103585663,
           -0.08400585791621222,
           -0.01327318693673026,
           0.015670191374537675,
           0.11284500639359689,
           0.16439379872799845,
           0.11284524739786654,
           -0.04722113795455172,
           0.2472276599494048,
           -0.22115638195328216,
           -0.20443503410810307,
           -0.07356304405719089,
           -0.11611609048279468,
           -0.1211028801615101,
           1,
           -0.04573923162565321,
           -0.1171210908552849,
           -0.1012743559973692
          ],
          [
           -0.1667067382233225,
           -0.059498775061943905,
           -0.0712852733530141,
           0.03297399207833567,
           0.0423703347236509,
           -0.10054165191425035,
           0.10109971997976833,
           -0.05681042224483797,
           -0.06675390526103785,
           -0.06576628112483165,
           -0.03229740990883357,
           0.09984465625794484,
           -0.05217328738793928,
           0.11682695332989619,
           -0.012572938629479915,
           -0.0230321003858826,
           0.02080730914135998,
           -0.002081562029753392,
           -0.045562796916866766,
           -0.002081842931700999,
           -0.06841554907864295,
           0.16121024402141979,
           -0.11512279403468392,
           -0.10641850855596136,
           -0.038293189166701935,
           -0.06044414658396481,
           -0.0630400163300995,
           -0.04573923162565321,
           1,
           -0.060967298798091075,
           -0.05271829247479421
          ],
          [
           0.27813831586586124,
           -0.19983926720587633,
           -0.2778002046513582,
           0.13634884758564073,
           -0.23578089441656663,
           0.24091488000240244,
           -0.14666613887965874,
           -0.024955226130574982,
           0.12841189427451527,
           0.1141348227504811,
           0.020302095466094384,
           -0.018659042717694283,
           0.17560946850997192,
           -0.34966014678344864,
           -0.006573985664204665,
           -0.10058372373265631,
           -0.05924603955746927,
           -0.21397937628226313,
           -0.38402517293698224,
           -0.21397936461204967,
           -0.17518667137075083,
           -0.37525544523115734,
           0.5265317196614974,
           -0.27249805836869934,
           -0.09805455684604189,
           -0.15477488650596827,
           -0.1614219394970162,
           -0.1171210908552849,
           -0.060967298798091075,
           1,
           -0.13499185935630967
          ],
          [
           0.0037491041997743673,
           0.014878346590716907,
           0.19484371861003788,
           0.0481134777871993,
           0.01171397948892833,
           -0.10787872710614449,
           -0.07210940441082313,
           -0.08163650045604957,
           -0.06827996364761128,
           -0.0880100252911992,
           -0.0073529232002404014,
           0.13298272617855303,
           -0.10064821771412058,
           0.02288307882517223,
           -0.0917798075374484,
           -0.031062533955433163,
           0.04230894601579591,
           0.04720289028865047,
           0.15346962393583713,
           0.047202701208831084,
           -0.07648477385115483,
           0.147503583351651,
           -0.09459925974698664,
           -0.23562848646895349,
           -0.0847875649438785,
           -0.13383351231611715,
           -0.13958120477725217,
           -0.1012743559973692,
           -0.05271829247479421,
           -0.13499185935630967,
           1
          ]
         ]
        }
       ],
       "layout": {
        "coloraxis": {
         "colorscale": [
          [
           0,
           "#0d0887"
          ],
          [
           0.1111111111111111,
           "#46039f"
          ],
          [
           0.2222222222222222,
           "#7201a8"
          ],
          [
           0.3333333333333333,
           "#9c179e"
          ],
          [
           0.4444444444444444,
           "#bd3786"
          ],
          [
           0.5555555555555556,
           "#d8576b"
          ],
          [
           0.6666666666666666,
           "#ed7953"
          ],
          [
           0.7777777777777778,
           "#fb9f3a"
          ],
          [
           0.8888888888888888,
           "#fdca26"
          ],
          [
           1,
           "#f0f921"
          ]
         ]
        },
        "margin": {
         "t": 60
        },
        "template": {
         "data": {
          "bar": [
           {
            "error_x": {
             "color": "#2a3f5f"
            },
            "error_y": {
             "color": "#2a3f5f"
            },
            "marker": {
             "line": {
              "color": "#E5ECF6",
              "width": 0.5
             },
             "pattern": {
              "fillmode": "overlay",
              "size": 10,
              "solidity": 0.2
             }
            },
            "type": "bar"
           }
          ],
          "barpolar": [
           {
            "marker": {
             "line": {
              "color": "#E5ECF6",
              "width": 0.5
             },
             "pattern": {
              "fillmode": "overlay",
              "size": 10,
              "solidity": 0.2
             }
            },
            "type": "barpolar"
           }
          ],
          "carpet": [
           {
            "aaxis": {
             "endlinecolor": "#2a3f5f",
             "gridcolor": "white",
             "linecolor": "white",
             "minorgridcolor": "white",
             "startlinecolor": "#2a3f5f"
            },
            "baxis": {
             "endlinecolor": "#2a3f5f",
             "gridcolor": "white",
             "linecolor": "white",
             "minorgridcolor": "white",
             "startlinecolor": "#2a3f5f"
            },
            "type": "carpet"
           }
          ],
          "choropleth": [
           {
            "colorbar": {
             "outlinewidth": 0,
             "ticks": ""
            },
            "type": "choropleth"
           }
          ],
          "contour": [
           {
            "colorbar": {
             "outlinewidth": 0,
             "ticks": ""
            },
            "colorscale": [
             [
              0,
              "#0d0887"
             ],
             [
              0.1111111111111111,
              "#46039f"
             ],
             [
              0.2222222222222222,
              "#7201a8"
             ],
             [
              0.3333333333333333,
              "#9c179e"
             ],
             [
              0.4444444444444444,
              "#bd3786"
             ],
             [
              0.5555555555555556,
              "#d8576b"
             ],
             [
              0.6666666666666666,
              "#ed7953"
             ],
             [
              0.7777777777777778,
              "#fb9f3a"
             ],
             [
              0.8888888888888888,
              "#fdca26"
             ],
             [
              1,
              "#f0f921"
             ]
            ],
            "type": "contour"
           }
          ],
          "contourcarpet": [
           {
            "colorbar": {
             "outlinewidth": 0,
             "ticks": ""
            },
            "type": "contourcarpet"
           }
          ],
          "heatmap": [
           {
            "colorbar": {
             "outlinewidth": 0,
             "ticks": ""
            },
            "colorscale": [
             [
              0,
              "#0d0887"
             ],
             [
              0.1111111111111111,
              "#46039f"
             ],
             [
              0.2222222222222222,
              "#7201a8"
             ],
             [
              0.3333333333333333,
              "#9c179e"
             ],
             [
              0.4444444444444444,
              "#bd3786"
             ],
             [
              0.5555555555555556,
              "#d8576b"
             ],
             [
              0.6666666666666666,
              "#ed7953"
             ],
             [
              0.7777777777777778,
              "#fb9f3a"
             ],
             [
              0.8888888888888888,
              "#fdca26"
             ],
             [
              1,
              "#f0f921"
             ]
            ],
            "type": "heatmap"
           }
          ],
          "heatmapgl": [
           {
            "colorbar": {
             "outlinewidth": 0,
             "ticks": ""
            },
            "colorscale": [
             [
              0,
              "#0d0887"
             ],
             [
              0.1111111111111111,
              "#46039f"
             ],
             [
              0.2222222222222222,
              "#7201a8"
             ],
             [
              0.3333333333333333,
              "#9c179e"
             ],
             [
              0.4444444444444444,
              "#bd3786"
             ],
             [
              0.5555555555555556,
              "#d8576b"
             ],
             [
              0.6666666666666666,
              "#ed7953"
             ],
             [
              0.7777777777777778,
              "#fb9f3a"
             ],
             [
              0.8888888888888888,
              "#fdca26"
             ],
             [
              1,
              "#f0f921"
             ]
            ],
            "type": "heatmapgl"
           }
          ],
          "histogram": [
           {
            "marker": {
             "pattern": {
              "fillmode": "overlay",
              "size": 10,
              "solidity": 0.2
             }
            },
            "type": "histogram"
           }
          ],
          "histogram2d": [
           {
            "colorbar": {
             "outlinewidth": 0,
             "ticks": ""
            },
            "colorscale": [
             [
              0,
              "#0d0887"
             ],
             [
              0.1111111111111111,
              "#46039f"
             ],
             [
              0.2222222222222222,
              "#7201a8"
             ],
             [
              0.3333333333333333,
              "#9c179e"
             ],
             [
              0.4444444444444444,
              "#bd3786"
             ],
             [
              0.5555555555555556,
              "#d8576b"
             ],
             [
              0.6666666666666666,
              "#ed7953"
             ],
             [
              0.7777777777777778,
              "#fb9f3a"
             ],
             [
              0.8888888888888888,
              "#fdca26"
             ],
             [
              1,
              "#f0f921"
             ]
            ],
            "type": "histogram2d"
           }
          ],
          "histogram2dcontour": [
           {
            "colorbar": {
             "outlinewidth": 0,
             "ticks": ""
            },
            "colorscale": [
             [
              0,
              "#0d0887"
             ],
             [
              0.1111111111111111,
              "#46039f"
             ],
             [
              0.2222222222222222,
              "#7201a8"
             ],
             [
              0.3333333333333333,
              "#9c179e"
             ],
             [
              0.4444444444444444,
              "#bd3786"
             ],
             [
              0.5555555555555556,
              "#d8576b"
             ],
             [
              0.6666666666666666,
              "#ed7953"
             ],
             [
              0.7777777777777778,
              "#fb9f3a"
             ],
             [
              0.8888888888888888,
              "#fdca26"
             ],
             [
              1,
              "#f0f921"
             ]
            ],
            "type": "histogram2dcontour"
           }
          ],
          "mesh3d": [
           {
            "colorbar": {
             "outlinewidth": 0,
             "ticks": ""
            },
            "type": "mesh3d"
           }
          ],
          "parcoords": [
           {
            "line": {
             "colorbar": {
              "outlinewidth": 0,
              "ticks": ""
             }
            },
            "type": "parcoords"
           }
          ],
          "pie": [
           {
            "automargin": true,
            "type": "pie"
           }
          ],
          "scatter": [
           {
            "fillpattern": {
             "fillmode": "overlay",
             "size": 10,
             "solidity": 0.2
            },
            "type": "scatter"
           }
          ],
          "scatter3d": [
           {
            "line": {
             "colorbar": {
              "outlinewidth": 0,
              "ticks": ""
             }
            },
            "marker": {
             "colorbar": {
              "outlinewidth": 0,
              "ticks": ""
             }
            },
            "type": "scatter3d"
           }
          ],
          "scattercarpet": [
           {
            "marker": {
             "colorbar": {
              "outlinewidth": 0,
              "ticks": ""
             }
            },
            "type": "scattercarpet"
           }
          ],
          "scattergeo": [
           {
            "marker": {
             "colorbar": {
              "outlinewidth": 0,
              "ticks": ""
             }
            },
            "type": "scattergeo"
           }
          ],
          "scattergl": [
           {
            "marker": {
             "colorbar": {
              "outlinewidth": 0,
              "ticks": ""
             }
            },
            "type": "scattergl"
           }
          ],
          "scattermapbox": [
           {
            "marker": {
             "colorbar": {
              "outlinewidth": 0,
              "ticks": ""
             }
            },
            "type": "scattermapbox"
           }
          ],
          "scatterpolar": [
           {
            "marker": {
             "colorbar": {
              "outlinewidth": 0,
              "ticks": ""
             }
            },
            "type": "scatterpolar"
           }
          ],
          "scatterpolargl": [
           {
            "marker": {
             "colorbar": {
              "outlinewidth": 0,
              "ticks": ""
             }
            },
            "type": "scatterpolargl"
           }
          ],
          "scatterternary": [
           {
            "marker": {
             "colorbar": {
              "outlinewidth": 0,
              "ticks": ""
             }
            },
            "type": "scatterternary"
           }
          ],
          "surface": [
           {
            "colorbar": {
             "outlinewidth": 0,
             "ticks": ""
            },
            "colorscale": [
             [
              0,
              "#0d0887"
             ],
             [
              0.1111111111111111,
              "#46039f"
             ],
             [
              0.2222222222222222,
              "#7201a8"
             ],
             [
              0.3333333333333333,
              "#9c179e"
             ],
             [
              0.4444444444444444,
              "#bd3786"
             ],
             [
              0.5555555555555556,
              "#d8576b"
             ],
             [
              0.6666666666666666,
              "#ed7953"
             ],
             [
              0.7777777777777778,
              "#fb9f3a"
             ],
             [
              0.8888888888888888,
              "#fdca26"
             ],
             [
              1,
              "#f0f921"
             ]
            ],
            "type": "surface"
           }
          ],
          "table": [
           {
            "cells": {
             "fill": {
              "color": "#EBF0F8"
             },
             "line": {
              "color": "white"
             }
            },
            "header": {
             "fill": {
              "color": "#C8D4E3"
             },
             "line": {
              "color": "white"
             }
            },
            "type": "table"
           }
          ]
         },
         "layout": {
          "annotationdefaults": {
           "arrowcolor": "#2a3f5f",
           "arrowhead": 0,
           "arrowwidth": 1
          },
          "autotypenumbers": "strict",
          "coloraxis": {
           "colorbar": {
            "outlinewidth": 0,
            "ticks": ""
           }
          },
          "colorscale": {
           "diverging": [
            [
             0,
             "#8e0152"
            ],
            [
             0.1,
             "#c51b7d"
            ],
            [
             0.2,
             "#de77ae"
            ],
            [
             0.3,
             "#f1b6da"
            ],
            [
             0.4,
             "#fde0ef"
            ],
            [
             0.5,
             "#f7f7f7"
            ],
            [
             0.6,
             "#e6f5d0"
            ],
            [
             0.7,
             "#b8e186"
            ],
            [
             0.8,
             "#7fbc41"
            ],
            [
             0.9,
             "#4d9221"
            ],
            [
             1,
             "#276419"
            ]
           ],
           "sequential": [
            [
             0,
             "#0d0887"
            ],
            [
             0.1111111111111111,
             "#46039f"
            ],
            [
             0.2222222222222222,
             "#7201a8"
            ],
            [
             0.3333333333333333,
             "#9c179e"
            ],
            [
             0.4444444444444444,
             "#bd3786"
            ],
            [
             0.5555555555555556,
             "#d8576b"
            ],
            [
             0.6666666666666666,
             "#ed7953"
            ],
            [
             0.7777777777777778,
             "#fb9f3a"
            ],
            [
             0.8888888888888888,
             "#fdca26"
            ],
            [
             1,
             "#f0f921"
            ]
           ],
           "sequentialminus": [
            [
             0,
             "#0d0887"
            ],
            [
             0.1111111111111111,
             "#46039f"
            ],
            [
             0.2222222222222222,
             "#7201a8"
            ],
            [
             0.3333333333333333,
             "#9c179e"
            ],
            [
             0.4444444444444444,
             "#bd3786"
            ],
            [
             0.5555555555555556,
             "#d8576b"
            ],
            [
             0.6666666666666666,
             "#ed7953"
            ],
            [
             0.7777777777777778,
             "#fb9f3a"
            ],
            [
             0.8888888888888888,
             "#fdca26"
            ],
            [
             1,
             "#f0f921"
            ]
           ]
          },
          "colorway": [
           "#636efa",
           "#EF553B",
           "#00cc96",
           "#ab63fa",
           "#FFA15A",
           "#19d3f3",
           "#FF6692",
           "#B6E880",
           "#FF97FF",
           "#FECB52"
          ],
          "font": {
           "color": "#2a3f5f"
          },
          "geo": {
           "bgcolor": "white",
           "lakecolor": "white",
           "landcolor": "#E5ECF6",
           "showlakes": true,
           "showland": true,
           "subunitcolor": "white"
          },
          "hoverlabel": {
           "align": "left"
          },
          "hovermode": "closest",
          "mapbox": {
           "style": "light"
          },
          "paper_bgcolor": "white",
          "plot_bgcolor": "#E5ECF6",
          "polar": {
           "angularaxis": {
            "gridcolor": "white",
            "linecolor": "white",
            "ticks": ""
           },
           "bgcolor": "#E5ECF6",
           "radialaxis": {
            "gridcolor": "white",
            "linecolor": "white",
            "ticks": ""
           }
          },
          "scene": {
           "xaxis": {
            "backgroundcolor": "#E5ECF6",
            "gridcolor": "white",
            "gridwidth": 2,
            "linecolor": "white",
            "showbackground": true,
            "ticks": "",
            "zerolinecolor": "white"
           },
           "yaxis": {
            "backgroundcolor": "#E5ECF6",
            "gridcolor": "white",
            "gridwidth": 2,
            "linecolor": "white",
            "showbackground": true,
            "ticks": "",
            "zerolinecolor": "white"
           },
           "zaxis": {
            "backgroundcolor": "#E5ECF6",
            "gridcolor": "white",
            "gridwidth": 2,
            "linecolor": "white",
            "showbackground": true,
            "ticks": "",
            "zerolinecolor": "white"
           }
          },
          "shapedefaults": {
           "line": {
            "color": "#2a3f5f"
           }
          },
          "ternary": {
           "aaxis": {
            "gridcolor": "white",
            "linecolor": "white",
            "ticks": ""
           },
           "baxis": {
            "gridcolor": "white",
            "linecolor": "white",
            "ticks": ""
           },
           "bgcolor": "#E5ECF6",
           "caxis": {
            "gridcolor": "white",
            "linecolor": "white",
            "ticks": ""
           }
          },
          "title": {
           "x": 0.05
          },
          "xaxis": {
           "automargin": true,
           "gridcolor": "white",
           "linecolor": "white",
           "ticks": "",
           "title": {
            "standoff": 15
           },
           "zerolinecolor": "white",
           "zerolinewidth": 2
          },
          "yaxis": {
           "automargin": true,
           "gridcolor": "white",
           "linecolor": "white",
           "ticks": "",
           "title": {
            "standoff": 15
           },
           "zerolinecolor": "white",
           "zerolinewidth": 2
          }
         }
        },
        "xaxis": {
         "anchor": "y",
         "constrain": "domain",
         "domain": [
          0,
          1
         ],
         "scaleanchor": "y"
        },
        "yaxis": {
         "anchor": "x",
         "autorange": "reversed",
         "constrain": "domain",
         "domain": [
          0,
          1
         ]
        }
       }
      }
     },
     "metadata": {},
     "output_type": "display_data"
    }
   ],
   "source": [
    "px.imshow(test_proceed.corr())"
   ]
  },
  {
   "cell_type": "markdown",
   "metadata": {},
   "source": [
    "This dataframe will be save for ML training"
   ]
  },
  {
   "cell_type": "code",
   "execution_count": 125,
   "metadata": {},
   "outputs": [],
   "source": [
    "test_proceed.to_csv('species_ML_2.csv', index=False)"
   ]
  },
  {
   "cell_type": "markdown",
   "metadata": {},
   "source": [
    "The borruta analysis by R confirmed the features selected are good to predict the diversity index."
   ]
  }
 ],
 "metadata": {
  "kernelspec": {
   "display_name": "ML_Class_Project",
   "language": "python",
   "name": "python3"
  },
  "language_info": {
   "codemirror_mode": {
    "name": "ipython",
    "version": 3
   },
   "file_extension": ".py",
   "mimetype": "text/x-python",
   "name": "python",
   "nbconvert_exporter": "python",
   "pygments_lexer": "ipython3",
   "version": "3.9.19"
  }
 },
 "nbformat": 4,
 "nbformat_minor": 2
}
