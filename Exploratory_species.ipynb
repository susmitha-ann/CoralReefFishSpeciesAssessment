{
 "cells": [
  {
   "cell_type": "markdown",
   "metadata": {},
   "source": [
    "This jupyternotbook aim to do an EDA on the species csv file from the article Korchan et al, 2023."
   ]
  },
  {
   "cell_type": "code",
   "execution_count": 1,
   "metadata": {},
   "outputs": [],
   "source": [
    "#Library needed\n",
    "\n",
    "import numpy as np\n",
    "import pandas as pd\n",
    "import matplotlib.pyplot as plt\n",
    "import seaborn as sns\n",
    "import plotly.express as px\n",
    "import plotly.graph_objects as go\n",
    "from plotly.offline import download_plotlyjs, init_notebook_mode, plot, iplot\n",
    "\n",
    "#this line will allow to set an option in pandas for it display all the columns of the dataset \n",
    "# what ever the number\n",
    "pd.set_option('display.max_columns', None)"
   ]
  },
  {
   "cell_type": "markdown",
   "metadata": {},
   "source": [
    "In the raw data file species the index column is change for index to allow duplicate them when the data are load here. Because of the change the separator changed from , to ; . "
   ]
  },
  {
   "cell_type": "code",
   "execution_count": 23,
   "metadata": {},
   "outputs": [],
   "source": [
    "#upload csv file\n",
    "\n",
    "species = pd.read_csv(\"C:/Users/marie/Documents/DSTI_Cours/Python_Class/Python_Lab/Exam_project/Project 2/Resources/doi_10_5061_dryad_xpnvx0kmn__v20230901/species.csv\", sep=';', index_col='Index')"
   ]
  },
  {
   "cell_type": "code",
   "execution_count": 24,
   "metadata": {},
   "outputs": [
    {
     "data": {
      "text/html": [
       "<div>\n",
       "<style scoped>\n",
       "    .dataframe tbody tr th:only-of-type {\n",
       "        vertical-align: middle;\n",
       "    }\n",
       "\n",
       "    .dataframe tbody tr th {\n",
       "        vertical-align: top;\n",
       "    }\n",
       "\n",
       "    .dataframe thead th {\n",
       "        text-align: right;\n",
       "    }\n",
       "</style>\n",
       "<table border=\"1\" class=\"dataframe\">\n",
       "  <thead>\n",
       "    <tr style=\"text-align: right;\">\n",
       "      <th></th>\n",
       "      <th>site</th>\n",
       "      <th>model</th>\n",
       "      <th>Year</th>\n",
       "      <th>Month</th>\n",
       "      <th>Latitude</th>\n",
       "      <th>Longitude</th>\n",
       "      <th>Depth</th>\n",
       "      <th>Region</th>\n",
       "      <th>Coral_cover</th>\n",
       "      <th>Reef_complexity</th>\n",
       "      <th>SST</th>\n",
       "      <th>NPP</th>\n",
       "      <th>Wave_exposure</th>\n",
       "      <th>Habitat_type_classLV0</th>\n",
       "      <th>Habitat_type_classLV2</th>\n",
       "      <th>Coral_area_UFRTM_20km</th>\n",
       "      <th>Coral_area_UFRTM_200km</th>\n",
       "      <th>Depth_Sbrocco</th>\n",
       "      <th>Deepwater</th>\n",
       "      <th>FSA</th>\n",
       "      <th>Marina_slips_10km</th>\n",
       "      <th>Marina_slips_25km</th>\n",
       "      <th>Marine_reserve</th>\n",
       "      <th>Population_20km</th>\n",
       "      <th>Population_50km</th>\n",
       "      <th>Recreational_fishermen_50km</th>\n",
       "      <th>Tourist_fishing</th>\n",
       "      <th>Artificial_reefs_1km</th>\n",
       "      <th>SG_permits_50km</th>\n",
       "      <th>SG_charter_permits_25km</th>\n",
       "      <th>Total_gravity_intercept</th>\n",
       "      <th>Total_gravity</th>\n",
       "      <th>Keys_Divisions</th>\n",
       "      <th>FKNMS</th>\n",
       "      <th>DryTortugas</th>\n",
       "      <th>BNP</th>\n",
       "      <th>CoralECA</th>\n",
       "      <th>Nursery_seagrass</th>\n",
       "      <th>Nursery_mangroves</th>\n",
       "      <th>connectivity</th>\n",
       "      <th>Comm_engagement</th>\n",
       "      <th>Comm_reliance</th>\n",
       "      <th>Rec_engagement</th>\n",
       "      <th>Rec_reliance</th>\n",
       "      <th>Commercial_pounds_landed</th>\n",
       "      <th>Pop_per_area_reef_20km</th>\n",
       "      <th>Random</th>\n",
       "      <th>impact</th>\n",
       "      <th>YEAR</th>\n",
       "      <th>HABITAT_CD</th>\n",
       "      <th>REGION</th>\n",
       "      <th>PCT_CORAL</th>\n",
       "      <th>MAX_HARD_RELIEF</th>\n",
       "      <th>no.divers</th>\n",
       "      <th>Diversity_index</th>\n",
       "    </tr>\n",
       "    <tr>\n",
       "      <th>Index</th>\n",
       "      <th></th>\n",
       "      <th></th>\n",
       "      <th></th>\n",
       "      <th></th>\n",
       "      <th></th>\n",
       "      <th></th>\n",
       "      <th></th>\n",
       "      <th></th>\n",
       "      <th></th>\n",
       "      <th></th>\n",
       "      <th></th>\n",
       "      <th></th>\n",
       "      <th></th>\n",
       "      <th></th>\n",
       "      <th></th>\n",
       "      <th></th>\n",
       "      <th></th>\n",
       "      <th></th>\n",
       "      <th></th>\n",
       "      <th></th>\n",
       "      <th></th>\n",
       "      <th></th>\n",
       "      <th></th>\n",
       "      <th></th>\n",
       "      <th></th>\n",
       "      <th></th>\n",
       "      <th></th>\n",
       "      <th></th>\n",
       "      <th></th>\n",
       "      <th></th>\n",
       "      <th></th>\n",
       "      <th></th>\n",
       "      <th></th>\n",
       "      <th></th>\n",
       "      <th></th>\n",
       "      <th></th>\n",
       "      <th></th>\n",
       "      <th></th>\n",
       "      <th></th>\n",
       "      <th></th>\n",
       "      <th></th>\n",
       "      <th></th>\n",
       "      <th></th>\n",
       "      <th></th>\n",
       "      <th></th>\n",
       "      <th></th>\n",
       "      <th></th>\n",
       "      <th></th>\n",
       "      <th></th>\n",
       "      <th></th>\n",
       "      <th></th>\n",
       "      <th></th>\n",
       "      <th></th>\n",
       "      <th></th>\n",
       "      <th></th>\n",
       "    </tr>\n",
       "  </thead>\n",
       "  <tbody>\n",
       "    <tr>\n",
       "      <th>0</th>\n",
       "      <td>4733520_128U</td>\n",
       "      <td>biomass</td>\n",
       "      <td>2005</td>\n",
       "      <td>August</td>\n",
       "      <td>24.446433</td>\n",
       "      <td>-81.962900</td>\n",
       "      <td>9.800000</td>\n",
       "      <td>FLA KEYS</td>\n",
       "      <td>2.000000</td>\n",
       "      <td>0.550322</td>\n",
       "      <td>23.595392</td>\n",
       "      <td>550.865051</td>\n",
       "      <td>6.992729</td>\n",
       "      <td>Coral Reef and Hardbottom</td>\n",
       "      <td>Aggregate Reef</td>\n",
       "      <td>88333</td>\n",
       "      <td>1040643</td>\n",
       "      <td>-10.0</td>\n",
       "      <td>1182.842773</td>\n",
       "      <td>3621.320313</td>\n",
       "      <td>0</td>\n",
       "      <td>391</td>\n",
       "      <td>Open</td>\n",
       "      <td>4163</td>\n",
       "      <td>41070</td>\n",
       "      <td>7446</td>\n",
       "      <td>1.649034</td>\n",
       "      <td>0</td>\n",
       "      <td>54</td>\n",
       "      <td>0</td>\n",
       "      <td>69.0</td>\n",
       "      <td>69.0</td>\n",
       "      <td>Marquesas</td>\n",
       "      <td>FKNMS</td>\n",
       "      <td>NaN</td>\n",
       "      <td>NaN</td>\n",
       "      <td>NaN</td>\n",
       "      <td>6483631.0</td>\n",
       "      <td>199409.31250</td>\n",
       "      <td>4.618931</td>\n",
       "      <td>-0.158</td>\n",
       "      <td>-0.129</td>\n",
       "      <td>-0.26</td>\n",
       "      <td>-0.185</td>\n",
       "      <td>1511066.2</td>\n",
       "      <td>0.047128</td>\n",
       "      <td>3786</td>\n",
       "      <td>0.205</td>\n",
       "      <td>2005</td>\n",
       "      <td>ISOL_LR</td>\n",
       "      <td>FLA KEYS</td>\n",
       "      <td>2.000000</td>\n",
       "      <td>0.550322</td>\n",
       "      <td>4</td>\n",
       "      <td>0.877755</td>\n",
       "    </tr>\n",
       "    <tr>\n",
       "      <th>1</th>\n",
       "      <td>4966028_487U</td>\n",
       "      <td>impact</td>\n",
       "      <td>2005</td>\n",
       "      <td>June</td>\n",
       "      <td>24.461130</td>\n",
       "      <td>-81.840099</td>\n",
       "      <td>8.821212</td>\n",
       "      <td>FLA KEYS</td>\n",
       "      <td>6.181818</td>\n",
       "      <td>1.886364</td>\n",
       "      <td>23.578271</td>\n",
       "      <td>577.431946</td>\n",
       "      <td>6.950751</td>\n",
       "      <td>Coral Reef and Hardbottom</td>\n",
       "      <td>Spur and Groove</td>\n",
       "      <td>91742</td>\n",
       "      <td>1057990</td>\n",
       "      <td>-6.0</td>\n",
       "      <td>1048.528198</td>\n",
       "      <td>7731.371094</td>\n",
       "      <td>0</td>\n",
       "      <td>733</td>\n",
       "      <td>Open</td>\n",
       "      <td>37045</td>\n",
       "      <td>43641</td>\n",
       "      <td>8378</td>\n",
       "      <td>1.675894</td>\n",
       "      <td>0</td>\n",
       "      <td>70</td>\n",
       "      <td>126</td>\n",
       "      <td>74.0</td>\n",
       "      <td>74.0</td>\n",
       "      <td>Marquesas</td>\n",
       "      <td>FKNMS</td>\n",
       "      <td>NaN</td>\n",
       "      <td>NaN</td>\n",
       "      <td>NaN</td>\n",
       "      <td>11501368.0</td>\n",
       "      <td>21234.26563</td>\n",
       "      <td>9.984375</td>\n",
       "      <td>-0.158</td>\n",
       "      <td>-0.129</td>\n",
       "      <td>-0.26</td>\n",
       "      <td>-0.185</td>\n",
       "      <td>855670.2</td>\n",
       "      <td>0.403795</td>\n",
       "      <td>503</td>\n",
       "      <td>0.382</td>\n",
       "      <td>2005</td>\n",
       "      <td>SPGR_HR</td>\n",
       "      <td>FLA KEYS</td>\n",
       "      <td>6.181818</td>\n",
       "      <td>1.886364</td>\n",
       "      <td>4</td>\n",
       "      <td>0.912085</td>\n",
       "    </tr>\n",
       "    <tr>\n",
       "      <th>2</th>\n",
       "      <td>4981032_102U</td>\n",
       "      <td>biomass</td>\n",
       "      <td>2005</td>\n",
       "      <td>July</td>\n",
       "      <td>24.467250</td>\n",
       "      <td>-81.832367</td>\n",
       "      <td>17.399239</td>\n",
       "      <td>FLA KEYS</td>\n",
       "      <td>7.506345</td>\n",
       "      <td>0.749873</td>\n",
       "      <td>23.551355</td>\n",
       "      <td>595.320252</td>\n",
       "      <td>6.950181</td>\n",
       "      <td>Coral Reef and Hardbottom</td>\n",
       "      <td>Pavement</td>\n",
       "      <td>94607</td>\n",
       "      <td>1058988</td>\n",
       "      <td>-7.0</td>\n",
       "      <td>1441.421387</td>\n",
       "      <td>6641.421387</td>\n",
       "      <td>0</td>\n",
       "      <td>733</td>\n",
       "      <td>Open</td>\n",
       "      <td>37170</td>\n",
       "      <td>44078</td>\n",
       "      <td>8548</td>\n",
       "      <td>1.676708</td>\n",
       "      <td>0</td>\n",
       "      <td>70</td>\n",
       "      <td>126</td>\n",
       "      <td>126.0</td>\n",
       "      <td>126.0</td>\n",
       "      <td>Marquesas</td>\n",
       "      <td>FKNMS</td>\n",
       "      <td>NaN</td>\n",
       "      <td>NaN</td>\n",
       "      <td>NaN</td>\n",
       "      <td>12102752.0</td>\n",
       "      <td>13956.82617</td>\n",
       "      <td>9.984375</td>\n",
       "      <td>-0.158</td>\n",
       "      <td>-0.129</td>\n",
       "      <td>-0.26</td>\n",
       "      <td>-0.185</td>\n",
       "      <td>855670.2</td>\n",
       "      <td>0.392888</td>\n",
       "      <td>3430</td>\n",
       "      <td>NaN</td>\n",
       "      <td>2005</td>\n",
       "      <td>CONT_LR</td>\n",
       "      <td>FLA KEYS</td>\n",
       "      <td>7.506345</td>\n",
       "      <td>0.749873</td>\n",
       "      <td>4</td>\n",
       "      <td>0.882112</td>\n",
       "    </tr>\n",
       "    <tr>\n",
       "      <th>3</th>\n",
       "      <td>4999782_141U</td>\n",
       "      <td>impact</td>\n",
       "      <td>2005</td>\n",
       "      <td>August</td>\n",
       "      <td>24.468767</td>\n",
       "      <td>-81.822167</td>\n",
       "      <td>9.200000</td>\n",
       "      <td>FLA KEYS</td>\n",
       "      <td>10.000000</td>\n",
       "      <td>0.400000</td>\n",
       "      <td>23.556451</td>\n",
       "      <td>590.443543</td>\n",
       "      <td>6.959807</td>\n",
       "      <td>Coral Reef and Hardbottom</td>\n",
       "      <td>Pavement</td>\n",
       "      <td>96139</td>\n",
       "      <td>1060134</td>\n",
       "      <td>-7.0</td>\n",
       "      <td>1341.421387</td>\n",
       "      <td>5641.421387</td>\n",
       "      <td>0</td>\n",
       "      <td>733</td>\n",
       "      <td>Open</td>\n",
       "      <td>37198</td>\n",
       "      <td>44369</td>\n",
       "      <td>8603</td>\n",
       "      <td>1.696853</td>\n",
       "      <td>0</td>\n",
       "      <td>70</td>\n",
       "      <td>126</td>\n",
       "      <td>126.0</td>\n",
       "      <td>126.0</td>\n",
       "      <td>Marquesas</td>\n",
       "      <td>FKNMS</td>\n",
       "      <td>NaN</td>\n",
       "      <td>NaN</td>\n",
       "      <td>NaN</td>\n",
       "      <td>11003196.0</td>\n",
       "      <td>14876.60742</td>\n",
       "      <td>9.984375</td>\n",
       "      <td>-0.158</td>\n",
       "      <td>-0.129</td>\n",
       "      <td>-0.26</td>\n",
       "      <td>-0.185</td>\n",
       "      <td>855670.2</td>\n",
       "      <td>0.386919</td>\n",
       "      <td>3696</td>\n",
       "      <td>NaN</td>\n",
       "      <td>2005</td>\n",
       "      <td>ISOL_LR</td>\n",
       "      <td>FLA KEYS</td>\n",
       "      <td>10.000000</td>\n",
       "      <td>0.400000</td>\n",
       "      <td>4</td>\n",
       "      <td>0.806049</td>\n",
       "    </tr>\n",
       "    <tr>\n",
       "      <th>4</th>\n",
       "      <td>5026033_475U</td>\n",
       "      <td>impact</td>\n",
       "      <td>2005</td>\n",
       "      <td>June</td>\n",
       "      <td>24.470206</td>\n",
       "      <td>-81.808148</td>\n",
       "      <td>8.558032</td>\n",
       "      <td>FLA KEYS</td>\n",
       "      <td>2.870486</td>\n",
       "      <td>0.289415</td>\n",
       "      <td>23.567590</td>\n",
       "      <td>579.874023</td>\n",
       "      <td>6.914992</td>\n",
       "      <td>Coral Reef and Hardbottom</td>\n",
       "      <td>Pavement</td>\n",
       "      <td>98167</td>\n",
       "      <td>1061388</td>\n",
       "      <td>-14.0</td>\n",
       "      <td>900.000000</td>\n",
       "      <td>4324.264160</td>\n",
       "      <td>16</td>\n",
       "      <td>733</td>\n",
       "      <td>Open</td>\n",
       "      <td>37685</td>\n",
       "      <td>45235</td>\n",
       "      <td>8752</td>\n",
       "      <td>1.697870</td>\n",
       "      <td>0</td>\n",
       "      <td>70</td>\n",
       "      <td>126</td>\n",
       "      <td>126.0</td>\n",
       "      <td>126.0</td>\n",
       "      <td>Lower Keys</td>\n",
       "      <td>FKNMS</td>\n",
       "      <td>NaN</td>\n",
       "      <td>NaN</td>\n",
       "      <td>NaN</td>\n",
       "      <td>9313051.0</td>\n",
       "      <td>14697.00195</td>\n",
       "      <td>9.984375</td>\n",
       "      <td>-0.158</td>\n",
       "      <td>-0.129</td>\n",
       "      <td>-0.26</td>\n",
       "      <td>-0.185</td>\n",
       "      <td>855670.2</td>\n",
       "      <td>0.383887</td>\n",
       "      <td>4090</td>\n",
       "      <td>NaN</td>\n",
       "      <td>2005</td>\n",
       "      <td>ISOL_LR</td>\n",
       "      <td>FLA KEYS</td>\n",
       "      <td>2.870486</td>\n",
       "      <td>0.289415</td>\n",
       "      <td>4</td>\n",
       "      <td>0.829156</td>\n",
       "    </tr>\n",
       "  </tbody>\n",
       "</table>\n",
       "</div>"
      ],
      "text/plain": [
       "               site    model  Year   Month   Latitude  Longitude      Depth  \\\n",
       "Index                                                                         \n",
       "0      4733520_128U  biomass  2005  August  24.446433 -81.962900   9.800000   \n",
       "1      4966028_487U   impact  2005    June  24.461130 -81.840099   8.821212   \n",
       "2      4981032_102U  biomass  2005    July  24.467250 -81.832367  17.399239   \n",
       "3      4999782_141U   impact  2005  August  24.468767 -81.822167   9.200000   \n",
       "4      5026033_475U   impact  2005    June  24.470206 -81.808148   8.558032   \n",
       "\n",
       "         Region  Coral_cover  Reef_complexity        SST         NPP  \\\n",
       "Index                                                                  \n",
       "0      FLA KEYS     2.000000         0.550322  23.595392  550.865051   \n",
       "1      FLA KEYS     6.181818         1.886364  23.578271  577.431946   \n",
       "2      FLA KEYS     7.506345         0.749873  23.551355  595.320252   \n",
       "3      FLA KEYS    10.000000         0.400000  23.556451  590.443543   \n",
       "4      FLA KEYS     2.870486         0.289415  23.567590  579.874023   \n",
       "\n",
       "       Wave_exposure      Habitat_type_classLV0 Habitat_type_classLV2  \\\n",
       "Index                                                                   \n",
       "0           6.992729  Coral Reef and Hardbottom        Aggregate Reef   \n",
       "1           6.950751  Coral Reef and Hardbottom       Spur and Groove   \n",
       "2           6.950181  Coral Reef and Hardbottom              Pavement   \n",
       "3           6.959807  Coral Reef and Hardbottom              Pavement   \n",
       "4           6.914992  Coral Reef and Hardbottom              Pavement   \n",
       "\n",
       "       Coral_area_UFRTM_20km  Coral_area_UFRTM_200km  Depth_Sbrocco  \\\n",
       "Index                                                                 \n",
       "0                      88333                 1040643          -10.0   \n",
       "1                      91742                 1057990           -6.0   \n",
       "2                      94607                 1058988           -7.0   \n",
       "3                      96139                 1060134           -7.0   \n",
       "4                      98167                 1061388          -14.0   \n",
       "\n",
       "         Deepwater          FSA  Marina_slips_10km  Marina_slips_25km  \\\n",
       "Index                                                                   \n",
       "0      1182.842773  3621.320313                  0                391   \n",
       "1      1048.528198  7731.371094                  0                733   \n",
       "2      1441.421387  6641.421387                  0                733   \n",
       "3      1341.421387  5641.421387                  0                733   \n",
       "4       900.000000  4324.264160                 16                733   \n",
       "\n",
       "      Marine_reserve  Population_20km  Population_50km  \\\n",
       "Index                                                    \n",
       "0               Open             4163            41070   \n",
       "1               Open            37045            43641   \n",
       "2               Open            37170            44078   \n",
       "3               Open            37198            44369   \n",
       "4               Open            37685            45235   \n",
       "\n",
       "       Recreational_fishermen_50km  Tourist_fishing  Artificial_reefs_1km  \\\n",
       "Index                                                                       \n",
       "0                             7446         1.649034                     0   \n",
       "1                             8378         1.675894                     0   \n",
       "2                             8548         1.676708                     0   \n",
       "3                             8603         1.696853                     0   \n",
       "4                             8752         1.697870                     0   \n",
       "\n",
       "       SG_permits_50km  SG_charter_permits_25km  Total_gravity_intercept  \\\n",
       "Index                                                                      \n",
       "0                   54                        0                     69.0   \n",
       "1                   70                      126                     74.0   \n",
       "2                   70                      126                    126.0   \n",
       "3                   70                      126                    126.0   \n",
       "4                   70                      126                    126.0   \n",
       "\n",
       "       Total_gravity Keys_Divisions  FKNMS DryTortugas  BNP CoralECA  \\\n",
       "Index                                                                  \n",
       "0               69.0      Marquesas  FKNMS         NaN  NaN      NaN   \n",
       "1               74.0      Marquesas  FKNMS         NaN  NaN      NaN   \n",
       "2              126.0      Marquesas  FKNMS         NaN  NaN      NaN   \n",
       "3              126.0      Marquesas  FKNMS         NaN  NaN      NaN   \n",
       "4              126.0     Lower Keys  FKNMS         NaN  NaN      NaN   \n",
       "\n",
       "       Nursery_seagrass  Nursery_mangroves  connectivity  Comm_engagement  \\\n",
       "Index                                                                       \n",
       "0             6483631.0       199409.31250      4.618931           -0.158   \n",
       "1            11501368.0        21234.26563      9.984375           -0.158   \n",
       "2            12102752.0        13956.82617      9.984375           -0.158   \n",
       "3            11003196.0        14876.60742      9.984375           -0.158   \n",
       "4             9313051.0        14697.00195      9.984375           -0.158   \n",
       "\n",
       "       Comm_reliance  Rec_engagement  Rec_reliance  Commercial_pounds_landed  \\\n",
       "Index                                                                          \n",
       "0             -0.129           -0.26        -0.185                 1511066.2   \n",
       "1             -0.129           -0.26        -0.185                  855670.2   \n",
       "2             -0.129           -0.26        -0.185                  855670.2   \n",
       "3             -0.129           -0.26        -0.185                  855670.2   \n",
       "4             -0.129           -0.26        -0.185                  855670.2   \n",
       "\n",
       "       Pop_per_area_reef_20km  Random  impact  YEAR HABITAT_CD    REGION  \\\n",
       "Index                                                                      \n",
       "0                    0.047128    3786   0.205  2005    ISOL_LR  FLA KEYS   \n",
       "1                    0.403795     503   0.382  2005    SPGR_HR  FLA KEYS   \n",
       "2                    0.392888    3430     NaN  2005    CONT_LR  FLA KEYS   \n",
       "3                    0.386919    3696     NaN  2005    ISOL_LR  FLA KEYS   \n",
       "4                    0.383887    4090     NaN  2005    ISOL_LR  FLA KEYS   \n",
       "\n",
       "       PCT_CORAL  MAX_HARD_RELIEF  no.divers  Diversity_index  \n",
       "Index                                                          \n",
       "0       2.000000         0.550322          4         0.877755  \n",
       "1       6.181818         1.886364          4         0.912085  \n",
       "2       7.506345         0.749873          4         0.882112  \n",
       "3      10.000000         0.400000          4         0.806049  \n",
       "4       2.870486         0.289415          4         0.829156  "
      ]
     },
     "execution_count": 24,
     "metadata": {},
     "output_type": "execute_result"
    }
   ],
   "source": [
    "species.head()"
   ]
  },
  {
   "cell_type": "code",
   "execution_count": 25,
   "metadata": {},
   "outputs": [
    {
     "data": {
      "text/plain": [
       "site                              0\n",
       "model                             0\n",
       "Year                              0\n",
       "Month                             0\n",
       "Latitude                          0\n",
       "Longitude                         0\n",
       "Depth                             0\n",
       "Region                            0\n",
       "Coral_cover                     707\n",
       "Reef_complexity                 707\n",
       "SST                               0\n",
       "NPP                               0\n",
       "Wave_exposure                     0\n",
       "Habitat_type_classLV0             0\n",
       "Habitat_type_classLV2             0\n",
       "Coral_area_UFRTM_20km             0\n",
       "Coral_area_UFRTM_200km            0\n",
       "Depth_Sbrocco                     0\n",
       "Deepwater                         0\n",
       "FSA                               0\n",
       "Marina_slips_10km                 0\n",
       "Marina_slips_25km                 0\n",
       "Marine_reserve                    0\n",
       "Population_20km                   0\n",
       "Population_50km                   0\n",
       "Recreational_fishermen_50km       0\n",
       "Tourist_fishing                   0\n",
       "Artificial_reefs_1km              0\n",
       "SG_permits_50km                   0\n",
       "SG_charter_permits_25km           0\n",
       "Total_gravity_intercept         103\n",
       "Total_gravity                   103\n",
       "Keys_Divisions                 1429\n",
       "FKNMS                          2341\n",
       "DryTortugas                    3372\n",
       "BNP                            3740\n",
       "CoralECA                       2635\n",
       "Nursery_seagrass                  0\n",
       "Nursery_mangroves                 0\n",
       "connectivity                    623\n",
       "Comm_engagement                  89\n",
       "Comm_reliance                    89\n",
       "Rec_engagement                   89\n",
       "Rec_reliance                     89\n",
       "Commercial_pounds_landed          1\n",
       "Pop_per_area_reef_20km            0\n",
       "Random                            0\n",
       "impact                         1220\n",
       "YEAR                              0\n",
       "HABITAT_CD                        0\n",
       "REGION                            0\n",
       "PCT_CORAL                       707\n",
       "MAX_HARD_RELIEF                 707\n",
       "no.divers                         0\n",
       "Diversity_index                   0\n",
       "dtype: int64"
      ]
     },
     "execution_count": 25,
     "metadata": {},
     "output_type": "execute_result"
    }
   ],
   "source": [
    "#identification of the missing values\n",
    "species.isna().sum()"
   ]
  },
  {
   "cell_type": "markdown",
   "metadata": {},
   "source": [
    "Table summarize the cols containing missing values:\n",
    "\n",
    "| Features | Number of missing value | Description of the features with missing values |\n",
    "|:---------:|:-------------------------:|:-----------------------------:|\n",
    "|Coral_cover|             707| percentage of benthos made up of living hard coral visually estimated by RVC surveyors|\n",
    "|Reef_complexity  |               707| maximum hard relief measured by averaging the height of the highest rigid point above the lowest point in 8 segments of the cylinder for RVC surveys |\n",
    "|Total_gravity_intercept  |       103| number of people in population centers within 500km divided by the square of travel time *note from authors : same as Total\\_gravity and this column was not used* |\n",
    "|Total_gravity          |         103| number of people in population centers within 500km divided by the square of travel time |\n",
    "|Keys_Divisions         |        1429| sub-jurisdictions of Florida Keys including Upper, Middle, Lower Keys and Marquesas; NAs for non Florida Keys sites |\n",
    "|FKNMS                 |         2341| Florida Keys National Marine Sanctuary sites; *NAs for non Florida Keys sites* |\n",
    "|DryTortugas           |         3372|Dry Tortugas sites; *NAs for non-Dry Tortugas sites* |\n",
    "|BNP                   |         3740| Biscayne National Park sites; *NAs for non-BNP sites*|\n",
    "|CoralECA               |        2635| Coral Ecological Conservation Area sites; *NAs for non-ECA sites (also known as SEFCRI)*|\n",
    "|connectivity            |        623| number of larva from upstream modeled to a connectivity matrix; *model does not extend to further north reefs and those sites were assigned NAs*|\n",
    "|Comm_engagement      |            89| metrics of commercial engagement based on landings and permits provided by NOAA|\n",
    "|Comm_reliance         |           89|metrics of commercial engagement based on landings and permits relative to size of fishing community provided by NOAA|\n",
    "|Rec_engagement         |          89|metrics of recreational engagement based on landings and permits provided by NOAA|\n",
    "|Rec_reliance            |         89|metrics of recreational engagement based on landings and permits relative to size of fishing community provided by NOAA|\n",
    "|Commercial_pounds_landed |         1| annual number of pounds of fish reported by commercial anglers|\n",
    "|impact                 |        1220|fishing impact variable derived in previous project; *note from the authors: not used in final model*|\n",
    "|PCT_CORAL               |        707| percent coral cover|\n",
    "|MAX_HARD_RELIEF          |       707|maximum hard relief meaning the Reef complexity |\n",
    "\n",
    "\n",
    "To summarize:\n",
    "\n",
    "- For the site's feature (such as BNP, DryTortugas) we have a lot of NaN value but they are explain by the author to be NAs because not thy are sites not in the register. Maybe this NA value will need to be change for something like 'non-site' as is describe in the table above because their aren't \"real\" missing values. It's the same things for feature where the author note NA. \n",
    "- the feature Total_gravity  and Total_gravity_intercept are redondant and the authors only kept Total_gravity for their model. Maybe we can drop the Total_gravity_intercept feature too.\n",
    "- the features PCT_CORAL and MAX_HARD_RELIEF as coral cover and reef complexity have no explaination for their missing values. In the literature its 2 parameters know to influence the fish type in an environment because they can gives for example hiden space for prey to predator. In addition this 4 features are in relation between them maybe it can be useful to only keep one in each paired feature. \n",
    "- the impact feature doesn't take in account by the author in their model and shows a high number of missing values. Maybe we can drop it too. \n",
    "- the connectivity feature is describe to be related to nursery feature by the authors in the readme. In these feature we don't see any missing value but in connectivity we see 623 missing value. The relation between these 3 features will be studied. "
   ]
  },
  {
   "cell_type": "code",
   "execution_count": 39,
   "metadata": {},
   "outputs": [
    {
     "data": {
      "text/html": [
       "<div>\n",
       "<style scoped>\n",
       "    .dataframe tbody tr th:only-of-type {\n",
       "        vertical-align: middle;\n",
       "    }\n",
       "\n",
       "    .dataframe tbody tr th {\n",
       "        vertical-align: top;\n",
       "    }\n",
       "\n",
       "    .dataframe thead th {\n",
       "        text-align: right;\n",
       "    }\n",
       "</style>\n",
       "<table border=\"1\" class=\"dataframe\">\n",
       "  <thead>\n",
       "    <tr style=\"text-align: right;\">\n",
       "      <th></th>\n",
       "      <th>Keys_Divisions</th>\n",
       "      <th>BNP</th>\n",
       "      <th>DryTortugas</th>\n",
       "    </tr>\n",
       "    <tr>\n",
       "      <th>Index</th>\n",
       "      <th></th>\n",
       "      <th></th>\n",
       "      <th></th>\n",
       "    </tr>\n",
       "  </thead>\n",
       "  <tbody>\n",
       "    <tr>\n",
       "      <th>0</th>\n",
       "      <td>Marquesas</td>\n",
       "      <td>NaN</td>\n",
       "      <td>NaN</td>\n",
       "    </tr>\n",
       "    <tr>\n",
       "      <th>1</th>\n",
       "      <td>Marquesas</td>\n",
       "      <td>NaN</td>\n",
       "      <td>NaN</td>\n",
       "    </tr>\n",
       "    <tr>\n",
       "      <th>2</th>\n",
       "      <td>Marquesas</td>\n",
       "      <td>NaN</td>\n",
       "      <td>NaN</td>\n",
       "    </tr>\n",
       "    <tr>\n",
       "      <th>3</th>\n",
       "      <td>Marquesas</td>\n",
       "      <td>NaN</td>\n",
       "      <td>NaN</td>\n",
       "    </tr>\n",
       "    <tr>\n",
       "      <th>4</th>\n",
       "      <td>Lower Keys</td>\n",
       "      <td>NaN</td>\n",
       "      <td>NaN</td>\n",
       "    </tr>\n",
       "    <tr>\n",
       "      <th>...</th>\n",
       "      <td>...</td>\n",
       "      <td>...</td>\n",
       "      <td>...</td>\n",
       "    </tr>\n",
       "    <tr>\n",
       "      <th>3994</th>\n",
       "      <td>NaN</td>\n",
       "      <td>NaN</td>\n",
       "      <td>NaN</td>\n",
       "    </tr>\n",
       "    <tr>\n",
       "      <th>3995</th>\n",
       "      <td>Lower Keys</td>\n",
       "      <td>NaN</td>\n",
       "      <td>NaN</td>\n",
       "    </tr>\n",
       "    <tr>\n",
       "      <th>3996</th>\n",
       "      <td>Upper Keys</td>\n",
       "      <td>Biscayne National Park</td>\n",
       "      <td>NaN</td>\n",
       "    </tr>\n",
       "    <tr>\n",
       "      <th>3997</th>\n",
       "      <td>NaN</td>\n",
       "      <td>NaN</td>\n",
       "      <td>NaN</td>\n",
       "    </tr>\n",
       "    <tr>\n",
       "      <th>3998</th>\n",
       "      <td>NaN</td>\n",
       "      <td>NaN</td>\n",
       "      <td>NaN</td>\n",
       "    </tr>\n",
       "  </tbody>\n",
       "</table>\n",
       "<p>3999 rows × 3 columns</p>\n",
       "</div>"
      ],
      "text/plain": [
       "      Keys_Divisions                     BNP DryTortugas\n",
       "Index                                                   \n",
       "0          Marquesas                     NaN         NaN\n",
       "1          Marquesas                     NaN         NaN\n",
       "2          Marquesas                     NaN         NaN\n",
       "3          Marquesas                     NaN         NaN\n",
       "4         Lower Keys                     NaN         NaN\n",
       "...              ...                     ...         ...\n",
       "3994             NaN                     NaN         NaN\n",
       "3995      Lower Keys                     NaN         NaN\n",
       "3996      Upper Keys  Biscayne National Park         NaN\n",
       "3997             NaN                     NaN         NaN\n",
       "3998             NaN                     NaN         NaN\n",
       "\n",
       "[3999 rows x 3 columns]"
      ]
     },
     "execution_count": 39,
     "metadata": {},
     "output_type": "execute_result"
    }
   ],
   "source": [
    "#how look the site related features\n",
    "species.loc[:, ['Keys_Divisions', 'BNP', 'DryTortugas']]"
   ]
  },
  {
   "cell_type": "code",
   "execution_count": 40,
   "metadata": {},
   "outputs": [
    {
     "name": "stdout",
     "output_type": "stream",
     "text": [
      "<class 'pandas.core.frame.DataFrame'>\n",
      "Index: 3999 entries, 0 to 3998\n",
      "Data columns (total 55 columns):\n",
      " #   Column                       Non-Null Count  Dtype  \n",
      "---  ------                       --------------  -----  \n",
      " 0   site                         3999 non-null   object \n",
      " 1   model                        3999 non-null   object \n",
      " 2   Year                         3999 non-null   int64  \n",
      " 3   Month                        3999 non-null   object \n",
      " 4   Latitude                     3999 non-null   float64\n",
      " 5   Longitude                    3999 non-null   float64\n",
      " 6   Depth                        3999 non-null   float64\n",
      " 7   Region                       3999 non-null   object \n",
      " 8   Coral_cover                  3292 non-null   float64\n",
      " 9   Reef_complexity              3292 non-null   float64\n",
      " 10  SST                          3999 non-null   float64\n",
      " 11  NPP                          3999 non-null   float64\n",
      " 12  Wave_exposure                3999 non-null   float64\n",
      " 13  Habitat_type_classLV0        3999 non-null   object \n",
      " 14  Habitat_type_classLV2        3999 non-null   object \n",
      " 15  Coral_area_UFRTM_20km        3999 non-null   int64  \n",
      " 16  Coral_area_UFRTM_200km       3999 non-null   int64  \n",
      " 17  Depth_Sbrocco                3999 non-null   float64\n",
      " 18  Deepwater                    3999 non-null   float64\n",
      " 19  FSA                          3999 non-null   float64\n",
      " 20  Marina_slips_10km            3999 non-null   int64  \n",
      " 21  Marina_slips_25km            3999 non-null   int64  \n",
      " 22  Marine_reserve               3999 non-null   object \n",
      " 23  Population_20km              3999 non-null   int64  \n",
      " 24  Population_50km              3999 non-null   int64  \n",
      " 25  Recreational_fishermen_50km  3999 non-null   int64  \n",
      " 26  Tourist_fishing              3999 non-null   float64\n",
      " 27  Artificial_reefs_1km         3999 non-null   int64  \n",
      " 28  SG_permits_50km              3999 non-null   int64  \n",
      " 29  SG_charter_permits_25km      3999 non-null   int64  \n",
      " 30  Total_gravity_intercept      3896 non-null   float64\n",
      " 31  Total_gravity                3896 non-null   float64\n",
      " 32  Keys_Divisions               2570 non-null   object \n",
      " 33  FKNMS                        1658 non-null   object \n",
      " 34  DryTortugas                  627 non-null    object \n",
      " 35  BNP                          259 non-null    object \n",
      " 36  CoralECA                     1364 non-null   object \n",
      " 37  Nursery_seagrass             3999 non-null   float64\n",
      " 38  Nursery_mangroves            3999 non-null   float64\n",
      " 39  connectivity                 3376 non-null   float64\n",
      " 40  Comm_engagement              3910 non-null   float64\n",
      " 41  Comm_reliance                3910 non-null   float64\n",
      " 42  Rec_engagement               3910 non-null   float64\n",
      " 43  Rec_reliance                 3910 non-null   float64\n",
      " 44  Commercial_pounds_landed     3998 non-null   float64\n",
      " 45  Pop_per_area_reef_20km       3999 non-null   float64\n",
      " 46  Random                       3999 non-null   int64  \n",
      " 47  impact                       2779 non-null   float64\n",
      " 48  YEAR                         3999 non-null   int64  \n",
      " 49  HABITAT_CD                   3999 non-null   object \n",
      " 50  REGION                       3999 non-null   object \n",
      " 51  PCT_CORAL                    3292 non-null   float64\n",
      " 52  MAX_HARD_RELIEF              3292 non-null   float64\n",
      " 53  no.divers                    3999 non-null   int64  \n",
      " 54  Diversity_index              3999 non-null   float64\n",
      "dtypes: float64(27), int64(14), object(14)\n",
      "memory usage: 1.7+ MB\n"
     ]
    }
   ],
   "source": [
    "species.info()"
   ]
  },
  {
   "cell_type": "code",
   "execution_count": 68,
   "metadata": {},
   "outputs": [
    {
     "data": {
      "text/html": [
       "<div>\n",
       "<style scoped>\n",
       "    .dataframe tbody tr th:only-of-type {\n",
       "        vertical-align: middle;\n",
       "    }\n",
       "\n",
       "    .dataframe tbody tr th {\n",
       "        vertical-align: top;\n",
       "    }\n",
       "\n",
       "    .dataframe thead th {\n",
       "        text-align: right;\n",
       "    }\n",
       "</style>\n",
       "<table border=\"1\" class=\"dataframe\">\n",
       "  <thead>\n",
       "    <tr style=\"text-align: right;\">\n",
       "      <th></th>\n",
       "      <th>Year</th>\n",
       "      <th>Latitude</th>\n",
       "      <th>Longitude</th>\n",
       "      <th>Depth</th>\n",
       "      <th>Coral_cover</th>\n",
       "      <th>Reef_complexity</th>\n",
       "      <th>SST</th>\n",
       "      <th>NPP</th>\n",
       "      <th>Wave_exposure</th>\n",
       "      <th>Coral_area_UFRTM_20km</th>\n",
       "      <th>Coral_area_UFRTM_200km</th>\n",
       "      <th>Depth_Sbrocco</th>\n",
       "      <th>Deepwater</th>\n",
       "      <th>FSA</th>\n",
       "      <th>Marina_slips_10km</th>\n",
       "      <th>Marina_slips_25km</th>\n",
       "      <th>Population_20km</th>\n",
       "      <th>Population_50km</th>\n",
       "      <th>Recreational_fishermen_50km</th>\n",
       "      <th>Tourist_fishing</th>\n",
       "      <th>Artificial_reefs_1km</th>\n",
       "      <th>SG_permits_50km</th>\n",
       "      <th>SG_charter_permits_25km</th>\n",
       "      <th>Total_gravity_intercept</th>\n",
       "      <th>Total_gravity</th>\n",
       "      <th>Nursery_seagrass</th>\n",
       "      <th>Nursery_mangroves</th>\n",
       "      <th>connectivity</th>\n",
       "      <th>Comm_engagement</th>\n",
       "      <th>Comm_reliance</th>\n",
       "      <th>Rec_engagement</th>\n",
       "      <th>Rec_reliance</th>\n",
       "      <th>Commercial_pounds_landed</th>\n",
       "      <th>Pop_per_area_reef_20km</th>\n",
       "      <th>Random</th>\n",
       "      <th>impact</th>\n",
       "      <th>YEAR</th>\n",
       "      <th>PCT_CORAL</th>\n",
       "      <th>MAX_HARD_RELIEF</th>\n",
       "      <th>no.divers</th>\n",
       "      <th>Diversity_index</th>\n",
       "    </tr>\n",
       "  </thead>\n",
       "  <tbody>\n",
       "    <tr>\n",
       "      <th>count</th>\n",
       "      <td>3999.000000</td>\n",
       "      <td>3999.000000</td>\n",
       "      <td>3999.000000</td>\n",
       "      <td>3999.000000</td>\n",
       "      <td>3292.000000</td>\n",
       "      <td>3292.000000</td>\n",
       "      <td>3999.000000</td>\n",
       "      <td>3999.000000</td>\n",
       "      <td>3999.000000</td>\n",
       "      <td>3999.000000</td>\n",
       "      <td>3.999000e+03</td>\n",
       "      <td>3999.000000</td>\n",
       "      <td>3999.000000</td>\n",
       "      <td>3999.000000</td>\n",
       "      <td>3999.000000</td>\n",
       "      <td>3999.000000</td>\n",
       "      <td>3.999000e+03</td>\n",
       "      <td>3.999000e+03</td>\n",
       "      <td>3999.000000</td>\n",
       "      <td>3999.000000</td>\n",
       "      <td>3999.000000</td>\n",
       "      <td>3999.000000</td>\n",
       "      <td>3999.000000</td>\n",
       "      <td>3896.000000</td>\n",
       "      <td>3896.000000</td>\n",
       "      <td>3.999000e+03</td>\n",
       "      <td>3.999000e+03</td>\n",
       "      <td>3376.000000</td>\n",
       "      <td>3910.000000</td>\n",
       "      <td>3910.000000</td>\n",
       "      <td>3910.000000</td>\n",
       "      <td>3910.000000</td>\n",
       "      <td>3.998000e+03</td>\n",
       "      <td>3999.000000</td>\n",
       "      <td>3999.000000</td>\n",
       "      <td>2779.000000</td>\n",
       "      <td>3999.000000</td>\n",
       "      <td>3292.000000</td>\n",
       "      <td>3292.000000</td>\n",
       "      <td>3999.000000</td>\n",
       "      <td>3999.000000</td>\n",
       "    </tr>\n",
       "    <tr>\n",
       "      <th>mean</th>\n",
       "      <td>2012.886222</td>\n",
       "      <td>25.361813</td>\n",
       "      <td>-80.912910</td>\n",
       "      <td>12.031226</td>\n",
       "      <td>4.549820</td>\n",
       "      <td>1.100154</td>\n",
       "      <td>23.760696</td>\n",
       "      <td>523.320811</td>\n",
       "      <td>7.322459</td>\n",
       "      <td>76727.255314</td>\n",
       "      <td>9.204478e+05</td>\n",
       "      <td>-13.858828</td>\n",
       "      <td>2217.992204</td>\n",
       "      <td>13881.413088</td>\n",
       "      <td>407.944986</td>\n",
       "      <td>1479.008002</td>\n",
       "      <td>3.210438e+05</td>\n",
       "      <td>1.330372e+06</td>\n",
       "      <td>46936.535134</td>\n",
       "      <td>14.790847</td>\n",
       "      <td>0.634409</td>\n",
       "      <td>39.187547</td>\n",
       "      <td>43.831708</td>\n",
       "      <td>2451.431725</td>\n",
       "      <td>2451.431725</td>\n",
       "      <td>1.784502e+07</td>\n",
       "      <td>3.693521e+05</td>\n",
       "      <td>23.648416</td>\n",
       "      <td>0.104939</td>\n",
       "      <td>-0.069880</td>\n",
       "      <td>0.076328</td>\n",
       "      <td>0.424433</td>\n",
       "      <td>6.312866e+05</td>\n",
       "      <td>6.386781</td>\n",
       "      <td>5047.471618</td>\n",
       "      <td>0.400637</td>\n",
       "      <td>2012.886222</td>\n",
       "      <td>4.549820</td>\n",
       "      <td>1.100154</td>\n",
       "      <td>3.115779</td>\n",
       "      <td>0.831469</td>\n",
       "    </tr>\n",
       "    <tr>\n",
       "      <th>std</th>\n",
       "      <td>3.629448</td>\n",
       "      <td>0.806724</td>\n",
       "      <td>1.051129</td>\n",
       "      <td>6.942690</td>\n",
       "      <td>5.522744</td>\n",
       "      <td>0.851008</td>\n",
       "      <td>0.552442</td>\n",
       "      <td>163.404174</td>\n",
       "      <td>0.211270</td>\n",
       "      <td>44693.794158</td>\n",
       "      <td>2.372087e+05</td>\n",
       "      <td>8.434335</td>\n",
       "      <td>2627.599357</td>\n",
       "      <td>11587.136846</td>\n",
       "      <td>587.148277</td>\n",
       "      <td>1407.965869</td>\n",
       "      <td>4.656593e+05</td>\n",
       "      <td>1.662962e+06</td>\n",
       "      <td>49462.069652</td>\n",
       "      <td>21.121447</td>\n",
       "      <td>2.466154</td>\n",
       "      <td>23.110590</td>\n",
       "      <td>44.874584</td>\n",
       "      <td>6625.344914</td>\n",
       "      <td>6625.344914</td>\n",
       "      <td>1.976313e+07</td>\n",
       "      <td>7.133488e+05</td>\n",
       "      <td>24.807148</td>\n",
       "      <td>0.754119</td>\n",
       "      <td>0.139033</td>\n",
       "      <td>0.904179</td>\n",
       "      <td>2.247541</td>\n",
       "      <td>4.861803e+05</td>\n",
       "      <td>11.092795</td>\n",
       "      <td>2919.598275</td>\n",
       "      <td>0.281552</td>\n",
       "      <td>3.629448</td>\n",
       "      <td>5.522744</td>\n",
       "      <td>0.851008</td>\n",
       "      <td>0.998422</td>\n",
       "      <td>0.114777</td>\n",
       "    </tr>\n",
       "    <tr>\n",
       "      <th>min</th>\n",
       "      <td>2005.000000</td>\n",
       "      <td>24.431943</td>\n",
       "      <td>-82.986818</td>\n",
       "      <td>1.300482</td>\n",
       "      <td>0.000000</td>\n",
       "      <td>0.075887</td>\n",
       "      <td>22.405206</td>\n",
       "      <td>287.664307</td>\n",
       "      <td>5.213092</td>\n",
       "      <td>12257.000000</td>\n",
       "      <td>3.420410e+05</td>\n",
       "      <td>-56.000000</td>\n",
       "      <td>0.000000</td>\n",
       "      <td>0.000000</td>\n",
       "      <td>0.000000</td>\n",
       "      <td>0.000000</td>\n",
       "      <td>0.000000e+00</td>\n",
       "      <td>0.000000e+00</td>\n",
       "      <td>0.000000</td>\n",
       "      <td>0.000000</td>\n",
       "      <td>0.000000</td>\n",
       "      <td>0.000000</td>\n",
       "      <td>0.000000</td>\n",
       "      <td>0.000000</td>\n",
       "      <td>0.000000</td>\n",
       "      <td>0.000000e+00</td>\n",
       "      <td>0.000000e+00</td>\n",
       "      <td>0.667306</td>\n",
       "      <td>-0.158000</td>\n",
       "      <td>-0.129000</td>\n",
       "      <td>-0.260000</td>\n",
       "      <td>-0.185000</td>\n",
       "      <td>1.706314e+05</td>\n",
       "      <td>0.000000</td>\n",
       "      <td>1.000000</td>\n",
       "      <td>0.000000</td>\n",
       "      <td>2005.000000</td>\n",
       "      <td>0.000000</td>\n",
       "      <td>0.075887</td>\n",
       "      <td>2.000000</td>\n",
       "      <td>0.000000</td>\n",
       "    </tr>\n",
       "    <tr>\n",
       "      <th>25%</th>\n",
       "      <td>2011.000000</td>\n",
       "      <td>24.632586</td>\n",
       "      <td>-81.695419</td>\n",
       "      <td>6.351316</td>\n",
       "      <td>1.500000</td>\n",
       "      <td>0.500000</td>\n",
       "      <td>23.608484</td>\n",
       "      <td>365.925385</td>\n",
       "      <td>7.294437</td>\n",
       "      <td>50594.000000</td>\n",
       "      <td>8.440460e+05</td>\n",
       "      <td>-20.000000</td>\n",
       "      <td>700.000000</td>\n",
       "      <td>4610.660157</td>\n",
       "      <td>0.000000</td>\n",
       "      <td>524.000000</td>\n",
       "      <td>3.068000e+03</td>\n",
       "      <td>2.328300e+04</td>\n",
       "      <td>5997.000000</td>\n",
       "      <td>0.000000</td>\n",
       "      <td>0.000000</td>\n",
       "      <td>31.000000</td>\n",
       "      <td>13.000000</td>\n",
       "      <td>86.000000</td>\n",
       "      <td>86.000000</td>\n",
       "      <td>0.000000e+00</td>\n",
       "      <td>1.966915e+04</td>\n",
       "      <td>5.417427</td>\n",
       "      <td>-0.158000</td>\n",
       "      <td>-0.129000</td>\n",
       "      <td>-0.260000</td>\n",
       "      <td>-0.185000</td>\n",
       "      <td>2.469954e+05</td>\n",
       "      <td>0.039136</td>\n",
       "      <td>2550.500000</td>\n",
       "      <td>0.174000</td>\n",
       "      <td>2011.000000</td>\n",
       "      <td>1.500000</td>\n",
       "      <td>0.500000</td>\n",
       "      <td>2.000000</td>\n",
       "      <td>0.811582</td>\n",
       "    </tr>\n",
       "    <tr>\n",
       "      <th>50%</th>\n",
       "      <td>2013.000000</td>\n",
       "      <td>25.123213</td>\n",
       "      <td>-80.292226</td>\n",
       "      <td>10.171806</td>\n",
       "      <td>2.758143</td>\n",
       "      <td>0.900596</td>\n",
       "      <td>23.929285</td>\n",
       "      <td>533.677063</td>\n",
       "      <td>7.368210</td>\n",
       "      <td>60682.000000</td>\n",
       "      <td>9.595900e+05</td>\n",
       "      <td>-12.000000</td>\n",
       "      <td>1200.000000</td>\n",
       "      <td>9904.163086</td>\n",
       "      <td>56.000000</td>\n",
       "      <td>809.000000</td>\n",
       "      <td>1.482100e+04</td>\n",
       "      <td>1.920190e+05</td>\n",
       "      <td>17132.000000</td>\n",
       "      <td>1.896063</td>\n",
       "      <td>0.000000</td>\n",
       "      <td>39.000000</td>\n",
       "      <td>34.000000</td>\n",
       "      <td>218.000000</td>\n",
       "      <td>218.000000</td>\n",
       "      <td>1.060144e+07</td>\n",
       "      <td>1.515129e+05</td>\n",
       "      <td>16.642971</td>\n",
       "      <td>-0.158000</td>\n",
       "      <td>-0.129000</td>\n",
       "      <td>-0.260000</td>\n",
       "      <td>-0.185000</td>\n",
       "      <td>3.180504e+05</td>\n",
       "      <td>0.248873</td>\n",
       "      <td>5097.000000</td>\n",
       "      <td>0.382000</td>\n",
       "      <td>2013.000000</td>\n",
       "      <td>2.758143</td>\n",
       "      <td>0.900596</td>\n",
       "      <td>4.000000</td>\n",
       "      <td>0.867035</td>\n",
       "    </tr>\n",
       "    <tr>\n",
       "      <th>75%</th>\n",
       "      <td>2016.000000</td>\n",
       "      <td>26.034196</td>\n",
       "      <td>-80.092946</td>\n",
       "      <td>17.148568</td>\n",
       "      <td>5.283544</td>\n",
       "      <td>1.448243</td>\n",
       "      <td>24.200861</td>\n",
       "      <td>632.628479</td>\n",
       "      <td>7.455595</td>\n",
       "      <td>91516.000000</td>\n",
       "      <td>1.103821e+06</td>\n",
       "      <td>-7.000000</td>\n",
       "      <td>2455.634888</td>\n",
       "      <td>20883.452150</td>\n",
       "      <td>644.500000</td>\n",
       "      <td>2036.000000</td>\n",
       "      <td>6.927670e+05</td>\n",
       "      <td>2.859482e+06</td>\n",
       "      <td>93870.000000</td>\n",
       "      <td>32.305483</td>\n",
       "      <td>0.000000</td>\n",
       "      <td>50.000000</td>\n",
       "      <td>56.000000</td>\n",
       "      <td>1507.000000</td>\n",
       "      <td>1507.000000</td>\n",
       "      <td>3.280893e+07</td>\n",
       "      <td>3.810131e+05</td>\n",
       "      <td>32.740639</td>\n",
       "      <td>-0.105000</td>\n",
       "      <td>-0.118000</td>\n",
       "      <td>-0.176000</td>\n",
       "      <td>0.044000</td>\n",
       "      <td>8.556702e+05</td>\n",
       "      <td>12.681632</td>\n",
       "      <td>7602.000000</td>\n",
       "      <td>0.694000</td>\n",
       "      <td>2016.000000</td>\n",
       "      <td>5.283544</td>\n",
       "      <td>1.448243</td>\n",
       "      <td>4.000000</td>\n",
       "      <td>0.900148</td>\n",
       "    </tr>\n",
       "    <tr>\n",
       "      <th>max</th>\n",
       "      <td>2018.000000</td>\n",
       "      <td>27.189445</td>\n",
       "      <td>-79.993800</td>\n",
       "      <td>32.295441</td>\n",
       "      <td>55.000000</td>\n",
       "      <td>10.538338</td>\n",
       "      <td>24.436212</td>\n",
       "      <td>1330.589233</td>\n",
       "      <td>7.597482</td>\n",
       "      <td>280125.000000</td>\n",
       "      <td>1.203928e+06</td>\n",
       "      <td>-2.000000</td>\n",
       "      <td>12631.371090</td>\n",
       "      <td>50031.074220</td>\n",
       "      <td>2490.000000</td>\n",
       "      <td>5459.000000</td>\n",
       "      <td>1.482050e+06</td>\n",
       "      <td>4.480603e+06</td>\n",
       "      <td>140719.000000</td>\n",
       "      <td>60.773111</td>\n",
       "      <td>26.000000</td>\n",
       "      <td>91.000000</td>\n",
       "      <td>188.000000</td>\n",
       "      <td>39335.000000</td>\n",
       "      <td>39335.000000</td>\n",
       "      <td>9.645180e+07</td>\n",
       "      <td>8.003560e+06</td>\n",
       "      <td>109.548727</td>\n",
       "      <td>4.229000</td>\n",
       "      <td>0.347000</td>\n",
       "      <td>7.853000</td>\n",
       "      <td>12.140000</td>\n",
       "      <td>1.511066e+06</td>\n",
       "      <td>55.371104</td>\n",
       "      <td>9997.000000</td>\n",
       "      <td>1.000000</td>\n",
       "      <td>2018.000000</td>\n",
       "      <td>55.000000</td>\n",
       "      <td>10.538338</td>\n",
       "      <td>8.000000</td>\n",
       "      <td>0.956324</td>\n",
       "    </tr>\n",
       "  </tbody>\n",
       "</table>\n",
       "</div>"
      ],
      "text/plain": [
       "              Year     Latitude    Longitude        Depth  Coral_cover  \\\n",
       "count  3999.000000  3999.000000  3999.000000  3999.000000  3292.000000   \n",
       "mean   2012.886222    25.361813   -80.912910    12.031226     4.549820   \n",
       "std       3.629448     0.806724     1.051129     6.942690     5.522744   \n",
       "min    2005.000000    24.431943   -82.986818     1.300482     0.000000   \n",
       "25%    2011.000000    24.632586   -81.695419     6.351316     1.500000   \n",
       "50%    2013.000000    25.123213   -80.292226    10.171806     2.758143   \n",
       "75%    2016.000000    26.034196   -80.092946    17.148568     5.283544   \n",
       "max    2018.000000    27.189445   -79.993800    32.295441    55.000000   \n",
       "\n",
       "       Reef_complexity          SST          NPP  Wave_exposure  \\\n",
       "count      3292.000000  3999.000000  3999.000000    3999.000000   \n",
       "mean          1.100154    23.760696   523.320811       7.322459   \n",
       "std           0.851008     0.552442   163.404174       0.211270   \n",
       "min           0.075887    22.405206   287.664307       5.213092   \n",
       "25%           0.500000    23.608484   365.925385       7.294437   \n",
       "50%           0.900596    23.929285   533.677063       7.368210   \n",
       "75%           1.448243    24.200861   632.628479       7.455595   \n",
       "max          10.538338    24.436212  1330.589233       7.597482   \n",
       "\n",
       "       Coral_area_UFRTM_20km  Coral_area_UFRTM_200km  Depth_Sbrocco  \\\n",
       "count            3999.000000            3.999000e+03    3999.000000   \n",
       "mean            76727.255314            9.204478e+05     -13.858828   \n",
       "std             44693.794158            2.372087e+05       8.434335   \n",
       "min             12257.000000            3.420410e+05     -56.000000   \n",
       "25%             50594.000000            8.440460e+05     -20.000000   \n",
       "50%             60682.000000            9.595900e+05     -12.000000   \n",
       "75%             91516.000000            1.103821e+06      -7.000000   \n",
       "max            280125.000000            1.203928e+06      -2.000000   \n",
       "\n",
       "          Deepwater           FSA  Marina_slips_10km  Marina_slips_25km  \\\n",
       "count   3999.000000   3999.000000        3999.000000        3999.000000   \n",
       "mean    2217.992204  13881.413088         407.944986        1479.008002   \n",
       "std     2627.599357  11587.136846         587.148277        1407.965869   \n",
       "min        0.000000      0.000000           0.000000           0.000000   \n",
       "25%      700.000000   4610.660157           0.000000         524.000000   \n",
       "50%     1200.000000   9904.163086          56.000000         809.000000   \n",
       "75%     2455.634888  20883.452150         644.500000        2036.000000   \n",
       "max    12631.371090  50031.074220        2490.000000        5459.000000   \n",
       "\n",
       "       Population_20km  Population_50km  Recreational_fishermen_50km  \\\n",
       "count     3.999000e+03     3.999000e+03                  3999.000000   \n",
       "mean      3.210438e+05     1.330372e+06                 46936.535134   \n",
       "std       4.656593e+05     1.662962e+06                 49462.069652   \n",
       "min       0.000000e+00     0.000000e+00                     0.000000   \n",
       "25%       3.068000e+03     2.328300e+04                  5997.000000   \n",
       "50%       1.482100e+04     1.920190e+05                 17132.000000   \n",
       "75%       6.927670e+05     2.859482e+06                 93870.000000   \n",
       "max       1.482050e+06     4.480603e+06                140719.000000   \n",
       "\n",
       "       Tourist_fishing  Artificial_reefs_1km  SG_permits_50km  \\\n",
       "count      3999.000000           3999.000000      3999.000000   \n",
       "mean         14.790847              0.634409        39.187547   \n",
       "std          21.121447              2.466154        23.110590   \n",
       "min           0.000000              0.000000         0.000000   \n",
       "25%           0.000000              0.000000        31.000000   \n",
       "50%           1.896063              0.000000        39.000000   \n",
       "75%          32.305483              0.000000        50.000000   \n",
       "max          60.773111             26.000000        91.000000   \n",
       "\n",
       "       SG_charter_permits_25km  Total_gravity_intercept  Total_gravity  \\\n",
       "count              3999.000000              3896.000000    3896.000000   \n",
       "mean                 43.831708              2451.431725    2451.431725   \n",
       "std                  44.874584              6625.344914    6625.344914   \n",
       "min                   0.000000                 0.000000       0.000000   \n",
       "25%                  13.000000                86.000000      86.000000   \n",
       "50%                  34.000000               218.000000     218.000000   \n",
       "75%                  56.000000              1507.000000    1507.000000   \n",
       "max                 188.000000             39335.000000   39335.000000   \n",
       "\n",
       "       Nursery_seagrass  Nursery_mangroves  connectivity  Comm_engagement  \\\n",
       "count      3.999000e+03       3.999000e+03   3376.000000      3910.000000   \n",
       "mean       1.784502e+07       3.693521e+05     23.648416         0.104939   \n",
       "std        1.976313e+07       7.133488e+05     24.807148         0.754119   \n",
       "min        0.000000e+00       0.000000e+00      0.667306        -0.158000   \n",
       "25%        0.000000e+00       1.966915e+04      5.417427        -0.158000   \n",
       "50%        1.060144e+07       1.515129e+05     16.642971        -0.158000   \n",
       "75%        3.280893e+07       3.810131e+05     32.740639        -0.105000   \n",
       "max        9.645180e+07       8.003560e+06    109.548727         4.229000   \n",
       "\n",
       "       Comm_reliance  Rec_engagement  Rec_reliance  Commercial_pounds_landed  \\\n",
       "count    3910.000000     3910.000000   3910.000000              3.998000e+03   \n",
       "mean       -0.069880        0.076328      0.424433              6.312866e+05   \n",
       "std         0.139033        0.904179      2.247541              4.861803e+05   \n",
       "min        -0.129000       -0.260000     -0.185000              1.706314e+05   \n",
       "25%        -0.129000       -0.260000     -0.185000              2.469954e+05   \n",
       "50%        -0.129000       -0.260000     -0.185000              3.180504e+05   \n",
       "75%        -0.118000       -0.176000      0.044000              8.556702e+05   \n",
       "max         0.347000        7.853000     12.140000              1.511066e+06   \n",
       "\n",
       "       Pop_per_area_reef_20km       Random       impact         YEAR  \\\n",
       "count             3999.000000  3999.000000  2779.000000  3999.000000   \n",
       "mean                 6.386781  5047.471618     0.400637  2012.886222   \n",
       "std                 11.092795  2919.598275     0.281552     3.629448   \n",
       "min                  0.000000     1.000000     0.000000  2005.000000   \n",
       "25%                  0.039136  2550.500000     0.174000  2011.000000   \n",
       "50%                  0.248873  5097.000000     0.382000  2013.000000   \n",
       "75%                 12.681632  7602.000000     0.694000  2016.000000   \n",
       "max                 55.371104  9997.000000     1.000000  2018.000000   \n",
       "\n",
       "         PCT_CORAL  MAX_HARD_RELIEF    no.divers  Diversity_index  \n",
       "count  3292.000000      3292.000000  3999.000000      3999.000000  \n",
       "mean      4.549820         1.100154     3.115779         0.831469  \n",
       "std       5.522744         0.851008     0.998422         0.114777  \n",
       "min       0.000000         0.075887     2.000000         0.000000  \n",
       "25%       1.500000         0.500000     2.000000         0.811582  \n",
       "50%       2.758143         0.900596     4.000000         0.867035  \n",
       "75%       5.283544         1.448243     4.000000         0.900148  \n",
       "max      55.000000        10.538338     8.000000         0.956324  "
      ]
     },
     "execution_count": 68,
     "metadata": {},
     "output_type": "execute_result"
    }
   ],
   "source": [
    "species.describe()"
   ]
  },
  {
   "cell_type": "code",
   "execution_count": 71,
   "metadata": {},
   "outputs": [
    {
     "data": {
      "text/plain": [
       "array([4, 2, 8, 6], dtype=int64)"
      ]
     },
     "execution_count": 71,
     "metadata": {},
     "output_type": "execute_result"
    }
   ],
   "source": [
    "species['no.divers'].unique()"
   ]
  },
  {
   "cell_type": "code",
   "execution_count": 72,
   "metadata": {},
   "outputs": [
    {
     "data": {
      "image/png": "[encoded data removed]",
      "text/plain": [
       "<Figure size 640x480 with 1 Axes>"
      ]
     },
     "metadata": {},
     "output_type": "display_data"
    }
   ],
   "source": [
    "plt.pie(species['no.divers'].value_counts(),labels=species['no.divers'].value_counts().index,autopct='%1.2f%%')\n",
    "plt.show()"
   ]
  },
  {
   "cell_type": "markdown",
   "metadata": {},
   "source": [
    "For the no.divers feature we can see that the majority of the data are concentrate in the 2 and 4 categories. \n",
    "In the readme this feature is describe by the authors to be number of divers for RVC survey and is complete with the table SpecAbund. \n",
    "\n",
    "*Look at this table to feel this feature*"
   ]
  },
  {
   "cell_type": "code",
   "execution_count": 51,
   "metadata": {},
   "outputs": [
    {
     "data": {
      "image/png": "[encoded data removed]",
      "text/plain": [
       "<Figure size 640x480 with 1 Axes>"
      ]
     },
     "metadata": {},
     "output_type": "display_data"
    }
   ],
   "source": [
    "#Plot coral cover and PCT_coral to see if it's exist a linear relation between them\n",
    "\n",
    "sns.scatterplot(data=species, x = \"Coral_cover\", y = \"PCT_CORAL\")\n",
    "plt.tight_layout()\n",
    "plt.show()"
   ]
  },
  {
   "cell_type": "code",
   "execution_count": 52,
   "metadata": {},
   "outputs": [
    {
     "data": {
      "image/png": "[encoded data removed]",
      "text/plain": [
       "<Figure size 640x480 with 1 Axes>"
      ]
     },
     "metadata": {},
     "output_type": "display_data"
    }
   ],
   "source": [
    "#Plot reef complexity and MAX_HARD_RELIEF to see if it's exist a linear relation between them\n",
    "\n",
    "sns.scatterplot(data=species, x = \"Reef_complexity\", y = \"MAX_HARD_RELIEF\")\n",
    "plt.tight_layout()\n",
    "plt.show()"
   ]
  },
  {
   "cell_type": "markdown",
   "metadata": {},
   "source": [
    "This 2 plot show the strict linear relation between the feature coral cover and PCT coral, reef_complexity and MAX_HARD_RELIEF. We can choose to ignore one of them in each pair because their are redundance. \n",
    "Moreover they scatter plot highline the outlier in the both pair:\n",
    "- greater than 8 for Reef_complexity\n",
    "- greater than 40 for Coral_cover\n",
    "\n",
    "*Keep them it mind and see later what we will do with them.*"
   ]
  },
  {
   "cell_type": "code",
   "execution_count": 41,
   "metadata": {},
   "outputs": [
    {
     "data": {
      "text/plain": [
       "array(['FLA KEYS', 'DRY TORT', 'SEFCRI'], dtype=object)"
      ]
     },
     "execution_count": 41,
     "metadata": {},
     "output_type": "execute_result"
    }
   ],
   "source": [
    "species.Region.unique()"
   ]
  },
  {
   "cell_type": "code",
   "execution_count": 62,
   "metadata": {},
   "outputs": [
    {
     "data": {
      "image/png": "[encoded data removed]",
      "text/plain": [
       "<Figure size 640x480 with 1 Axes>"
      ]
     },
     "metadata": {},
     "output_type": "display_data"
    }
   ],
   "source": [
    "plt.pie(species.Region.value_counts(),labels=species.Region.value_counts().index,autopct='%1.2f%%')\n",
    "plt.show()"
   ]
  },
  {
   "cell_type": "markdown",
   "metadata": {},
   "source": [
    "The different regions shows imbalanced data between them. \n",
    "How behave the target in function of them ? "
   ]
  },
  {
   "cell_type": "code",
   "execution_count": 63,
   "metadata": {},
   "outputs": [
    {
     "data": {
      "image/png": "[encoded data removed]",
      "text/plain": [
       "<Figure size 900x300 with 3 Axes>"
      ]
     },
     "metadata": {},
     "output_type": "display_data"
    }
   ],
   "source": [
    "g = sns.FacetGrid(data=species,col=\"Region\")\n",
    "g.map(sns.histplot,\"Diversity_index\")\n",
    "plt.tight_layout()\n",
    "plt.show()"
   ]
  },
  {
   "cell_type": "markdown",
   "metadata": {},
   "source": [
    "It seems that, the diversity index is high in the FLA KEYS region compared to the other. Look at the descriptive statistics:"
   ]
  },
  {
   "cell_type": "code",
   "execution_count": 67,
   "metadata": {},
   "outputs": [
    {
     "data": {
      "text/html": [
       "<div>\n",
       "<style scoped>\n",
       "    .dataframe tbody tr th:only-of-type {\n",
       "        vertical-align: middle;\n",
       "    }\n",
       "\n",
       "    .dataframe tbody tr th {\n",
       "        vertical-align: top;\n",
       "    }\n",
       "\n",
       "    .dataframe thead tr th {\n",
       "        text-align: left;\n",
       "    }\n",
       "\n",
       "    .dataframe thead tr:last-of-type th {\n",
       "        text-align: right;\n",
       "    }\n",
       "</style>\n",
       "<table border=\"1\" class=\"dataframe\">\n",
       "  <thead>\n",
       "    <tr>\n",
       "      <th></th>\n",
       "      <th colspan=\"8\" halign=\"left\">Year</th>\n",
       "      <th colspan=\"8\" halign=\"left\">Latitude</th>\n",
       "      <th colspan=\"8\" halign=\"left\">Longitude</th>\n",
       "      <th colspan=\"8\" halign=\"left\">Depth</th>\n",
       "      <th colspan=\"8\" halign=\"left\">Coral_cover</th>\n",
       "      <th colspan=\"8\" halign=\"left\">Reef_complexity</th>\n",
       "      <th colspan=\"8\" halign=\"left\">SST</th>\n",
       "      <th colspan=\"8\" halign=\"left\">NPP</th>\n",
       "      <th colspan=\"8\" halign=\"left\">Wave_exposure</th>\n",
       "      <th colspan=\"8\" halign=\"left\">Coral_area_UFRTM_20km</th>\n",
       "      <th colspan=\"8\" halign=\"left\">Coral_area_UFRTM_200km</th>\n",
       "      <th colspan=\"8\" halign=\"left\">Depth_Sbrocco</th>\n",
       "      <th colspan=\"8\" halign=\"left\">Deepwater</th>\n",
       "      <th colspan=\"8\" halign=\"left\">FSA</th>\n",
       "      <th colspan=\"8\" halign=\"left\">Marina_slips_10km</th>\n",
       "      <th colspan=\"8\" halign=\"left\">Marina_slips_25km</th>\n",
       "      <th colspan=\"8\" halign=\"left\">Population_20km</th>\n",
       "      <th colspan=\"8\" halign=\"left\">Population_50km</th>\n",
       "      <th colspan=\"8\" halign=\"left\">Recreational_fishermen_50km</th>\n",
       "      <th colspan=\"8\" halign=\"left\">Tourist_fishing</th>\n",
       "      <th colspan=\"8\" halign=\"left\">Artificial_reefs_1km</th>\n",
       "      <th colspan=\"8\" halign=\"left\">SG_permits_50km</th>\n",
       "      <th colspan=\"8\" halign=\"left\">SG_charter_permits_25km</th>\n",
       "      <th colspan=\"8\" halign=\"left\">Total_gravity_intercept</th>\n",
       "      <th colspan=\"8\" halign=\"left\">Total_gravity</th>\n",
       "      <th colspan=\"8\" halign=\"left\">Nursery_seagrass</th>\n",
       "      <th colspan=\"8\" halign=\"left\">Nursery_mangroves</th>\n",
       "      <th colspan=\"8\" halign=\"left\">connectivity</th>\n",
       "      <th colspan=\"8\" halign=\"left\">Comm_engagement</th>\n",
       "      <th colspan=\"8\" halign=\"left\">Comm_reliance</th>\n",
       "      <th colspan=\"8\" halign=\"left\">Rec_engagement</th>\n",
       "      <th colspan=\"8\" halign=\"left\">Rec_reliance</th>\n",
       "      <th colspan=\"8\" halign=\"left\">Commercial_pounds_landed</th>\n",
       "      <th colspan=\"8\" halign=\"left\">Pop_per_area_reef_20km</th>\n",
       "      <th colspan=\"8\" halign=\"left\">Random</th>\n",
       "      <th colspan=\"8\" halign=\"left\">impact</th>\n",
       "      <th colspan=\"8\" halign=\"left\">YEAR</th>\n",
       "      <th colspan=\"8\" halign=\"left\">PCT_CORAL</th>\n",
       "      <th colspan=\"8\" halign=\"left\">MAX_HARD_RELIEF</th>\n",
       "      <th colspan=\"8\" halign=\"left\">no.divers</th>\n",
       "      <th colspan=\"8\" halign=\"left\">Diversity_index</th>\n",
       "    </tr>\n",
       "    <tr>\n",
       "      <th></th>\n",
       "      <th>count</th>\n",
       "      <th>mean</th>\n",
       "      <th>std</th>\n",
       "      <th>min</th>\n",
       "      <th>25%</th>\n",
       "      <th>50%</th>\n",
       "      <th>75%</th>\n",
       "      <th>max</th>\n",
       "      <th>count</th>\n",
       "      <th>mean</th>\n",
       "      <th>std</th>\n",
       "      <th>min</th>\n",
       "      <th>25%</th>\n",
       "      <th>50%</th>\n",
       "      <th>75%</th>\n",
       "      <th>max</th>\n",
       "      <th>count</th>\n",
       "      <th>mean</th>\n",
       "      <th>std</th>\n",
       "      <th>min</th>\n",
       "      <th>25%</th>\n",
       "      <th>50%</th>\n",
       "      <th>75%</th>\n",
       "      <th>max</th>\n",
       "      <th>count</th>\n",
       "      <th>mean</th>\n",
       "      <th>std</th>\n",
       "      <th>min</th>\n",
       "      <th>25%</th>\n",
       "      <th>50%</th>\n",
       "      <th>75%</th>\n",
       "      <th>max</th>\n",
       "      <th>count</th>\n",
       "      <th>mean</th>\n",
       "      <th>std</th>\n",
       "      <th>min</th>\n",
       "      <th>25%</th>\n",
       "      <th>50%</th>\n",
       "      <th>75%</th>\n",
       "      <th>max</th>\n",
       "      <th>count</th>\n",
       "      <th>mean</th>\n",
       "      <th>std</th>\n",
       "      <th>min</th>\n",
       "      <th>25%</th>\n",
       "      <th>50%</th>\n",
       "      <th>75%</th>\n",
       "      <th>max</th>\n",
       "      <th>count</th>\n",
       "      <th>mean</th>\n",
       "      <th>std</th>\n",
       "      <th>min</th>\n",
       "      <th>25%</th>\n",
       "      <th>50%</th>\n",
       "      <th>75%</th>\n",
       "      <th>max</th>\n",
       "      <th>count</th>\n",
       "      <th>mean</th>\n",
       "      <th>std</th>\n",
       "      <th>min</th>\n",
       "      <th>25%</th>\n",
       "      <th>50%</th>\n",
       "      <th>75%</th>\n",
       "      <th>max</th>\n",
       "      <th>count</th>\n",
       "      <th>mean</th>\n",
       "      <th>std</th>\n",
       "      <th>min</th>\n",
       "      <th>25%</th>\n",
       "      <th>50%</th>\n",
       "      <th>75%</th>\n",
       "      <th>max</th>\n",
       "      <th>count</th>\n",
       "      <th>mean</th>\n",
       "      <th>std</th>\n",
       "      <th>min</th>\n",
       "      <th>25%</th>\n",
       "      <th>50%</th>\n",
       "      <th>75%</th>\n",
       "      <th>max</th>\n",
       "      <th>count</th>\n",
       "      <th>mean</th>\n",
       "      <th>std</th>\n",
       "      <th>min</th>\n",
       "      <th>25%</th>\n",
       "      <th>50%</th>\n",
       "      <th>75%</th>\n",
       "      <th>max</th>\n",
       "      <th>count</th>\n",
       "      <th>mean</th>\n",
       "      <th>std</th>\n",
       "      <th>min</th>\n",
       "      <th>25%</th>\n",
       "      <th>50%</th>\n",
       "      <th>75%</th>\n",
       "      <th>max</th>\n",
       "      <th>count</th>\n",
       "      <th>mean</th>\n",
       "      <th>std</th>\n",
       "      <th>min</th>\n",
       "      <th>25%</th>\n",
       "      <th>50%</th>\n",
       "      <th>75%</th>\n",
       "      <th>max</th>\n",
       "      <th>count</th>\n",
       "      <th>mean</th>\n",
       "      <th>std</th>\n",
       "      <th>min</th>\n",
       "      <th>25%</th>\n",
       "      <th>50%</th>\n",
       "      <th>75%</th>\n",
       "      <th>max</th>\n",
       "      <th>count</th>\n",
       "      <th>mean</th>\n",
       "      <th>std</th>\n",
       "      <th>min</th>\n",
       "      <th>25%</th>\n",
       "      <th>50%</th>\n",
       "      <th>75%</th>\n",
       "      <th>max</th>\n",
       "      <th>count</th>\n",
       "      <th>mean</th>\n",
       "      <th>std</th>\n",
       "      <th>min</th>\n",
       "      <th>25%</th>\n",
       "      <th>50%</th>\n",
       "      <th>75%</th>\n",
       "      <th>max</th>\n",
       "      <th>count</th>\n",
       "      <th>mean</th>\n",
       "      <th>std</th>\n",
       "      <th>min</th>\n",
       "      <th>25%</th>\n",
       "      <th>50%</th>\n",
       "      <th>75%</th>\n",
       "      <th>max</th>\n",
       "      <th>count</th>\n",
       "      <th>mean</th>\n",
       "      <th>std</th>\n",
       "      <th>min</th>\n",
       "      <th>25%</th>\n",
       "      <th>50%</th>\n",
       "      <th>75%</th>\n",
       "      <th>max</th>\n",
       "      <th>count</th>\n",
       "      <th>mean</th>\n",
       "      <th>std</th>\n",
       "      <th>min</th>\n",
       "      <th>25%</th>\n",
       "      <th>50%</th>\n",
       "      <th>75%</th>\n",
       "      <th>max</th>\n",
       "      <th>count</th>\n",
       "      <th>mean</th>\n",
       "      <th>std</th>\n",
       "      <th>min</th>\n",
       "      <th>25%</th>\n",
       "      <th>50%</th>\n",
       "      <th>75%</th>\n",
       "      <th>max</th>\n",
       "      <th>count</th>\n",
       "      <th>mean</th>\n",
       "      <th>std</th>\n",
       "      <th>min</th>\n",
       "      <th>25%</th>\n",
       "      <th>50%</th>\n",
       "      <th>75%</th>\n",
       "      <th>max</th>\n",
       "      <th>count</th>\n",
       "      <th>mean</th>\n",
       "      <th>std</th>\n",
       "      <th>min</th>\n",
       "      <th>25%</th>\n",
       "      <th>50%</th>\n",
       "      <th>75%</th>\n",
       "      <th>max</th>\n",
       "      <th>count</th>\n",
       "      <th>mean</th>\n",
       "      <th>std</th>\n",
       "      <th>min</th>\n",
       "      <th>25%</th>\n",
       "      <th>50%</th>\n",
       "      <th>75%</th>\n",
       "      <th>max</th>\n",
       "      <th>count</th>\n",
       "      <th>mean</th>\n",
       "      <th>std</th>\n",
       "      <th>min</th>\n",
       "      <th>25%</th>\n",
       "      <th>50%</th>\n",
       "      <th>75%</th>\n",
       "      <th>max</th>\n",
       "      <th>count</th>\n",
       "      <th>mean</th>\n",
       "      <th>std</th>\n",
       "      <th>min</th>\n",
       "      <th>25%</th>\n",
       "      <th>50%</th>\n",
       "      <th>75%</th>\n",
       "      <th>max</th>\n",
       "      <th>count</th>\n",
       "      <th>mean</th>\n",
       "      <th>std</th>\n",
       "      <th>min</th>\n",
       "      <th>25%</th>\n",
       "      <th>50%</th>\n",
       "      <th>75%</th>\n",
       "      <th>max</th>\n",
       "      <th>count</th>\n",
       "      <th>mean</th>\n",
       "      <th>std</th>\n",
       "      <th>min</th>\n",
       "      <th>25%</th>\n",
       "      <th>50%</th>\n",
       "      <th>75%</th>\n",
       "      <th>max</th>\n",
       "      <th>count</th>\n",
       "      <th>mean</th>\n",
       "      <th>std</th>\n",
       "      <th>min</th>\n",
       "      <th>25%</th>\n",
       "      <th>50%</th>\n",
       "      <th>75%</th>\n",
       "      <th>max</th>\n",
       "      <th>count</th>\n",
       "      <th>mean</th>\n",
       "      <th>std</th>\n",
       "      <th>min</th>\n",
       "      <th>25%</th>\n",
       "      <th>50%</th>\n",
       "      <th>75%</th>\n",
       "      <th>max</th>\n",
       "      <th>count</th>\n",
       "      <th>mean</th>\n",
       "      <th>std</th>\n",
       "      <th>min</th>\n",
       "      <th>25%</th>\n",
       "      <th>50%</th>\n",
       "      <th>75%</th>\n",
       "      <th>max</th>\n",
       "      <th>count</th>\n",
       "      <th>mean</th>\n",
       "      <th>std</th>\n",
       "      <th>min</th>\n",
       "      <th>25%</th>\n",
       "      <th>50%</th>\n",
       "      <th>75%</th>\n",
       "      <th>max</th>\n",
       "      <th>count</th>\n",
       "      <th>mean</th>\n",
       "      <th>std</th>\n",
       "      <th>min</th>\n",
       "      <th>25%</th>\n",
       "      <th>50%</th>\n",
       "      <th>75%</th>\n",
       "      <th>max</th>\n",
       "      <th>count</th>\n",
       "      <th>mean</th>\n",
       "      <th>std</th>\n",
       "      <th>min</th>\n",
       "      <th>25%</th>\n",
       "      <th>50%</th>\n",
       "      <th>75%</th>\n",
       "      <th>max</th>\n",
       "      <th>count</th>\n",
       "      <th>mean</th>\n",
       "      <th>std</th>\n",
       "      <th>min</th>\n",
       "      <th>25%</th>\n",
       "      <th>50%</th>\n",
       "      <th>75%</th>\n",
       "      <th>max</th>\n",
       "      <th>count</th>\n",
       "      <th>mean</th>\n",
       "      <th>std</th>\n",
       "      <th>min</th>\n",
       "      <th>25%</th>\n",
       "      <th>50%</th>\n",
       "      <th>75%</th>\n",
       "      <th>max</th>\n",
       "      <th>count</th>\n",
       "      <th>mean</th>\n",
       "      <th>std</th>\n",
       "      <th>min</th>\n",
       "      <th>25%</th>\n",
       "      <th>50%</th>\n",
       "      <th>75%</th>\n",
       "      <th>max</th>\n",
       "      <th>count</th>\n",
       "      <th>mean</th>\n",
       "      <th>std</th>\n",
       "      <th>min</th>\n",
       "      <th>25%</th>\n",
       "      <th>50%</th>\n",
       "      <th>75%</th>\n",
       "      <th>max</th>\n",
       "      <th>count</th>\n",
       "      <th>mean</th>\n",
       "      <th>std</th>\n",
       "      <th>min</th>\n",
       "      <th>25%</th>\n",
       "      <th>50%</th>\n",
       "      <th>75%</th>\n",
       "      <th>max</th>\n",
       "      <th>count</th>\n",
       "      <th>mean</th>\n",
       "      <th>std</th>\n",
       "      <th>min</th>\n",
       "      <th>25%</th>\n",
       "      <th>50%</th>\n",
       "      <th>75%</th>\n",
       "      <th>max</th>\n",
       "      <th>count</th>\n",
       "      <th>mean</th>\n",
       "      <th>std</th>\n",
       "      <th>min</th>\n",
       "      <th>25%</th>\n",
       "      <th>50%</th>\n",
       "      <th>75%</th>\n",
       "      <th>max</th>\n",
       "      <th>count</th>\n",
       "      <th>mean</th>\n",
       "      <th>std</th>\n",
       "      <th>min</th>\n",
       "      <th>25%</th>\n",
       "      <th>50%</th>\n",
       "      <th>75%</th>\n",
       "      <th>max</th>\n",
       "    </tr>\n",
       "    <tr>\n",
       "      <th>Region</th>\n",
       "      <th></th>\n",
       "      <th></th>\n",
       "      <th></th>\n",
       "      <th></th>\n",
       "      <th></th>\n",
       "      <th></th>\n",
       "      <th></th>\n",
       "      <th></th>\n",
       "      <th></th>\n",
       "      <th></th>\n",
       "      <th></th>\n",
       "      <th></th>\n",
       "      <th></th>\n",
       "      <th></th>\n",
       "      <th></th>\n",
       "      <th></th>\n",
       "      <th></th>\n",
       "      <th></th>\n",
       "      <th></th>\n",
       "      <th></th>\n",
       "      <th></th>\n",
       "      <th></th>\n",
       "      <th></th>\n",
       "      <th></th>\n",
       "      <th></th>\n",
       "      <th></th>\n",
       "      <th></th>\n",
       "      <th></th>\n",
       "      <th></th>\n",
       "      <th></th>\n",
       "      <th></th>\n",
       "      <th></th>\n",
       "      <th></th>\n",
       "      <th></th>\n",
       "      <th></th>\n",
       "      <th></th>\n",
       "      <th></th>\n",
       "      <th></th>\n",
       "      <th></th>\n",
       "      <th></th>\n",
       "      <th></th>\n",
       "      <th></th>\n",
       "      <th></th>\n",
       "      <th></th>\n",
       "      <th></th>\n",
       "      <th></th>\n",
       "      <th></th>\n",
       "      <th></th>\n",
       "      <th></th>\n",
       "      <th></th>\n",
       "      <th></th>\n",
       "      <th></th>\n",
       "      <th></th>\n",
       "      <th></th>\n",
       "      <th></th>\n",
       "      <th></th>\n",
       "      <th></th>\n",
       "      <th></th>\n",
       "      <th></th>\n",
       "      <th></th>\n",
       "      <th></th>\n",
       "      <th></th>\n",
       "      <th></th>\n",
       "      <th></th>\n",
       "      <th></th>\n",
       "      <th></th>\n",
       "      <th></th>\n",
       "      <th></th>\n",
       "      <th></th>\n",
       "      <th></th>\n",
       "      <th></th>\n",
       "      <th></th>\n",
       "      <th></th>\n",
       "      <th></th>\n",
       "      <th></th>\n",
       "      <th></th>\n",
       "      <th></th>\n",
       "      <th></th>\n",
       "      <th></th>\n",
       "      <th></th>\n",
       "      <th></th>\n",
       "      <th></th>\n",
       "      <th></th>\n",
       "      <th></th>\n",
       "      <th></th>\n",
       "      <th></th>\n",
       "      <th></th>\n",
       "      <th></th>\n",
       "      <th></th>\n",
       "      <th></th>\n",
       "      <th></th>\n",
       "      <th></th>\n",
       "      <th></th>\n",
       "      <th></th>\n",
       "      <th></th>\n",
       "      <th></th>\n",
       "      <th></th>\n",
       "      <th></th>\n",
       "      <th></th>\n",
       "      <th></th>\n",
       "      <th></th>\n",
       "      <th></th>\n",
       "      <th></th>\n",
       "      <th></th>\n",
       "      <th></th>\n",
       "      <th></th>\n",
       "      <th></th>\n",
       "      <th></th>\n",
       "      <th></th>\n",
       "      <th></th>\n",
       "      <th></th>\n",
       "      <th></th>\n",
       "      <th></th>\n",
       "      <th></th>\n",
       "      <th></th>\n",
       "      <th></th>\n",
       "      <th></th>\n",
       "      <th></th>\n",
       "      <th></th>\n",
       "      <th></th>\n",
       "      <th></th>\n",
       "      <th></th>\n",
       "      <th></th>\n",
       "      <th></th>\n",
       "      <th></th>\n",
       "      <th></th>\n",
       "      <th></th>\n",
       "      <th></th>\n",
       "      <th></th>\n",
       "      <th></th>\n",
       "      <th></th>\n",
       "      <th></th>\n",
       "      <th></th>\n",
       "      <th></th>\n",
       "      <th></th>\n",
       "      <th></th>\n",
       "      <th></th>\n",
       "      <th></th>\n",
       "      <th></th>\n",
       "      <th></th>\n",
       "      <th></th>\n",
       "      <th></th>\n",
       "      <th></th>\n",
       "      <th></th>\n",
       "      <th></th>\n",
       "      <th></th>\n",
       "      <th></th>\n",
       "      <th></th>\n",
       "      <th></th>\n",
       "      <th></th>\n",
       "      <th></th>\n",
       "      <th></th>\n",
       "      <th></th>\n",
       "      <th></th>\n",
       "      <th></th>\n",
       "      <th></th>\n",
       "      <th></th>\n",
       "      <th></th>\n",
       "      <th></th>\n",
       "      <th></th>\n",
       "      <th></th>\n",
       "      <th></th>\n",
       "      <th></th>\n",
       "      <th></th>\n",
       "      <th></th>\n",
       "      <th></th>\n",
       "      <th></th>\n",
       "      <th></th>\n",
       "      <th></th>\n",
       "      <th></th>\n",
       "      <th></th>\n",
       "      <th></th>\n",
       "      <th></th>\n",
       "      <th></th>\n",
       "      <th></th>\n",
       "      <th></th>\n",
       "      <th></th>\n",
       "      <th></th>\n",
       "      <th></th>\n",
       "      <th></th>\n",
       "      <th></th>\n",
       "      <th></th>\n",
       "      <th></th>\n",
       "      <th></th>\n",
       "      <th></th>\n",
       "      <th></th>\n",
       "      <th></th>\n",
       "      <th></th>\n",
       "      <th></th>\n",
       "      <th></th>\n",
       "      <th></th>\n",
       "      <th></th>\n",
       "      <th></th>\n",
       "      <th></th>\n",
       "      <th></th>\n",
       "      <th></th>\n",
       "      <th></th>\n",
       "      <th></th>\n",
       "      <th></th>\n",
       "      <th></th>\n",
       "      <th></th>\n",
       "      <th></th>\n",
       "      <th></th>\n",
       "      <th></th>\n",
       "      <th></th>\n",
       "      <th></th>\n",
       "      <th></th>\n",
       "      <th></th>\n",
       "      <th></th>\n",
       "      <th></th>\n",
       "      <th></th>\n",
       "      <th></th>\n",
       "      <th></th>\n",
       "      <th></th>\n",
       "      <th></th>\n",
       "      <th></th>\n",
       "      <th></th>\n",
       "      <th></th>\n",
       "      <th></th>\n",
       "      <th></th>\n",
       "      <th></th>\n",
       "      <th></th>\n",
       "      <th></th>\n",
       "      <th></th>\n",
       "      <th></th>\n",
       "      <th></th>\n",
       "      <th></th>\n",
       "      <th></th>\n",
       "      <th></th>\n",
       "      <th></th>\n",
       "      <th></th>\n",
       "      <th></th>\n",
       "      <th></th>\n",
       "      <th></th>\n",
       "      <th></th>\n",
       "      <th></th>\n",
       "      <th></th>\n",
       "      <th></th>\n",
       "      <th></th>\n",
       "      <th></th>\n",
       "      <th></th>\n",
       "      <th></th>\n",
       "      <th></th>\n",
       "      <th></th>\n",
       "      <th></th>\n",
       "      <th></th>\n",
       "      <th></th>\n",
       "      <th></th>\n",
       "      <th></th>\n",
       "      <th></th>\n",
       "      <th></th>\n",
       "      <th></th>\n",
       "      <th></th>\n",
       "      <th></th>\n",
       "      <th></th>\n",
       "      <th></th>\n",
       "      <th></th>\n",
       "      <th></th>\n",
       "      <th></th>\n",
       "      <th></th>\n",
       "      <th></th>\n",
       "      <th></th>\n",
       "      <th></th>\n",
       "      <th></th>\n",
       "      <th></th>\n",
       "      <th></th>\n",
       "      <th></th>\n",
       "      <th></th>\n",
       "      <th></th>\n",
       "      <th></th>\n",
       "      <th></th>\n",
       "      <th></th>\n",
       "      <th></th>\n",
       "      <th></th>\n",
       "      <th></th>\n",
       "      <th></th>\n",
       "      <th></th>\n",
       "      <th></th>\n",
       "      <th></th>\n",
       "      <th></th>\n",
       "      <th></th>\n",
       "      <th></th>\n",
       "      <th></th>\n",
       "      <th></th>\n",
       "      <th></th>\n",
       "      <th></th>\n",
       "      <th></th>\n",
       "      <th></th>\n",
       "      <th></th>\n",
       "      <th></th>\n",
       "      <th></th>\n",
       "      <th></th>\n",
       "      <th></th>\n",
       "      <th></th>\n",
       "      <th></th>\n",
       "      <th></th>\n",
       "      <th></th>\n",
       "      <th></th>\n",
       "      <th></th>\n",
       "      <th></th>\n",
       "      <th></th>\n",
       "      <th></th>\n",
       "      <th></th>\n",
       "      <th></th>\n",
       "      <th></th>\n",
       "      <th></th>\n",
       "      <th></th>\n",
       "      <th></th>\n",
       "      <th></th>\n",
       "      <th></th>\n",
       "      <th></th>\n",
       "      <th></th>\n",
       "      <th></th>\n",
       "      <th></th>\n",
       "      <th></th>\n",
       "      <th></th>\n",
       "      <th></th>\n",
       "      <th></th>\n",
       "      <th></th>\n",
       "      <th></th>\n",
       "      <th></th>\n",
       "      <th></th>\n",
       "      <th></th>\n",
       "      <th></th>\n",
       "      <th></th>\n",
       "      <th></th>\n",
       "      <th></th>\n",
       "      <th></th>\n",
       "    </tr>\n",
       "  </thead>\n",
       "  <tbody>\n",
       "    <tr>\n",
       "      <th>DRY TORT</th>\n",
       "      <td>657.0</td>\n",
       "      <td>2012.614916</td>\n",
       "      <td>3.949293</td>\n",
       "      <td>2006.0</td>\n",
       "      <td>2008.0</td>\n",
       "      <td>2014.0</td>\n",
       "      <td>2016.0</td>\n",
       "      <td>2018.0</td>\n",
       "      <td>657.0</td>\n",
       "      <td>24.650277</td>\n",
       "      <td>0.049885</td>\n",
       "      <td>24.556174</td>\n",
       "      <td>24.607030</td>\n",
       "      <td>24.653880</td>\n",
       "      <td>24.697108</td>\n",
       "      <td>24.724880</td>\n",
       "      <td>657.0</td>\n",
       "      <td>-82.881795</td>\n",
       "      <td>0.056161</td>\n",
       "      <td>-82.986818</td>\n",
       "      <td>-82.929755</td>\n",
       "      <td>-82.887550</td>\n",
       "      <td>-82.835390</td>\n",
       "      <td>-82.770270</td>\n",
       "      <td>657.0</td>\n",
       "      <td>12.555838</td>\n",
       "      <td>4.795944</td>\n",
       "      <td>2.643458</td>\n",
       "      <td>9.123016</td>\n",
       "      <td>12.403218</td>\n",
       "      <td>15.500000</td>\n",
       "      <td>26.768304</td>\n",
       "      <td>657.0</td>\n",
       "      <td>6.591833</td>\n",
       "      <td>6.527406</td>\n",
       "      <td>0.0</td>\n",
       "      <td>2.496516</td>\n",
       "      <td>4.5</td>\n",
       "      <td>8.250541</td>\n",
       "      <td>45.144766</td>\n",
       "      <td>657.0</td>\n",
       "      <td>1.473544</td>\n",
       "      <td>1.215130</td>\n",
       "      <td>0.175000</td>\n",
       "      <td>0.704492</td>\n",
       "      <td>1.122707</td>\n",
       "      <td>1.773516</td>\n",
       "      <td>10.538338</td>\n",
       "      <td>657.0</td>\n",
       "      <td>22.694389</td>\n",
       "      <td>0.219478</td>\n",
       "      <td>22.405206</td>\n",
       "      <td>22.498010</td>\n",
       "      <td>22.647943</td>\n",
       "      <td>22.880884</td>\n",
       "      <td>23.158563</td>\n",
       "      <td>657.0</td>\n",
       "      <td>646.294119</td>\n",
       "      <td>72.664793</td>\n",
       "      <td>490.376801</td>\n",
       "      <td>586.682434</td>\n",
       "      <td>660.569946</td>\n",
       "      <td>715.375549</td>\n",
       "      <td>740.387085</td>\n",
       "      <td>657.0</td>\n",
       "      <td>7.391524</td>\n",
       "      <td>0.137365</td>\n",
       "      <td>6.580157</td>\n",
       "      <td>7.341656</td>\n",
       "      <td>7.449092</td>\n",
       "      <td>7.478632</td>\n",
       "      <td>7.531900</td>\n",
       "      <td>657.0</td>\n",
       "      <td>49674.832572</td>\n",
       "      <td>2649.866771</td>\n",
       "      <td>37427.0</td>\n",
       "      <td>49232.00</td>\n",
       "      <td>51169.0</td>\n",
       "      <td>51169.00</td>\n",
       "      <td>51169.0</td>\n",
       "      <td>657.0</td>\n",
       "      <td>8.899208e+05</td>\n",
       "      <td>24624.988173</td>\n",
       "      <td>814178.0</td>\n",
       "      <td>871224.0</td>\n",
       "      <td>899339.0</td>\n",
       "      <td>910936.0</td>\n",
       "      <td>916146.0</td>\n",
       "      <td>657.0</td>\n",
       "      <td>-13.220700</td>\n",
       "      <td>5.011115</td>\n",
       "      <td>-26.0</td>\n",
       "      <td>-17.0</td>\n",
       "      <td>-13.0</td>\n",
       "      <td>-10.0</td>\n",
       "      <td>-2.0</td>\n",
       "      <td>657.0</td>\n",
       "      <td>5352.504302</td>\n",
       "      <td>3378.261511</td>\n",
       "      <td>500.0</td>\n",
       "      <td>2255.635010</td>\n",
       "      <td>4442.640625</td>\n",
       "      <td>8041.421387</td>\n",
       "      <td>12631.37109</td>\n",
       "      <td>657.0</td>\n",
       "      <td>31470.414643</td>\n",
       "      <td>7125.683600</td>\n",
       "      <td>17529.140630</td>\n",
       "      <td>25443.355470</td>\n",
       "      <td>31247.013670</td>\n",
       "      <td>37645.28906</td>\n",
       "      <td>44596.76172</td>\n",
       "      <td>657.0</td>\n",
       "      <td>0.000000</td>\n",
       "      <td>0.000000</td>\n",
       "      <td>0.0</td>\n",
       "      <td>0.0</td>\n",
       "      <td>0.0</td>\n",
       "      <td>0.0</td>\n",
       "      <td>0.0</td>\n",
       "      <td>657.0</td>\n",
       "      <td>0.000000</td>\n",
       "      <td>0.000000</td>\n",
       "      <td>0.0</td>\n",
       "      <td>0.0</td>\n",
       "      <td>0.0</td>\n",
       "      <td>0.00</td>\n",
       "      <td>0.0</td>\n",
       "      <td>657.0</td>\n",
       "      <td>0.000000</td>\n",
       "      <td>0.000000</td>\n",
       "      <td>0.0</td>\n",
       "      <td>0.0</td>\n",
       "      <td>0.0</td>\n",
       "      <td>0.0</td>\n",
       "      <td>0.0</td>\n",
       "      <td>657.0</td>\n",
       "      <td>0.000000e+00</td>\n",
       "      <td>0.000000e+00</td>\n",
       "      <td>0.0</td>\n",
       "      <td>0.00</td>\n",
       "      <td>0.0</td>\n",
       "      <td>0.0</td>\n",
       "      <td>0.0</td>\n",
       "      <td>657.0</td>\n",
       "      <td>0.000000</td>\n",
       "      <td>0.000000</td>\n",
       "      <td>0.0</td>\n",
       "      <td>0.00</td>\n",
       "      <td>0.0</td>\n",
       "      <td>0.0</td>\n",
       "      <td>0.0</td>\n",
       "      <td>657.0</td>\n",
       "      <td>0.000000</td>\n",
       "      <td>0.000000</td>\n",
       "      <td>0.0</td>\n",
       "      <td>0.000000</td>\n",
       "      <td>0.000000</td>\n",
       "      <td>0.000000</td>\n",
       "      <td>0.000000</td>\n",
       "      <td>657.0</td>\n",
       "      <td>0.00000</td>\n",
       "      <td>0.00000</td>\n",
       "      <td>0.0</td>\n",
       "      <td>0.0</td>\n",
       "      <td>0.0</td>\n",
       "      <td>0.0</td>\n",
       "      <td>0.0</td>\n",
       "      <td>657.0</td>\n",
       "      <td>0.000000</td>\n",
       "      <td>0.000000</td>\n",
       "      <td>0.0</td>\n",
       "      <td>0.0</td>\n",
       "      <td>0.0</td>\n",
       "      <td>0.0</td>\n",
       "      <td>0.0</td>\n",
       "      <td>657.0</td>\n",
       "      <td>0.000000</td>\n",
       "      <td>0.000000</td>\n",
       "      <td>0.0</td>\n",
       "      <td>0.0</td>\n",
       "      <td>0.0</td>\n",
       "      <td>0.0</td>\n",
       "      <td>0.0</td>\n",
       "      <td>657.0</td>\n",
       "      <td>29.958904</td>\n",
       "      <td>0.961048</td>\n",
       "      <td>28.0</td>\n",
       "      <td>29.0</td>\n",
       "      <td>30.0</td>\n",
       "      <td>31.0</td>\n",
       "      <td>32.0</td>\n",
       "      <td>657.0</td>\n",
       "      <td>29.958904</td>\n",
       "      <td>0.961048</td>\n",
       "      <td>28.0</td>\n",
       "      <td>29.0</td>\n",
       "      <td>30.0</td>\n",
       "      <td>31.0</td>\n",
       "      <td>32.0</td>\n",
       "      <td>657.0</td>\n",
       "      <td>8.072472e+06</td>\n",
       "      <td>4.846585e+06</td>\n",
       "      <td>2.268118e+05</td>\n",
       "      <td>3629737.25</td>\n",
       "      <td>9044762.0</td>\n",
       "      <td>1.190114e+07</td>\n",
       "      <td>18009862.0</td>\n",
       "      <td>657.0</td>\n",
       "      <td>4741.637339</td>\n",
       "      <td>11467.546955</td>\n",
       "      <td>0.0</td>\n",
       "      <td>0.00000</td>\n",
       "      <td>0.0000</td>\n",
       "      <td>0.00000</td>\n",
       "      <td>6.359874e+04</td>\n",
       "      <td>657.0</td>\n",
       "      <td>2.805466</td>\n",
       "      <td>1.505019</td>\n",
       "      <td>0.709495</td>\n",
       "      <td>1.546670</td>\n",
       "      <td>2.474678</td>\n",
       "      <td>3.958614</td>\n",
       "      <td>5.979803</td>\n",
       "      <td>657.0</td>\n",
       "      <td>-0.158000</td>\n",
       "      <td>9.999620e-16</td>\n",
       "      <td>-0.158</td>\n",
       "      <td>-0.158</td>\n",
       "      <td>-0.158</td>\n",
       "      <td>-0.158</td>\n",
       "      <td>-0.158</td>\n",
       "      <td>657.0</td>\n",
       "      <td>-0.129000</td>\n",
       "      <td>5.277577e-16</td>\n",
       "      <td>-0.129</td>\n",
       "      <td>-0.129</td>\n",
       "      <td>-0.129</td>\n",
       "      <td>-0.129</td>\n",
       "      <td>-0.129</td>\n",
       "      <td>657.0</td>\n",
       "      <td>-0.260000</td>\n",
       "      <td>6.110879e-16</td>\n",
       "      <td>-0.26</td>\n",
       "      <td>-0.26</td>\n",
       "      <td>-0.260</td>\n",
       "      <td>-0.260</td>\n",
       "      <td>-0.260</td>\n",
       "      <td>657.0</td>\n",
       "      <td>-0.18500</td>\n",
       "      <td>1.527720e-15</td>\n",
       "      <td>-0.185</td>\n",
       "      <td>-0.185</td>\n",
       "      <td>-0.185</td>\n",
       "      <td>-0.185</td>\n",
       "      <td>-0.185</td>\n",
       "      <td>657.0</td>\n",
       "      <td>1.511066e+06</td>\n",
       "      <td>1.747560e-08</td>\n",
       "      <td>1511066.2</td>\n",
       "      <td>1511066.2</td>\n",
       "      <td>1511066.2</td>\n",
       "      <td>1511066.2</td>\n",
       "      <td>1511066.2</td>\n",
       "      <td>657.0</td>\n",
       "      <td>0.000000</td>\n",
       "      <td>0.000000</td>\n",
       "      <td>0.000000</td>\n",
       "      <td>0.000000</td>\n",
       "      <td>0.000000</td>\n",
       "      <td>0.000000</td>\n",
       "      <td>0.000000</td>\n",
       "      <td>657.0</td>\n",
       "      <td>5166.508371</td>\n",
       "      <td>2925.526027</td>\n",
       "      <td>14.0</td>\n",
       "      <td>2734.00</td>\n",
       "      <td>5379.0</td>\n",
       "      <td>7715.0</td>\n",
       "      <td>9997.0</td>\n",
       "      <td>623.0</td>\n",
       "      <td>0.000000</td>\n",
       "      <td>0.000000</td>\n",
       "      <td>0.000</td>\n",
       "      <td>0.000</td>\n",
       "      <td>0.000</td>\n",
       "      <td>0.000</td>\n",
       "      <td>0.000</td>\n",
       "      <td>657.0</td>\n",
       "      <td>2012.614916</td>\n",
       "      <td>3.949293</td>\n",
       "      <td>2006.0</td>\n",
       "      <td>2008.0</td>\n",
       "      <td>2014.0</td>\n",
       "      <td>2016.0</td>\n",
       "      <td>2018.0</td>\n",
       "      <td>657.0</td>\n",
       "      <td>6.591833</td>\n",
       "      <td>6.527406</td>\n",
       "      <td>0.0</td>\n",
       "      <td>2.496516</td>\n",
       "      <td>4.5</td>\n",
       "      <td>8.250541</td>\n",
       "      <td>45.144766</td>\n",
       "      <td>657.0</td>\n",
       "      <td>1.473544</td>\n",
       "      <td>1.215130</td>\n",
       "      <td>0.175000</td>\n",
       "      <td>0.704492</td>\n",
       "      <td>1.122707</td>\n",
       "      <td>1.773516</td>\n",
       "      <td>10.538338</td>\n",
       "      <td>657.0</td>\n",
       "      <td>3.652968</td>\n",
       "      <td>0.757963</td>\n",
       "      <td>2.0</td>\n",
       "      <td>4.0</td>\n",
       "      <td>4.0</td>\n",
       "      <td>4.0</td>\n",
       "      <td>4.0</td>\n",
       "      <td>657.0</td>\n",
       "      <td>0.800910</td>\n",
       "      <td>0.155801</td>\n",
       "      <td>0.070070</td>\n",
       "      <td>0.745238</td>\n",
       "      <td>0.866684</td>\n",
       "      <td>0.909657</td>\n",
       "      <td>0.953566</td>\n",
       "    </tr>\n",
       "    <tr>\n",
       "      <th>FLA KEYS</th>\n",
       "      <td>1912.0</td>\n",
       "      <td>2011.559623</td>\n",
       "      <td>3.919600</td>\n",
       "      <td>2005.0</td>\n",
       "      <td>2008.0</td>\n",
       "      <td>2011.0</td>\n",
       "      <td>2014.0</td>\n",
       "      <td>2018.0</td>\n",
       "      <td>1912.0</td>\n",
       "      <td>24.885758</td>\n",
       "      <td>0.370328</td>\n",
       "      <td>24.431943</td>\n",
       "      <td>24.521721</td>\n",
       "      <td>24.873944</td>\n",
       "      <td>25.165284</td>\n",
       "      <td>25.747985</td>\n",
       "      <td>1912.0</td>\n",
       "      <td>-80.867189</td>\n",
       "      <td>0.665016</td>\n",
       "      <td>-82.010879</td>\n",
       "      <td>-81.586879</td>\n",
       "      <td>-80.583384</td>\n",
       "      <td>-80.253405</td>\n",
       "      <td>-80.087362</td>\n",
       "      <td>1912.0</td>\n",
       "      <td>9.348063</td>\n",
       "      <td>5.704948</td>\n",
       "      <td>1.300482</td>\n",
       "      <td>5.149989</td>\n",
       "      <td>7.647413</td>\n",
       "      <td>11.838487</td>\n",
       "      <td>30.444428</td>\n",
       "      <td>1912.0</td>\n",
       "      <td>4.803541</td>\n",
       "      <td>5.653140</td>\n",
       "      <td>0.0</td>\n",
       "      <td>1.734004</td>\n",
       "      <td>3.0</td>\n",
       "      <td>5.729213</td>\n",
       "      <td>55.000000</td>\n",
       "      <td>1912.0</td>\n",
       "      <td>1.067548</td>\n",
       "      <td>0.701043</td>\n",
       "      <td>0.100000</td>\n",
       "      <td>0.501552</td>\n",
       "      <td>0.923627</td>\n",
       "      <td>1.448243</td>\n",
       "      <td>4.276307</td>\n",
       "      <td>1912.0</td>\n",
       "      <td>23.876906</td>\n",
       "      <td>0.259182</td>\n",
       "      <td>23.091394</td>\n",
       "      <td>23.679536</td>\n",
       "      <td>23.808221</td>\n",
       "      <td>24.111978</td>\n",
       "      <td>24.436212</td>\n",
       "      <td>1912.0</td>\n",
       "      <td>587.624796</td>\n",
       "      <td>146.868713</td>\n",
       "      <td>335.438965</td>\n",
       "      <td>512.950790</td>\n",
       "      <td>570.604553</td>\n",
       "      <td>650.953476</td>\n",
       "      <td>1330.589233</td>\n",
       "      <td>1912.0</td>\n",
       "      <td>7.244949</td>\n",
       "      <td>0.264535</td>\n",
       "      <td>5.213092</td>\n",
       "      <td>7.116745</td>\n",
       "      <td>7.336214</td>\n",
       "      <td>7.427397</td>\n",
       "      <td>7.556130</td>\n",
       "      <td>1912.0</td>\n",
       "      <td>87577.497908</td>\n",
       "      <td>48758.258532</td>\n",
       "      <td>32177.0</td>\n",
       "      <td>54697.25</td>\n",
       "      <td>62942.5</td>\n",
       "      <td>112220.50</td>\n",
       "      <td>280125.0</td>\n",
       "      <td>1912.0</td>\n",
       "      <td>1.110316e+06</td>\n",
       "      <td>44828.482342</td>\n",
       "      <td>985601.0</td>\n",
       "      <td>1074202.0</td>\n",
       "      <td>1105299.0</td>\n",
       "      <td>1147425.0</td>\n",
       "      <td>1203928.0</td>\n",
       "      <td>1912.0</td>\n",
       "      <td>-11.466004</td>\n",
       "      <td>7.012428</td>\n",
       "      <td>-46.0</td>\n",
       "      <td>-15.0</td>\n",
       "      <td>-10.0</td>\n",
       "      <td>-6.0</td>\n",
       "      <td>-2.0</td>\n",
       "      <td>1912.0</td>\n",
       "      <td>1766.563927</td>\n",
       "      <td>1842.228817</td>\n",
       "      <td>0.0</td>\n",
       "      <td>741.421387</td>\n",
       "      <td>1089.949463</td>\n",
       "      <td>1900.000000</td>\n",
       "      <td>11272.28711</td>\n",
       "      <td>1912.0</td>\n",
       "      <td>10929.259552</td>\n",
       "      <td>9938.254731</td>\n",
       "      <td>141.421356</td>\n",
       "      <td>4021.751526</td>\n",
       "      <td>7687.005860</td>\n",
       "      <td>15419.77490</td>\n",
       "      <td>50031.07422</td>\n",
       "      <td>1912.0</td>\n",
       "      <td>147.646967</td>\n",
       "      <td>246.393402</td>\n",
       "      <td>0.0</td>\n",
       "      <td>0.0</td>\n",
       "      <td>0.0</td>\n",
       "      <td>200.0</td>\n",
       "      <td>1296.0</td>\n",
       "      <td>1912.0</td>\n",
       "      <td>1084.875000</td>\n",
       "      <td>668.016702</td>\n",
       "      <td>60.0</td>\n",
       "      <td>636.0</td>\n",
       "      <td>753.0</td>\n",
       "      <td>1577.00</td>\n",
       "      <td>3620.0</td>\n",
       "      <td>1912.0</td>\n",
       "      <td>29125.660042</td>\n",
       "      <td>98661.618367</td>\n",
       "      <td>0.0</td>\n",
       "      <td>6487.0</td>\n",
       "      <td>9608.0</td>\n",
       "      <td>21771.0</td>\n",
       "      <td>1093581.0</td>\n",
       "      <td>1912.0</td>\n",
       "      <td>4.487537e+05</td>\n",
       "      <td>8.556600e+05</td>\n",
       "      <td>17885.0</td>\n",
       "      <td>36346.75</td>\n",
       "      <td>48057.0</td>\n",
       "      <td>267499.0</td>\n",
       "      <td>3840243.0</td>\n",
       "      <td>1912.0</td>\n",
       "      <td>22975.629184</td>\n",
       "      <td>28695.424281</td>\n",
       "      <td>4583.0</td>\n",
       "      <td>7210.75</td>\n",
       "      <td>9484.0</td>\n",
       "      <td>21877.0</td>\n",
       "      <td>129124.0</td>\n",
       "      <td>1912.0</td>\n",
       "      <td>6.756122</td>\n",
       "      <td>12.649855</td>\n",
       "      <td>0.0</td>\n",
       "      <td>0.924428</td>\n",
       "      <td>1.675894</td>\n",
       "      <td>3.202735</td>\n",
       "      <td>54.413592</td>\n",
       "      <td>1912.0</td>\n",
       "      <td>0.13023</td>\n",
       "      <td>0.68266</td>\n",
       "      <td>0.0</td>\n",
       "      <td>0.0</td>\n",
       "      <td>0.0</td>\n",
       "      <td>0.0</td>\n",
       "      <td>18.0</td>\n",
       "      <td>1912.0</td>\n",
       "      <td>52.961297</td>\n",
       "      <td>18.270700</td>\n",
       "      <td>29.0</td>\n",
       "      <td>37.0</td>\n",
       "      <td>47.0</td>\n",
       "      <td>70.0</td>\n",
       "      <td>91.0</td>\n",
       "      <td>1912.0</td>\n",
       "      <td>67.186192</td>\n",
       "      <td>53.372597</td>\n",
       "      <td>0.0</td>\n",
       "      <td>23.0</td>\n",
       "      <td>56.0</td>\n",
       "      <td>126.0</td>\n",
       "      <td>188.0</td>\n",
       "      <td>1886.0</td>\n",
       "      <td>268.327147</td>\n",
       "      <td>716.110743</td>\n",
       "      <td>0.0</td>\n",
       "      <td>106.0</td>\n",
       "      <td>185.0</td>\n",
       "      <td>275.0</td>\n",
       "      <td>9240.0</td>\n",
       "      <td>1886.0</td>\n",
       "      <td>268.327147</td>\n",
       "      <td>716.110743</td>\n",
       "      <td>0.0</td>\n",
       "      <td>106.0</td>\n",
       "      <td>185.0</td>\n",
       "      <td>275.0</td>\n",
       "      <td>9240.0</td>\n",
       "      <td>1912.0</td>\n",
       "      <td>3.429674e+07</td>\n",
       "      <td>1.654634e+07</td>\n",
       "      <td>2.341337e+06</td>\n",
       "      <td>22782476.00</td>\n",
       "      <td>33513030.0</td>\n",
       "      <td>4.496286e+07</td>\n",
       "      <td>96451800.0</td>\n",
       "      <td>1912.0</td>\n",
       "      <td>537549.613636</td>\n",
       "      <td>911634.912597</td>\n",
       "      <td>0.0</td>\n",
       "      <td>102078.63280</td>\n",
       "      <td>268773.0469</td>\n",
       "      <td>488034.96880</td>\n",
       "      <td>8.003560e+06</td>\n",
       "      <td>1892.0</td>\n",
       "      <td>17.622329</td>\n",
       "      <td>10.237206</td>\n",
       "      <td>0.667306</td>\n",
       "      <td>9.984375</td>\n",
       "      <td>16.510211</td>\n",
       "      <td>20.403984</td>\n",
       "      <td>55.598740</td>\n",
       "      <td>1835.0</td>\n",
       "      <td>0.374270</td>\n",
       "      <td>1.034626e+00</td>\n",
       "      <td>-0.158</td>\n",
       "      <td>-0.158</td>\n",
       "      <td>-0.158</td>\n",
       "      <td>0.446</td>\n",
       "      <td>4.229</td>\n",
       "      <td>1835.0</td>\n",
       "      <td>-0.005663</td>\n",
       "      <td>1.827545e-01</td>\n",
       "      <td>-0.129</td>\n",
       "      <td>-0.129</td>\n",
       "      <td>-0.129</td>\n",
       "      <td>0.244</td>\n",
       "      <td>0.347</td>\n",
       "      <td>1835.0</td>\n",
       "      <td>0.392157</td>\n",
       "      <td>1.225616e+00</td>\n",
       "      <td>-0.26</td>\n",
       "      <td>-0.26</td>\n",
       "      <td>-0.176</td>\n",
       "      <td>0.515</td>\n",
       "      <td>7.853</td>\n",
       "      <td>1835.0</td>\n",
       "      <td>1.10410</td>\n",
       "      <td>3.145563e+00</td>\n",
       "      <td>-0.185</td>\n",
       "      <td>-0.185</td>\n",
       "      <td>0.044</td>\n",
       "      <td>0.480</td>\n",
       "      <td>12.140</td>\n",
       "      <td>1911.0</td>\n",
       "      <td>6.425352e+05</td>\n",
       "      <td>3.061927e+05</td>\n",
       "      <td>318050.4</td>\n",
       "      <td>318050.4</td>\n",
       "      <td>613278.2</td>\n",
       "      <td>855670.2</td>\n",
       "      <td>1511066.2</td>\n",
       "      <td>1912.0</td>\n",
       "      <td>0.400213</td>\n",
       "      <td>1.495034</td>\n",
       "      <td>0.000000</td>\n",
       "      <td>0.046549</td>\n",
       "      <td>0.139163</td>\n",
       "      <td>0.275174</td>\n",
       "      <td>15.117238</td>\n",
       "      <td>1912.0</td>\n",
       "      <td>4979.459728</td>\n",
       "      <td>2916.216098</td>\n",
       "      <td>1.0</td>\n",
       "      <td>2410.25</td>\n",
       "      <td>4963.5</td>\n",
       "      <td>7568.0</td>\n",
       "      <td>9983.0</td>\n",
       "      <td>931.0</td>\n",
       "      <td>0.390858</td>\n",
       "      <td>0.146493</td>\n",
       "      <td>0.033</td>\n",
       "      <td>0.344</td>\n",
       "      <td>0.382</td>\n",
       "      <td>0.424</td>\n",
       "      <td>0.724</td>\n",
       "      <td>1912.0</td>\n",
       "      <td>2011.559623</td>\n",
       "      <td>3.919600</td>\n",
       "      <td>2005.0</td>\n",
       "      <td>2008.0</td>\n",
       "      <td>2011.0</td>\n",
       "      <td>2014.0</td>\n",
       "      <td>2018.0</td>\n",
       "      <td>1912.0</td>\n",
       "      <td>4.803541</td>\n",
       "      <td>5.653140</td>\n",
       "      <td>0.0</td>\n",
       "      <td>1.734004</td>\n",
       "      <td>3.0</td>\n",
       "      <td>5.729213</td>\n",
       "      <td>55.000000</td>\n",
       "      <td>1912.0</td>\n",
       "      <td>1.067548</td>\n",
       "      <td>0.701043</td>\n",
       "      <td>0.100000</td>\n",
       "      <td>0.501552</td>\n",
       "      <td>0.923627</td>\n",
       "      <td>1.448243</td>\n",
       "      <td>4.276307</td>\n",
       "      <td>1912.0</td>\n",
       "      <td>3.440377</td>\n",
       "      <td>0.909627</td>\n",
       "      <td>2.0</td>\n",
       "      <td>2.0</td>\n",
       "      <td>4.0</td>\n",
       "      <td>4.0</td>\n",
       "      <td>8.0</td>\n",
       "      <td>1912.0</td>\n",
       "      <td>0.845624</td>\n",
       "      <td>0.100311</td>\n",
       "      <td>0.000000</td>\n",
       "      <td>0.827639</td>\n",
       "      <td>0.874371</td>\n",
       "      <td>0.902555</td>\n",
       "      <td>0.952093</td>\n",
       "    </tr>\n",
       "    <tr>\n",
       "      <th>SEFCRI</th>\n",
       "      <td>1430.0</td>\n",
       "      <td>2014.784615</td>\n",
       "      <td>1.776068</td>\n",
       "      <td>2013.0</td>\n",
       "      <td>2013.0</td>\n",
       "      <td>2014.0</td>\n",
       "      <td>2016.0</td>\n",
       "      <td>2018.0</td>\n",
       "      <td>1430.0</td>\n",
       "      <td>26.325238</td>\n",
       "      <td>0.414020</td>\n",
       "      <td>25.521929</td>\n",
       "      <td>25.987080</td>\n",
       "      <td>26.210477</td>\n",
       "      <td>26.714850</td>\n",
       "      <td>27.189445</td>\n",
       "      <td>1430.0</td>\n",
       "      <td>-80.069455</td>\n",
       "      <td>0.036336</td>\n",
       "      <td>-80.158891</td>\n",
       "      <td>-80.098594</td>\n",
       "      <td>-80.082334</td>\n",
       "      <td>-80.032113</td>\n",
       "      <td>-79.993800</td>\n",
       "      <td>1430.0</td>\n",
       "      <td>15.377756</td>\n",
       "      <td>7.733376</td>\n",
       "      <td>1.700000</td>\n",
       "      <td>7.800000</td>\n",
       "      <td>15.900000</td>\n",
       "      <td>22.400000</td>\n",
       "      <td>32.295441</td>\n",
       "      <td>723.0</td>\n",
       "      <td>2.023241</td>\n",
       "      <td>2.317538</td>\n",
       "      <td>0.0</td>\n",
       "      <td>1.000000</td>\n",
       "      <td>1.5</td>\n",
       "      <td>2.500000</td>\n",
       "      <td>30.470367</td>\n",
       "      <td>723.0</td>\n",
       "      <td>0.847077</td>\n",
       "      <td>0.681836</td>\n",
       "      <td>0.075887</td>\n",
       "      <td>0.374924</td>\n",
       "      <td>0.650000</td>\n",
       "      <td>1.150593</td>\n",
       "      <td>6.203144</td>\n",
       "      <td>1430.0</td>\n",
       "      <td>24.095222</td>\n",
       "      <td>0.298492</td>\n",
       "      <td>22.794366</td>\n",
       "      <td>24.104944</td>\n",
       "      <td>24.205011</td>\n",
       "      <td>24.240381</td>\n",
       "      <td>24.323297</td>\n",
       "      <td>1430.0</td>\n",
       "      <td>380.843409</td>\n",
       "      <td>103.118413</td>\n",
       "      <td>287.664307</td>\n",
       "      <td>337.432076</td>\n",
       "      <td>349.282318</td>\n",
       "      <td>391.596901</td>\n",
       "      <td>1050.926514</td>\n",
       "      <td>1430.0</td>\n",
       "      <td>7.394364</td>\n",
       "      <td>0.085016</td>\n",
       "      <td>7.147758</td>\n",
       "      <td>7.341602</td>\n",
       "      <td>7.371072</td>\n",
       "      <td>7.457270</td>\n",
       "      <td>7.597482</td>\n",
       "      <td>1430.0</td>\n",
       "      <td>74648.778322</td>\n",
       "      <td>43678.816280</td>\n",
       "      <td>12257.0</td>\n",
       "      <td>40204.75</td>\n",
       "      <td>71368.5</td>\n",
       "      <td>83934.75</td>\n",
       "      <td>164119.0</td>\n",
       "      <td>1430.0</td>\n",
       "      <td>6.806070e+05</td>\n",
       "      <td>219616.267217</td>\n",
       "      <td>342041.0</td>\n",
       "      <td>433597.5</td>\n",
       "      <td>736351.0</td>\n",
       "      <td>884676.5</td>\n",
       "      <td>1076425.0</td>\n",
       "      <td>1430.0</td>\n",
       "      <td>-17.351365</td>\n",
       "      <td>10.083875</td>\n",
       "      <td>-56.0</td>\n",
       "      <td>-24.0</td>\n",
       "      <td>-18.0</td>\n",
       "      <td>-8.0</td>\n",
       "      <td>-2.0</td>\n",
       "      <td>1430.0</td>\n",
       "      <td>1381.458229</td>\n",
       "      <td>2012.133701</td>\n",
       "      <td>0.0</td>\n",
       "      <td>200.000000</td>\n",
       "      <td>912.132050</td>\n",
       "      <td>1741.421387</td>\n",
       "      <td>11521.32031</td>\n",
       "      <td>1430.0</td>\n",
       "      <td>9747.527452</td>\n",
       "      <td>7017.104124</td>\n",
       "      <td>0.000000</td>\n",
       "      <td>3752.691162</td>\n",
       "      <td>8212.741699</td>\n",
       "      <td>14462.74219</td>\n",
       "      <td>26714.21289</td>\n",
       "      <td>1430.0</td>\n",
       "      <td>943.406294</td>\n",
       "      <td>655.158637</td>\n",
       "      <td>0.0</td>\n",
       "      <td>507.0</td>\n",
       "      <td>847.0</td>\n",
       "      <td>1272.0</td>\n",
       "      <td>2490.0</td>\n",
       "      <td>1430.0</td>\n",
       "      <td>2685.504895</td>\n",
       "      <td>1509.706516</td>\n",
       "      <td>521.0</td>\n",
       "      <td>954.0</td>\n",
       "      <td>3478.0</td>\n",
       "      <td>3852.25</td>\n",
       "      <td>5459.0</td>\n",
       "      <td>1430.0</td>\n",
       "      <td>858857.305594</td>\n",
       "      <td>377879.301941</td>\n",
       "      <td>4981.0</td>\n",
       "      <td>661710.0</td>\n",
       "      <td>1022645.0</td>\n",
       "      <td>1157437.0</td>\n",
       "      <td>1482050.0</td>\n",
       "      <td>1430.0</td>\n",
       "      <td>3.120377e+06</td>\n",
       "      <td>1.303031e+06</td>\n",
       "      <td>696127.0</td>\n",
       "      <td>1525207.75</td>\n",
       "      <td>3814364.0</td>\n",
       "      <td>4243689.0</td>\n",
       "      <td>4480603.0</td>\n",
       "      <td>1430.0</td>\n",
       "      <td>100538.322378</td>\n",
       "      <td>32974.666780</td>\n",
       "      <td>29932.0</td>\n",
       "      <td>61957.75</td>\n",
       "      <td>110540.0</td>\n",
       "      <td>130817.0</td>\n",
       "      <td>140719.0</td>\n",
       "      <td>1430.0</td>\n",
       "      <td>32.329294</td>\n",
       "      <td>23.224133</td>\n",
       "      <td>0.0</td>\n",
       "      <td>4.688984</td>\n",
       "      <td>42.859558</td>\n",
       "      <td>50.149289</td>\n",
       "      <td>60.773111</td>\n",
       "      <td>1430.0</td>\n",
       "      <td>1.60000</td>\n",
       "      <td>3.86450</td>\n",
       "      <td>0.0</td>\n",
       "      <td>0.0</td>\n",
       "      <td>0.0</td>\n",
       "      <td>1.0</td>\n",
       "      <td>26.0</td>\n",
       "      <td>1430.0</td>\n",
       "      <td>38.775524</td>\n",
       "      <td>9.371089</td>\n",
       "      <td>19.0</td>\n",
       "      <td>32.0</td>\n",
       "      <td>36.0</td>\n",
       "      <td>48.0</td>\n",
       "      <td>58.0</td>\n",
       "      <td>1430.0</td>\n",
       "      <td>32.743357</td>\n",
       "      <td>9.398227</td>\n",
       "      <td>1.0</td>\n",
       "      <td>26.0</td>\n",
       "      <td>34.0</td>\n",
       "      <td>42.0</td>\n",
       "      <td>45.0</td>\n",
       "      <td>1353.0</td>\n",
       "      <td>6670.384331</td>\n",
       "      <td>9921.340416</td>\n",
       "      <td>314.0</td>\n",
       "      <td>1278.0</td>\n",
       "      <td>1731.0</td>\n",
       "      <td>9240.0</td>\n",
       "      <td>39335.0</td>\n",
       "      <td>1353.0</td>\n",
       "      <td>6670.384331</td>\n",
       "      <td>9921.340416</td>\n",
       "      <td>314.0</td>\n",
       "      <td>1278.0</td>\n",
       "      <td>1731.0</td>\n",
       "      <td>9240.0</td>\n",
       "      <td>39335.0</td>\n",
       "      <td>1430.0</td>\n",
       "      <td>3.379230e+05</td>\n",
       "      <td>1.754779e+06</td>\n",
       "      <td>0.000000e+00</td>\n",
       "      <td>0.00</td>\n",
       "      <td>0.0</td>\n",
       "      <td>5.845909e+03</td>\n",
       "      <td>54737176.0</td>\n",
       "      <td>1430.0</td>\n",
       "      <td>311978.326287</td>\n",
       "      <td>458212.529527</td>\n",
       "      <td>0.0</td>\n",
       "      <td>22566.46143</td>\n",
       "      <td>160190.3438</td>\n",
       "      <td>406708.46095</td>\n",
       "      <td>2.581282e+06</td>\n",
       "      <td>827.0</td>\n",
       "      <td>53.993249</td>\n",
       "      <td>30.366191</td>\n",
       "      <td>21.638298</td>\n",
       "      <td>32.740639</td>\n",
       "      <td>41.571117</td>\n",
       "      <td>74.004383</td>\n",
       "      <td>109.548727</td>\n",
       "      <td>1418.0</td>\n",
       "      <td>-0.121768</td>\n",
       "      <td>7.705378e-02</td>\n",
       "      <td>-0.158</td>\n",
       "      <td>-0.158</td>\n",
       "      <td>-0.148</td>\n",
       "      <td>-0.105</td>\n",
       "      <td>1.236</td>\n",
       "      <td>1418.0</td>\n",
       "      <td>-0.125590</td>\n",
       "      <td>5.499531e-03</td>\n",
       "      <td>-0.129</td>\n",
       "      <td>-0.129</td>\n",
       "      <td>-0.128</td>\n",
       "      <td>-0.124</td>\n",
       "      <td>-0.099</td>\n",
       "      <td>1418.0</td>\n",
       "      <td>-0.176547</td>\n",
       "      <td>2.559382e-01</td>\n",
       "      <td>-0.26</td>\n",
       "      <td>-0.26</td>\n",
       "      <td>-0.260</td>\n",
       "      <td>-0.260</td>\n",
       "      <td>2.560</td>\n",
       "      <td>1418.0</td>\n",
       "      <td>-0.17274</td>\n",
       "      <td>3.823997e-02</td>\n",
       "      <td>-0.185</td>\n",
       "      <td>-0.185</td>\n",
       "      <td>-0.185</td>\n",
       "      <td>-0.185</td>\n",
       "      <td>0.050</td>\n",
       "      <td>1430.0</td>\n",
       "      <td>2.120480e+05</td>\n",
       "      <td>6.259947e+04</td>\n",
       "      <td>170631.4</td>\n",
       "      <td>170631.4</td>\n",
       "      <td>170631.4</td>\n",
       "      <td>246995.4</td>\n",
       "      <td>318050.4</td>\n",
       "      <td>1430.0</td>\n",
       "      <td>17.325544</td>\n",
       "      <td>12.443022</td>\n",
       "      <td>0.141663</td>\n",
       "      <td>7.928125</td>\n",
       "      <td>15.516790</td>\n",
       "      <td>23.265264</td>\n",
       "      <td>55.371104</td>\n",
       "      <td>1430.0</td>\n",
       "      <td>5083.717483</td>\n",
       "      <td>2921.036667</td>\n",
       "      <td>2.0</td>\n",
       "      <td>2570.00</td>\n",
       "      <td>5126.0</td>\n",
       "      <td>7628.0</td>\n",
       "      <td>9997.0</td>\n",
       "      <td>1225.0</td>\n",
       "      <td>0.611820</td>\n",
       "      <td>0.192886</td>\n",
       "      <td>0.200</td>\n",
       "      <td>0.485</td>\n",
       "      <td>0.694</td>\n",
       "      <td>0.740</td>\n",
       "      <td>1.000</td>\n",
       "      <td>1430.0</td>\n",
       "      <td>2014.784615</td>\n",
       "      <td>1.776068</td>\n",
       "      <td>2013.0</td>\n",
       "      <td>2013.0</td>\n",
       "      <td>2014.0</td>\n",
       "      <td>2016.0</td>\n",
       "      <td>2018.0</td>\n",
       "      <td>723.0</td>\n",
       "      <td>2.023241</td>\n",
       "      <td>2.317538</td>\n",
       "      <td>0.0</td>\n",
       "      <td>1.000000</td>\n",
       "      <td>1.5</td>\n",
       "      <td>2.500000</td>\n",
       "      <td>30.470367</td>\n",
       "      <td>723.0</td>\n",
       "      <td>0.847077</td>\n",
       "      <td>0.681836</td>\n",
       "      <td>0.075887</td>\n",
       "      <td>0.374924</td>\n",
       "      <td>0.650000</td>\n",
       "      <td>1.150593</td>\n",
       "      <td>6.203144</td>\n",
       "      <td>1430.0</td>\n",
       "      <td>2.434965</td>\n",
       "      <td>0.825356</td>\n",
       "      <td>2.0</td>\n",
       "      <td>2.0</td>\n",
       "      <td>2.0</td>\n",
       "      <td>2.0</td>\n",
       "      <td>4.0</td>\n",
       "      <td>1430.0</td>\n",
       "      <td>0.826583</td>\n",
       "      <td>0.107408</td>\n",
       "      <td>0.109675</td>\n",
       "      <td>0.807271</td>\n",
       "      <td>0.854558</td>\n",
       "      <td>0.890057</td>\n",
       "      <td>0.956324</td>\n",
       "    </tr>\n",
       "  </tbody>\n",
       "</table>\n",
       "</div>"
      ],
      "text/plain": [
       "            Year                                                         \\\n",
       "           count         mean       std     min     25%     50%     75%   \n",
       "Region                                                                    \n",
       "DRY TORT   657.0  2012.614916  3.949293  2006.0  2008.0  2014.0  2016.0   \n",
       "FLA KEYS  1912.0  2011.559623  3.919600  2005.0  2008.0  2011.0  2014.0   \n",
       "SEFCRI    1430.0  2014.784615  1.776068  2013.0  2013.0  2014.0  2016.0   \n",
       "\n",
       "                 Latitude                                             \\\n",
       "             max    count       mean       std        min        25%   \n",
       "Region                                                                 \n",
       "DRY TORT  2018.0    657.0  24.650277  0.049885  24.556174  24.607030   \n",
       "FLA KEYS  2018.0   1912.0  24.885758  0.370328  24.431943  24.521721   \n",
       "SEFCRI    2018.0   1430.0  26.325238  0.414020  25.521929  25.987080   \n",
       "\n",
       "                                          Longitude                       \\\n",
       "                50%        75%        max     count       mean       std   \n",
       "Region                                                                     \n",
       "DRY TORT  24.653880  24.697108  24.724880     657.0 -82.881795  0.056161   \n",
       "FLA KEYS  24.873944  25.165284  25.747985    1912.0 -80.867189  0.665016   \n",
       "SEFCRI    26.210477  26.714850  27.189445    1430.0 -80.069455  0.036336   \n",
       "\n",
       "                                                                  Depth  \\\n",
       "                min        25%        50%        75%        max   count   \n",
       "Region                                                                    \n",
       "DRY TORT -82.986818 -82.929755 -82.887550 -82.835390 -82.770270   657.0   \n",
       "FLA KEYS -82.010879 -81.586879 -80.583384 -80.253405 -80.087362  1912.0   \n",
       "SEFCRI   -80.158891 -80.098594 -80.082334 -80.032113 -79.993800  1430.0   \n",
       "\n",
       "                                                                         \\\n",
       "               mean       std       min       25%        50%        75%   \n",
       "Region                                                                    \n",
       "DRY TORT  12.555838  4.795944  2.643458  9.123016  12.403218  15.500000   \n",
       "FLA KEYS   9.348063  5.704948  1.300482  5.149989   7.647413  11.838487   \n",
       "SEFCRI    15.377756  7.733376  1.700000  7.800000  15.900000  22.400000   \n",
       "\n",
       "                    Coral_cover                                          \\\n",
       "                max       count      mean       std  min       25%  50%   \n",
       "Region                                                                    \n",
       "DRY TORT  26.768304       657.0  6.591833  6.527406  0.0  2.496516  4.5   \n",
       "FLA KEYS  30.444428      1912.0  4.803541  5.653140  0.0  1.734004  3.0   \n",
       "SEFCRI    32.295441       723.0  2.023241  2.317538  0.0  1.000000  1.5   \n",
       "\n",
       "                              Reef_complexity                                \\\n",
       "               75%        max           count      mean       std       min   \n",
       "Region                                                                        \n",
       "DRY TORT  8.250541  45.144766           657.0  1.473544  1.215130  0.175000   \n",
       "FLA KEYS  5.729213  55.000000          1912.0  1.067548  0.701043  0.100000   \n",
       "SEFCRI    2.500000  30.470367           723.0  0.847077  0.681836  0.075887   \n",
       "\n",
       "                                                      SST             \\\n",
       "               25%       50%       75%        max   count       mean   \n",
       "Region                                                                 \n",
       "DRY TORT  0.704492  1.122707  1.773516  10.538338   657.0  22.694389   \n",
       "FLA KEYS  0.501552  0.923627  1.448243   4.276307  1912.0  23.876906   \n",
       "SEFCRI    0.374924  0.650000  1.150593   6.203144  1430.0  24.095222   \n",
       "\n",
       "                                                                           \\\n",
       "               std        min        25%        50%        75%        max   \n",
       "Region                                                                      \n",
       "DRY TORT  0.219478  22.405206  22.498010  22.647943  22.880884  23.158563   \n",
       "FLA KEYS  0.259182  23.091394  23.679536  23.808221  24.111978  24.436212   \n",
       "SEFCRI    0.298492  22.794366  24.104944  24.205011  24.240381  24.323297   \n",
       "\n",
       "             NPP                                                              \\\n",
       "           count        mean         std         min         25%         50%   \n",
       "Region                                                                         \n",
       "DRY TORT   657.0  646.294119   72.664793  490.376801  586.682434  660.569946   \n",
       "FLA KEYS  1912.0  587.624796  146.868713  335.438965  512.950790  570.604553   \n",
       "SEFCRI    1430.0  380.843409  103.118413  287.664307  337.432076  349.282318   \n",
       "\n",
       "                                  Wave_exposure                                \\\n",
       "                 75%          max         count      mean       std       min   \n",
       "Region                                                                          \n",
       "DRY TORT  715.375549   740.387085         657.0  7.391524  0.137365  6.580157   \n",
       "FLA KEYS  650.953476  1330.589233        1912.0  7.244949  0.264535  5.213092   \n",
       "SEFCRI    391.596901  1050.926514        1430.0  7.394364  0.085016  7.147758   \n",
       "\n",
       "                                                 Coral_area_UFRTM_20km  \\\n",
       "               25%       50%       75%       max                 count   \n",
       "Region                                                                   \n",
       "DRY TORT  7.341656  7.449092  7.478632  7.531900                 657.0   \n",
       "FLA KEYS  7.116745  7.336214  7.427397  7.556130                1912.0   \n",
       "SEFCRI    7.341602  7.371072  7.457270  7.597482                1430.0   \n",
       "\n",
       "                                                                             \\\n",
       "                  mean           std      min       25%      50%        75%   \n",
       "Region                                                                        \n",
       "DRY TORT  49674.832572   2649.866771  37427.0  49232.00  51169.0   51169.00   \n",
       "FLA KEYS  87577.497908  48758.258532  32177.0  54697.25  62942.5  112220.50   \n",
       "SEFCRI    74648.778322  43678.816280  12257.0  40204.75  71368.5   83934.75   \n",
       "\n",
       "                   Coral_area_UFRTM_200km                               \\\n",
       "               max                  count          mean            std   \n",
       "Region                                                                   \n",
       "DRY TORT   51169.0                  657.0  8.899208e+05   24624.988173   \n",
       "FLA KEYS  280125.0                 1912.0  1.110316e+06   44828.482342   \n",
       "SEFCRI    164119.0                 1430.0  6.806070e+05  219616.267217   \n",
       "\n",
       "                                                               Depth_Sbrocco  \\\n",
       "               min        25%        50%        75%        max         count   \n",
       "Region                                                                         \n",
       "DRY TORT  814178.0   871224.0   899339.0   910936.0   916146.0         657.0   \n",
       "FLA KEYS  985601.0  1074202.0  1105299.0  1147425.0  1203928.0        1912.0   \n",
       "SEFCRI    342041.0   433597.5   736351.0   884676.5  1076425.0        1430.0   \n",
       "\n",
       "                                                            Deepwater  \\\n",
       "               mean        std   min   25%   50%   75%  max     count   \n",
       "Region                                                                  \n",
       "DRY TORT -13.220700   5.011115 -26.0 -17.0 -13.0 -10.0 -2.0     657.0   \n",
       "FLA KEYS -11.466004   7.012428 -46.0 -15.0 -10.0  -6.0 -2.0    1912.0   \n",
       "SEFCRI   -17.351365  10.083875 -56.0 -24.0 -18.0  -8.0 -2.0    1430.0   \n",
       "\n",
       "                                                                     \\\n",
       "                 mean          std    min          25%          50%   \n",
       "Region                                                                \n",
       "DRY TORT  5352.504302  3378.261511  500.0  2255.635010  4442.640625   \n",
       "FLA KEYS  1766.563927  1842.228817    0.0   741.421387  1089.949463   \n",
       "SEFCRI    1381.458229  2012.133701    0.0   200.000000   912.132050   \n",
       "\n",
       "                                       FSA                             \\\n",
       "                  75%          max   count          mean          std   \n",
       "Region                                                                  \n",
       "DRY TORT  8041.421387  12631.37109   657.0  31470.414643  7125.683600   \n",
       "FLA KEYS  1900.000000  11272.28711  1912.0  10929.259552  9938.254731   \n",
       "SEFCRI    1741.421387  11521.32031  1430.0   9747.527452  7017.104124   \n",
       "\n",
       "                                                                              \\\n",
       "                   min           25%           50%          75%          max   \n",
       "Region                                                                         \n",
       "DRY TORT  17529.140630  25443.355470  31247.013670  37645.28906  44596.76172   \n",
       "FLA KEYS    141.421356   4021.751526   7687.005860  15419.77490  50031.07422   \n",
       "SEFCRI        0.000000   3752.691162   8212.741699  14462.74219  26714.21289   \n",
       "\n",
       "         Marina_slips_10km                                                     \\\n",
       "                     count        mean         std  min    25%    50%     75%   \n",
       "Region                                                                          \n",
       "DRY TORT             657.0    0.000000    0.000000  0.0    0.0    0.0     0.0   \n",
       "FLA KEYS            1912.0  147.646967  246.393402  0.0    0.0    0.0   200.0   \n",
       "SEFCRI              1430.0  943.406294  655.158637  0.0  507.0  847.0  1272.0   \n",
       "\n",
       "                 Marina_slips_25km                                          \\\n",
       "             max             count         mean          std    min    25%   \n",
       "Region                                                                       \n",
       "DRY TORT     0.0             657.0     0.000000     0.000000    0.0    0.0   \n",
       "FLA KEYS  1296.0            1912.0  1084.875000   668.016702   60.0  636.0   \n",
       "SEFCRI    2490.0            1430.0  2685.504895  1509.706516  521.0  954.0   \n",
       "\n",
       "                                  Population_20km                 \\\n",
       "             50%      75%     max           count           mean   \n",
       "Region                                                             \n",
       "DRY TORT     0.0     0.00     0.0           657.0       0.000000   \n",
       "FLA KEYS   753.0  1577.00  3620.0          1912.0   29125.660042   \n",
       "SEFCRI    3478.0  3852.25  5459.0          1430.0  858857.305594   \n",
       "\n",
       "                                                                            \\\n",
       "                    std     min       25%        50%        75%        max   \n",
       "Region                                                                       \n",
       "DRY TORT       0.000000     0.0       0.0        0.0        0.0        0.0   \n",
       "FLA KEYS   98661.618367     0.0    6487.0     9608.0    21771.0  1093581.0   \n",
       "SEFCRI    377879.301941  4981.0  661710.0  1022645.0  1157437.0  1482050.0   \n",
       "\n",
       "         Population_50km                                                    \\\n",
       "                   count          mean           std       min         25%   \n",
       "Region                                                                       \n",
       "DRY TORT           657.0  0.000000e+00  0.000000e+00       0.0        0.00   \n",
       "FLA KEYS          1912.0  4.487537e+05  8.556600e+05   17885.0    36346.75   \n",
       "SEFCRI            1430.0  3.120377e+06  1.303031e+06  696127.0  1525207.75   \n",
       "\n",
       "                                          Recreational_fishermen_50km  \\\n",
       "                50%        75%        max                       count   \n",
       "Region                                                                  \n",
       "DRY TORT        0.0        0.0        0.0                       657.0   \n",
       "FLA KEYS    48057.0   267499.0  3840243.0                      1912.0   \n",
       "SEFCRI    3814364.0  4243689.0  4480603.0                      1430.0   \n",
       "\n",
       "                                                                              \\\n",
       "                   mean           std      min       25%       50%       75%   \n",
       "Region                                                                         \n",
       "DRY TORT       0.000000      0.000000      0.0      0.00       0.0       0.0   \n",
       "FLA KEYS   22975.629184  28695.424281   4583.0   7210.75    9484.0   21877.0   \n",
       "SEFCRI    100538.322378  32974.666780  29932.0  61957.75  110540.0  130817.0   \n",
       "\n",
       "                   Tourist_fishing                                       \\\n",
       "               max           count       mean        std  min       25%   \n",
       "Region                                                                    \n",
       "DRY TORT       0.0           657.0   0.000000   0.000000  0.0  0.000000   \n",
       "FLA KEYS  129124.0          1912.0   6.756122  12.649855  0.0  0.924428   \n",
       "SEFCRI    140719.0          1430.0  32.329294  23.224133  0.0  4.688984   \n",
       "\n",
       "                                          Artificial_reefs_1km           \\\n",
       "                50%        75%        max                count     mean   \n",
       "Region                                                                    \n",
       "DRY TORT   0.000000   0.000000   0.000000                657.0  0.00000   \n",
       "FLA KEYS   1.675894   3.202735  54.413592               1912.0  0.13023   \n",
       "SEFCRI    42.859558  50.149289  60.773111               1430.0  1.60000   \n",
       "\n",
       "                                            SG_permits_50km             \\\n",
       "              std  min  25%  50%  75%   max           count       mean   \n",
       "Region                                                                   \n",
       "DRY TORT  0.00000  0.0  0.0  0.0  0.0   0.0           657.0   0.000000   \n",
       "FLA KEYS  0.68266  0.0  0.0  0.0  0.0  18.0          1912.0  52.961297   \n",
       "SEFCRI    3.86450  0.0  0.0  0.0  1.0  26.0          1430.0  38.775524   \n",
       "\n",
       "                                                  SG_charter_permits_25km  \\\n",
       "                std   min   25%   50%   75%   max                   count   \n",
       "Region                                                                      \n",
       "DRY TORT   0.000000   0.0   0.0   0.0   0.0   0.0                   657.0   \n",
       "FLA KEYS  18.270700  29.0  37.0  47.0  70.0  91.0                  1912.0   \n",
       "SEFCRI     9.371089  19.0  32.0  36.0  48.0  58.0                  1430.0   \n",
       "\n",
       "                                                               \\\n",
       "               mean        std  min   25%   50%    75%    max   \n",
       "Region                                                          \n",
       "DRY TORT   0.000000   0.000000  0.0   0.0   0.0    0.0    0.0   \n",
       "FLA KEYS  67.186192  53.372597  0.0  23.0  56.0  126.0  188.0   \n",
       "SEFCRI    32.743357   9.398227  1.0  26.0  34.0   42.0   45.0   \n",
       "\n",
       "         Total_gravity_intercept                                           \\\n",
       "                           count         mean          std    min     25%   \n",
       "Region                                                                      \n",
       "DRY TORT                   657.0    29.958904     0.961048   28.0    29.0   \n",
       "FLA KEYS                  1886.0   268.327147   716.110743    0.0   106.0   \n",
       "SEFCRI                    1353.0  6670.384331  9921.340416  314.0  1278.0   \n",
       "\n",
       "                                  Total_gravity                            \\\n",
       "             50%     75%      max         count         mean          std   \n",
       "Region                                                                      \n",
       "DRY TORT    30.0    31.0     32.0         657.0    29.958904     0.961048   \n",
       "FLA KEYS   185.0   275.0   9240.0        1886.0   268.327147   716.110743   \n",
       "SEFCRI    1731.0  9240.0  39335.0        1353.0  6670.384331  9921.340416   \n",
       "\n",
       "                                                 Nursery_seagrass  \\\n",
       "            min     25%     50%     75%      max            count   \n",
       "Region                                                              \n",
       "DRY TORT   28.0    29.0    30.0    31.0     32.0            657.0   \n",
       "FLA KEYS    0.0   106.0   185.0   275.0   9240.0           1912.0   \n",
       "SEFCRI    314.0  1278.0  1731.0  9240.0  39335.0           1430.0   \n",
       "\n",
       "                                                                             \\\n",
       "                  mean           std           min          25%         50%   \n",
       "Region                                                                        \n",
       "DRY TORT  8.072472e+06  4.846585e+06  2.268118e+05   3629737.25   9044762.0   \n",
       "FLA KEYS  3.429674e+07  1.654634e+07  2.341337e+06  22782476.00  33513030.0   \n",
       "SEFCRI    3.379230e+05  1.754779e+06  0.000000e+00         0.00         0.0   \n",
       "\n",
       "                                   Nursery_mangroves                 \\\n",
       "                   75%         max             count           mean   \n",
       "Region                                                                \n",
       "DRY TORT  1.190114e+07  18009862.0             657.0    4741.637339   \n",
       "FLA KEYS  4.496286e+07  96451800.0            1912.0  537549.613636   \n",
       "SEFCRI    5.845909e+03  54737176.0            1430.0  311978.326287   \n",
       "\n",
       "                                                                       \\\n",
       "                    std  min           25%          50%           75%   \n",
       "Region                                                                  \n",
       "DRY TORT   11467.546955  0.0       0.00000       0.0000       0.00000   \n",
       "FLA KEYS  911634.912597  0.0  102078.63280  268773.0469  488034.96880   \n",
       "SEFCRI    458212.529527  0.0   22566.46143  160190.3438  406708.46095   \n",
       "\n",
       "                       connectivity                                   \\\n",
       "                   max        count       mean        std        min   \n",
       "Region                                                                 \n",
       "DRY TORT  6.359874e+04        657.0   2.805466   1.505019   0.709495   \n",
       "FLA KEYS  8.003560e+06       1892.0  17.622329  10.237206   0.667306   \n",
       "SEFCRI    2.581282e+06        827.0  53.993249  30.366191  21.638298   \n",
       "\n",
       "                                                      Comm_engagement  \\\n",
       "                25%        50%        75%         max           count   \n",
       "Region                                                                  \n",
       "DRY TORT   1.546670   2.474678   3.958614    5.979803           657.0   \n",
       "FLA KEYS   9.984375  16.510211  20.403984   55.598740          1835.0   \n",
       "SEFCRI    32.740639  41.571117  74.004383  109.548727          1418.0   \n",
       "\n",
       "                                                                     \\\n",
       "              mean           std    min    25%    50%    75%    max   \n",
       "Region                                                                \n",
       "DRY TORT -0.158000  9.999620e-16 -0.158 -0.158 -0.158 -0.158 -0.158   \n",
       "FLA KEYS  0.374270  1.034626e+00 -0.158 -0.158 -0.158  0.446  4.229   \n",
       "SEFCRI   -0.121768  7.705378e-02 -0.158 -0.158 -0.148 -0.105  1.236   \n",
       "\n",
       "         Comm_reliance                                                      \\\n",
       "                 count      mean           std    min    25%    50%    75%   \n",
       "Region                                                                       \n",
       "DRY TORT         657.0 -0.129000  5.277577e-16 -0.129 -0.129 -0.129 -0.129   \n",
       "FLA KEYS        1835.0 -0.005663  1.827545e-01 -0.129 -0.129 -0.129  0.244   \n",
       "SEFCRI          1418.0 -0.125590  5.499531e-03 -0.129 -0.129 -0.128 -0.124   \n",
       "\n",
       "                Rec_engagement                                             \\\n",
       "            max          count      mean           std   min   25%    50%   \n",
       "Region                                                                      \n",
       "DRY TORT -0.129          657.0 -0.260000  6.110879e-16 -0.26 -0.26 -0.260   \n",
       "FLA KEYS  0.347         1835.0  0.392157  1.225616e+00 -0.26 -0.26 -0.176   \n",
       "SEFCRI   -0.099         1418.0 -0.176547  2.559382e-01 -0.26 -0.26 -0.260   \n",
       "\n",
       "                       Rec_reliance                                       \\\n",
       "            75%    max        count     mean           std    min    25%   \n",
       "Region                                                                     \n",
       "DRY TORT -0.260 -0.260        657.0 -0.18500  1.527720e-15 -0.185 -0.185   \n",
       "FLA KEYS  0.515  7.853       1835.0  1.10410  3.145563e+00 -0.185 -0.185   \n",
       "SEFCRI   -0.260  2.560       1418.0 -0.17274  3.823997e-02 -0.185 -0.185   \n",
       "\n",
       "                               Commercial_pounds_landed                \\\n",
       "            50%    75%     max                    count          mean   \n",
       "Region                                                                  \n",
       "DRY TORT -0.185 -0.185  -0.185                    657.0  1.511066e+06   \n",
       "FLA KEYS  0.044  0.480  12.140                   1911.0  6.425352e+05   \n",
       "SEFCRI   -0.185 -0.185   0.050                   1430.0  2.120480e+05   \n",
       "\n",
       "                                                                               \\\n",
       "                   std        min        25%        50%        75%        max   \n",
       "Region                                                                          \n",
       "DRY TORT  1.747560e-08  1511066.2  1511066.2  1511066.2  1511066.2  1511066.2   \n",
       "FLA KEYS  3.061927e+05   318050.4   318050.4   613278.2   855670.2  1511066.2   \n",
       "SEFCRI    6.259947e+04   170631.4   170631.4   170631.4   246995.4   318050.4   \n",
       "\n",
       "         Pop_per_area_reef_20km                                            \\\n",
       "                          count       mean        std       min       25%   \n",
       "Region                                                                      \n",
       "DRY TORT                  657.0   0.000000   0.000000  0.000000  0.000000   \n",
       "FLA KEYS                 1912.0   0.400213   1.495034  0.000000  0.046549   \n",
       "SEFCRI                   1430.0  17.325544  12.443022  0.141663  7.928125   \n",
       "\n",
       "                                           Random                            \\\n",
       "                50%        75%        max   count         mean          std   \n",
       "Region                                                                        \n",
       "DRY TORT   0.000000   0.000000   0.000000   657.0  5166.508371  2925.526027   \n",
       "FLA KEYS   0.139163   0.275174  15.117238  1912.0  4979.459728  2916.216098   \n",
       "SEFCRI    15.516790  23.265264  55.371104  1430.0  5083.717483  2921.036667   \n",
       "\n",
       "                                                 impact                      \\\n",
       "           min      25%     50%     75%     max   count      mean       std   \n",
       "Region                                                                        \n",
       "DRY TORT  14.0  2734.00  5379.0  7715.0  9997.0   623.0  0.000000  0.000000   \n",
       "FLA KEYS   1.0  2410.25  4963.5  7568.0  9983.0   931.0  0.390858  0.146493   \n",
       "SEFCRI     2.0  2570.00  5126.0  7628.0  9997.0  1225.0  0.611820  0.192886   \n",
       "\n",
       "                                               YEAR                         \\\n",
       "            min    25%    50%    75%    max   count         mean       std   \n",
       "Region                                                                       \n",
       "DRY TORT  0.000  0.000  0.000  0.000  0.000   657.0  2012.614916  3.949293   \n",
       "FLA KEYS  0.033  0.344  0.382  0.424  0.724  1912.0  2011.559623  3.919600   \n",
       "SEFCRI    0.200  0.485  0.694  0.740  1.000  1430.0  2014.784615  1.776068   \n",
       "\n",
       "                                                 PCT_CORAL            \\\n",
       "             min     25%     50%     75%     max     count      mean   \n",
       "Region                                                                 \n",
       "DRY TORT  2006.0  2008.0  2014.0  2016.0  2018.0     657.0  6.591833   \n",
       "FLA KEYS  2005.0  2008.0  2011.0  2014.0  2018.0    1912.0  4.803541   \n",
       "SEFCRI    2013.0  2013.0  2014.0  2016.0  2018.0     723.0  2.023241   \n",
       "\n",
       "                                                            MAX_HARD_RELIEF  \\\n",
       "               std  min       25%  50%       75%        max           count   \n",
       "Region                                                                        \n",
       "DRY TORT  6.527406  0.0  2.496516  4.5  8.250541  45.144766           657.0   \n",
       "FLA KEYS  5.653140  0.0  1.734004  3.0  5.729213  55.000000          1912.0   \n",
       "SEFCRI    2.317538  0.0  1.000000  1.5  2.500000  30.470367           723.0   \n",
       "\n",
       "                                                                      \\\n",
       "              mean       std       min       25%       50%       75%   \n",
       "Region                                                                 \n",
       "DRY TORT  1.473544  1.215130  0.175000  0.704492  1.122707  1.773516   \n",
       "FLA KEYS  1.067548  0.701043  0.100000  0.501552  0.923627  1.448243   \n",
       "SEFCRI    0.847077  0.681836  0.075887  0.374924  0.650000  1.150593   \n",
       "\n",
       "                    no.divers                                               \\\n",
       "                max     count      mean       std  min  25%  50%  75%  max   \n",
       "Region                                                                       \n",
       "DRY TORT  10.538338     657.0  3.652968  0.757963  2.0  4.0  4.0  4.0  4.0   \n",
       "FLA KEYS   4.276307    1912.0  3.440377  0.909627  2.0  2.0  4.0  4.0  8.0   \n",
       "SEFCRI     6.203144    1430.0  2.434965  0.825356  2.0  2.0  2.0  2.0  4.0   \n",
       "\n",
       "         Diversity_index                                                    \\\n",
       "                   count      mean       std       min       25%       50%   \n",
       "Region                                                                       \n",
       "DRY TORT           657.0  0.800910  0.155801  0.070070  0.745238  0.866684   \n",
       "FLA KEYS          1912.0  0.845624  0.100311  0.000000  0.827639  0.874371   \n",
       "SEFCRI            1430.0  0.826583  0.107408  0.109675  0.807271  0.854558   \n",
       "\n",
       "                              \n",
       "               75%       max  \n",
       "Region                        \n",
       "DRY TORT  0.909657  0.953566  \n",
       "FLA KEYS  0.902555  0.952093  \n",
       "SEFCRI    0.890057  0.956324  "
      ]
     },
     "execution_count": 67,
     "metadata": {},
     "output_type": "execute_result"
    }
   ],
   "source": [
    "species.groupby('Region').describe()"
   ]
  },
  {
   "cell_type": "markdown",
   "metadata": {},
   "source": [
    "It seems that, the diversity index is more heterogeneous in the DRY TORT region compared to the other. In the 2 other region the index is more concentrate around 0.8 and 0.9 with the 25% of the values are around 0.8 and at 75% we get a values on 0.9. \n",
    "\n",
    "This suggest that, the DRY TORT is an heterogeneous region in term of fish diversity and the region FLA KEY and SEFCRI will shows highest diversity scores. "
   ]
  },
  {
   "cell_type": "code",
   "execution_count": 44,
   "metadata": {},
   "outputs": [
    {
     "data": {
      "image/png": "[encoded data removed]",
      "text/plain": [
       "<Figure size 900x300 with 3 Axes>"
      ]
     },
     "metadata": {},
     "output_type": "display_data"
    }
   ],
   "source": [
    "#plot the coral covering in function of Region\n",
    "\n",
    "g = sns.FacetGrid(data=species,col=\"Region\")\n",
    "g.map(sns.histplot,\"Coral_cover\")\n",
    "plt.tight_layout()\n",
    "plt.show()"
   ]
  },
  {
   "cell_type": "code",
   "execution_count": 45,
   "metadata": {},
   "outputs": [
    {
     "data": {
      "image/png": "[encoded data removed]",
      "text/plain": [
       "<Figure size 900x300 with 3 Axes>"
      ]
     },
     "metadata": {},
     "output_type": "display_data"
    }
   ],
   "source": [
    "#plot the Reef complexity in function of Region\n",
    "\n",
    "g = sns.FacetGrid(data=species,col=\"Region\")\n",
    "g.map(sns.histplot,\"Reef_complexity\")\n",
    "plt.tight_layout()\n",
    "plt.show()"
   ]
  },
  {
   "cell_type": "code",
   "execution_count": 47,
   "metadata": {},
   "outputs": [
    {
     "data": {
      "image/png": "[encoded data removed]",
      "text/plain": [
       "<Figure size 900x300 with 3 Axes>"
      ]
     },
     "metadata": {},
     "output_type": "display_data"
    }
   ],
   "source": [
    "#Plotting the coral_cover against the reef complexity in function of the region\n",
    "\n",
    "g = sns.FacetGrid(data=species,col=\"Region\")\n",
    "g.map(sns.scatterplot,\"Coral_cover\" ,\"Reef_complexity\")\n",
    "plt.tight_layout()\n",
    "plt.show()"
   ]
  },
  {
   "cell_type": "markdown",
   "metadata": {},
   "source": [
    "This plot suggesting that the different region shows a specific pattern of coral cover and reef complexity. This 2 features seems to be linked together. \n",
    "The scatterplot above display outlier in the FLA KEYS region for coral cover (higher to 40) and outlier for coral cover in SEFCRI region (highest to 20). For the reef_complexity only the DRY TORT region display outlier (highest to 8) otherwise the reef complexity pattern in the 3 regions seems to be homogeneous. \n",
    "\n",
    "Maybe we can think to fill the missing feature by the mean of the coral_cover for each region or the reef_complexity for each region. "
   ]
  },
  {
   "cell_type": "code",
   "execution_count": 49,
   "metadata": {},
   "outputs": [
    {
     "data": {
      "text/html": [
       "<div>\n",
       "<style scoped>\n",
       "    .dataframe tbody tr th:only-of-type {\n",
       "        vertical-align: middle;\n",
       "    }\n",
       "\n",
       "    .dataframe tbody tr th {\n",
       "        vertical-align: top;\n",
       "    }\n",
       "\n",
       "    .dataframe thead th {\n",
       "        text-align: right;\n",
       "    }\n",
       "</style>\n",
       "<table border=\"1\" class=\"dataframe\">\n",
       "  <thead>\n",
       "    <tr style=\"text-align: right;\">\n",
       "      <th></th>\n",
       "      <th>site</th>\n",
       "      <th>model</th>\n",
       "      <th>Year</th>\n",
       "      <th>Month</th>\n",
       "      <th>Latitude</th>\n",
       "      <th>Longitude</th>\n",
       "      <th>Depth</th>\n",
       "      <th>Region</th>\n",
       "      <th>Coral_cover</th>\n",
       "      <th>Reef_complexity</th>\n",
       "      <th>SST</th>\n",
       "      <th>NPP</th>\n",
       "      <th>Wave_exposure</th>\n",
       "      <th>Habitat_type_classLV0</th>\n",
       "      <th>Habitat_type_classLV2</th>\n",
       "      <th>Coral_area_UFRTM_20km</th>\n",
       "      <th>Coral_area_UFRTM_200km</th>\n",
       "      <th>Depth_Sbrocco</th>\n",
       "      <th>Deepwater</th>\n",
       "      <th>FSA</th>\n",
       "      <th>Marina_slips_10km</th>\n",
       "      <th>Marina_slips_25km</th>\n",
       "      <th>Marine_reserve</th>\n",
       "      <th>Population_20km</th>\n",
       "      <th>Population_50km</th>\n",
       "      <th>Recreational_fishermen_50km</th>\n",
       "      <th>Tourist_fishing</th>\n",
       "      <th>Artificial_reefs_1km</th>\n",
       "      <th>SG_permits_50km</th>\n",
       "      <th>SG_charter_permits_25km</th>\n",
       "      <th>Total_gravity_intercept</th>\n",
       "      <th>Total_gravity</th>\n",
       "      <th>Keys_Divisions</th>\n",
       "      <th>FKNMS</th>\n",
       "      <th>DryTortugas</th>\n",
       "      <th>BNP</th>\n",
       "      <th>CoralECA</th>\n",
       "      <th>Nursery_seagrass</th>\n",
       "      <th>Nursery_mangroves</th>\n",
       "      <th>connectivity</th>\n",
       "      <th>Comm_engagement</th>\n",
       "      <th>Comm_reliance</th>\n",
       "      <th>Rec_engagement</th>\n",
       "      <th>Rec_reliance</th>\n",
       "      <th>Commercial_pounds_landed</th>\n",
       "      <th>Pop_per_area_reef_20km</th>\n",
       "      <th>Random</th>\n",
       "      <th>impact</th>\n",
       "      <th>YEAR</th>\n",
       "      <th>HABITAT_CD</th>\n",
       "      <th>REGION</th>\n",
       "      <th>PCT_CORAL</th>\n",
       "      <th>MAX_HARD_RELIEF</th>\n",
       "      <th>no.divers</th>\n",
       "      <th>Diversity_index</th>\n",
       "    </tr>\n",
       "    <tr>\n",
       "      <th>Index</th>\n",
       "      <th></th>\n",
       "      <th></th>\n",
       "      <th></th>\n",
       "      <th></th>\n",
       "      <th></th>\n",
       "      <th></th>\n",
       "      <th></th>\n",
       "      <th></th>\n",
       "      <th></th>\n",
       "      <th></th>\n",
       "      <th></th>\n",
       "      <th></th>\n",
       "      <th></th>\n",
       "      <th></th>\n",
       "      <th></th>\n",
       "      <th></th>\n",
       "      <th></th>\n",
       "      <th></th>\n",
       "      <th></th>\n",
       "      <th></th>\n",
       "      <th></th>\n",
       "      <th></th>\n",
       "      <th></th>\n",
       "      <th></th>\n",
       "      <th></th>\n",
       "      <th></th>\n",
       "      <th></th>\n",
       "      <th></th>\n",
       "      <th></th>\n",
       "      <th></th>\n",
       "      <th></th>\n",
       "      <th></th>\n",
       "      <th></th>\n",
       "      <th></th>\n",
       "      <th></th>\n",
       "      <th></th>\n",
       "      <th></th>\n",
       "      <th></th>\n",
       "      <th></th>\n",
       "      <th></th>\n",
       "      <th></th>\n",
       "      <th></th>\n",
       "      <th></th>\n",
       "      <th></th>\n",
       "      <th></th>\n",
       "      <th></th>\n",
       "      <th></th>\n",
       "      <th></th>\n",
       "      <th></th>\n",
       "      <th></th>\n",
       "      <th></th>\n",
       "      <th></th>\n",
       "      <th></th>\n",
       "      <th></th>\n",
       "      <th></th>\n",
       "    </tr>\n",
       "  </thead>\n",
       "  <tbody>\n",
       "    <tr>\n",
       "      <th>133</th>\n",
       "      <td>3079928_042U</td>\n",
       "      <td>biomass</td>\n",
       "      <td>2006</td>\n",
       "      <td>June</td>\n",
       "      <td>24.722400</td>\n",
       "      <td>-82.835000</td>\n",
       "      <td>17.400000</td>\n",
       "      <td>DRY TORT</td>\n",
       "      <td>45.000000</td>\n",
       "      <td>2.500000</td>\n",
       "      <td>22.440149</td>\n",
       "      <td>731.498413</td>\n",
       "      <td>7.469070</td>\n",
       "      <td>Coral Reef and Hardbottom</td>\n",
       "      <td>Aggregate Reef</td>\n",
       "      <td>49403</td>\n",
       "      <td>911358</td>\n",
       "      <td>-22.0</td>\n",
       "      <td>1041.421387</td>\n",
       "      <td>39066.60938</td>\n",
       "      <td>0</td>\n",
       "      <td>0</td>\n",
       "      <td>Open</td>\n",
       "      <td>0</td>\n",
       "      <td>0</td>\n",
       "      <td>0</td>\n",
       "      <td>0.000000</td>\n",
       "      <td>0</td>\n",
       "      <td>0</td>\n",
       "      <td>0</td>\n",
       "      <td>31.0</td>\n",
       "      <td>31.0</td>\n",
       "      <td>Dry Tortugas</td>\n",
       "      <td>NaN</td>\n",
       "      <td>DRTO</td>\n",
       "      <td>NaN</td>\n",
       "      <td>NaN</td>\n",
       "      <td>12106596.0</td>\n",
       "      <td>0.000</td>\n",
       "      <td>3.958614</td>\n",
       "      <td>-0.158</td>\n",
       "      <td>-0.129</td>\n",
       "      <td>-0.260</td>\n",
       "      <td>-0.185</td>\n",
       "      <td>1511066.2</td>\n",
       "      <td>0.000000</td>\n",
       "      <td>4672</td>\n",
       "      <td>0.000</td>\n",
       "      <td>2006</td>\n",
       "      <td>CONT_HR</td>\n",
       "      <td>DRY TORT</td>\n",
       "      <td>45.000000</td>\n",
       "      <td>2.500000</td>\n",
       "      <td>2</td>\n",
       "      <td>0.805292</td>\n",
       "    </tr>\n",
       "    <tr>\n",
       "      <th>360</th>\n",
       "      <td>2907398_053U</td>\n",
       "      <td>biomass</td>\n",
       "      <td>2008</td>\n",
       "      <td>May</td>\n",
       "      <td>24.667426</td>\n",
       "      <td>-82.926126</td>\n",
       "      <td>16.336971</td>\n",
       "      <td>DRY TORT</td>\n",
       "      <td>45.144766</td>\n",
       "      <td>1.708686</td>\n",
       "      <td>22.625909</td>\n",
       "      <td>684.214539</td>\n",
       "      <td>7.397024</td>\n",
       "      <td>Coral Reef and Hardbottom</td>\n",
       "      <td>Aggregate Reef</td>\n",
       "      <td>51169</td>\n",
       "      <td>879346</td>\n",
       "      <td>-16.0</td>\n",
       "      <td>2355.635010</td>\n",
       "      <td>28745.79297</td>\n",
       "      <td>0</td>\n",
       "      <td>0</td>\n",
       "      <td>Open</td>\n",
       "      <td>0</td>\n",
       "      <td>0</td>\n",
       "      <td>0</td>\n",
       "      <td>0.000000</td>\n",
       "      <td>0</td>\n",
       "      <td>0</td>\n",
       "      <td>0</td>\n",
       "      <td>29.0</td>\n",
       "      <td>29.0</td>\n",
       "      <td>Dry Tortugas</td>\n",
       "      <td>NaN</td>\n",
       "      <td>DRTO</td>\n",
       "      <td>NaN</td>\n",
       "      <td>NaN</td>\n",
       "      <td>7705828.0</td>\n",
       "      <td>0.000</td>\n",
       "      <td>1.546670</td>\n",
       "      <td>-0.158</td>\n",
       "      <td>-0.129</td>\n",
       "      <td>-0.260</td>\n",
       "      <td>-0.185</td>\n",
       "      <td>1511066.2</td>\n",
       "      <td>0.000000</td>\n",
       "      <td>2784</td>\n",
       "      <td>0.000</td>\n",
       "      <td>2008</td>\n",
       "      <td>CONT_HR</td>\n",
       "      <td>DRY TORT</td>\n",
       "      <td>45.144766</td>\n",
       "      <td>1.708686</td>\n",
       "      <td>4</td>\n",
       "      <td>0.487945</td>\n",
       "    </tr>\n",
       "    <tr>\n",
       "      <th>627</th>\n",
       "      <td>5464847_005U</td>\n",
       "      <td>biomass</td>\n",
       "      <td>2009</td>\n",
       "      <td>August</td>\n",
       "      <td>24.586325</td>\n",
       "      <td>-81.577917</td>\n",
       "      <td>5.750608</td>\n",
       "      <td>FLA KEYS</td>\n",
       "      <td>50.008287</td>\n",
       "      <td>1.674917</td>\n",
       "      <td>23.265375</td>\n",
       "      <td>1258.964722</td>\n",
       "      <td>6.710463</td>\n",
       "      <td>Coral Reef and Hardbottom</td>\n",
       "      <td>Pavement</td>\n",
       "      <td>162686</td>\n",
       "      <td>1108347</td>\n",
       "      <td>-4.0</td>\n",
       "      <td>9800.000000</td>\n",
       "      <td>10138.47754</td>\n",
       "      <td>10</td>\n",
       "      <td>757</td>\n",
       "      <td>Open</td>\n",
       "      <td>19406</td>\n",
       "      <td>49371</td>\n",
       "      <td>9763</td>\n",
       "      <td>1.808565</td>\n",
       "      <td>0</td>\n",
       "      <td>76</td>\n",
       "      <td>177</td>\n",
       "      <td>115.0</td>\n",
       "      <td>115.0</td>\n",
       "      <td>Lower Keys</td>\n",
       "      <td>FKNMS</td>\n",
       "      <td>NaN</td>\n",
       "      <td>NaN</td>\n",
       "      <td>NaN</td>\n",
       "      <td>45676856.0</td>\n",
       "      <td>7754413.500</td>\n",
       "      <td>0.839286</td>\n",
       "      <td>0.911</td>\n",
       "      <td>0.244</td>\n",
       "      <td>0.515</td>\n",
       "      <td>0.277</td>\n",
       "      <td>855670.2</td>\n",
       "      <td>0.119285</td>\n",
       "      <td>5538</td>\n",
       "      <td>NaN</td>\n",
       "      <td>2009</td>\n",
       "      <td>ISOL_MR</td>\n",
       "      <td>FLA KEYS</td>\n",
       "      <td>50.008287</td>\n",
       "      <td>1.674917</td>\n",
       "      <td>4</td>\n",
       "      <td>0.776126</td>\n",
       "    </tr>\n",
       "    <tr>\n",
       "      <th>689</th>\n",
       "      <td>7291269_258U</td>\n",
       "      <td>impact</td>\n",
       "      <td>2009</td>\n",
       "      <td>July</td>\n",
       "      <td>24.897234</td>\n",
       "      <td>-80.615559</td>\n",
       "      <td>3.400000</td>\n",
       "      <td>FLA KEYS</td>\n",
       "      <td>55.000000</td>\n",
       "      <td>2.798461</td>\n",
       "      <td>23.686639</td>\n",
       "      <td>933.309815</td>\n",
       "      <td>7.406962</td>\n",
       "      <td>Coral Reef and Hardbottom</td>\n",
       "      <td>Individual or Aggregated Patch Reef</td>\n",
       "      <td>54380</td>\n",
       "      <td>1161227</td>\n",
       "      <td>-4.0</td>\n",
       "      <td>5232.590332</td>\n",
       "      <td>12635.53418</td>\n",
       "      <td>553</td>\n",
       "      <td>1616</td>\n",
       "      <td>Open</td>\n",
       "      <td>9681</td>\n",
       "      <td>23415</td>\n",
       "      <td>6394</td>\n",
       "      <td>1.353982</td>\n",
       "      <td>0</td>\n",
       "      <td>46</td>\n",
       "      <td>71</td>\n",
       "      <td>185.0</td>\n",
       "      <td>185.0</td>\n",
       "      <td>Middle Keys</td>\n",
       "      <td>FKNMS</td>\n",
       "      <td>NaN</td>\n",
       "      <td>NaN</td>\n",
       "      <td>NaN</td>\n",
       "      <td>67910880.0</td>\n",
       "      <td>1490817.625</td>\n",
       "      <td>14.894444</td>\n",
       "      <td>2.960</td>\n",
       "      <td>0.347</td>\n",
       "      <td>3.101</td>\n",
       "      <td>0.995</td>\n",
       "      <td>613278.2</td>\n",
       "      <td>0.178025</td>\n",
       "      <td>3412</td>\n",
       "      <td>0.402</td>\n",
       "      <td>2009</td>\n",
       "      <td>ISOL_MR</td>\n",
       "      <td>FLA KEYS</td>\n",
       "      <td>55.000000</td>\n",
       "      <td>2.798461</td>\n",
       "      <td>4</td>\n",
       "      <td>0.886711</td>\n",
       "    </tr>\n",
       "    <tr>\n",
       "      <th>841</th>\n",
       "      <td>5299833_009U</td>\n",
       "      <td>impact</td>\n",
       "      <td>2011</td>\n",
       "      <td>July</td>\n",
       "      <td>24.560451</td>\n",
       "      <td>-81.663956</td>\n",
       "      <td>3.848156</td>\n",
       "      <td>FLA KEYS</td>\n",
       "      <td>51.418994</td>\n",
       "      <td>1.861061</td>\n",
       "      <td>23.371728</td>\n",
       "      <td>1202.854858</td>\n",
       "      <td>6.548940</td>\n",
       "      <td>Coral Reef and Hardbottom</td>\n",
       "      <td>Pavement</td>\n",
       "      <td>165426</td>\n",
       "      <td>1086162</td>\n",
       "      <td>-5.0</td>\n",
       "      <td>8700.000000</td>\n",
       "      <td>12692.38770</td>\n",
       "      <td>342</td>\n",
       "      <td>745</td>\n",
       "      <td>Open</td>\n",
       "      <td>41170</td>\n",
       "      <td>48057</td>\n",
       "      <td>9484</td>\n",
       "      <td>1.720457</td>\n",
       "      <td>0</td>\n",
       "      <td>76</td>\n",
       "      <td>177</td>\n",
       "      <td>NaN</td>\n",
       "      <td>NaN</td>\n",
       "      <td>Lower Keys</td>\n",
       "      <td>FKNMS</td>\n",
       "      <td>NaN</td>\n",
       "      <td>NaN</td>\n",
       "      <td>NaN</td>\n",
       "      <td>27641972.0</td>\n",
       "      <td>6194649.000</td>\n",
       "      <td>1.951333</td>\n",
       "      <td>0.911</td>\n",
       "      <td>0.244</td>\n",
       "      <td>0.515</td>\n",
       "      <td>0.277</td>\n",
       "      <td>855670.2</td>\n",
       "      <td>0.248873</td>\n",
       "      <td>4757</td>\n",
       "      <td>NaN</td>\n",
       "      <td>2011</td>\n",
       "      <td>ISOL_MR</td>\n",
       "      <td>FLA KEYS</td>\n",
       "      <td>51.418994</td>\n",
       "      <td>1.861061</td>\n",
       "      <td>4</td>\n",
       "      <td>0.783779</td>\n",
       "    </tr>\n",
       "    <tr>\n",
       "      <th>2933</th>\n",
       "      <td>5326086_003U</td>\n",
       "      <td>biomass</td>\n",
       "      <td>2011</td>\n",
       "      <td>July</td>\n",
       "      <td>24.567517</td>\n",
       "      <td>-81.650622</td>\n",
       "      <td>2.909081</td>\n",
       "      <td>FLA KEYS</td>\n",
       "      <td>44.318937</td>\n",
       "      <td>1.807973</td>\n",
       "      <td>23.265771</td>\n",
       "      <td>1264.910400</td>\n",
       "      <td>6.610450</td>\n",
       "      <td>Coral Reef and Hardbottom</td>\n",
       "      <td>Pavement</td>\n",
       "      <td>166970</td>\n",
       "      <td>1090261</td>\n",
       "      <td>-5.0</td>\n",
       "      <td>9000.000000</td>\n",
       "      <td>11623.75879</td>\n",
       "      <td>168</td>\n",
       "      <td>745</td>\n",
       "      <td>Open</td>\n",
       "      <td>41778</td>\n",
       "      <td>48057</td>\n",
       "      <td>9484</td>\n",
       "      <td>1.720457</td>\n",
       "      <td>0</td>\n",
       "      <td>76</td>\n",
       "      <td>177</td>\n",
       "      <td>NaN</td>\n",
       "      <td>NaN</td>\n",
       "      <td>Lower Keys</td>\n",
       "      <td>FKNMS</td>\n",
       "      <td>NaN</td>\n",
       "      <td>NaN</td>\n",
       "      <td>NaN</td>\n",
       "      <td>30255150.0</td>\n",
       "      <td>7623135.000</td>\n",
       "      <td>1.951333</td>\n",
       "      <td>0.911</td>\n",
       "      <td>0.244</td>\n",
       "      <td>0.515</td>\n",
       "      <td>0.277</td>\n",
       "      <td>855670.2</td>\n",
       "      <td>0.250213</td>\n",
       "      <td>3679</td>\n",
       "      <td>NaN</td>\n",
       "      <td>2011</td>\n",
       "      <td>ISOL_MR</td>\n",
       "      <td>FLA KEYS</td>\n",
       "      <td>44.318937</td>\n",
       "      <td>1.807973</td>\n",
       "      <td>2</td>\n",
       "      <td>0.919928</td>\n",
       "    </tr>\n",
       "    <tr>\n",
       "      <th>2935</th>\n",
       "      <td>5281081_002U</td>\n",
       "      <td>impact</td>\n",
       "      <td>2011</td>\n",
       "      <td>July</td>\n",
       "      <td>24.556412</td>\n",
       "      <td>-81.674014</td>\n",
       "      <td>3.541805</td>\n",
       "      <td>FLA KEYS</td>\n",
       "      <td>40.546318</td>\n",
       "      <td>2.211876</td>\n",
       "      <td>23.403406</td>\n",
       "      <td>1175.207520</td>\n",
       "      <td>6.676023</td>\n",
       "      <td>Coral Reef and Hardbottom</td>\n",
       "      <td>Pavement</td>\n",
       "      <td>164719</td>\n",
       "      <td>1083383</td>\n",
       "      <td>-5.0</td>\n",
       "      <td>8648.528320</td>\n",
       "      <td>12012.48926</td>\n",
       "      <td>342</td>\n",
       "      <td>745</td>\n",
       "      <td>Open</td>\n",
       "      <td>41083</td>\n",
       "      <td>48057</td>\n",
       "      <td>9484</td>\n",
       "      <td>1.720457</td>\n",
       "      <td>0</td>\n",
       "      <td>76</td>\n",
       "      <td>177</td>\n",
       "      <td>NaN</td>\n",
       "      <td>NaN</td>\n",
       "      <td>Lower Keys</td>\n",
       "      <td>FKNMS</td>\n",
       "      <td>NaN</td>\n",
       "      <td>NaN</td>\n",
       "      <td>NaN</td>\n",
       "      <td>27039020.0</td>\n",
       "      <td>5559184.000</td>\n",
       "      <td>1.951333</td>\n",
       "      <td>0.911</td>\n",
       "      <td>0.244</td>\n",
       "      <td>0.515</td>\n",
       "      <td>0.277</td>\n",
       "      <td>855670.2</td>\n",
       "      <td>0.249413</td>\n",
       "      <td>4442</td>\n",
       "      <td>NaN</td>\n",
       "      <td>2011</td>\n",
       "      <td>ISOL_MR</td>\n",
       "      <td>FLA KEYS</td>\n",
       "      <td>40.546318</td>\n",
       "      <td>2.211876</td>\n",
       "      <td>2</td>\n",
       "      <td>0.918789</td>\n",
       "    </tr>\n",
       "  </tbody>\n",
       "</table>\n",
       "</div>"
      ],
      "text/plain": [
       "               site    model  Year   Month   Latitude  Longitude      Depth  \\\n",
       "Index                                                                         \n",
       "133    3079928_042U  biomass  2006    June  24.722400 -82.835000  17.400000   \n",
       "360    2907398_053U  biomass  2008     May  24.667426 -82.926126  16.336971   \n",
       "627    5464847_005U  biomass  2009  August  24.586325 -81.577917   5.750608   \n",
       "689    7291269_258U   impact  2009    July  24.897234 -80.615559   3.400000   \n",
       "841    5299833_009U   impact  2011    July  24.560451 -81.663956   3.848156   \n",
       "2933   5326086_003U  biomass  2011    July  24.567517 -81.650622   2.909081   \n",
       "2935   5281081_002U   impact  2011    July  24.556412 -81.674014   3.541805   \n",
       "\n",
       "         Region  Coral_cover  Reef_complexity        SST          NPP  \\\n",
       "Index                                                                   \n",
       "133    DRY TORT    45.000000         2.500000  22.440149   731.498413   \n",
       "360    DRY TORT    45.144766         1.708686  22.625909   684.214539   \n",
       "627    FLA KEYS    50.008287         1.674917  23.265375  1258.964722   \n",
       "689    FLA KEYS    55.000000         2.798461  23.686639   933.309815   \n",
       "841    FLA KEYS    51.418994         1.861061  23.371728  1202.854858   \n",
       "2933   FLA KEYS    44.318937         1.807973  23.265771  1264.910400   \n",
       "2935   FLA KEYS    40.546318         2.211876  23.403406  1175.207520   \n",
       "\n",
       "       Wave_exposure      Habitat_type_classLV0  \\\n",
       "Index                                             \n",
       "133         7.469070  Coral Reef and Hardbottom   \n",
       "360         7.397024  Coral Reef and Hardbottom   \n",
       "627         6.710463  Coral Reef and Hardbottom   \n",
       "689         7.406962  Coral Reef and Hardbottom   \n",
       "841         6.548940  Coral Reef and Hardbottom   \n",
       "2933        6.610450  Coral Reef and Hardbottom   \n",
       "2935        6.676023  Coral Reef and Hardbottom   \n",
       "\n",
       "                     Habitat_type_classLV2  Coral_area_UFRTM_20km  \\\n",
       "Index                                                               \n",
       "133                         Aggregate Reef                  49403   \n",
       "360                         Aggregate Reef                  51169   \n",
       "627                               Pavement                 162686   \n",
       "689    Individual or Aggregated Patch Reef                  54380   \n",
       "841                               Pavement                 165426   \n",
       "2933                              Pavement                 166970   \n",
       "2935                              Pavement                 164719   \n",
       "\n",
       "       Coral_area_UFRTM_200km  Depth_Sbrocco    Deepwater          FSA  \\\n",
       "Index                                                                    \n",
       "133                    911358          -22.0  1041.421387  39066.60938   \n",
       "360                    879346          -16.0  2355.635010  28745.79297   \n",
       "627                   1108347           -4.0  9800.000000  10138.47754   \n",
       "689                   1161227           -4.0  5232.590332  12635.53418   \n",
       "841                   1086162           -5.0  8700.000000  12692.38770   \n",
       "2933                  1090261           -5.0  9000.000000  11623.75879   \n",
       "2935                  1083383           -5.0  8648.528320  12012.48926   \n",
       "\n",
       "       Marina_slips_10km  Marina_slips_25km Marine_reserve  Population_20km  \\\n",
       "Index                                                                         \n",
       "133                    0                  0           Open                0   \n",
       "360                    0                  0           Open                0   \n",
       "627                   10                757           Open            19406   \n",
       "689                  553               1616           Open             9681   \n",
       "841                  342                745           Open            41170   \n",
       "2933                 168                745           Open            41778   \n",
       "2935                 342                745           Open            41083   \n",
       "\n",
       "       Population_50km  Recreational_fishermen_50km  Tourist_fishing  \\\n",
       "Index                                                                  \n",
       "133                  0                            0         0.000000   \n",
       "360                  0                            0         0.000000   \n",
       "627              49371                         9763         1.808565   \n",
       "689              23415                         6394         1.353982   \n",
       "841              48057                         9484         1.720457   \n",
       "2933             48057                         9484         1.720457   \n",
       "2935             48057                         9484         1.720457   \n",
       "\n",
       "       Artificial_reefs_1km  SG_permits_50km  SG_charter_permits_25km  \\\n",
       "Index                                                                   \n",
       "133                       0                0                        0   \n",
       "360                       0                0                        0   \n",
       "627                       0               76                      177   \n",
       "689                       0               46                       71   \n",
       "841                       0               76                      177   \n",
       "2933                      0               76                      177   \n",
       "2935                      0               76                      177   \n",
       "\n",
       "       Total_gravity_intercept  Total_gravity Keys_Divisions  FKNMS  \\\n",
       "Index                                                                 \n",
       "133                       31.0           31.0   Dry Tortugas    NaN   \n",
       "360                       29.0           29.0   Dry Tortugas    NaN   \n",
       "627                      115.0          115.0     Lower Keys  FKNMS   \n",
       "689                      185.0          185.0    Middle Keys  FKNMS   \n",
       "841                        NaN            NaN     Lower Keys  FKNMS   \n",
       "2933                       NaN            NaN     Lower Keys  FKNMS   \n",
       "2935                       NaN            NaN     Lower Keys  FKNMS   \n",
       "\n",
       "      DryTortugas  BNP CoralECA  Nursery_seagrass  Nursery_mangroves  \\\n",
       "Index                                                                  \n",
       "133          DRTO  NaN      NaN        12106596.0              0.000   \n",
       "360          DRTO  NaN      NaN         7705828.0              0.000   \n",
       "627           NaN  NaN      NaN        45676856.0        7754413.500   \n",
       "689           NaN  NaN      NaN        67910880.0        1490817.625   \n",
       "841           NaN  NaN      NaN        27641972.0        6194649.000   \n",
       "2933          NaN  NaN      NaN        30255150.0        7623135.000   \n",
       "2935          NaN  NaN      NaN        27039020.0        5559184.000   \n",
       "\n",
       "       connectivity  Comm_engagement  Comm_reliance  Rec_engagement  \\\n",
       "Index                                                                 \n",
       "133        3.958614           -0.158         -0.129          -0.260   \n",
       "360        1.546670           -0.158         -0.129          -0.260   \n",
       "627        0.839286            0.911          0.244           0.515   \n",
       "689       14.894444            2.960          0.347           3.101   \n",
       "841        1.951333            0.911          0.244           0.515   \n",
       "2933       1.951333            0.911          0.244           0.515   \n",
       "2935       1.951333            0.911          0.244           0.515   \n",
       "\n",
       "       Rec_reliance  Commercial_pounds_landed  Pop_per_area_reef_20km  Random  \\\n",
       "Index                                                                           \n",
       "133          -0.185                 1511066.2                0.000000    4672   \n",
       "360          -0.185                 1511066.2                0.000000    2784   \n",
       "627           0.277                  855670.2                0.119285    5538   \n",
       "689           0.995                  613278.2                0.178025    3412   \n",
       "841           0.277                  855670.2                0.248873    4757   \n",
       "2933          0.277                  855670.2                0.250213    3679   \n",
       "2935          0.277                  855670.2                0.249413    4442   \n",
       "\n",
       "       impact  YEAR HABITAT_CD    REGION  PCT_CORAL  MAX_HARD_RELIEF  \\\n",
       "Index                                                                  \n",
       "133     0.000  2006    CONT_HR  DRY TORT  45.000000         2.500000   \n",
       "360     0.000  2008    CONT_HR  DRY TORT  45.144766         1.708686   \n",
       "627       NaN  2009    ISOL_MR  FLA KEYS  50.008287         1.674917   \n",
       "689     0.402  2009    ISOL_MR  FLA KEYS  55.000000         2.798461   \n",
       "841       NaN  2011    ISOL_MR  FLA KEYS  51.418994         1.861061   \n",
       "2933      NaN  2011    ISOL_MR  FLA KEYS  44.318937         1.807973   \n",
       "2935      NaN  2011    ISOL_MR  FLA KEYS  40.546318         2.211876   \n",
       "\n",
       "       no.divers  Diversity_index  \n",
       "Index                              \n",
       "133            2         0.805292  \n",
       "360            4         0.487945  \n",
       "627            4         0.776126  \n",
       "689            4         0.886711  \n",
       "841            4         0.783779  \n",
       "2933           2         0.919928  \n",
       "2935           2         0.918789  "
      ]
     },
     "execution_count": 49,
     "metadata": {},
     "output_type": "execute_result"
    }
   ],
   "source": [
    "species.loc[species.Coral_cover >= 40, :]"
   ]
  },
  {
   "cell_type": "markdown",
   "metadata": {},
   "source": [
    "The region feature compared to the sites feature don't show missing value. \n",
    "*Maybe we can kept the region and drop the name site feature.*"
   ]
  },
  {
   "cell_type": "markdown",
   "metadata": {},
   "source": [
    "Study of the relation between connectivity and the nursery feature seagrass and mangrove. \n",
    "Maybe this feature should be link with the region. "
   ]
  },
  {
   "cell_type": "code",
   "execution_count": 57,
   "metadata": {},
   "outputs": [
    {
     "data": {
      "text/html": [
       "<div>\n",
       "<style scoped>\n",
       "    .dataframe tbody tr th:only-of-type {\n",
       "        vertical-align: middle;\n",
       "    }\n",
       "\n",
       "    .dataframe tbody tr th {\n",
       "        vertical-align: top;\n",
       "    }\n",
       "\n",
       "    .dataframe thead th {\n",
       "        text-align: right;\n",
       "    }\n",
       "</style>\n",
       "<table border=\"1\" class=\"dataframe\">\n",
       "  <thead>\n",
       "    <tr style=\"text-align: right;\">\n",
       "      <th></th>\n",
       "      <th>Nursery_seagrass</th>\n",
       "      <th>Nursery_mangroves</th>\n",
       "      <th>connectivity</th>\n",
       "    </tr>\n",
       "  </thead>\n",
       "  <tbody>\n",
       "    <tr>\n",
       "      <th>Nursery_seagrass</th>\n",
       "      <td>1.000000</td>\n",
       "      <td>0.320622</td>\n",
       "      <td>-0.226033</td>\n",
       "    </tr>\n",
       "    <tr>\n",
       "      <th>Nursery_mangroves</th>\n",
       "      <td>0.320622</td>\n",
       "      <td>1.000000</td>\n",
       "      <td>-0.032880</td>\n",
       "    </tr>\n",
       "    <tr>\n",
       "      <th>connectivity</th>\n",
       "      <td>-0.226033</td>\n",
       "      <td>-0.032880</td>\n",
       "      <td>1.000000</td>\n",
       "    </tr>\n",
       "  </tbody>\n",
       "</table>\n",
       "</div>"
      ],
      "text/plain": [
       "                   Nursery_seagrass  Nursery_mangroves  connectivity\n",
       "Nursery_seagrass           1.000000           0.320622     -0.226033\n",
       "Nursery_mangroves          0.320622           1.000000     -0.032880\n",
       "connectivity              -0.226033          -0.032880      1.000000"
      ]
     },
     "execution_count": 57,
     "metadata": {},
     "output_type": "execute_result"
    }
   ],
   "source": [
    "species.loc[:, ['Nursery_seagrass','Nursery_mangroves', 'connectivity']].corr()\n"
   ]
  },
  {
   "cell_type": "code",
   "execution_count": 58,
   "metadata": {},
   "outputs": [
    {
     "data": {
      "application/vnd.plotly.v1+json": {
       "config": {
        "plotlyServerURL": "https://plot.ly"
       },
       "data": [
        {
         "coloraxis": "coloraxis",
         "hovertemplate": "x: %{x}<br>y: %{y}<br>color: %{z}<extra></extra>",
         "name": "0",
         "type": "heatmap",
         "x": [
          "Nursery_seagrass",
          "Nursery_mangroves",
          "connectivity"
         ],
         "xaxis": "x",
         "y": [
          "Nursery_seagrass",
          "Nursery_mangroves",
          "connectivity"
         ],
         "yaxis": "y",
         "z": [
          [
           1,
           0.32062229887309907,
           -0.2260326065785169
          ],
          [
           0.32062229887309907,
           1,
           -0.03288025386384736
          ],
          [
           -0.2260326065785169,
           -0.03288025386384736,
           1
          ]
         ]
        }
       ],
       "layout": {
        "coloraxis": {
         "colorscale": [
          [
           0,
           "#0d0887"
          ],
          [
           0.1111111111111111,
           "#46039f"
          ],
          [
           0.2222222222222222,
           "#7201a8"
          ],
          [
           0.3333333333333333,
           "#9c179e"
          ],
          [
           0.4444444444444444,
           "#bd3786"
          ],
          [
           0.5555555555555556,
           "#d8576b"
          ],
          [
           0.6666666666666666,
           "#ed7953"
          ],
          [
           0.7777777777777778,
           "#fb9f3a"
          ],
          [
           0.8888888888888888,
           "#fdca26"
          ],
          [
           1,
           "#f0f921"
          ]
         ]
        },
        "margin": {
         "t": 60
        },
        "template": {
         "data": {
          "bar": [
           {
            "error_x": {
             "color": "#2a3f5f"
            },
            "error_y": {
             "color": "#2a3f5f"
            },
            "marker": {
             "line": {
              "color": "#E5ECF6",
              "width": 0.5
             },
             "pattern": {
              "fillmode": "overlay",
              "size": 10,
              "solidity": 0.2
             }
            },
            "type": "bar"
           }
          ],
          "barpolar": [
           {
            "marker": {
             "line": {
              "color": "#E5ECF6",
              "width": 0.5
             },
             "pattern": {
              "fillmode": "overlay",
              "size": 10,
              "solidity": 0.2
             }
            },
            "type": "barpolar"
           }
          ],
          "carpet": [
           {
            "aaxis": {
             "endlinecolor": "#2a3f5f",
             "gridcolor": "white",
             "linecolor": "white",
             "minorgridcolor": "white",
             "startlinecolor": "#2a3f5f"
            },
            "baxis": {
             "endlinecolor": "#2a3f5f",
             "gridcolor": "white",
             "linecolor": "white",
             "minorgridcolor": "white",
             "startlinecolor": "#2a3f5f"
            },
            "type": "carpet"
           }
          ],
          "choropleth": [
           {
            "colorbar": {
             "outlinewidth": 0,
             "ticks": ""
            },
            "type": "choropleth"
           }
          ],
          "contour": [
           {
            "colorbar": {
             "outlinewidth": 0,
             "ticks": ""
            },
            "colorscale": [
             [
              0,
              "#0d0887"
             ],
             [
              0.1111111111111111,
              "#46039f"
             ],
             [
              0.2222222222222222,
              "#7201a8"
             ],
             [
              0.3333333333333333,
              "#9c179e"
             ],
             [
              0.4444444444444444,
              "#bd3786"
             ],
             [
              0.5555555555555556,
              "#d8576b"
             ],
             [
              0.6666666666666666,
              "#ed7953"
             ],
             [
              0.7777777777777778,
              "#fb9f3a"
             ],
             [
              0.8888888888888888,
              "#fdca26"
             ],
             [
              1,
              "#f0f921"
             ]
            ],
            "type": "contour"
           }
          ],
          "contourcarpet": [
           {
            "colorbar": {
             "outlinewidth": 0,
             "ticks": ""
            },
            "type": "contourcarpet"
           }
          ],
          "heatmap": [
           {
            "colorbar": {
             "outlinewidth": 0,
             "ticks": ""
            },
            "colorscale": [
             [
              0,
              "#0d0887"
             ],
             [
              0.1111111111111111,
              "#46039f"
             ],
             [
              0.2222222222222222,
              "#7201a8"
             ],
             [
              0.3333333333333333,
              "#9c179e"
             ],
             [
              0.4444444444444444,
              "#bd3786"
             ],
             [
              0.5555555555555556,
              "#d8576b"
             ],
             [
              0.6666666666666666,
              "#ed7953"
             ],
             [
              0.7777777777777778,
              "#fb9f3a"
             ],
             [
              0.8888888888888888,
              "#fdca26"
             ],
             [
              1,
              "#f0f921"
             ]
            ],
            "type": "heatmap"
           }
          ],
          "heatmapgl": [
           {
            "colorbar": {
             "outlinewidth": 0,
             "ticks": ""
            },
            "colorscale": [
             [
              0,
              "#0d0887"
             ],
             [
              0.1111111111111111,
              "#46039f"
             ],
             [
              0.2222222222222222,
              "#7201a8"
             ],
             [
              0.3333333333333333,
              "#9c179e"
             ],
             [
              0.4444444444444444,
              "#bd3786"
             ],
             [
              0.5555555555555556,
              "#d8576b"
             ],
             [
              0.6666666666666666,
              "#ed7953"
             ],
             [
              0.7777777777777778,
              "#fb9f3a"
             ],
             [
              0.8888888888888888,
              "#fdca26"
             ],
             [
              1,
              "#f0f921"
             ]
            ],
            "type": "heatmapgl"
           }
          ],
          "histogram": [
           {
            "marker": {
             "pattern": {
              "fillmode": "overlay",
              "size": 10,
              "solidity": 0.2
             }
            },
            "type": "histogram"
           }
          ],
          "histogram2d": [
           {
            "colorbar": {
             "outlinewidth": 0,
             "ticks": ""
            },
            "colorscale": [
             [
              0,
              "#0d0887"
             ],
             [
              0.1111111111111111,
              "#46039f"
             ],
             [
              0.2222222222222222,
              "#7201a8"
             ],
             [
              0.3333333333333333,
              "#9c179e"
             ],
             [
              0.4444444444444444,
              "#bd3786"
             ],
             [
              0.5555555555555556,
              "#d8576b"
             ],
             [
              0.6666666666666666,
              "#ed7953"
             ],
             [
              0.7777777777777778,
              "#fb9f3a"
             ],
             [
              0.8888888888888888,
              "#fdca26"
             ],
             [
              1,
              "#f0f921"
             ]
            ],
            "type": "histogram2d"
           }
          ],
          "histogram2dcontour": [
           {
            "colorbar": {
             "outlinewidth": 0,
             "ticks": ""
            },
            "colorscale": [
             [
              0,
              "#0d0887"
             ],
             [
              0.1111111111111111,
              "#46039f"
             ],
             [
              0.2222222222222222,
              "#7201a8"
             ],
             [
              0.3333333333333333,
              "#9c179e"
             ],
             [
              0.4444444444444444,
              "#bd3786"
             ],
             [
              0.5555555555555556,
              "#d8576b"
             ],
             [
              0.6666666666666666,
              "#ed7953"
             ],
             [
              0.7777777777777778,
              "#fb9f3a"
             ],
             [
              0.8888888888888888,
              "#fdca26"
             ],
             [
              1,
              "#f0f921"
             ]
            ],
            "type": "histogram2dcontour"
           }
          ],
          "mesh3d": [
           {
            "colorbar": {
             "outlinewidth": 0,
             "ticks": ""
            },
            "type": "mesh3d"
           }
          ],
          "parcoords": [
           {
            "line": {
             "colorbar": {
              "outlinewidth": 0,
              "ticks": ""
             }
            },
            "type": "parcoords"
           }
          ],
          "pie": [
           {
            "automargin": true,
            "type": "pie"
           }
          ],
          "scatter": [
           {
            "fillpattern": {
             "fillmode": "overlay",
             "size": 10,
             "solidity": 0.2
            },
            "type": "scatter"
           }
          ],
          "scatter3d": [
           {
            "line": {
             "colorbar": {
              "outlinewidth": 0,
              "ticks": ""
             }
            },
            "marker": {
             "colorbar": {
              "outlinewidth": 0,
              "ticks": ""
             }
            },
            "type": "scatter3d"
           }
          ],
          "scattercarpet": [
           {
            "marker": {
             "colorbar": {
              "outlinewidth": 0,
              "ticks": ""
             }
            },
            "type": "scattercarpet"
           }
          ],
          "scattergeo": [
           {
            "marker": {
             "colorbar": {
              "outlinewidth": 0,
              "ticks": ""
             }
            },
            "type": "scattergeo"
           }
          ],
          "scattergl": [
           {
            "marker": {
             "colorbar": {
              "outlinewidth": 0,
              "ticks": ""
             }
            },
            "type": "scattergl"
           }
          ],
          "scattermapbox": [
           {
            "marker": {
             "colorbar": {
              "outlinewidth": 0,
              "ticks": ""
             }
            },
            "type": "scattermapbox"
           }
          ],
          "scatterpolar": [
           {
            "marker": {
             "colorbar": {
              "outlinewidth": 0,
              "ticks": ""
             }
            },
            "type": "scatterpolar"
           }
          ],
          "scatterpolargl": [
           {
            "marker": {
             "colorbar": {
              "outlinewidth": 0,
              "ticks": ""
             }
            },
            "type": "scatterpolargl"
           }
          ],
          "scatterternary": [
           {
            "marker": {
             "colorbar": {
              "outlinewidth": 0,
              "ticks": ""
             }
            },
            "type": "scatterternary"
           }
          ],
          "surface": [
           {
            "colorbar": {
             "outlinewidth": 0,
             "ticks": ""
            },
            "colorscale": [
             [
              0,
              "#0d0887"
             ],
             [
              0.1111111111111111,
              "#46039f"
             ],
             [
              0.2222222222222222,
              "#7201a8"
             ],
             [
              0.3333333333333333,
              "#9c179e"
             ],
             [
              0.4444444444444444,
              "#bd3786"
             ],
             [
              0.5555555555555556,
              "#d8576b"
             ],
             [
              0.6666666666666666,
              "#ed7953"
             ],
             [
              0.7777777777777778,
              "#fb9f3a"
             ],
             [
              0.8888888888888888,
              "#fdca26"
             ],
             [
              1,
              "#f0f921"
             ]
            ],
            "type": "surface"
           }
          ],
          "table": [
           {
            "cells": {
             "fill": {
              "color": "#EBF0F8"
             },
             "line": {
              "color": "white"
             }
            },
            "header": {
             "fill": {
              "color": "#C8D4E3"
             },
             "line": {
              "color": "white"
             }
            },
            "type": "table"
           }
          ]
         },
         "layout": {
          "annotationdefaults": {
           "arrowcolor": "#2a3f5f",
           "arrowhead": 0,
           "arrowwidth": 1
          },
          "autotypenumbers": "strict",
          "coloraxis": {
           "colorbar": {
            "outlinewidth": 0,
            "ticks": ""
           }
          },
          "colorscale": {
           "diverging": [
            [
             0,
             "#8e0152"
            ],
            [
             0.1,
             "#c51b7d"
            ],
            [
             0.2,
             "#de77ae"
            ],
            [
             0.3,
             "#f1b6da"
            ],
            [
             0.4,
             "#fde0ef"
            ],
            [
             0.5,
             "#f7f7f7"
            ],
            [
             0.6,
             "#e6f5d0"
            ],
            [
             0.7,
             "#b8e186"
            ],
            [
             0.8,
             "#7fbc41"
            ],
            [
             0.9,
             "#4d9221"
            ],
            [
             1,
             "#276419"
            ]
           ],
           "sequential": [
            [
             0,
             "#0d0887"
            ],
            [
             0.1111111111111111,
             "#46039f"
            ],
            [
             0.2222222222222222,
             "#7201a8"
            ],
            [
             0.3333333333333333,
             "#9c179e"
            ],
            [
             0.4444444444444444,
             "#bd3786"
            ],
            [
             0.5555555555555556,
             "#d8576b"
            ],
            [
             0.6666666666666666,
             "#ed7953"
            ],
            [
             0.7777777777777778,
             "#fb9f3a"
            ],
            [
             0.8888888888888888,
             "#fdca26"
            ],
            [
             1,
             "#f0f921"
            ]
           ],
           "sequentialminus": [
            [
             0,
             "#0d0887"
            ],
            [
             0.1111111111111111,
             "#46039f"
            ],
            [
             0.2222222222222222,
             "#7201a8"
            ],
            [
             0.3333333333333333,
             "#9c179e"
            ],
            [
             0.4444444444444444,
             "#bd3786"
            ],
            [
             0.5555555555555556,
             "#d8576b"
            ],
            [
             0.6666666666666666,
             "#ed7953"
            ],
            [
             0.7777777777777778,
             "#fb9f3a"
            ],
            [
             0.8888888888888888,
             "#fdca26"
            ],
            [
             1,
             "#f0f921"
            ]
           ]
          },
          "colorway": [
           "#636efa",
           "#EF553B",
           "#00cc96",
           "#ab63fa",
           "#FFA15A",
           "#19d3f3",
           "#FF6692",
           "#B6E880",
           "#FF97FF",
           "#FECB52"
          ],
          "font": {
           "color": "#2a3f5f"
          },
          "geo": {
           "bgcolor": "white",
           "lakecolor": "white",
           "landcolor": "#E5ECF6",
           "showlakes": true,
           "showland": true,
           "subunitcolor": "white"
          },
          "hoverlabel": {
           "align": "left"
          },
          "hovermode": "closest",
          "mapbox": {
           "style": "light"
          },
          "paper_bgcolor": "white",
          "plot_bgcolor": "#E5ECF6",
          "polar": {
           "angularaxis": {
            "gridcolor": "white",
            "linecolor": "white",
            "ticks": ""
           },
           "bgcolor": "#E5ECF6",
           "radialaxis": {
            "gridcolor": "white",
            "linecolor": "white",
            "ticks": ""
           }
          },
          "scene": {
           "xaxis": {
            "backgroundcolor": "#E5ECF6",
            "gridcolor": "white",
            "gridwidth": 2,
            "linecolor": "white",
            "showbackground": true,
            "ticks": "",
            "zerolinecolor": "white"
           },
           "yaxis": {
            "backgroundcolor": "#E5ECF6",
            "gridcolor": "white",
            "gridwidth": 2,
            "linecolor": "white",
            "showbackground": true,
            "ticks": "",
            "zerolinecolor": "white"
           },
           "zaxis": {
            "backgroundcolor": "#E5ECF6",
            "gridcolor": "white",
            "gridwidth": 2,
            "linecolor": "white",
            "showbackground": true,
            "ticks": "",
            "zerolinecolor": "white"
           }
          },
          "shapedefaults": {
           "line": {
            "color": "#2a3f5f"
           }
          },
          "ternary": {
           "aaxis": {
            "gridcolor": "white",
            "linecolor": "white",
            "ticks": ""
           },
           "baxis": {
            "gridcolor": "white",
            "linecolor": "white",
            "ticks": ""
           },
           "bgcolor": "#E5ECF6",
           "caxis": {
            "gridcolor": "white",
            "linecolor": "white",
            "ticks": ""
           }
          },
          "title": {
           "x": 0.05
          },
          "xaxis": {
           "automargin": true,
           "gridcolor": "white",
           "linecolor": "white",
           "ticks": "",
           "title": {
            "standoff": 15
           },
           "zerolinecolor": "white",
           "zerolinewidth": 2
          },
          "yaxis": {
           "automargin": true,
           "gridcolor": "white",
           "linecolor": "white",
           "ticks": "",
           "title": {
            "standoff": 15
           },
           "zerolinecolor": "white",
           "zerolinewidth": 2
          }
         }
        },
        "xaxis": {
         "anchor": "y",
         "constrain": "domain",
         "domain": [
          0,
          1
         ],
         "scaleanchor": "y"
        },
        "yaxis": {
         "anchor": "x",
         "autorange": "reversed",
         "constrain": "domain",
         "domain": [
          0,
          1
         ]
        }
       }
      }
     },
     "metadata": {},
     "output_type": "display_data"
    }
   ],
   "source": [
    "\n",
    "px.imshow(species.loc[:, ['Nursery_seagrass','Nursery_mangroves', 'connectivity']].corr())"
   ]
  },
  {
   "cell_type": "markdown",
   "metadata": {},
   "source": [
    "the correlation matrix show that:\n",
    "- the connectivity is \"negatively\" correlated with seagrass and mangroves meaning more he has seagrass or mangrove lower it's the connectivity\n",
    "- the nursery seagrass is positively correlated with nursery mangrove\n",
    "This suggest that, a nursery contain the both element."
   ]
  },
  {
   "cell_type": "code",
   "execution_count": 60,
   "metadata": {},
   "outputs": [
    {
     "data": {
      "image/png": "[encoded data removed]",
      "text/plain": [
       "<Figure size 900x300 with 3 Axes>"
      ]
     },
     "metadata": {},
     "output_type": "display_data"
    }
   ],
   "source": [
    "#Plot the nursery seagrass and mangrove in function of the region\n",
    "g = sns.FacetGrid(data=species,col=\"Region\")\n",
    "g.map(sns.scatterplot,\"Nursery_seagrass\" ,\"Nursery_mangroves\")\n",
    "plt.tight_layout()\n",
    "plt.show()"
   ]
  },
  {
   "cell_type": "markdown",
   "metadata": {},
   "source": [
    "These plot shows that the nursery are high in the region FLA KEYS but low in the DRY TORT and SEFCRI\n",
    "\n",
    "We can thing that, their exist a link between nursery seagrass/mangrove and coral_cover or/and reef complexity ? \n"
   ]
  },
  {
   "cell_type": "code",
   "execution_count": 61,
   "metadata": {},
   "outputs": [
    {
     "data": {
      "application/vnd.plotly.v1+json": {
       "config": {
        "plotlyServerURL": "https://plot.ly"
       },
       "data": [
        {
         "coloraxis": "coloraxis",
         "hovertemplate": "x: %{x}<br>y: %{y}<br>color: %{z}<extra></extra>",
         "name": "0",
         "type": "heatmap",
         "x": [
          "Nursery_seagrass",
          "Nursery_mangroves",
          "connectivity",
          "Coral_cover",
          "Reef_complexity"
         ],
         "xaxis": "x",
         "y": [
          "Nursery_seagrass",
          "Nursery_mangroves",
          "connectivity",
          "Coral_cover",
          "Reef_complexity"
         ],
         "yaxis": "y",
         "z": [
          [
           1,
           0.32062229887309907,
           -0.2260326065785169,
           0.14587431059663683,
           -0.03939887408284629
          ],
          [
           0.32062229887309907,
           1,
           -0.03288025386384736,
           0.29063653705631004,
           -0.052191218751742936
          ],
          [
           -0.2260326065785169,
           -0.03288025386384736,
           1,
           -0.2228636035459358,
           -0.19293488005405893
          ],
          [
           0.14587431059663683,
           0.29063653705631004,
           -0.2228636035459358,
           1,
           0.3817317491422918
          ],
          [
           -0.03939887408284629,
           -0.052191218751742936,
           -0.19293488005405893,
           0.3817317491422918,
           1
          ]
         ]
        }
       ],
       "layout": {
        "coloraxis": {
         "colorscale": [
          [
           0,
           "#0d0887"
          ],
          [
           0.1111111111111111,
           "#46039f"
          ],
          [
           0.2222222222222222,
           "#7201a8"
          ],
          [
           0.3333333333333333,
           "#9c179e"
          ],
          [
           0.4444444444444444,
           "#bd3786"
          ],
          [
           0.5555555555555556,
           "#d8576b"
          ],
          [
           0.6666666666666666,
           "#ed7953"
          ],
          [
           0.7777777777777778,
           "#fb9f3a"
          ],
          [
           0.8888888888888888,
           "#fdca26"
          ],
          [
           1,
           "#f0f921"
          ]
         ]
        },
        "margin": {
         "t": 60
        },
        "template": {
         "data": {
          "bar": [
           {
            "error_x": {
             "color": "#2a3f5f"
            },
            "error_y": {
             "color": "#2a3f5f"
            },
            "marker": {
             "line": {
              "color": "#E5ECF6",
              "width": 0.5
             },
             "pattern": {
              "fillmode": "overlay",
              "size": 10,
              "solidity": 0.2
             }
            },
            "type": "bar"
           }
          ],
          "barpolar": [
           {
            "marker": {
             "line": {
              "color": "#E5ECF6",
              "width": 0.5
             },
             "pattern": {
              "fillmode": "overlay",
              "size": 10,
              "solidity": 0.2
             }
            },
            "type": "barpolar"
           }
          ],
          "carpet": [
           {
            "aaxis": {
             "endlinecolor": "#2a3f5f",
             "gridcolor": "white",
             "linecolor": "white",
             "minorgridcolor": "white",
             "startlinecolor": "#2a3f5f"
            },
            "baxis": {
             "endlinecolor": "#2a3f5f",
             "gridcolor": "white",
             "linecolor": "white",
             "minorgridcolor": "white",
             "startlinecolor": "#2a3f5f"
            },
            "type": "carpet"
           }
          ],
          "choropleth": [
           {
            "colorbar": {
             "outlinewidth": 0,
             "ticks": ""
            },
            "type": "choropleth"
           }
          ],
          "contour": [
           {
            "colorbar": {
             "outlinewidth": 0,
             "ticks": ""
            },
            "colorscale": [
             [
              0,
              "#0d0887"
             ],
             [
              0.1111111111111111,
              "#46039f"
             ],
             [
              0.2222222222222222,
              "#7201a8"
             ],
             [
              0.3333333333333333,
              "#9c179e"
             ],
             [
              0.4444444444444444,
              "#bd3786"
             ],
             [
              0.5555555555555556,
              "#d8576b"
             ],
             [
              0.6666666666666666,
              "#ed7953"
             ],
             [
              0.7777777777777778,
              "#fb9f3a"
             ],
             [
              0.8888888888888888,
              "#fdca26"
             ],
             [
              1,
              "#f0f921"
             ]
            ],
            "type": "contour"
           }
          ],
          "contourcarpet": [
           {
            "colorbar": {
             "outlinewidth": 0,
             "ticks": ""
            },
            "type": "contourcarpet"
           }
          ],
          "heatmap": [
           {
            "colorbar": {
             "outlinewidth": 0,
             "ticks": ""
            },
            "colorscale": [
             [
              0,
              "#0d0887"
             ],
             [
              0.1111111111111111,
              "#46039f"
             ],
             [
              0.2222222222222222,
              "#7201a8"
             ],
             [
              0.3333333333333333,
              "#9c179e"
             ],
             [
              0.4444444444444444,
              "#bd3786"
             ],
             [
              0.5555555555555556,
              "#d8576b"
             ],
             [
              0.6666666666666666,
              "#ed7953"
             ],
             [
              0.7777777777777778,
              "#fb9f3a"
             ],
             [
              0.8888888888888888,
              "#fdca26"
             ],
             [
              1,
              "#f0f921"
             ]
            ],
            "type": "heatmap"
           }
          ],
          "heatmapgl": [
           {
            "colorbar": {
             "outlinewidth": 0,
             "ticks": ""
            },
            "colorscale": [
             [
              0,
              "#0d0887"
             ],
             [
              0.1111111111111111,
              "#46039f"
             ],
             [
              0.2222222222222222,
              "#7201a8"
             ],
             [
              0.3333333333333333,
              "#9c179e"
             ],
             [
              0.4444444444444444,
              "#bd3786"
             ],
             [
              0.5555555555555556,
              "#d8576b"
             ],
             [
              0.6666666666666666,
              "#ed7953"
             ],
             [
              0.7777777777777778,
              "#fb9f3a"
             ],
             [
              0.8888888888888888,
              "#fdca26"
             ],
             [
              1,
              "#f0f921"
             ]
            ],
            "type": "heatmapgl"
           }
          ],
          "histogram": [
           {
            "marker": {
             "pattern": {
              "fillmode": "overlay",
              "size": 10,
              "solidity": 0.2
             }
            },
            "type": "histogram"
           }
          ],
          "histogram2d": [
           {
            "colorbar": {
             "outlinewidth": 0,
             "ticks": ""
            },
            "colorscale": [
             [
              0,
              "#0d0887"
             ],
             [
              0.1111111111111111,
              "#46039f"
             ],
             [
              0.2222222222222222,
              "#7201a8"
             ],
             [
              0.3333333333333333,
              "#9c179e"
             ],
             [
              0.4444444444444444,
              "#bd3786"
             ],
             [
              0.5555555555555556,
              "#d8576b"
             ],
             [
              0.6666666666666666,
              "#ed7953"
             ],
             [
              0.7777777777777778,
              "#fb9f3a"
             ],
             [
              0.8888888888888888,
              "#fdca26"
             ],
             [
              1,
              "#f0f921"
             ]
            ],
            "type": "histogram2d"
           }
          ],
          "histogram2dcontour": [
           {
            "colorbar": {
             "outlinewidth": 0,
             "ticks": ""
            },
            "colorscale": [
             [
              0,
              "#0d0887"
             ],
             [
              0.1111111111111111,
              "#46039f"
             ],
             [
              0.2222222222222222,
              "#7201a8"
             ],
             [
              0.3333333333333333,
              "#9c179e"
             ],
             [
              0.4444444444444444,
              "#bd3786"
             ],
             [
              0.5555555555555556,
              "#d8576b"
             ],
             [
              0.6666666666666666,
              "#ed7953"
             ],
             [
              0.7777777777777778,
              "#fb9f3a"
             ],
             [
              0.8888888888888888,
              "#fdca26"
             ],
             [
              1,
              "#f0f921"
             ]
            ],
            "type": "histogram2dcontour"
           }
          ],
          "mesh3d": [
           {
            "colorbar": {
             "outlinewidth": 0,
             "ticks": ""
            },
            "type": "mesh3d"
           }
          ],
          "parcoords": [
           {
            "line": {
             "colorbar": {
              "outlinewidth": 0,
              "ticks": ""
             }
            },
            "type": "parcoords"
           }
          ],
          "pie": [
           {
            "automargin": true,
            "type": "pie"
           }
          ],
          "scatter": [
           {
            "fillpattern": {
             "fillmode": "overlay",
             "size": 10,
             "solidity": 0.2
            },
            "type": "scatter"
           }
          ],
          "scatter3d": [
           {
            "line": {
             "colorbar": {
              "outlinewidth": 0,
              "ticks": ""
             }
            },
            "marker": {
             "colorbar": {
              "outlinewidth": 0,
              "ticks": ""
             }
            },
            "type": "scatter3d"
           }
          ],
          "scattercarpet": [
           {
            "marker": {
             "colorbar": {
              "outlinewidth": 0,
              "ticks": ""
             }
            },
            "type": "scattercarpet"
           }
          ],
          "scattergeo": [
           {
            "marker": {
             "colorbar": {
              "outlinewidth": 0,
              "ticks": ""
             }
            },
            "type": "scattergeo"
           }
          ],
          "scattergl": [
           {
            "marker": {
             "colorbar": {
              "outlinewidth": 0,
              "ticks": ""
             }
            },
            "type": "scattergl"
           }
          ],
          "scattermapbox": [
           {
            "marker": {
             "colorbar": {
              "outlinewidth": 0,
              "ticks": ""
             }
            },
            "type": "scattermapbox"
           }
          ],
          "scatterpolar": [
           {
            "marker": {
             "colorbar": {
              "outlinewidth": 0,
              "ticks": ""
             }
            },
            "type": "scatterpolar"
           }
          ],
          "scatterpolargl": [
           {
            "marker": {
             "colorbar": {
              "outlinewidth": 0,
              "ticks": ""
             }
            },
            "type": "scatterpolargl"
           }
          ],
          "scatterternary": [
           {
            "marker": {
             "colorbar": {
              "outlinewidth": 0,
              "ticks": ""
             }
            },
            "type": "scatterternary"
           }
          ],
          "surface": [
           {
            "colorbar": {
             "outlinewidth": 0,
             "ticks": ""
            },
            "colorscale": [
             [
              0,
              "#0d0887"
             ],
             [
              0.1111111111111111,
              "#46039f"
             ],
             [
              0.2222222222222222,
              "#7201a8"
             ],
             [
              0.3333333333333333,
              "#9c179e"
             ],
             [
              0.4444444444444444,
              "#bd3786"
             ],
             [
              0.5555555555555556,
              "#d8576b"
             ],
             [
              0.6666666666666666,
              "#ed7953"
             ],
             [
              0.7777777777777778,
              "#fb9f3a"
             ],
             [
              0.8888888888888888,
              "#fdca26"
             ],
             [
              1,
              "#f0f921"
             ]
            ],
            "type": "surface"
           }
          ],
          "table": [
           {
            "cells": {
             "fill": {
              "color": "#EBF0F8"
             },
             "line": {
              "color": "white"
             }
            },
            "header": {
             "fill": {
              "color": "#C8D4E3"
             },
             "line": {
              "color": "white"
             }
            },
            "type": "table"
           }
          ]
         },
         "layout": {
          "annotationdefaults": {
           "arrowcolor": "#2a3f5f",
           "arrowhead": 0,
           "arrowwidth": 1
          },
          "autotypenumbers": "strict",
          "coloraxis": {
           "colorbar": {
            "outlinewidth": 0,
            "ticks": ""
           }
          },
          "colorscale": {
           "diverging": [
            [
             0,
             "#8e0152"
            ],
            [
             0.1,
             "#c51b7d"
            ],
            [
             0.2,
             "#de77ae"
            ],
            [
             0.3,
             "#f1b6da"
            ],
            [
             0.4,
             "#fde0ef"
            ],
            [
             0.5,
             "#f7f7f7"
            ],
            [
             0.6,
             "#e6f5d0"
            ],
            [
             0.7,
             "#b8e186"
            ],
            [
             0.8,
             "#7fbc41"
            ],
            [
             0.9,
             "#4d9221"
            ],
            [
             1,
             "#276419"
            ]
           ],
           "sequential": [
            [
             0,
             "#0d0887"
            ],
            [
             0.1111111111111111,
             "#46039f"
            ],
            [
             0.2222222222222222,
             "#7201a8"
            ],
            [
             0.3333333333333333,
             "#9c179e"
            ],
            [
             0.4444444444444444,
             "#bd3786"
            ],
            [
             0.5555555555555556,
             "#d8576b"
            ],
            [
             0.6666666666666666,
             "#ed7953"
            ],
            [
             0.7777777777777778,
             "#fb9f3a"
            ],
            [
             0.8888888888888888,
             "#fdca26"
            ],
            [
             1,
             "#f0f921"
            ]
           ],
           "sequentialminus": [
            [
             0,
             "#0d0887"
            ],
            [
             0.1111111111111111,
             "#46039f"
            ],
            [
             0.2222222222222222,
             "#7201a8"
            ],
            [
             0.3333333333333333,
             "#9c179e"
            ],
            [
             0.4444444444444444,
             "#bd3786"
            ],
            [
             0.5555555555555556,
             "#d8576b"
            ],
            [
             0.6666666666666666,
             "#ed7953"
            ],
            [
             0.7777777777777778,
             "#fb9f3a"
            ],
            [
             0.8888888888888888,
             "#fdca26"
            ],
            [
             1,
             "#f0f921"
            ]
           ]
          },
          "colorway": [
           "#636efa",
           "#EF553B",
           "#00cc96",
           "#ab63fa",
           "#FFA15A",
           "#19d3f3",
           "#FF6692",
           "#B6E880",
           "#FF97FF",
           "#FECB52"
          ],
          "font": {
           "color": "#2a3f5f"
          },
          "geo": {
           "bgcolor": "white",
           "lakecolor": "white",
           "landcolor": "#E5ECF6",
           "showlakes": true,
           "showland": true,
           "subunitcolor": "white"
          },
          "hoverlabel": {
           "align": "left"
          },
          "hovermode": "closest",
          "mapbox": {
           "style": "light"
          },
          "paper_bgcolor": "white",
          "plot_bgcolor": "#E5ECF6",
          "polar": {
           "angularaxis": {
            "gridcolor": "white",
            "linecolor": "white",
            "ticks": ""
           },
           "bgcolor": "#E5ECF6",
           "radialaxis": {
            "gridcolor": "white",
            "linecolor": "white",
            "ticks": ""
           }
          },
          "scene": {
           "xaxis": {
            "backgroundcolor": "#E5ECF6",
            "gridcolor": "white",
            "gridwidth": 2,
            "linecolor": "white",
            "showbackground": true,
            "ticks": "",
            "zerolinecolor": "white"
           },
           "yaxis": {
            "backgroundcolor": "#E5ECF6",
            "gridcolor": "white",
            "gridwidth": 2,
            "linecolor": "white",
            "showbackground": true,
            "ticks": "",
            "zerolinecolor": "white"
           },
           "zaxis": {
            "backgroundcolor": "#E5ECF6",
            "gridcolor": "white",
            "gridwidth": 2,
            "linecolor": "white",
            "showbackground": true,
            "ticks": "",
            "zerolinecolor": "white"
           }
          },
          "shapedefaults": {
           "line": {
            "color": "#2a3f5f"
           }
          },
          "ternary": {
           "aaxis": {
            "gridcolor": "white",
            "linecolor": "white",
            "ticks": ""
           },
           "baxis": {
            "gridcolor": "white",
            "linecolor": "white",
            "ticks": ""
           },
           "bgcolor": "#E5ECF6",
           "caxis": {
            "gridcolor": "white",
            "linecolor": "white",
            "ticks": ""
           }
          },
          "title": {
           "x": 0.05
          },
          "xaxis": {
           "automargin": true,
           "gridcolor": "white",
           "linecolor": "white",
           "ticks": "",
           "title": {
            "standoff": 15
           },
           "zerolinecolor": "white",
           "zerolinewidth": 2
          },
          "yaxis": {
           "automargin": true,
           "gridcolor": "white",
           "linecolor": "white",
           "ticks": "",
           "title": {
            "standoff": 15
           },
           "zerolinecolor": "white",
           "zerolinewidth": 2
          }
         }
        },
        "xaxis": {
         "anchor": "y",
         "constrain": "domain",
         "domain": [
          0,
          1
         ],
         "scaleanchor": "y"
        },
        "yaxis": {
         "anchor": "x",
         "autorange": "reversed",
         "constrain": "domain",
         "domain": [
          0,
          1
         ]
        }
       }
      }
     },
     "metadata": {},
     "output_type": "display_data"
    }
   ],
   "source": [
    "#Correlation matrix between nursery features and coral cover, reef complexity\n",
    "\n",
    "px.imshow(species.loc[:, ['Nursery_seagrass','Nursery_mangroves', 'connectivity', 'Coral_cover', 'Reef_complexity']].corr())"
   ]
  },
  {
   "cell_type": "markdown",
   "metadata": {},
   "source": [
    "Reef complexity is negatively related to nursery feature as well as connectivity but its positively correlated with coral cover as it was suggested earlier in this EDA. \n",
    "Coral cover is positively correlated with nursery features but negatively with connectivity.\n",
    "\n",
    "Moreover the coral cover in the region FLA KEYS is highest compared to the others region as we can observed fot the nursery where they are both more abundant in the FLA KEY region compared to the others. \n",
    "\n",
    "*We can hypothesized that, the coral cover favor the nursery environment and maybe can influence the fish diversity by enhancing the fish reproduction?*"
   ]
  }
 ],
 "metadata": {
  "kernelspec": {
   "display_name": "ML_Class_Project",
   "language": "python",
   "name": "python3"
  },
  "language_info": {
   "codemirror_mode": {
    "name": "ipython",
    "version": 3
   },
   "file_extension": ".py",
   "mimetype": "text/x-python",
   "name": "python",
   "nbconvert_exporter": "python",
   "pygments_lexer": "ipython3",
   "version": "3.9.19"
  }
 },
 "nbformat": 4,
 "nbformat_minor": 2
}
