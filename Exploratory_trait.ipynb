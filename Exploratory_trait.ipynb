{
 "cells": [
  {
   "cell_type": "code",
   "execution_count": 1,
   "metadata": {},
   "outputs": [],
   "source": [
    "#Library needed\n",
    "\n",
    "import numpy as np\n",
    "import pandas as pd\n",
    "import matplotlib.pyplot as plt\n",
    "import seaborn as sns\n",
    "import plotly.express as px\n",
    "import plotly.graph_objects as go\n",
    "from plotly.offline import download_plotlyjs, init_notebook_mode, plot, iplot\n",
    "\n",
    "#this line will allow to set an option in pandas for it display all the columns of the dataset \n",
    "# what ever the number\n",
    "pd.set_option('display.max_columns', None)"
   ]
  },
  {
   "cell_type": "code",
   "execution_count": 2,
   "metadata": {},
   "outputs": [],
   "source": [
    "#Importing the file traits_combined_2023\n",
    "\n",
    "trait = pd.read_excel(\"C:/Users/marie/Documents/DSTI_Cours/Python_Class/Python_Lab/Exam_project/Project 2/Resources/doi_10_5061_dryad_xpnvx0kmn__v20230901/traits_combined_2023.xlsx\")\n"
   ]
  },
  {
   "cell_type": "code",
   "execution_count": 3,
   "metadata": {},
   "outputs": [
    {
     "data": {
      "text/html": [
       "<div>\n",
       "<style scoped>\n",
       "    .dataframe tbody tr th:only-of-type {\n",
       "        vertical-align: middle;\n",
       "    }\n",
       "\n",
       "    .dataframe tbody tr th {\n",
       "        vertical-align: top;\n",
       "    }\n",
       "\n",
       "    .dataframe thead th {\n",
       "        text-align: right;\n",
       "    }\n",
       "</style>\n",
       "<table border=\"1\" class=\"dataframe\">\n",
       "  <thead>\n",
       "    <tr style=\"text-align: right;\">\n",
       "      <th></th>\n",
       "      <th>Species</th>\n",
       "      <th>Sp</th>\n",
       "      <th>Family</th>\n",
       "      <th>Genus</th>\n",
       "      <th>Spec</th>\n",
       "      <th>MaxLengthTL</th>\n",
       "      <th>Body_size_max</th>\n",
       "      <th>MaxLengthSL</th>\n",
       "      <th>MaxJuvLength</th>\n",
       "      <th>AspectRatio</th>\n",
       "      <th>AspectRatio_Q</th>\n",
       "      <th>Log_AR</th>\n",
       "      <th>swim_type</th>\n",
       "      <th>swim_mode</th>\n",
       "      <th>body_shape</th>\n",
       "      <th>Total.length.Body.depth.ratio</th>\n",
       "      <th>presence_defense</th>\n",
       "      <th>ComDepthMax</th>\n",
       "      <th>DepthMax</th>\n",
       "      <th>Depth_min</th>\n",
       "      <th>Depth_max</th>\n",
       "      <th>Depth_range</th>\n",
       "      <th>Troph</th>\n",
       "      <th>Trophic_level</th>\n",
       "      <th>Diet.x</th>\n",
       "      <th>Diet.y</th>\n",
       "      <th>Nocturnal</th>\n",
       "      <th>Diel_activity</th>\n",
       "      <th>shoaling</th>\n",
       "      <th>Size_group</th>\n",
       "      <th>Position.in.water.column.</th>\n",
       "      <th>Level_water</th>\n",
       "      <th>Specialist</th>\n",
       "      <th>Fished</th>\n",
       "      <th>Spawn</th>\n",
       "      <th>Spawning</th>\n",
       "      <th>Brackish</th>\n",
       "      <th>Multihabitat</th>\n",
       "      <th>Rafter</th>\n",
       "      <th>Relief</th>\n",
       "      <th>Coral</th>\n",
       "      <th>Cryptic</th>\n",
       "      <th>random</th>\n",
       "      <th>Home_range</th>\n",
       "    </tr>\n",
       "  </thead>\n",
       "  <tbody>\n",
       "    <tr>\n",
       "      <th>0</th>\n",
       "      <td>Abudefduf saxatilis</td>\n",
       "      <td>Abudefduf_saxatilis</td>\n",
       "      <td>POMACENTRIDAE</td>\n",
       "      <td>Abudefduf</td>\n",
       "      <td>saxatilis</td>\n",
       "      <td>22.90</td>\n",
       "      <td>23.0</td>\n",
       "      <td>16.82</td>\n",
       "      <td>6.0</td>\n",
       "      <td>1.53883</td>\n",
       "      <td>1.538830</td>\n",
       "      <td>0.431022</td>\n",
       "      <td>pectoral</td>\n",
       "      <td>labriform</td>\n",
       "      <td>short and / or deep</td>\n",
       "      <td>2.50</td>\n",
       "      <td>0</td>\n",
       "      <td>10</td>\n",
       "      <td>20</td>\n",
       "      <td>0.0</td>\n",
       "      <td>40.0</td>\n",
       "      <td>40.0</td>\n",
       "      <td>3.82</td>\n",
       "      <td>38.0</td>\n",
       "      <td>H</td>\n",
       "      <td>om</td>\n",
       "      <td>0</td>\n",
       "      <td>day</td>\n",
       "      <td>shoaling</td>\n",
       "      <td>smallg</td>\n",
       "      <td>demersal</td>\n",
       "      <td>low</td>\n",
       "      <td>1.0</td>\n",
       "      <td>1</td>\n",
       "      <td>DEM</td>\n",
       "      <td>demersal</td>\n",
       "      <td>NO</td>\n",
       "      <td>NO</td>\n",
       "      <td>YES</td>\n",
       "      <td>19.283335</td>\n",
       "      <td>2.155649</td>\n",
       "      <td>0</td>\n",
       "      <td>9316</td>\n",
       "      <td>mob</td>\n",
       "    </tr>\n",
       "    <tr>\n",
       "      <th>1</th>\n",
       "      <td>Acanthostracion quadricornis</td>\n",
       "      <td>Acanthostracion_quadricornis</td>\n",
       "      <td>OSTRACIIDAE</td>\n",
       "      <td>Acanthostracion</td>\n",
       "      <td>quadricornis</td>\n",
       "      <td>55.00</td>\n",
       "      <td>55.0</td>\n",
       "      <td>45.10</td>\n",
       "      <td>NaN</td>\n",
       "      <td>1.36959</td>\n",
       "      <td>1.369590</td>\n",
       "      <td>0.314511</td>\n",
       "      <td>dorsal_ventral</td>\n",
       "      <td>tetraodontiform</td>\n",
       "      <td>short and / or deep</td>\n",
       "      <td>3.30</td>\n",
       "      <td>1</td>\n",
       "      <td>30</td>\n",
       "      <td>80</td>\n",
       "      <td>1.0</td>\n",
       "      <td>80.0</td>\n",
       "      <td>79.0</td>\n",
       "      <td>2.68</td>\n",
       "      <td>27.0</td>\n",
       "      <td>C</td>\n",
       "      <td>im</td>\n",
       "      <td>0</td>\n",
       "      <td>day</td>\n",
       "      <td>solitary</td>\n",
       "      <td>sol</td>\n",
       "      <td>demersal</td>\n",
       "      <td>bottom</td>\n",
       "      <td>0.0</td>\n",
       "      <td>1</td>\n",
       "      <td>BAL</td>\n",
       "      <td>pelagic</td>\n",
       "      <td>NO</td>\n",
       "      <td>YES</td>\n",
       "      <td>YES</td>\n",
       "      <td>-4.402829</td>\n",
       "      <td>1.317257</td>\n",
       "      <td>0</td>\n",
       "      <td>6902</td>\n",
       "      <td>mob</td>\n",
       "    </tr>\n",
       "    <tr>\n",
       "      <th>2</th>\n",
       "      <td>Acanthostracion polygonius</td>\n",
       "      <td>Acanthostracion_polygonius</td>\n",
       "      <td>OSTRACIIDAE</td>\n",
       "      <td>Acanthostracion</td>\n",
       "      <td>polygonius</td>\n",
       "      <td>50.00</td>\n",
       "      <td>50.0</td>\n",
       "      <td>41.00</td>\n",
       "      <td>NaN</td>\n",
       "      <td>0.38000</td>\n",
       "      <td>0.375069</td>\n",
       "      <td>NaN</td>\n",
       "      <td>dorsal_ventral</td>\n",
       "      <td>tetraodontiform</td>\n",
       "      <td>short and / or deep</td>\n",
       "      <td>3.23</td>\n",
       "      <td>1</td>\n",
       "      <td>42</td>\n",
       "      <td>90</td>\n",
       "      <td>3.0</td>\n",
       "      <td>80.0</td>\n",
       "      <td>77.0</td>\n",
       "      <td>2.03</td>\n",
       "      <td>2.0</td>\n",
       "      <td>H</td>\n",
       "      <td>is</td>\n",
       "      <td>0</td>\n",
       "      <td>day</td>\n",
       "      <td>solitary</td>\n",
       "      <td>sol</td>\n",
       "      <td>demersal</td>\n",
       "      <td>low</td>\n",
       "      <td>0.0</td>\n",
       "      <td>1</td>\n",
       "      <td>BAL</td>\n",
       "      <td>pelagic</td>\n",
       "      <td>NO</td>\n",
       "      <td>NO</td>\n",
       "      <td>NO</td>\n",
       "      <td>-0.916844</td>\n",
       "      <td>0.822614</td>\n",
       "      <td>0</td>\n",
       "      <td>5100</td>\n",
       "      <td>mob</td>\n",
       "    </tr>\n",
       "    <tr>\n",
       "      <th>3</th>\n",
       "      <td>Acanthurus bahianus</td>\n",
       "      <td>Acanthurus_bahianus</td>\n",
       "      <td>ACANTHURIDAE</td>\n",
       "      <td>Acanthurus</td>\n",
       "      <td>bahianus</td>\n",
       "      <td>46.48</td>\n",
       "      <td>381.0</td>\n",
       "      <td>38.10</td>\n",
       "      <td>7.0</td>\n",
       "      <td>2.42851</td>\n",
       "      <td>2.430000</td>\n",
       "      <td>0.887278</td>\n",
       "      <td>pectoral</td>\n",
       "      <td>labriform</td>\n",
       "      <td>short/deep</td>\n",
       "      <td>2.70</td>\n",
       "      <td>1</td>\n",
       "      <td>25</td>\n",
       "      <td>40</td>\n",
       "      <td>2.0</td>\n",
       "      <td>40.0</td>\n",
       "      <td>38.0</td>\n",
       "      <td>2.00</td>\n",
       "      <td>2.0</td>\n",
       "      <td>H</td>\n",
       "      <td>hd</td>\n",
       "      <td>0</td>\n",
       "      <td>day</td>\n",
       "      <td>shoaling</td>\n",
       "      <td>medg</td>\n",
       "      <td>demersal</td>\n",
       "      <td>low</td>\n",
       "      <td>0.0</td>\n",
       "      <td>1</td>\n",
       "      <td>PEL</td>\n",
       "      <td>pelagic</td>\n",
       "      <td>NO</td>\n",
       "      <td>YES</td>\n",
       "      <td>NO</td>\n",
       "      <td>-6.458161</td>\n",
       "      <td>-2.629728</td>\n",
       "      <td>0</td>\n",
       "      <td>1201</td>\n",
       "      <td>mob</td>\n",
       "    </tr>\n",
       "    <tr>\n",
       "      <th>4</th>\n",
       "      <td>Acanthurus chirurgus</td>\n",
       "      <td>Acanthurus_chirurgus</td>\n",
       "      <td>ACANTHURIDAE</td>\n",
       "      <td>Acanthurus</td>\n",
       "      <td>chirurgus</td>\n",
       "      <td>39.00</td>\n",
       "      <td>39.0</td>\n",
       "      <td>31.98</td>\n",
       "      <td>8.0</td>\n",
       "      <td>1.87360</td>\n",
       "      <td>1.867165</td>\n",
       "      <td>0.627862</td>\n",
       "      <td>pectoral</td>\n",
       "      <td>labriform</td>\n",
       "      <td>short/deep</td>\n",
       "      <td>2.30</td>\n",
       "      <td>1</td>\n",
       "      <td>15</td>\n",
       "      <td>25</td>\n",
       "      <td>2.0</td>\n",
       "      <td>25.0</td>\n",
       "      <td>23.0</td>\n",
       "      <td>2.09</td>\n",
       "      <td>2.0</td>\n",
       "      <td>H</td>\n",
       "      <td>hd</td>\n",
       "      <td>0</td>\n",
       "      <td>day</td>\n",
       "      <td>shoaling</td>\n",
       "      <td>medg</td>\n",
       "      <td>demersal</td>\n",
       "      <td>low</td>\n",
       "      <td>0.0</td>\n",
       "      <td>1</td>\n",
       "      <td>PEL</td>\n",
       "      <td>pelagic</td>\n",
       "      <td>NO</td>\n",
       "      <td>YES</td>\n",
       "      <td>NO</td>\n",
       "      <td>-6.180233</td>\n",
       "      <td>-3.265823</td>\n",
       "      <td>0</td>\n",
       "      <td>3688</td>\n",
       "      <td>mob</td>\n",
       "    </tr>\n",
       "  </tbody>\n",
       "</table>\n",
       "</div>"
      ],
      "text/plain": [
       "                        Species                            Sp         Family  \\\n",
       "0           Abudefduf saxatilis           Abudefduf_saxatilis  POMACENTRIDAE   \n",
       "1  Acanthostracion quadricornis  Acanthostracion_quadricornis    OSTRACIIDAE   \n",
       "2    Acanthostracion polygonius    Acanthostracion_polygonius    OSTRACIIDAE   \n",
       "3           Acanthurus bahianus           Acanthurus_bahianus   ACANTHURIDAE   \n",
       "4          Acanthurus chirurgus          Acanthurus_chirurgus   ACANTHURIDAE   \n",
       "\n",
       "             Genus          Spec  MaxLengthTL  Body_size_max  MaxLengthSL  \\\n",
       "0        Abudefduf     saxatilis        22.90           23.0        16.82   \n",
       "1  Acanthostracion  quadricornis        55.00           55.0        45.10   \n",
       "2  Acanthostracion    polygonius        50.00           50.0        41.00   \n",
       "3       Acanthurus      bahianus        46.48          381.0        38.10   \n",
       "4       Acanthurus     chirurgus        39.00           39.0        31.98   \n",
       "\n",
       "   MaxJuvLength  AspectRatio  AspectRatio_Q    Log_AR       swim_type  \\\n",
       "0           6.0      1.53883       1.538830  0.431022        pectoral   \n",
       "1           NaN      1.36959       1.369590  0.314511  dorsal_ventral   \n",
       "2           NaN      0.38000       0.375069       NaN  dorsal_ventral   \n",
       "3           7.0      2.42851       2.430000  0.887278        pectoral   \n",
       "4           8.0      1.87360       1.867165  0.627862        pectoral   \n",
       "\n",
       "         swim_mode           body_shape  Total.length.Body.depth.ratio  \\\n",
       "0        labriform  short and / or deep                           2.50   \n",
       "1  tetraodontiform  short and / or deep                           3.30   \n",
       "2  tetraodontiform  short and / or deep                           3.23   \n",
       "3        labriform           short/deep                           2.70   \n",
       "4        labriform           short/deep                           2.30   \n",
       "\n",
       "   presence_defense  ComDepthMax  DepthMax  Depth_min  Depth_max  Depth_range  \\\n",
       "0                 0           10        20        0.0       40.0         40.0   \n",
       "1                 1           30        80        1.0       80.0         79.0   \n",
       "2                 1           42        90        3.0       80.0         77.0   \n",
       "3                 1           25        40        2.0       40.0         38.0   \n",
       "4                 1           15        25        2.0       25.0         23.0   \n",
       "\n",
       "   Troph  Trophic_level Diet.x Diet.y  Nocturnal Diel_activity  shoaling  \\\n",
       "0   3.82           38.0     H      om          0           day  shoaling   \n",
       "1   2.68           27.0      C     im          0           day  solitary   \n",
       "2   2.03            2.0      H     is          0           day  solitary   \n",
       "3   2.00            2.0      H     hd          0           day  shoaling   \n",
       "4   2.09            2.0      H     hd          0           day  shoaling   \n",
       "\n",
       "  Size_group Position.in.water.column. Level_water  Specialist  Fished Spawn  \\\n",
       "0     smallg                  demersal         low         1.0       1   DEM   \n",
       "1        sol                  demersal      bottom         0.0       1   BAL   \n",
       "2        sol                  demersal         low         0.0       1   BAL   \n",
       "3       medg                  demersal         low         0.0       1   PEL   \n",
       "4       medg                  demersal         low         0.0       1   PEL   \n",
       "\n",
       "   Spawning Brackish Multihabitat Rafter     Relief     Coral  Cryptic  \\\n",
       "0  demersal       NO           NO    YES  19.283335  2.155649        0   \n",
       "1   pelagic       NO          YES    YES  -4.402829  1.317257        0   \n",
       "2   pelagic       NO           NO     NO  -0.916844  0.822614        0   \n",
       "3   pelagic       NO          YES     NO  -6.458161 -2.629728        0   \n",
       "4   pelagic       NO          YES     NO  -6.180233 -3.265823        0   \n",
       "\n",
       "   random Home_range  \n",
       "0    9316        mob  \n",
       "1    6902        mob  \n",
       "2    5100        mob  \n",
       "3    1201        mob  \n",
       "4    3688        mob  "
      ]
     },
     "execution_count": 3,
     "metadata": {},
     "output_type": "execute_result"
    }
   ],
   "source": [
    "trait.head()"
   ]
  },
  {
   "cell_type": "code",
   "execution_count": 4,
   "metadata": {},
   "outputs": [
    {
     "data": {
      "text/plain": [
       "Species                           0\n",
       "Sp                                0\n",
       "Family                            0\n",
       "Genus                             0\n",
       "Spec                              0\n",
       "MaxLengthTL                       0\n",
       "Body_size_max                     1\n",
       "MaxLengthSL                       0\n",
       "MaxJuvLength                     53\n",
       "AspectRatio                       0\n",
       "AspectRatio_Q                     0\n",
       "Log_AR                            8\n",
       "swim_type                         0\n",
       "swim_mode                         0\n",
       "body_shape                        0\n",
       "Total.length.Body.depth.ratio     1\n",
       "presence_defense                  0\n",
       "ComDepthMax                       0\n",
       "DepthMax                          0\n",
       "Depth_min                         1\n",
       "Depth_max                         1\n",
       "Depth_range                       1\n",
       "Troph                             0\n",
       "Trophic_level                     1\n",
       "Diet.x                            0\n",
       "Diet.y                            1\n",
       "Nocturnal                         0\n",
       "Diel_activity                     1\n",
       "shoaling                          0\n",
       "Size_group                        1\n",
       "Position.in.water.column.         0\n",
       "Level_water                       1\n",
       "Specialist                        2\n",
       "Fished                            0\n",
       "Spawn                             1\n",
       "Spawning                          1\n",
       "Brackish                          0\n",
       "Multihabitat                      0\n",
       "Rafter                            0\n",
       "Relief                           11\n",
       "Coral                            11\n",
       "Cryptic                           0\n",
       "random                            0\n",
       "Home_range                        1\n",
       "dtype: int64"
      ]
     },
     "execution_count": 4,
     "metadata": {},
     "output_type": "execute_result"
    }
   ],
   "source": [
    "trait.isna().sum()"
   ]
  },
  {
   "cell_type": "markdown",
   "metadata": {},
   "source": [
    "It seems in this dataset he has not a high number of missing value.\n",
    "Has it is described by the authors, the coral and relief variables are derived from the density models and are related to the fish density.\n",
    "\n",
    "The count of missing value identify the presence of NaN in:\n",
    "- Home_range = 1 \n",
    "- *Coral = 11 which correspond to the percent contribution of coral cover to overall fish density derived from density models*\n",
    "- *Relief = 11 which correspond to the percent contribution of maximum hard relief to overall fish density derived from density models*\n",
    "- Spawning = 1\n",
    "- Spawn = 1\n",
    "- Specialist = 2\n",
    "- level_water = 1\n",
    "- Size_group = 1\n",
    "- Diel_activity = 1\n",
    "- Diet.y = 1 *this feature isn't used by the authors in their model*\n",
    "- Trophic_level = 1\n",
    "- Depth_min = 1\n",
    "- Depth_max = 1\n",
    "- Depth_range = 1\n",
    "- Total.length.Body.depth.ratio = 1\n",
    "- *MaxJuvLength = 53 which correspond to the maximum length of juvenile stages*\n",
    "- Body_size_max = 1\n",
    "\n",
    "In italic the feature with the highest number of missing data. "
   ]
  },
  {
   "cell_type": "code",
   "execution_count": 5,
   "metadata": {},
   "outputs": [
    {
     "data": {
      "text/html": [
       "<div>\n",
       "<style scoped>\n",
       "    .dataframe tbody tr th:only-of-type {\n",
       "        vertical-align: middle;\n",
       "    }\n",
       "\n",
       "    .dataframe tbody tr th {\n",
       "        vertical-align: top;\n",
       "    }\n",
       "\n",
       "    .dataframe thead th {\n",
       "        text-align: right;\n",
       "    }\n",
       "</style>\n",
       "<table border=\"1\" class=\"dataframe\">\n",
       "  <thead>\n",
       "    <tr style=\"text-align: right;\">\n",
       "      <th></th>\n",
       "      <th>Species</th>\n",
       "      <th>Sp</th>\n",
       "      <th>Family</th>\n",
       "      <th>Genus</th>\n",
       "      <th>Spec</th>\n",
       "      <th>MaxLengthTL</th>\n",
       "      <th>Body_size_max</th>\n",
       "      <th>MaxLengthSL</th>\n",
       "      <th>MaxJuvLength</th>\n",
       "      <th>AspectRatio</th>\n",
       "      <th>AspectRatio_Q</th>\n",
       "      <th>Log_AR</th>\n",
       "      <th>swim_type</th>\n",
       "      <th>swim_mode</th>\n",
       "      <th>body_shape</th>\n",
       "      <th>Total.length.Body.depth.ratio</th>\n",
       "      <th>presence_defense</th>\n",
       "      <th>ComDepthMax</th>\n",
       "      <th>DepthMax</th>\n",
       "      <th>Depth_min</th>\n",
       "      <th>Depth_max</th>\n",
       "      <th>Depth_range</th>\n",
       "      <th>Troph</th>\n",
       "      <th>Trophic_level</th>\n",
       "      <th>Diet.x</th>\n",
       "      <th>Diet.y</th>\n",
       "      <th>Nocturnal</th>\n",
       "      <th>Diel_activity</th>\n",
       "      <th>shoaling</th>\n",
       "      <th>Size_group</th>\n",
       "      <th>Position.in.water.column.</th>\n",
       "      <th>Level_water</th>\n",
       "      <th>Specialist</th>\n",
       "      <th>Fished</th>\n",
       "      <th>Spawn</th>\n",
       "      <th>Spawning</th>\n",
       "      <th>Brackish</th>\n",
       "      <th>Multihabitat</th>\n",
       "      <th>Rafter</th>\n",
       "      <th>Relief</th>\n",
       "      <th>Coral</th>\n",
       "      <th>Cryptic</th>\n",
       "      <th>random</th>\n",
       "      <th>Home_range</th>\n",
       "    </tr>\n",
       "  </thead>\n",
       "  <tbody>\n",
       "    <tr>\n",
       "      <th>31</th>\n",
       "      <td>Coryphopterus dicrus</td>\n",
       "      <td>Coryphopterus_dicrus</td>\n",
       "      <td>GOBIIDAE</td>\n",
       "      <td>Coryphopterus</td>\n",
       "      <td>dicrus</td>\n",
       "      <td>5.0</td>\n",
       "      <td>5.0</td>\n",
       "      <td>4.10</td>\n",
       "      <td>NaN</td>\n",
       "      <td>0.456147</td>\n",
       "      <td>0.456147</td>\n",
       "      <td>-0.784940</td>\n",
       "      <td>pectoral</td>\n",
       "      <td>diodontiform</td>\n",
       "      <td>elongated</td>\n",
       "      <td>6.3</td>\n",
       "      <td>0</td>\n",
       "      <td>12</td>\n",
       "      <td>20</td>\n",
       "      <td>3.0</td>\n",
       "      <td>20.0</td>\n",
       "      <td>17.0</td>\n",
       "      <td>2.68</td>\n",
       "      <td>27.0</td>\n",
       "      <td>H</td>\n",
       "      <td>om</td>\n",
       "      <td>0</td>\n",
       "      <td>day</td>\n",
       "      <td>solitary</td>\n",
       "      <td>smallg</td>\n",
       "      <td>benthic</td>\n",
       "      <td>bottom</td>\n",
       "      <td>0.0</td>\n",
       "      <td>0</td>\n",
       "      <td>DEM</td>\n",
       "      <td>demersal</td>\n",
       "      <td>NO</td>\n",
       "      <td>YES</td>\n",
       "      <td>NO</td>\n",
       "      <td>NaN</td>\n",
       "      <td>NaN</td>\n",
       "      <td>1</td>\n",
       "      <td>1957</td>\n",
       "      <td>sed</td>\n",
       "    </tr>\n",
       "    <tr>\n",
       "      <th>32</th>\n",
       "      <td>Coryphopterus glaucofraenum</td>\n",
       "      <td>Coryphopterus_glaucofraenum</td>\n",
       "      <td>GOBIIDAE</td>\n",
       "      <td>Coryphopterus</td>\n",
       "      <td>glaucofraenum</td>\n",
       "      <td>8.0</td>\n",
       "      <td>8.0</td>\n",
       "      <td>6.56</td>\n",
       "      <td>NaN</td>\n",
       "      <td>0.730450</td>\n",
       "      <td>0.671503</td>\n",
       "      <td>-0.314094</td>\n",
       "      <td>pectoral</td>\n",
       "      <td>diodontiform</td>\n",
       "      <td>elongated</td>\n",
       "      <td>5.7</td>\n",
       "      <td>0</td>\n",
       "      <td>24</td>\n",
       "      <td>45</td>\n",
       "      <td>2.0</td>\n",
       "      <td>45.0</td>\n",
       "      <td>43.0</td>\n",
       "      <td>2.67</td>\n",
       "      <td>27.0</td>\n",
       "      <td>H</td>\n",
       "      <td>om</td>\n",
       "      <td>0</td>\n",
       "      <td>day</td>\n",
       "      <td>solitary</td>\n",
       "      <td>smallg</td>\n",
       "      <td>benthic</td>\n",
       "      <td>bottom</td>\n",
       "      <td>0.0</td>\n",
       "      <td>0</td>\n",
       "      <td>DEM</td>\n",
       "      <td>demersal</td>\n",
       "      <td>NO</td>\n",
       "      <td>YES</td>\n",
       "      <td>NO</td>\n",
       "      <td>NaN</td>\n",
       "      <td>NaN</td>\n",
       "      <td>1</td>\n",
       "      <td>9326</td>\n",
       "      <td>sed</td>\n",
       "    </tr>\n",
       "    <tr>\n",
       "      <th>33</th>\n",
       "      <td>Coryphopterus personatus</td>\n",
       "      <td>Coryphopterus_personatus</td>\n",
       "      <td>GOBIIDAE</td>\n",
       "      <td>Coryphopterus</td>\n",
       "      <td>personatus</td>\n",
       "      <td>4.0</td>\n",
       "      <td>4.0</td>\n",
       "      <td>3.28</td>\n",
       "      <td>NaN</td>\n",
       "      <td>1.408270</td>\n",
       "      <td>1.408270</td>\n",
       "      <td>0.342362</td>\n",
       "      <td>pectoral</td>\n",
       "      <td>diodontiform</td>\n",
       "      <td>elongated</td>\n",
       "      <td>5.3</td>\n",
       "      <td>0</td>\n",
       "      <td>46</td>\n",
       "      <td>46</td>\n",
       "      <td>3.0</td>\n",
       "      <td>46.0</td>\n",
       "      <td>43.0</td>\n",
       "      <td>2.68</td>\n",
       "      <td>27.0</td>\n",
       "      <td>H</td>\n",
       "      <td>pk</td>\n",
       "      <td>0</td>\n",
       "      <td>day</td>\n",
       "      <td>schooling</td>\n",
       "      <td>sol</td>\n",
       "      <td>demersal</td>\n",
       "      <td>bottom</td>\n",
       "      <td>1.0</td>\n",
       "      <td>0</td>\n",
       "      <td>DEM</td>\n",
       "      <td>demersal</td>\n",
       "      <td>NO</td>\n",
       "      <td>NO</td>\n",
       "      <td>NO</td>\n",
       "      <td>NaN</td>\n",
       "      <td>NaN</td>\n",
       "      <td>1</td>\n",
       "      <td>2411</td>\n",
       "      <td>sed</td>\n",
       "    </tr>\n",
       "    <tr>\n",
       "      <th>36</th>\n",
       "      <td>Elacatinus oceanops</td>\n",
       "      <td>Elacatinus_oceanops</td>\n",
       "      <td>GOBIIDAE</td>\n",
       "      <td>Elacatinus</td>\n",
       "      <td>oceanops</td>\n",
       "      <td>5.0</td>\n",
       "      <td>5.0</td>\n",
       "      <td>4.10</td>\n",
       "      <td>NaN</td>\n",
       "      <td>1.400230</td>\n",
       "      <td>1.400230</td>\n",
       "      <td>0.336637</td>\n",
       "      <td>pectoral</td>\n",
       "      <td>diodontiform</td>\n",
       "      <td>fusiform / normal</td>\n",
       "      <td>5.9</td>\n",
       "      <td>0</td>\n",
       "      <td>40</td>\n",
       "      <td>45</td>\n",
       "      <td>1.0</td>\n",
       "      <td>45.0</td>\n",
       "      <td>44.0</td>\n",
       "      <td>3.50</td>\n",
       "      <td>35.0</td>\n",
       "      <td>C</td>\n",
       "      <td>im</td>\n",
       "      <td>0</td>\n",
       "      <td>day</td>\n",
       "      <td>solitary</td>\n",
       "      <td>smallg</td>\n",
       "      <td>benthic</td>\n",
       "      <td>bottom</td>\n",
       "      <td>1.0</td>\n",
       "      <td>0</td>\n",
       "      <td>DEM</td>\n",
       "      <td>demersal</td>\n",
       "      <td>NO</td>\n",
       "      <td>NO</td>\n",
       "      <td>NO</td>\n",
       "      <td>NaN</td>\n",
       "      <td>NaN</td>\n",
       "      <td>1</td>\n",
       "      <td>1405</td>\n",
       "      <td>sed</td>\n",
       "    </tr>\n",
       "    <tr>\n",
       "      <th>39</th>\n",
       "      <td>Gnatholepis thompsoni</td>\n",
       "      <td>Gnatholepis_thompsoni</td>\n",
       "      <td>GOBIIDAE</td>\n",
       "      <td>Gnatholepis</td>\n",
       "      <td>thompsoni</td>\n",
       "      <td>8.2</td>\n",
       "      <td>82.0</td>\n",
       "      <td>6.36</td>\n",
       "      <td>NaN</td>\n",
       "      <td>0.576185</td>\n",
       "      <td>0.576185</td>\n",
       "      <td>-0.551326</td>\n",
       "      <td>pectoral</td>\n",
       "      <td>diodontiform</td>\n",
       "      <td>fusiform / normal</td>\n",
       "      <td>5.3</td>\n",
       "      <td>0</td>\n",
       "      <td>36</td>\n",
       "      <td>50</td>\n",
       "      <td>0.0</td>\n",
       "      <td>50.0</td>\n",
       "      <td>50.0</td>\n",
       "      <td>2.29</td>\n",
       "      <td>23.0</td>\n",
       "      <td>H</td>\n",
       "      <td>om</td>\n",
       "      <td>0</td>\n",
       "      <td>day</td>\n",
       "      <td>solitary</td>\n",
       "      <td>smallg</td>\n",
       "      <td>benthic</td>\n",
       "      <td>bottom</td>\n",
       "      <td>0.0</td>\n",
       "      <td>0</td>\n",
       "      <td>DEM</td>\n",
       "      <td>demersal</td>\n",
       "      <td>NO</td>\n",
       "      <td>YES</td>\n",
       "      <td>NO</td>\n",
       "      <td>NaN</td>\n",
       "      <td>NaN</td>\n",
       "      <td>1</td>\n",
       "      <td>1358</td>\n",
       "      <td>sed</td>\n",
       "    </tr>\n",
       "    <tr>\n",
       "      <th>40</th>\n",
       "      <td>Gymnothorax moringa</td>\n",
       "      <td>Gymnothorax_moringa</td>\n",
       "      <td>MURAENIDAE</td>\n",
       "      <td>Gymnothorax</td>\n",
       "      <td>moringa</td>\n",
       "      <td>200.0</td>\n",
       "      <td>200.0</td>\n",
       "      <td>164.00</td>\n",
       "      <td>NaN</td>\n",
       "      <td>0.700000</td>\n",
       "      <td>0.700000</td>\n",
       "      <td>-0.356675</td>\n",
       "      <td>body_caudal</td>\n",
       "      <td>anguilliform</td>\n",
       "      <td>eel-like</td>\n",
       "      <td>16.7</td>\n",
       "      <td>0</td>\n",
       "      <td>35</td>\n",
       "      <td>200</td>\n",
       "      <td>0.0</td>\n",
       "      <td>200.0</td>\n",
       "      <td>200.0</td>\n",
       "      <td>4.50</td>\n",
       "      <td>45.0</td>\n",
       "      <td>P</td>\n",
       "      <td>fc</td>\n",
       "      <td>1</td>\n",
       "      <td>both</td>\n",
       "      <td>solitary</td>\n",
       "      <td>sol</td>\n",
       "      <td>benthic</td>\n",
       "      <td>bottom</td>\n",
       "      <td>0.0</td>\n",
       "      <td>1</td>\n",
       "      <td>PEL</td>\n",
       "      <td>pelagic</td>\n",
       "      <td>NO</td>\n",
       "      <td>YES</td>\n",
       "      <td>NO</td>\n",
       "      <td>NaN</td>\n",
       "      <td>NaN</td>\n",
       "      <td>1</td>\n",
       "      <td>7069</td>\n",
       "      <td>sed</td>\n",
       "    </tr>\n",
       "    <tr>\n",
       "      <th>75</th>\n",
       "      <td>Malacoctenus macropus</td>\n",
       "      <td>Malacoctenus_macropus</td>\n",
       "      <td>LABRISOMIDAE</td>\n",
       "      <td>Malacoctenus</td>\n",
       "      <td>macropus</td>\n",
       "      <td>5.5</td>\n",
       "      <td>55.0</td>\n",
       "      <td>4.51</td>\n",
       "      <td>NaN</td>\n",
       "      <td>1.319500</td>\n",
       "      <td>1.319500</td>\n",
       "      <td>0.277253</td>\n",
       "      <td>pectoral</td>\n",
       "      <td>diodontiform</td>\n",
       "      <td>fusiform / normal</td>\n",
       "      <td>4.5</td>\n",
       "      <td>0</td>\n",
       "      <td>2</td>\n",
       "      <td>8</td>\n",
       "      <td>0.0</td>\n",
       "      <td>8.0</td>\n",
       "      <td>8.0</td>\n",
       "      <td>3.35</td>\n",
       "      <td>34.0</td>\n",
       "      <td>C</td>\n",
       "      <td>im</td>\n",
       "      <td>0</td>\n",
       "      <td>day</td>\n",
       "      <td>solitary</td>\n",
       "      <td>sol</td>\n",
       "      <td>benthic</td>\n",
       "      <td>bottom</td>\n",
       "      <td>0.0</td>\n",
       "      <td>0</td>\n",
       "      <td>DEM</td>\n",
       "      <td>demersal</td>\n",
       "      <td>NO</td>\n",
       "      <td>YES</td>\n",
       "      <td>NO</td>\n",
       "      <td>NaN</td>\n",
       "      <td>NaN</td>\n",
       "      <td>1</td>\n",
       "      <td>5938</td>\n",
       "      <td>sed</td>\n",
       "    </tr>\n",
       "    <tr>\n",
       "      <th>76</th>\n",
       "      <td>Malacoctenus triangulatus</td>\n",
       "      <td>Malacoctenus_triangulatus</td>\n",
       "      <td>LABRISOMIDAE</td>\n",
       "      <td>Malacoctenus</td>\n",
       "      <td>triangulatus</td>\n",
       "      <td>7.5</td>\n",
       "      <td>75.0</td>\n",
       "      <td>6.15</td>\n",
       "      <td>NaN</td>\n",
       "      <td>1.000560</td>\n",
       "      <td>1.000560</td>\n",
       "      <td>0.000560</td>\n",
       "      <td>pectoral</td>\n",
       "      <td>diodontiform</td>\n",
       "      <td>fusiform / normal</td>\n",
       "      <td>5.2</td>\n",
       "      <td>0</td>\n",
       "      <td>3</td>\n",
       "      <td>40</td>\n",
       "      <td>0.0</td>\n",
       "      <td>15.0</td>\n",
       "      <td>15.0</td>\n",
       "      <td>3.50</td>\n",
       "      <td>35.0</td>\n",
       "      <td>C</td>\n",
       "      <td>im</td>\n",
       "      <td>0</td>\n",
       "      <td>day</td>\n",
       "      <td>solitary</td>\n",
       "      <td>sol</td>\n",
       "      <td>benthic</td>\n",
       "      <td>bottom</td>\n",
       "      <td>1.0</td>\n",
       "      <td>0</td>\n",
       "      <td>DEM</td>\n",
       "      <td>demersal</td>\n",
       "      <td>NO</td>\n",
       "      <td>NO</td>\n",
       "      <td>NO</td>\n",
       "      <td>NaN</td>\n",
       "      <td>NaN</td>\n",
       "      <td>1</td>\n",
       "      <td>2033</td>\n",
       "      <td>sed</td>\n",
       "    </tr>\n",
       "    <tr>\n",
       "      <th>84</th>\n",
       "      <td>Parablennius marmoreus</td>\n",
       "      <td>Parablennius_marmoreus</td>\n",
       "      <td>BLENNIIDAE</td>\n",
       "      <td>Parablennius</td>\n",
       "      <td>marmoreus</td>\n",
       "      <td>8.5</td>\n",
       "      <td>85.0</td>\n",
       "      <td>6.97</td>\n",
       "      <td>NaN</td>\n",
       "      <td>1.411200</td>\n",
       "      <td>1.400000</td>\n",
       "      <td>0.344440</td>\n",
       "      <td>pectoral</td>\n",
       "      <td>diodontiform</td>\n",
       "      <td>fusiform / normal</td>\n",
       "      <td>5.1</td>\n",
       "      <td>0</td>\n",
       "      <td>6</td>\n",
       "      <td>10</td>\n",
       "      <td>0.0</td>\n",
       "      <td>10.0</td>\n",
       "      <td>10.0</td>\n",
       "      <td>2.46</td>\n",
       "      <td>25.0</td>\n",
       "      <td>H</td>\n",
       "      <td>im</td>\n",
       "      <td>0</td>\n",
       "      <td>day</td>\n",
       "      <td>solitary</td>\n",
       "      <td>sol</td>\n",
       "      <td>benthic</td>\n",
       "      <td>bottom</td>\n",
       "      <td>1.0</td>\n",
       "      <td>0</td>\n",
       "      <td>DEM</td>\n",
       "      <td>demersal</td>\n",
       "      <td>NO</td>\n",
       "      <td>NO</td>\n",
       "      <td>NO</td>\n",
       "      <td>NaN</td>\n",
       "      <td>NaN</td>\n",
       "      <td>1</td>\n",
       "      <td>1468</td>\n",
       "      <td>sed</td>\n",
       "    </tr>\n",
       "    <tr>\n",
       "      <th>89</th>\n",
       "      <td>Ptereleotris calliura</td>\n",
       "      <td>Ptereleotris_calliura</td>\n",
       "      <td>GOBIIDAE</td>\n",
       "      <td>Ptereleotris</td>\n",
       "      <td>calliura</td>\n",
       "      <td>12.5</td>\n",
       "      <td>125.0</td>\n",
       "      <td>10.25</td>\n",
       "      <td>NaN</td>\n",
       "      <td>0.730780</td>\n",
       "      <td>0.730780</td>\n",
       "      <td>-0.313643</td>\n",
       "      <td>pectoral</td>\n",
       "      <td>diodontiform</td>\n",
       "      <td>elongated</td>\n",
       "      <td>9.3</td>\n",
       "      <td>0</td>\n",
       "      <td>28</td>\n",
       "      <td>50</td>\n",
       "      <td>5.0</td>\n",
       "      <td>50.0</td>\n",
       "      <td>45.0</td>\n",
       "      <td>3.40</td>\n",
       "      <td>34.0</td>\n",
       "      <td>Z</td>\n",
       "      <td>pk</td>\n",
       "      <td>0</td>\n",
       "      <td>day</td>\n",
       "      <td>solitary</td>\n",
       "      <td>pair</td>\n",
       "      <td>benthic</td>\n",
       "      <td>low</td>\n",
       "      <td>1.0</td>\n",
       "      <td>0</td>\n",
       "      <td>DEM</td>\n",
       "      <td>demersal</td>\n",
       "      <td>NO</td>\n",
       "      <td>YES</td>\n",
       "      <td>NO</td>\n",
       "      <td>NaN</td>\n",
       "      <td>NaN</td>\n",
       "      <td>1</td>\n",
       "      <td>2403</td>\n",
       "      <td>sed</td>\n",
       "    </tr>\n",
       "    <tr>\n",
       "      <th>118</th>\n",
       "      <td>Urobatis jamaicensis</td>\n",
       "      <td>Urobatis_jamaicensis</td>\n",
       "      <td>UROTRYGONIDAE</td>\n",
       "      <td>Urobatis</td>\n",
       "      <td>jamaicensis</td>\n",
       "      <td>76.0</td>\n",
       "      <td>NaN</td>\n",
       "      <td>62.32</td>\n",
       "      <td>NaN</td>\n",
       "      <td>0.700000</td>\n",
       "      <td>0.700000</td>\n",
       "      <td>-0.356675</td>\n",
       "      <td>pectoral</td>\n",
       "      <td>rajiform</td>\n",
       "      <td>other</td>\n",
       "      <td>NaN</td>\n",
       "      <td>1</td>\n",
       "      <td>14</td>\n",
       "      <td>25</td>\n",
       "      <td>NaN</td>\n",
       "      <td>NaN</td>\n",
       "      <td>NaN</td>\n",
       "      <td>3.55</td>\n",
       "      <td>NaN</td>\n",
       "      <td>C</td>\n",
       "      <td>NaN</td>\n",
       "      <td>0</td>\n",
       "      <td>NaN</td>\n",
       "      <td>solitary</td>\n",
       "      <td>NaN</td>\n",
       "      <td>benthic</td>\n",
       "      <td>NaN</td>\n",
       "      <td>0.0</td>\n",
       "      <td>0</td>\n",
       "      <td>NaN</td>\n",
       "      <td>NaN</td>\n",
       "      <td>YES</td>\n",
       "      <td>YES</td>\n",
       "      <td>NO</td>\n",
       "      <td>NaN</td>\n",
       "      <td>NaN</td>\n",
       "      <td>1</td>\n",
       "      <td>1910</td>\n",
       "      <td>NaN</td>\n",
       "    </tr>\n",
       "  </tbody>\n",
       "</table>\n",
       "</div>"
      ],
      "text/plain": [
       "                         Species                           Sp         Family  \\\n",
       "31          Coryphopterus dicrus         Coryphopterus_dicrus       GOBIIDAE   \n",
       "32   Coryphopterus glaucofraenum  Coryphopterus_glaucofraenum       GOBIIDAE   \n",
       "33      Coryphopterus personatus     Coryphopterus_personatus       GOBIIDAE   \n",
       "36           Elacatinus oceanops          Elacatinus_oceanops       GOBIIDAE   \n",
       "39         Gnatholepis thompsoni        Gnatholepis_thompsoni       GOBIIDAE   \n",
       "40           Gymnothorax moringa          Gymnothorax_moringa     MURAENIDAE   \n",
       "75         Malacoctenus macropus        Malacoctenus_macropus   LABRISOMIDAE   \n",
       "76     Malacoctenus triangulatus    Malacoctenus_triangulatus   LABRISOMIDAE   \n",
       "84        Parablennius marmoreus       Parablennius_marmoreus     BLENNIIDAE   \n",
       "89         Ptereleotris calliura        Ptereleotris_calliura       GOBIIDAE   \n",
       "118         Urobatis jamaicensis         Urobatis_jamaicensis  UROTRYGONIDAE   \n",
       "\n",
       "             Genus           Spec  MaxLengthTL  Body_size_max  MaxLengthSL  \\\n",
       "31   Coryphopterus         dicrus          5.0            5.0         4.10   \n",
       "32   Coryphopterus  glaucofraenum          8.0            8.0         6.56   \n",
       "33   Coryphopterus     personatus          4.0            4.0         3.28   \n",
       "36      Elacatinus       oceanops          5.0            5.0         4.10   \n",
       "39     Gnatholepis      thompsoni          8.2           82.0         6.36   \n",
       "40     Gymnothorax        moringa        200.0          200.0       164.00   \n",
       "75    Malacoctenus       macropus          5.5           55.0         4.51   \n",
       "76    Malacoctenus   triangulatus          7.5           75.0         6.15   \n",
       "84    Parablennius      marmoreus          8.5           85.0         6.97   \n",
       "89    Ptereleotris       calliura         12.5          125.0        10.25   \n",
       "118       Urobatis    jamaicensis         76.0            NaN        62.32   \n",
       "\n",
       "     MaxJuvLength  AspectRatio  AspectRatio_Q    Log_AR    swim_type  \\\n",
       "31            NaN     0.456147       0.456147 -0.784940     pectoral   \n",
       "32            NaN     0.730450       0.671503 -0.314094     pectoral   \n",
       "33            NaN     1.408270       1.408270  0.342362     pectoral   \n",
       "36            NaN     1.400230       1.400230  0.336637     pectoral   \n",
       "39            NaN     0.576185       0.576185 -0.551326     pectoral   \n",
       "40            NaN     0.700000       0.700000 -0.356675  body_caudal   \n",
       "75            NaN     1.319500       1.319500  0.277253     pectoral   \n",
       "76            NaN     1.000560       1.000560  0.000560     pectoral   \n",
       "84            NaN     1.411200       1.400000  0.344440     pectoral   \n",
       "89            NaN     0.730780       0.730780 -0.313643     pectoral   \n",
       "118           NaN     0.700000       0.700000 -0.356675     pectoral   \n",
       "\n",
       "        swim_mode         body_shape  Total.length.Body.depth.ratio  \\\n",
       "31   diodontiform          elongated                            6.3   \n",
       "32   diodontiform          elongated                            5.7   \n",
       "33   diodontiform          elongated                            5.3   \n",
       "36   diodontiform  fusiform / normal                            5.9   \n",
       "39   diodontiform  fusiform / normal                            5.3   \n",
       "40   anguilliform           eel-like                           16.7   \n",
       "75   diodontiform  fusiform / normal                            4.5   \n",
       "76   diodontiform  fusiform / normal                            5.2   \n",
       "84   diodontiform  fusiform / normal                            5.1   \n",
       "89   diodontiform          elongated                            9.3   \n",
       "118      rajiform              other                            NaN   \n",
       "\n",
       "     presence_defense  ComDepthMax  DepthMax  Depth_min  Depth_max  \\\n",
       "31                  0           12        20        3.0       20.0   \n",
       "32                  0           24        45        2.0       45.0   \n",
       "33                  0           46        46        3.0       46.0   \n",
       "36                  0           40        45        1.0       45.0   \n",
       "39                  0           36        50        0.0       50.0   \n",
       "40                  0           35       200        0.0      200.0   \n",
       "75                  0            2         8        0.0        8.0   \n",
       "76                  0            3        40        0.0       15.0   \n",
       "84                  0            6        10        0.0       10.0   \n",
       "89                  0           28        50        5.0       50.0   \n",
       "118                 1           14        25        NaN        NaN   \n",
       "\n",
       "     Depth_range  Troph  Trophic_level Diet.x Diet.y  Nocturnal Diel_activity  \\\n",
       "31          17.0   2.68           27.0      H     om          0           day   \n",
       "32          43.0   2.67           27.0      H     om          0           day   \n",
       "33          43.0   2.68           27.0      H     pk          0           day   \n",
       "36          44.0   3.50           35.0      C     im          0           day   \n",
       "39          50.0   2.29           23.0      H     om          0           day   \n",
       "40         200.0   4.50           45.0      P     fc          1          both   \n",
       "75           8.0   3.35           34.0      C     im          0           day   \n",
       "76          15.0   3.50           35.0      C     im          0           day   \n",
       "84          10.0   2.46           25.0      H     im          0           day   \n",
       "89          45.0   3.40           34.0      Z     pk          0           day   \n",
       "118          NaN   3.55            NaN      C    NaN          0           NaN   \n",
       "\n",
       "      shoaling Size_group Position.in.water.column. Level_water  Specialist  \\\n",
       "31    solitary     smallg                   benthic      bottom         0.0   \n",
       "32    solitary     smallg                   benthic      bottom         0.0   \n",
       "33   schooling        sol                  demersal      bottom         1.0   \n",
       "36    solitary     smallg                   benthic      bottom         1.0   \n",
       "39    solitary     smallg                   benthic      bottom         0.0   \n",
       "40    solitary        sol                   benthic      bottom         0.0   \n",
       "75    solitary        sol                   benthic      bottom         0.0   \n",
       "76    solitary        sol                   benthic      bottom         1.0   \n",
       "84    solitary        sol                   benthic      bottom         1.0   \n",
       "89    solitary       pair                   benthic         low         1.0   \n",
       "118   solitary        NaN                   benthic         NaN         0.0   \n",
       "\n",
       "     Fished Spawn  Spawning Brackish Multihabitat Rafter  Relief  Coral  \\\n",
       "31        0   DEM  demersal       NO          YES     NO     NaN    NaN   \n",
       "32        0   DEM  demersal       NO          YES     NO     NaN    NaN   \n",
       "33        0   DEM  demersal       NO           NO     NO     NaN    NaN   \n",
       "36        0   DEM  demersal       NO           NO     NO     NaN    NaN   \n",
       "39        0   DEM  demersal       NO          YES     NO     NaN    NaN   \n",
       "40        1   PEL   pelagic       NO          YES     NO     NaN    NaN   \n",
       "75        0   DEM  demersal       NO          YES     NO     NaN    NaN   \n",
       "76        0   DEM  demersal       NO           NO     NO     NaN    NaN   \n",
       "84        0   DEM  demersal       NO           NO     NO     NaN    NaN   \n",
       "89        0   DEM  demersal       NO          YES     NO     NaN    NaN   \n",
       "118       0   NaN       NaN      YES          YES     NO     NaN    NaN   \n",
       "\n",
       "     Cryptic  random Home_range  \n",
       "31         1    1957        sed  \n",
       "32         1    9326        sed  \n",
       "33         1    2411        sed  \n",
       "36         1    1405        sed  \n",
       "39         1    1358        sed  \n",
       "40         1    7069        sed  \n",
       "75         1    5938        sed  \n",
       "76         1    2033        sed  \n",
       "84         1    1468        sed  \n",
       "89         1    2403        sed  \n",
       "118        1    1910        NaN  "
      ]
     },
     "execution_count": 5,
     "metadata": {},
     "output_type": "execute_result"
    }
   ],
   "source": [
    "#missing data for the coral and relief features\n",
    "\n",
    "trait.loc[(trait.Coral.isna() & trait.Relief.isna()), :]"
   ]
  },
  {
   "cell_type": "markdown",
   "metadata": {},
   "source": [
    "We can shows that, the 11 missing values in Coral and Relief are both in the sames rows. "
   ]
  },
  {
   "cell_type": "code",
   "execution_count": 6,
   "metadata": {},
   "outputs": [
    {
     "name": "stdout",
     "output_type": "stream",
     "text": [
      "<class 'pandas.core.frame.DataFrame'>\n",
      "RangeIndex: 120 entries, 0 to 119\n",
      "Data columns (total 44 columns):\n",
      " #   Column                         Non-Null Count  Dtype  \n",
      "---  ------                         --------------  -----  \n",
      " 0   Species                        120 non-null    object \n",
      " 1   Sp                             120 non-null    object \n",
      " 2   Family                         120 non-null    object \n",
      " 3   Genus                          120 non-null    object \n",
      " 4   Spec                           120 non-null    object \n",
      " 5   MaxLengthTL                    120 non-null    float64\n",
      " 6   Body_size_max                  119 non-null    float64\n",
      " 7   MaxLengthSL                    120 non-null    float64\n",
      " 8   MaxJuvLength                   67 non-null     float64\n",
      " 9   AspectRatio                    120 non-null    float64\n",
      " 10  AspectRatio_Q                  120 non-null    float64\n",
      " 11  Log_AR                         112 non-null    float64\n",
      " 12  swim_type                      120 non-null    object \n",
      " 13  swim_mode                      120 non-null    object \n",
      " 14  body_shape                     120 non-null    object \n",
      " 15  Total.length.Body.depth.ratio  119 non-null    float64\n",
      " 16  presence_defense               120 non-null    int64  \n",
      " 17  ComDepthMax                    120 non-null    int64  \n",
      " 18  DepthMax                       120 non-null    int64  \n",
      " 19  Depth_min                      119 non-null    float64\n",
      " 20  Depth_max                      119 non-null    float64\n",
      " 21  Depth_range                    119 non-null    float64\n",
      " 22  Troph                          120 non-null    float64\n",
      " 23  Trophic_level                  119 non-null    float64\n",
      " 24  Diet.x                         120 non-null    object \n",
      " 25  Diet.y                         119 non-null    object \n",
      " 26  Nocturnal                      120 non-null    int64  \n",
      " 27  Diel_activity                  119 non-null    object \n",
      " 28  shoaling                       120 non-null    object \n",
      " 29  Size_group                     119 non-null    object \n",
      " 30  Position.in.water.column.      120 non-null    object \n",
      " 31  Level_water                    119 non-null    object \n",
      " 32  Specialist                     118 non-null    float64\n",
      " 33  Fished                         120 non-null    int64  \n",
      " 34  Spawn                          119 non-null    object \n",
      " 35  Spawning                       119 non-null    object \n",
      " 36  Brackish                       120 non-null    object \n",
      " 37  Multihabitat                   120 non-null    object \n",
      " 38  Rafter                         120 non-null    object \n",
      " 39  Relief                         109 non-null    float64\n",
      " 40  Coral                          109 non-null    float64\n",
      " 41  Cryptic                        120 non-null    int64  \n",
      " 42  random                         120 non-null    int64  \n",
      " 43  Home_range                     119 non-null    object \n",
      "dtypes: float64(16), int64(7), object(21)\n",
      "memory usage: 41.4+ KB\n"
     ]
    }
   ],
   "source": [
    "trait.info()"
   ]
  },
  {
   "cell_type": "markdown",
   "metadata": {},
   "source": [
    "Most of the features here are categorical."
   ]
  },
  {
   "cell_type": "code",
   "execution_count": 7,
   "metadata": {},
   "outputs": [
    {
     "data": {
      "text/html": [
       "<div>\n",
       "<style scoped>\n",
       "    .dataframe tbody tr th:only-of-type {\n",
       "        vertical-align: middle;\n",
       "    }\n",
       "\n",
       "    .dataframe tbody tr th {\n",
       "        vertical-align: top;\n",
       "    }\n",
       "\n",
       "    .dataframe thead th {\n",
       "        text-align: right;\n",
       "    }\n",
       "</style>\n",
       "<table border=\"1\" class=\"dataframe\">\n",
       "  <thead>\n",
       "    <tr style=\"text-align: right;\">\n",
       "      <th></th>\n",
       "      <th>MaxLengthTL</th>\n",
       "      <th>Body_size_max</th>\n",
       "      <th>MaxLengthSL</th>\n",
       "      <th>MaxJuvLength</th>\n",
       "      <th>AspectRatio</th>\n",
       "      <th>AspectRatio_Q</th>\n",
       "      <th>Log_AR</th>\n",
       "      <th>Total.length.Body.depth.ratio</th>\n",
       "      <th>presence_defense</th>\n",
       "      <th>ComDepthMax</th>\n",
       "      <th>DepthMax</th>\n",
       "      <th>Depth_min</th>\n",
       "      <th>Depth_max</th>\n",
       "      <th>Depth_range</th>\n",
       "      <th>Troph</th>\n",
       "      <th>Trophic_level</th>\n",
       "      <th>Nocturnal</th>\n",
       "      <th>Specialist</th>\n",
       "      <th>Fished</th>\n",
       "      <th>Relief</th>\n",
       "      <th>Coral</th>\n",
       "      <th>Cryptic</th>\n",
       "      <th>random</th>\n",
       "    </tr>\n",
       "  </thead>\n",
       "  <tbody>\n",
       "    <tr>\n",
       "      <th>count</th>\n",
       "      <td>120.000000</td>\n",
       "      <td>119.000000</td>\n",
       "      <td>120.000000</td>\n",
       "      <td>67.000000</td>\n",
       "      <td>120.000000</td>\n",
       "      <td>120.000000</td>\n",
       "      <td>112.000000</td>\n",
       "      <td>119.000000</td>\n",
       "      <td>120.000000</td>\n",
       "      <td>120.000000</td>\n",
       "      <td>120.000000</td>\n",
       "      <td>119.000000</td>\n",
       "      <td>119.000000</td>\n",
       "      <td>119.000000</td>\n",
       "      <td>120.000000</td>\n",
       "      <td>119.000000</td>\n",
       "      <td>120.000000</td>\n",
       "      <td>118.000000</td>\n",
       "      <td>120.000000</td>\n",
       "      <td>109.000000</td>\n",
       "      <td>109.000000</td>\n",
       "      <td>120.000000</td>\n",
       "      <td>120.000000</td>\n",
       "    </tr>\n",
       "    <tr>\n",
       "      <th>mean</th>\n",
       "      <td>43.986750</td>\n",
       "      <td>90.361345</td>\n",
       "      <td>36.606083</td>\n",
       "      <td>11.208955</td>\n",
       "      <td>1.733621</td>\n",
       "      <td>1.728393</td>\n",
       "      <td>0.459358</td>\n",
       "      <td>3.934370</td>\n",
       "      <td>0.166667</td>\n",
       "      <td>32.525000</td>\n",
       "      <td>69.125000</td>\n",
       "      <td>2.310924</td>\n",
       "      <td>70.798319</td>\n",
       "      <td>68.487395</td>\n",
       "      <td>3.254917</td>\n",
       "      <td>27.327731</td>\n",
       "      <td>0.158333</td>\n",
       "      <td>0.406780</td>\n",
       "      <td>0.533333</td>\n",
       "      <td>4.522800</td>\n",
       "      <td>1.523872</td>\n",
       "      <td>0.091667</td>\n",
       "      <td>4852.683333</td>\n",
       "    </tr>\n",
       "    <tr>\n",
       "      <th>std</th>\n",
       "      <td>38.674115</td>\n",
       "      <td>137.771657</td>\n",
       "      <td>33.009805</td>\n",
       "      <td>7.312375</td>\n",
       "      <td>0.774097</td>\n",
       "      <td>0.781303</td>\n",
       "      <td>0.421621</td>\n",
       "      <td>2.006749</td>\n",
       "      <td>0.374241</td>\n",
       "      <td>36.503473</td>\n",
       "      <td>68.391921</td>\n",
       "      <td>3.931075</td>\n",
       "      <td>65.335585</td>\n",
       "      <td>64.327402</td>\n",
       "      <td>0.760697</td>\n",
       "      <td>15.339718</td>\n",
       "      <td>0.366584</td>\n",
       "      <td>0.493328</td>\n",
       "      <td>0.500979</td>\n",
       "      <td>7.271063</td>\n",
       "      <td>5.315977</td>\n",
       "      <td>0.289765</td>\n",
       "      <td>2903.997219</td>\n",
       "    </tr>\n",
       "    <tr>\n",
       "      <th>min</th>\n",
       "      <td>4.000000</td>\n",
       "      <td>4.000000</td>\n",
       "      <td>3.280000</td>\n",
       "      <td>3.000000</td>\n",
       "      <td>0.380000</td>\n",
       "      <td>0.375069</td>\n",
       "      <td>-0.784940</td>\n",
       "      <td>1.600000</td>\n",
       "      <td>0.000000</td>\n",
       "      <td>2.000000</td>\n",
       "      <td>3.000000</td>\n",
       "      <td>0.000000</td>\n",
       "      <td>8.000000</td>\n",
       "      <td>8.000000</td>\n",
       "      <td>2.000000</td>\n",
       "      <td>2.000000</td>\n",
       "      <td>0.000000</td>\n",
       "      <td>0.000000</td>\n",
       "      <td>0.000000</td>\n",
       "      <td>-13.971772</td>\n",
       "      <td>-10.247201</td>\n",
       "      <td>0.000000</td>\n",
       "      <td>35.000000</td>\n",
       "    </tr>\n",
       "    <tr>\n",
       "      <th>25%</th>\n",
       "      <td>15.240000</td>\n",
       "      <td>22.500000</td>\n",
       "      <td>12.500000</td>\n",
       "      <td>6.000000</td>\n",
       "      <td>1.197148</td>\n",
       "      <td>1.195903</td>\n",
       "      <td>0.179941</td>\n",
       "      <td>2.900000</td>\n",
       "      <td>0.000000</td>\n",
       "      <td>15.000000</td>\n",
       "      <td>25.000000</td>\n",
       "      <td>0.500000</td>\n",
       "      <td>30.000000</td>\n",
       "      <td>30.000000</td>\n",
       "      <td>2.680000</td>\n",
       "      <td>12.500000</td>\n",
       "      <td>0.000000</td>\n",
       "      <td>0.000000</td>\n",
       "      <td>0.000000</td>\n",
       "      <td>-0.575752</td>\n",
       "      <td>-1.162476</td>\n",
       "      <td>0.000000</td>\n",
       "      <td>2278.250000</td>\n",
       "    </tr>\n",
       "    <tr>\n",
       "      <th>50%</th>\n",
       "      <td>35.000000</td>\n",
       "      <td>46.000000</td>\n",
       "      <td>28.700000</td>\n",
       "      <td>9.000000</td>\n",
       "      <td>1.550755</td>\n",
       "      <td>1.550755</td>\n",
       "      <td>0.438712</td>\n",
       "      <td>3.500000</td>\n",
       "      <td>0.000000</td>\n",
       "      <td>25.000000</td>\n",
       "      <td>50.000000</td>\n",
       "      <td>1.000000</td>\n",
       "      <td>50.000000</td>\n",
       "      <td>49.000000</td>\n",
       "      <td>3.460000</td>\n",
       "      <td>34.000000</td>\n",
       "      <td>0.000000</td>\n",
       "      <td>0.000000</td>\n",
       "      <td>1.000000</td>\n",
       "      <td>5.131455</td>\n",
       "      <td>1.765955</td>\n",
       "      <td>0.000000</td>\n",
       "      <td>5061.000000</td>\n",
       "    </tr>\n",
       "    <tr>\n",
       "      <th>75%</th>\n",
       "      <td>57.000000</td>\n",
       "      <td>90.000000</td>\n",
       "      <td>48.367500</td>\n",
       "      <td>15.000000</td>\n",
       "      <td>2.063108</td>\n",
       "      <td>2.104204</td>\n",
       "      <td>0.724213</td>\n",
       "      <td>4.500000</td>\n",
       "      <td>0.000000</td>\n",
       "      <td>40.000000</td>\n",
       "      <td>91.250000</td>\n",
       "      <td>3.000000</td>\n",
       "      <td>91.000000</td>\n",
       "      <td>87.500000</td>\n",
       "      <td>3.740000</td>\n",
       "      <td>37.000000</td>\n",
       "      <td>0.000000</td>\n",
       "      <td>1.000000</td>\n",
       "      <td>1.000000</td>\n",
       "      <td>9.445818</td>\n",
       "      <td>3.199064</td>\n",
       "      <td>0.000000</td>\n",
       "      <td>7057.000000</td>\n",
       "    </tr>\n",
       "    <tr>\n",
       "      <th>max</th>\n",
       "      <td>200.000000</td>\n",
       "      <td>863.000000</td>\n",
       "      <td>178.880000</td>\n",
       "      <td>41.000000</td>\n",
       "      <td>4.515040</td>\n",
       "      <td>4.515040</td>\n",
       "      <td>1.507414</td>\n",
       "      <td>16.700000</td>\n",
       "      <td>1.000000</td>\n",
       "      <td>330.000000</td>\n",
       "      <td>400.000000</td>\n",
       "      <td>30.000000</td>\n",
       "      <td>400.000000</td>\n",
       "      <td>398.000000</td>\n",
       "      <td>4.510000</td>\n",
       "      <td>45.000000</td>\n",
       "      <td>1.000000</td>\n",
       "      <td>1.000000</td>\n",
       "      <td>1.000000</td>\n",
       "      <td>21.161932</td>\n",
       "      <td>41.486844</td>\n",
       "      <td>1.000000</td>\n",
       "      <td>9917.000000</td>\n",
       "    </tr>\n",
       "  </tbody>\n",
       "</table>\n",
       "</div>"
      ],
      "text/plain": [
       "       MaxLengthTL  Body_size_max  MaxLengthSL  MaxJuvLength  AspectRatio  \\\n",
       "count   120.000000     119.000000   120.000000     67.000000   120.000000   \n",
       "mean     43.986750      90.361345    36.606083     11.208955     1.733621   \n",
       "std      38.674115     137.771657    33.009805      7.312375     0.774097   \n",
       "min       4.000000       4.000000     3.280000      3.000000     0.380000   \n",
       "25%      15.240000      22.500000    12.500000      6.000000     1.197148   \n",
       "50%      35.000000      46.000000    28.700000      9.000000     1.550755   \n",
       "75%      57.000000      90.000000    48.367500     15.000000     2.063108   \n",
       "max     200.000000     863.000000   178.880000     41.000000     4.515040   \n",
       "\n",
       "       AspectRatio_Q      Log_AR  Total.length.Body.depth.ratio  \\\n",
       "count     120.000000  112.000000                     119.000000   \n",
       "mean        1.728393    0.459358                       3.934370   \n",
       "std         0.781303    0.421621                       2.006749   \n",
       "min         0.375069   -0.784940                       1.600000   \n",
       "25%         1.195903    0.179941                       2.900000   \n",
       "50%         1.550755    0.438712                       3.500000   \n",
       "75%         2.104204    0.724213                       4.500000   \n",
       "max         4.515040    1.507414                      16.700000   \n",
       "\n",
       "       presence_defense  ComDepthMax    DepthMax   Depth_min   Depth_max  \\\n",
       "count        120.000000   120.000000  120.000000  119.000000  119.000000   \n",
       "mean           0.166667    32.525000   69.125000    2.310924   70.798319   \n",
       "std            0.374241    36.503473   68.391921    3.931075   65.335585   \n",
       "min            0.000000     2.000000    3.000000    0.000000    8.000000   \n",
       "25%            0.000000    15.000000   25.000000    0.500000   30.000000   \n",
       "50%            0.000000    25.000000   50.000000    1.000000   50.000000   \n",
       "75%            0.000000    40.000000   91.250000    3.000000   91.000000   \n",
       "max            1.000000   330.000000  400.000000   30.000000  400.000000   \n",
       "\n",
       "       Depth_range       Troph  Trophic_level   Nocturnal  Specialist  \\\n",
       "count   119.000000  120.000000     119.000000  120.000000  118.000000   \n",
       "mean     68.487395    3.254917      27.327731    0.158333    0.406780   \n",
       "std      64.327402    0.760697      15.339718    0.366584    0.493328   \n",
       "min       8.000000    2.000000       2.000000    0.000000    0.000000   \n",
       "25%      30.000000    2.680000      12.500000    0.000000    0.000000   \n",
       "50%      49.000000    3.460000      34.000000    0.000000    0.000000   \n",
       "75%      87.500000    3.740000      37.000000    0.000000    1.000000   \n",
       "max     398.000000    4.510000      45.000000    1.000000    1.000000   \n",
       "\n",
       "           Fished      Relief       Coral     Cryptic       random  \n",
       "count  120.000000  109.000000  109.000000  120.000000   120.000000  \n",
       "mean     0.533333    4.522800    1.523872    0.091667  4852.683333  \n",
       "std      0.500979    7.271063    5.315977    0.289765  2903.997219  \n",
       "min      0.000000  -13.971772  -10.247201    0.000000    35.000000  \n",
       "25%      0.000000   -0.575752   -1.162476    0.000000  2278.250000  \n",
       "50%      1.000000    5.131455    1.765955    0.000000  5061.000000  \n",
       "75%      1.000000    9.445818    3.199064    0.000000  7057.000000  \n",
       "max      1.000000   21.161932   41.486844    1.000000  9917.000000  "
      ]
     },
     "execution_count": 7,
     "metadata": {},
     "output_type": "execute_result"
    }
   ],
   "source": [
    "trait.describe()"
   ]
  },
  {
   "cell_type": "markdown",
   "metadata": {},
   "source": [
    "The described statistics shows that:\n",
    "- the different features has different scales\n",
    "- has in the species dataframe, the random feature is their to establish the influence of the other feature on the target.\n",
    "- the presence_defense, Nocturnal, Specialist, and fished features are in binary value (1/0). The mean is equal to 0.16 for presence_defense, 0.15 for nocturnal, 0.4 for specialist, and 0.5 for fished meaning the categorie 0 is over represented compared to the category 1 for nocturnal and presence_defense. This feature is clearly imbalanced. The balance seems to be quit equal for the specialist and fished. *Need to see its utility in predicting the fish diversity*\n",
    "- the feature troph and trphic level are redundant.\n",
    "- for many of these features the difference between the value of the max and the Q3 are really high suggested the observations are sparced and maybe with a rigth repartition."
   ]
  },
  {
   "cell_type": "code",
   "execution_count": 8,
   "metadata": {},
   "outputs": [
    {
     "data": {
      "image/png": "[encoded data removed]",
      "text/plain": [
       "<Figure size 640x480 with 1 Axes>"
      ]
     },
     "metadata": {},
     "output_type": "display_data"
    }
   ],
   "source": [
    "#the repartition of the observation accross the species family feature\n",
    "\n",
    "plt.pie(trait['Family'].value_counts(),labels=trait['Family'].value_counts().index,autopct='%1.2f%%')\n",
    "plt.show()"
   ]
  },
  {
   "cell_type": "code",
   "execution_count": 9,
   "metadata": {},
   "outputs": [
    {
     "data": {
      "text/plain": [
       "30"
      ]
     },
     "execution_count": 9,
     "metadata": {},
     "output_type": "execute_result"
    }
   ],
   "source": [
    "len(trait['Family'].unique())"
   ]
  },
  {
   "cell_type": "code",
   "execution_count": 10,
   "metadata": {},
   "outputs": [
    {
     "data": {
      "text/plain": [
       "Family\n",
       "LABRIDAE           24\n",
       "SERRANIDAE         15\n",
       "POMACENTRIDAE      13\n",
       "HAEMULIDAE         11\n",
       "GOBIIDAE            6\n",
       "LUTJANIDAE          6\n",
       "POMACANTHIDAE       5\n",
       "CHAETODONTIDAE      4\n",
       "CARANGIDAE          3\n",
       "OSTRACIIDAE         3\n",
       "MONACANTHIDAE       3\n",
       "ACANTHURIDAE        3\n",
       "TETRAODONTIDAE      2\n",
       "SPARIDAE            2\n",
       "SCORPAENIDAE        2\n",
       "HOLOCENTRIDAE       2\n",
       "LABRISOMIDAE        2\n",
       "MULLIDAE            2\n",
       "OPISTOGNATHIDAE     1\n",
       "SCOMBERIDAE         1\n",
       "SCIAENIDAE          1\n",
       "SPHYRAENIDAE        1\n",
       "BLENNIIDAE          1\n",
       "MURAENIDAE          1\n",
       "MALACANTHIDAE       1\n",
       "KYPHOSIDAE          1\n",
       "DIODONTIDAE         1\n",
       "BALISTIDAE          1\n",
       "AULOSTOMIDAE        1\n",
       "UROTRYGONIDAE       1\n",
       "Name: count, dtype: int64"
      ]
     },
     "execution_count": 10,
     "metadata": {},
     "output_type": "execute_result"
    }
   ],
   "source": [
    "trait['Family'].value_counts()"
   ]
  },
  {
   "cell_type": "markdown",
   "metadata": {},
   "source": [
    "In this study they find 30 different fish species families. The most represented are LABRIDAE, SERRANIDAE ,POMACENTRIDAE, and HAEMULIDAE.      "
   ]
  },
  {
   "cell_type": "code",
   "execution_count": 11,
   "metadata": {},
   "outputs": [
    {
     "data": {
      "text/plain": [
       "{'ACANTHURIDAE': array(['Acanthurus_bahianus', 'Acanthurus_chirurgus',\n",
       "        'Acanthurus_coeruleus'], dtype=object),\n",
       " 'AULOSTOMIDAE': array(['Aulostomus_maculatus'], dtype=object),\n",
       " 'BALISTIDAE': array(['Balistes_capriscus'], dtype=object),\n",
       " 'BLENNIIDAE': array(['Parablennius_marmoreus'], dtype=object),\n",
       " 'CARANGIDAE': array(['Carangoides_bartholomaei', 'Caranx_crysos', 'Caranx_ruber'],\n",
       "       dtype=object),\n",
       " 'CHAETODONTIDAE': array(['Chaetodon_capistratus', 'Chaetodon_ocellatus',\n",
       "        'Chaetodon_sedentarius', 'Chaetodon_striatus'], dtype=object),\n",
       " 'DIODONTIDAE': array(['Diodon_holocanthus'], dtype=object),\n",
       " 'GOBIIDAE': array(['Coryphopterus_dicrus', 'Coryphopterus_glaucofraenum',\n",
       "        'Coryphopterus_personatus', 'Elacatinus_oceanops',\n",
       "        'Gnatholepis_thompsoni', 'Ptereleotris_calliura'], dtype=object),\n",
       " 'HAEMULIDAE': array(['Anisotremus_surinamensis', 'Anisotremus_virginicus',\n",
       "        'Haemulon_aurolineatum', 'Haemulon_carbonarium',\n",
       "        'Haemulon_chrysargyreum', 'Haemulon_flavolineatum',\n",
       "        'Haemulon_macrostomum', 'Haemulon_melanurum', 'Haemulon_parra',\n",
       "        'Haemulon_plumierii', 'Haemulon_sciurus'], dtype=object),\n",
       " 'HOLOCENTRIDAE': array(['Holocentrus_adscensionis', 'Holocentrus_rufus'], dtype=object),\n",
       " 'KYPHOSIDAE': array(['Kyphosus_sectatrix'], dtype=object),\n",
       " 'LABRIDAE': array(['Bodianus_rufus', 'Clepticus_parrae', 'Cryptotomus_roseus',\n",
       "        'Halichoeres_bivittatus', 'Halichoeres_cyanocephalus',\n",
       "        'Halichoeres_garnoti', 'Halichoeres_maculipinna',\n",
       "        'Halichoeres_poeyi', 'Halichoeres_radiatus',\n",
       "        'Lachnolaimus_maximus', 'Scarus_coelestinus', 'Scarus_coeruleus',\n",
       "        'Scarus_guacamaia', 'Scarus_iseri', 'Scarus_taeniopterus',\n",
       "        'Scarus_vetula', 'Sparisoma_atomarium', 'Sparisoma_aurofrenatum',\n",
       "        'Sparisoma_chrysopterum', 'Sparisoma_radians',\n",
       "        'Sparisoma_rubripinne', 'Sparisoma_viride',\n",
       "        'Thalassoma_bifasciatum', 'Xyrichtys_splendens'], dtype=object),\n",
       " 'LABRISOMIDAE': array(['Malacoctenus_macropus', 'Malacoctenus_triangulatus'], dtype=object),\n",
       " 'LUTJANIDAE': array(['Lutjanus_analis', 'Lutjanus_apodus', 'Lutjanus_griseus',\n",
       "        'Lutjanus_mahogoni', 'Lutjanus_synagris', 'Ocyurus_chrysurus'],\n",
       "       dtype=object),\n",
       " 'MALACANTHIDAE': array(['Malacanthus_plumieri'], dtype=object),\n",
       " 'MONACANTHIDAE': array(['Aluterus_scriptus', 'Cantherhines_pullus', 'Monacanthus_tuckeri'],\n",
       "       dtype=object),\n",
       " 'MULLIDAE': array(['Mulloidichthys_martinicus', 'Pseudupeneus_maculatus'],\n",
       "       dtype=object),\n",
       " 'MURAENIDAE': array(['Gymnothorax_moringa'], dtype=object),\n",
       " 'OPISTOGNATHIDAE': array(['Opistognathus_aurifrons'], dtype=object),\n",
       " 'OSTRACIIDAE': array(['Acanthostracion_quadricornis', 'Acanthostracion_polygonius',\n",
       "        'Lactophrys_triqueter'], dtype=object),\n",
       " 'POMACANTHIDAE': array(['Holacanthus_bermudensis', 'Holacanthus_ciliaris',\n",
       "        'Holacanthus_tricolor', 'Pomacanthus_arcuatus', 'Pomacanthus_paru'],\n",
       "       dtype=object),\n",
       " 'POMACENTRIDAE': array(['Abudefduf_saxatilis', 'Chromis_cyanea', 'Chromis_enchrysura',\n",
       "        'Chromis_insolata', 'Chromis_multilineata', 'Chromis_scotti',\n",
       "        'Microspathodon_chrysurus', 'Stegastes_adustus',\n",
       "        'Stegastes_diencaeus', 'Stegastes_leucostictus',\n",
       "        'Stegastes_partitus', 'Stegastes_planifrons',\n",
       "        'Stegastes_variabilis'], dtype=object),\n",
       " 'SCIAENIDAE': array(['Pareques_acuminatus'], dtype=object),\n",
       " 'SCOMBERIDAE': array(['Scomberomorus_regalis'], dtype=object),\n",
       " 'SCORPAENIDAE': array(['Pterois_volitans', 'Scorpaena_plumieri'], dtype=object),\n",
       " 'SERRANIDAE': array(['Cephalopholis_cruentata', 'Cephalopholis_fulva',\n",
       "        'Epinephelus_adscensionis', 'Epinephelus_morio',\n",
       "        'Hypoplectrus_gemma', 'Hypoplectrus_nigricans',\n",
       "        'Hypoplectrus_puella', 'Hypoplectrus_randallorum',\n",
       "        'Hypoplectrus_unicolor', 'Mycteroperca_bonaci',\n",
       "        'Mycteroperca_phenax', 'Serranus_baldwini', 'Serranus_tabacarius',\n",
       "        'Serranus_tigrinus', 'Serranus_tortugarum'], dtype=object),\n",
       " 'SPARIDAE': array(['Calamus_calamus', 'Calamus_penna'], dtype=object),\n",
       " 'SPHYRAENIDAE': array(['Sphyraena_barracuda'], dtype=object),\n",
       " 'TETRAODONTIDAE': array(['Canthigaster_rostrata', 'Sphoeroides_spengleri'], dtype=object),\n",
       " 'UROTRYGONIDAE': array(['Urobatis_jamaicensis'], dtype=object)}"
      ]
     },
     "execution_count": 11,
     "metadata": {},
     "output_type": "execute_result"
    }
   ],
   "source": [
    "Family_nb_dif_Sp = trait.groupby('Family')['Sp'].unique().to_dict()\n",
    "Family_nb_dif_Sp"
   ]
  },
  {
   "cell_type": "code",
   "execution_count": 12,
   "metadata": {},
   "outputs": [
    {
     "data": {
      "text/plain": [
       "dict_keys(['ACANTHURIDAE', 'AULOSTOMIDAE', 'BALISTIDAE', 'BLENNIIDAE', 'CARANGIDAE', 'CHAETODONTIDAE', 'DIODONTIDAE', 'GOBIIDAE', 'HAEMULIDAE', 'HOLOCENTRIDAE', 'KYPHOSIDAE', 'LABRIDAE', 'LABRISOMIDAE', 'LUTJANIDAE', 'MALACANTHIDAE', 'MONACANTHIDAE', 'MULLIDAE', 'MURAENIDAE', 'OPISTOGNATHIDAE', 'OSTRACIIDAE', 'POMACANTHIDAE', 'POMACENTRIDAE', 'SCIAENIDAE', 'SCOMBERIDAE', 'SCORPAENIDAE', 'SERRANIDAE', 'SPARIDAE', 'SPHYRAENIDAE', 'TETRAODONTIDAE', 'UROTRYGONIDAE'])"
      ]
     },
     "execution_count": 12,
     "metadata": {},
     "output_type": "execute_result"
    }
   ],
   "source": [
    "Family_nb_dif_Sp.keys()\n"
   ]
  },
  {
   "cell_type": "code",
   "execution_count": 13,
   "metadata": {},
   "outputs": [
    {
     "data": {
      "text/plain": [
       "3"
      ]
     },
     "execution_count": 13,
     "metadata": {},
     "output_type": "execute_result"
    }
   ],
   "source": [
    "len(np.unique(Family_nb_dif_Sp['ACANTHURIDAE']))"
   ]
  },
  {
   "cell_type": "code",
   "execution_count": 14,
   "metadata": {},
   "outputs": [
    {
     "name": "stdout",
     "output_type": "stream",
     "text": [
      "for the family: ACANTHURIDAE the number of different species is: 3\n",
      "for the family: AULOSTOMIDAE the number of different species is: 1\n",
      "for the family: BALISTIDAE the number of different species is: 1\n",
      "for the family: BLENNIIDAE the number of different species is: 1\n",
      "for the family: CARANGIDAE the number of different species is: 3\n",
      "for the family: CHAETODONTIDAE the number of different species is: 4\n",
      "for the family: DIODONTIDAE the number of different species is: 1\n",
      "for the family: GOBIIDAE the number of different species is: 6\n",
      "for the family: HAEMULIDAE the number of different species is: 11\n",
      "for the family: HOLOCENTRIDAE the number of different species is: 2\n",
      "for the family: KYPHOSIDAE the number of different species is: 1\n",
      "for the family: LABRIDAE the number of different species is: 24\n",
      "for the family: LABRISOMIDAE the number of different species is: 2\n",
      "for the family: LUTJANIDAE the number of different species is: 6\n",
      "for the family: MALACANTHIDAE the number of different species is: 1\n",
      "for the family: MONACANTHIDAE the number of different species is: 3\n",
      "for the family: MULLIDAE the number of different species is: 2\n",
      "for the family: MURAENIDAE the number of different species is: 1\n",
      "for the family: OPISTOGNATHIDAE the number of different species is: 1\n",
      "for the family: OSTRACIIDAE the number of different species is: 3\n",
      "for the family: POMACANTHIDAE the number of different species is: 5\n",
      "for the family: POMACENTRIDAE the number of different species is: 13\n",
      "for the family: SCIAENIDAE the number of different species is: 1\n",
      "for the family: SCOMBERIDAE the number of different species is: 1\n",
      "for the family: SCORPAENIDAE the number of different species is: 2\n",
      "for the family: SERRANIDAE the number of different species is: 15\n",
      "for the family: SPARIDAE the number of different species is: 2\n",
      "for the family: SPHYRAENIDAE the number of different species is: 1\n",
      "for the family: TETRAODONTIDAE the number of different species is: 2\n",
      "for the family: UROTRYGONIDAE the number of different species is: 1\n"
     ]
    }
   ],
   "source": [
    "#iterate over the dict to return the len of each array \n",
    "#each array contain the name of the species find in the survey for one family. the len represent the number of species for this family.\n",
    "\n",
    "for keys in Family_nb_dif_Sp:\n",
    "    nb_species = len(np.unique(Family_nb_dif_Sp[keys]))\n",
    "    print(f'for the family: {keys} the number of different species is: {nb_species}')"
   ]
  },
  {
   "cell_type": "markdown",
   "metadata": {},
   "source": [
    "In function of the family the number of species identify on the survey site are different suggested a link between the family and the diversity index."
   ]
  },
  {
   "cell_type": "code",
   "execution_count": 27,
   "metadata": {},
   "outputs": [
    {
     "data": {
      "image/png": "[encoded data removed]",
      "text/plain": [
       "<Figure size 9000x300 with 30 Axes>"
      ]
     },
     "metadata": {},
     "output_type": "display_data"
    }
   ],
   "source": [
    "g = sns.FacetGrid(data=trait,col=\"Family\")\n",
    "g.map(sns.histplot,\"Coral\")\n",
    "plt.tight_layout()\n",
    "plt.show()"
   ]
  },
  {
   "cell_type": "markdown",
   "metadata": {},
   "source": [
    "The plot shows that:\n",
    "- all the family aren't present in place where it as coral\n",
    "- the family most present in the coral are Pomacentridae, Haemulidae, labridae, and serranidae. These fish's family shows a high number of species observe for the study (btw 11 to 24). Perhaps they are principaly observed in site where we can find between 0 to 10% of coral cover. \n",
    "\n",
    "This suggest that the fish presence could be low in coral site. Only specific type of fish will be able to live there. \n"
   ]
  },
  {
   "cell_type": "code",
   "execution_count": 29,
   "metadata": {},
   "outputs": [
    {
     "data": {
      "image/png": "[encoded data removed]",
      "text/plain": [
       "<Figure size 9000x300 with 30 Axes>"
      ]
     },
     "metadata": {},
     "output_type": "display_data"
    }
   ],
   "source": [
    "g = sns.FacetGrid(data=trait,col=\"Family\")\n",
    "g.map(sns.histplot,\"Relief\")\n",
    "plt.tight_layout()\n",
    "plt.show()"
   ]
  },
  {
   "cell_type": "markdown",
   "metadata": {},
   "source": [
    "The fish are principally find in site with 0 to 20% of relief cover. We can observed the predominante families are present on their site more around a cover btw 10 to 20%. On the contrary the low represented fish are close to 0. "
   ]
  },
  {
   "cell_type": "markdown",
   "metadata": {},
   "source": [
    "We can plot the coral cover in function of the family as well as the relief in function of family."
   ]
  },
  {
   "cell_type": "code",
   "execution_count": 15,
   "metadata": {},
   "outputs": [
    {
     "data": {
      "image/png": "[encoded data removed]",
      "text/plain": [
       "<Figure size 640x480 with 1 Axes>"
      ]
     },
     "metadata": {},
     "output_type": "display_data"
    }
   ],
   "source": [
    "#the repartition of the observation accross the presence_defense feature\n",
    "\n",
    "plt.pie(trait['presence_defense'].value_counts(),labels=trait['presence_defense'].value_counts().index,autopct='%1.2f%%')\n",
    "plt.show()"
   ]
  },
  {
   "cell_type": "code",
   "execution_count": 16,
   "metadata": {},
   "outputs": [
    {
     "data": {
      "image/png": "[encoded data removed]",
      "text/plain": [
       "<Figure size 640x480 with 1 Axes>"
      ]
     },
     "metadata": {},
     "output_type": "display_data"
    }
   ],
   "source": [
    "#the repartition of the observation accross the Nocturnal feature\n",
    "\n",
    "plt.pie(trait['Nocturnal'].value_counts(),labels=trait['Nocturnal'].value_counts().index,autopct='%1.2f%%')\n",
    "plt.show()"
   ]
  },
  {
   "cell_type": "code",
   "execution_count": 17,
   "metadata": {},
   "outputs": [
    {
     "data": {
      "image/png": "[encoded data removed]",
      "text/plain": [
       "<Figure size 640x480 with 1 Axes>"
      ]
     },
     "metadata": {},
     "output_type": "display_data"
    }
   ],
   "source": [
    "#the repartition of the observation accross the specialist feature\n",
    "#1 = fish specialist of the relief\n",
    "\n",
    "plt.pie(trait['Specialist'].value_counts(),labels=trait['Specialist'].value_counts().index,autopct='%1.2f%%')\n",
    "plt.show()"
   ]
  },
  {
   "cell_type": "code",
   "execution_count": 18,
   "metadata": {},
   "outputs": [
    {
     "data": {
      "image/png": "[encoded data removed]",
      "text/plain": [
       "<Figure size 640x480 with 1 Axes>"
      ]
     },
     "metadata": {},
     "output_type": "display_data"
    }
   ],
   "source": [
    "#the repartition of the observation accross the fished feature\n",
    "#1 = fished \n",
    "\n",
    "plt.pie(trait['Fished'].value_counts(),labels=trait['Fished'].value_counts().index,autopct='%1.2f%%')\n",
    "plt.show()"
   ]
  },
  {
   "cell_type": "code",
   "execution_count": 19,
   "metadata": {},
   "outputs": [
    {
     "data": {
      "application/vnd.plotly.v1+json": {
       "config": {
        "plotlyServerURL": "https://plot.ly"
       },
       "data": [
        {
         "coloraxis": "coloraxis",
         "hovertemplate": "x: %{x}<br>y: %{y}<br>color: %{z}<extra></extra>",
         "name": "0",
         "type": "heatmap",
         "x": [
          "MaxLengthTL",
          "Body_size_max",
          "MaxLengthSL",
          "MaxJuvLength",
          "AspectRatio",
          "AspectRatio_Q",
          "Log_AR",
          "Total.length.Body.depth.ratio",
          "presence_defense",
          "ComDepthMax",
          "DepthMax",
          "Depth_min",
          "Depth_max",
          "Troph",
          "Trophic_level",
          "Nocturnal",
          "Specialist",
          "Fished",
          "Relief",
          "Coral",
          "Cryptic",
          "random"
         ],
         "xaxis": "x",
         "y": [
          "MaxLengthTL",
          "Body_size_max",
          "MaxLengthSL",
          "MaxJuvLength",
          "AspectRatio",
          "AspectRatio_Q",
          "Log_AR",
          "Total.length.Body.depth.ratio",
          "presence_defense",
          "ComDepthMax",
          "DepthMax",
          "Depth_min",
          "Depth_max",
          "Troph",
          "Trophic_level",
          "Nocturnal",
          "Specialist",
          "Fished",
          "Relief",
          "Coral",
          "Cryptic",
          "random"
         ],
         "yaxis": "y",
         "z": [
          [
           1,
           0.2879606164276605,
           0.9978605555437798,
           0.7435753462158435,
           0.21477018301926798,
           0.1926036646146183,
           0.1583189383325276,
           0.355652369714459,
           0.001651824989640092,
           0.3016293963398735,
           0.29816798801732686,
           0.03345209543542296,
           0.23951345475377514,
           0.29013683741986684,
           0.17146329657923734,
           0.2603591063471171,
           -0.2990414786211111,
           0.5731341197325052,
           0.05251204768031108,
           -0.03936388685302897,
           -0.10772230722924331,
           0.13304133159748144
          ],
          [
           0.2879606164276605,
           1,
           0.3027456478204022,
           0.21863551995317443,
           0.0431725574472415,
           0.07753419102939663,
           0.06620266274178695,
           0.047069327742774315,
           -0.03442543726050911,
           0.10438431250219739,
           0.09026318292440047,
           -0.0765693156154596,
           0.10672235937658106,
           0.14481549520683562,
           -0.024132349248126423,
           0.17092430548390744,
           -0.22753272622165277,
           0.30958512244907993,
           0.0964937169272809,
           0.09685497807280659,
           -0.05731740616226959,
           0.1842062894205839
          ],
          [
           0.9978605555437798,
           0.3027456478204022,
           1,
           0.7276387584555144,
           0.20829992703224404,
           0.18514533636344388,
           0.15761004720468277,
           0.3473244431264928,
           -0.0006473572923923098,
           0.30898473844565977,
           0.3025195048121717,
           0.027334639907889063,
           0.23926717545566417,
           0.28516704471392446,
           0.15959304699580004,
           0.2533081498511064,
           -0.3005927218000022,
           0.5682113846277469,
           0.05174999789855343,
           -0.04036198897797638,
           -0.10899851527997502,
           0.13875727108967492
          ],
          [
           0.7435753462158435,
           0.21863551995317443,
           0.7276387584555144,
           1,
           0.27529702185481847,
           0.281071463465909,
           0.1946320299148975,
           0.1711351564036559,
           -0.011341420978530642,
           0.19793047610104836,
           0.0972935019872803,
           -0.14649439967166164,
           -0.02075453681546489,
           0.20988289482250466,
           0.1181595532317791,
           0.19264812155038105,
           -0.21283437233177233,
           0.5687070580526754,
           0.17667981510923475,
           0.02821281546046023,
           null,
           -0.006665996420357864
          ],
          [
           0.21477018301926798,
           0.0431725574472415,
           0.20829992703224404,
           0.27529702185481847,
           1,
           0.9804009902701992,
           0.9571517458441132,
           -0.2665932015846794,
           -0.019687132810294695,
           -0.06832649578359011,
           -0.10855820480482008,
           -0.1033042937291609,
           -0.10386114551280862,
           0.2733773101344219,
           0.26885547597755677,
           0.14988512391716163,
           -0.12456442825740555,
           0.3209741460978452,
           0.076114693274619,
           0.024560536612070003,
           -0.3235565648338909,
           -0.026750898034214213
          ],
          [
           0.1926036646146183,
           0.07753419102939663,
           0.18514533636344388,
           0.281071463465909,
           0.9804009902701992,
           1,
           0.9332671610918813,
           -0.25492277899782,
           -0.04552403379374882,
           -0.08560039174650429,
           -0.12404845761758176,
           -0.10362087043898191,
           -0.11008088114908243,
           0.28150048761009916,
           0.27031023175030405,
           0.12449652314496115,
           -0.16437238627049708,
           0.30786906156561056,
           0.09106924019773482,
           0.04105739816627769,
           -0.3210416661699313,
           -0.012617599203280145
          ],
          [
           0.1583189383325276,
           0.06620266274178695,
           0.15761004720468277,
           0.1946320299148975,
           0.9571517458441132,
           0.9332671610918813,
           1,
           -0.36250173828952864,
           0.05335231474717952,
           -0.03855907908939724,
           -0.09279678422035338,
           -0.07004733549211792,
           -0.08732513125490131,
           0.19728620430919555,
           0.20950024034051756,
           0.18431403346054542,
           -0.06675259308705693,
           0.30871994191112545,
           0.10362613175866944,
           0.05269236568792505,
           -0.45953074580464826,
           0.00800084024959581
          ],
          [
           0.355652369714459,
           0.047069327742774315,
           0.3473244431264928,
           0.1711351564036559,
           -0.2665932015846794,
           -0.25492277899782,
           -0.36250173828952864,
           1,
           -0.22137964545490568,
           -0.001147963353993868,
           0.0843199715960374,
           -0.056766233213949226,
           0.07102438571474518,
           0.21870478432763465,
           0.2125623833231054,
           0.11109694794919166,
           -0.12704468328151905,
           -0.09210373819777178,
           -0.16490012878573224,
           -0.15615898274994744,
           0.4540610800151946,
           0.043575172201014305
          ],
          [
           0.001651824989640092,
           -0.03442543726050911,
           -0.0006473572923923098,
           -0.011341420978530642,
           -0.019687132810294695,
           -0.04552403379374882,
           0.05335231474717952,
           -0.22137964545490568,
           1,
           -0.02306743053026729,
           0.018550080179244255,
           -0.06978581994705586,
           0.011929787367610242,
           -0.15256002191421175,
           -0.14752604821169574,
           0.11229752783425952,
           -0.052216423735041005,
           0.10458250331675942,
           -0.195055921173981,
           -0.05299815525567574,
           -0.06457663497597778,
           -0.09999862590463875
          ],
          [
           0.3016293963398735,
           0.10438431250219739,
           0.30898473844565977,
           0.19793047610104836,
           -0.06832649578359011,
           -0.08560039174650429,
           -0.03855907908939724,
           -0.001147963353993868,
           -0.02306743053026729,
           1,
           0.6912656391425548,
           0.26721255499124963,
           0.6023740125015501,
           0.2372622641225815,
           0.1952652689662129,
           -0.03263923431767295,
           -0.156388101978051,
           0.1486068972043531,
           -0.08820498397141378,
           -0.10902994543036626,
           -0.08880103721528226,
           0.11580929641099755
          ],
          [
           0.29816798801732686,
           0.09026318292440047,
           0.3025195048121717,
           0.0972935019872803,
           -0.10855820480482008,
           -0.12404845761758176,
           -0.09279678422035338,
           0.0843199715960374,
           0.018550080179244255,
           0.6912656391425548,
           1,
           0.22654258801096266,
           0.9385109890914242,
           0.25312645297680236,
           0.2131733466861069,
           0.1597539746150995,
           -0.10479813252198515,
           0.16898476906065532,
           -0.01575982766249882,
           -0.05312853028017821,
           -0.0938709739282975,
           0.12421825473052225
          ],
          [
           0.03345209543542296,
           -0.0765693156154596,
           0.027334639907889063,
           -0.14649439967166164,
           -0.1033042937291609,
           -0.10362087043898191,
           -0.07004733549211792,
           -0.056766233213949226,
           -0.06978581994705586,
           0.26721255499124963,
           0.22654258801096266,
           1,
           0.2845698287174904,
           0.12136794468823585,
           0.09554713055851578,
           -0.10494959936991954,
           0.02915102822236077,
           -0.12443283040958457,
           0.025076862175580656,
           0.07069075493560455,
           -0.07048393938922458,
           0.10206418536214867
          ],
          [
           0.23951345475377514,
           0.10672235937658106,
           0.23926717545566417,
           -0.02075453681546489,
           -0.10386114551280862,
           -0.11008088114908243,
           -0.08732513125490131,
           0.07102438571474518,
           0.011929787367610242,
           0.6023740125015501,
           0.9385109890914242,
           0.2845698287174904,
           1,
           0.27777065366714904,
           0.21598344429897476,
           0.19952317501506908,
           -0.0913337729600056,
           0.14064919611384097,
           -0.01206826918512536,
           0.02110306098762559,
           -0.10194835671364914,
           0.13470425317889095
          ],
          [
           0.29013683741986684,
           0.14481549520683562,
           0.28516704471392446,
           0.20988289482250466,
           0.2733773101344219,
           0.28150048761009916,
           0.19728620430919555,
           0.21870478432763465,
           -0.15256002191421175,
           0.2372622641225815,
           0.25312645297680236,
           0.12136794468823585,
           0.27777065366714904,
           1,
           0.8236709946299365,
           0.3355982659955914,
           -0.13530651811733507,
           0.05458268734418321,
           0.08466782671724206,
           0.06203853948540048,
           -0.0466666491166643,
           0.16359708417895055
          ],
          [
           0.17146329657923734,
           -0.024132349248126423,
           0.15959304699580004,
           0.1181595532317791,
           0.26885547597755677,
           0.27031023175030405,
           0.20950024034051756,
           0.2125623833231054,
           -0.14752604821169574,
           0.1952652689662129,
           0.2131733466861069,
           0.09554713055851578,
           0.21598344429897476,
           0.8236709946299365,
           1,
           0.3225657233462675,
           -0.16954295576730055,
           0.019889511455952257,
           0.03189668737420571,
           -0.13350387136679706,
           0.07678340591308079,
           0.09720726614161238
          ],
          [
           0.2603591063471171,
           0.17092430548390744,
           0.2533081498511064,
           0.19264812155038105,
           0.14988512391716163,
           0.12449652314496115,
           0.18431403346054542,
           0.11109694794919166,
           0.11229752783425952,
           -0.03263923431767295,
           0.1597539746150995,
           -0.10494959936991954,
           0.19952317501506908,
           0.3355982659955914,
           0.3225657233462675,
           1,
           -0.08114581583019964,
           0.31419966946768957,
           0.1739576871571861,
           -0.03537884043939355,
           -0.058673625933230424,
           0.14985511293463386
          ],
          [
           -0.2990414786211111,
           -0.22753272622165277,
           -0.3005927218000022,
           -0.21283437233177233,
           -0.12456442825740555,
           -0.16437238627049708,
           -0.06675259308705693,
           -0.12704468328151905,
           -0.052216423735041005,
           -0.156388101978051,
           -0.10479813252198515,
           0.02915102822236077,
           -0.0913337729600056,
           -0.13530651811733507,
           -0.16954295576730055,
           -0.08114581583019964,
           1,
           -0.20894091297454995,
           0.3185521960236253,
           0.23142963805036113,
           0.031176963848438044,
           -0.04321414449233487
          ],
          [
           0.5731341197325052,
           0.30958512244907993,
           0.5682113846277469,
           0.5687070580526754,
           0.3209741460978452,
           0.30786906156561056,
           0.30871994191112545,
           -0.09210373819777178,
           0.10458250331675942,
           0.1486068972043531,
           0.16898476906065532,
           -0.12443283040958457,
           0.14064919611384097,
           0.05458268734418321,
           0.019889511455952257,
           0.31419966946768957,
           -0.20894091297454995,
           1,
           0.19750878818284603,
           0.02956475267509175,
           -0.2817210219050895,
           0.01701801875650517
          ],
          [
           0.05251204768031108,
           0.0964937169272809,
           0.05174999789855343,
           0.17667981510923475,
           0.076114693274619,
           0.09106924019773482,
           0.10362613175866944,
           -0.16490012878573224,
           -0.195055921173981,
           -0.08820498397141378,
           -0.01575982766249882,
           0.025076862175580656,
           -0.01206826918512536,
           0.08466782671724206,
           0.03189668737420571,
           0.1739576871571861,
           0.3185521960236253,
           0.19750878818284603,
           1,
           0.39619344637834336,
           null,
           -0.11987780350547765
          ],
          [
           -0.03936388685302897,
           0.09685497807280659,
           -0.04036198897797638,
           0.02821281546046023,
           0.024560536612070003,
           0.04105739816627769,
           0.05269236568792505,
           -0.15615898274994744,
           -0.05299815525567574,
           -0.10902994543036626,
           -0.05312853028017821,
           0.07069075493560455,
           0.02110306098762559,
           0.06203853948540048,
           -0.13350387136679706,
           -0.03537884043939355,
           0.23142963805036113,
           0.02956475267509175,
           0.39619344637834336,
           1,
           null,
           0.04074471505223318
          ],
          [
           -0.10772230722924331,
           -0.05731740616226959,
           -0.10899851527997502,
           null,
           -0.3235565648338909,
           -0.3210416661699313,
           -0.45953074580464826,
           0.4540610800151946,
           -0.06457663497597778,
           -0.08880103721528226,
           -0.0938709739282975,
           -0.07048393938922458,
           -0.10194835671364914,
           -0.0466666491166643,
           0.07678340591308079,
           -0.058673625933230424,
           0.031176963848438044,
           -0.2817210219050895,
           null,
           null,
           1,
           -0.16079707357337492
          ],
          [
           0.13304133159748144,
           0.1842062894205839,
           0.13875727108967492,
           -0.006665996420357864,
           -0.026750898034214213,
           -0.012617599203280145,
           0.00800084024959581,
           0.043575172201014305,
           -0.09999862590463875,
           0.11580929641099755,
           0.12421825473052225,
           0.10206418536214867,
           0.13470425317889095,
           0.16359708417895055,
           0.09720726614161238,
           0.14985511293463386,
           -0.04321414449233487,
           0.01701801875650517,
           -0.11987780350547765,
           0.04074471505223318,
           -0.16079707357337492,
           1
          ]
         ]
        }
       ],
       "layout": {
        "coloraxis": {
         "colorscale": [
          [
           0,
           "#0d0887"
          ],
          [
           0.1111111111111111,
           "#46039f"
          ],
          [
           0.2222222222222222,
           "#7201a8"
          ],
          [
           0.3333333333333333,
           "#9c179e"
          ],
          [
           0.4444444444444444,
           "#bd3786"
          ],
          [
           0.5555555555555556,
           "#d8576b"
          ],
          [
           0.6666666666666666,
           "#ed7953"
          ],
          [
           0.7777777777777778,
           "#fb9f3a"
          ],
          [
           0.8888888888888888,
           "#fdca26"
          ],
          [
           1,
           "#f0f921"
          ]
         ]
        },
        "margin": {
         "t": 60
        },
        "template": {
         "data": {
          "bar": [
           {
            "error_x": {
             "color": "#2a3f5f"
            },
            "error_y": {
             "color": "#2a3f5f"
            },
            "marker": {
             "line": {
              "color": "#E5ECF6",
              "width": 0.5
             },
             "pattern": {
              "fillmode": "overlay",
              "size": 10,
              "solidity": 0.2
             }
            },
            "type": "bar"
           }
          ],
          "barpolar": [
           {
            "marker": {
             "line": {
              "color": "#E5ECF6",
              "width": 0.5
             },
             "pattern": {
              "fillmode": "overlay",
              "size": 10,
              "solidity": 0.2
             }
            },
            "type": "barpolar"
           }
          ],
          "carpet": [
           {
            "aaxis": {
             "endlinecolor": "#2a3f5f",
             "gridcolor": "white",
             "linecolor": "white",
             "minorgridcolor": "white",
             "startlinecolor": "#2a3f5f"
            },
            "baxis": {
             "endlinecolor": "#2a3f5f",
             "gridcolor": "white",
             "linecolor": "white",
             "minorgridcolor": "white",
             "startlinecolor": "#2a3f5f"
            },
            "type": "carpet"
           }
          ],
          "choropleth": [
           {
            "colorbar": {
             "outlinewidth": 0,
             "ticks": ""
            },
            "type": "choropleth"
           }
          ],
          "contour": [
           {
            "colorbar": {
             "outlinewidth": 0,
             "ticks": ""
            },
            "colorscale": [
             [
              0,
              "#0d0887"
             ],
             [
              0.1111111111111111,
              "#46039f"
             ],
             [
              0.2222222222222222,
              "#7201a8"
             ],
             [
              0.3333333333333333,
              "#9c179e"
             ],
             [
              0.4444444444444444,
              "#bd3786"
             ],
             [
              0.5555555555555556,
              "#d8576b"
             ],
             [
              0.6666666666666666,
              "#ed7953"
             ],
             [
              0.7777777777777778,
              "#fb9f3a"
             ],
             [
              0.8888888888888888,
              "#fdca26"
             ],
             [
              1,
              "#f0f921"
             ]
            ],
            "type": "contour"
           }
          ],
          "contourcarpet": [
           {
            "colorbar": {
             "outlinewidth": 0,
             "ticks": ""
            },
            "type": "contourcarpet"
           }
          ],
          "heatmap": [
           {
            "colorbar": {
             "outlinewidth": 0,
             "ticks": ""
            },
            "colorscale": [
             [
              0,
              "#0d0887"
             ],
             [
              0.1111111111111111,
              "#46039f"
             ],
             [
              0.2222222222222222,
              "#7201a8"
             ],
             [
              0.3333333333333333,
              "#9c179e"
             ],
             [
              0.4444444444444444,
              "#bd3786"
             ],
             [
              0.5555555555555556,
              "#d8576b"
             ],
             [
              0.6666666666666666,
              "#ed7953"
             ],
             [
              0.7777777777777778,
              "#fb9f3a"
             ],
             [
              0.8888888888888888,
              "#fdca26"
             ],
             [
              1,
              "#f0f921"
             ]
            ],
            "type": "heatmap"
           }
          ],
          "heatmapgl": [
           {
            "colorbar": {
             "outlinewidth": 0,
             "ticks": ""
            },
            "colorscale": [
             [
              0,
              "#0d0887"
             ],
             [
              0.1111111111111111,
              "#46039f"
             ],
             [
              0.2222222222222222,
              "#7201a8"
             ],
             [
              0.3333333333333333,
              "#9c179e"
             ],
             [
              0.4444444444444444,
              "#bd3786"
             ],
             [
              0.5555555555555556,
              "#d8576b"
             ],
             [
              0.6666666666666666,
              "#ed7953"
             ],
             [
              0.7777777777777778,
              "#fb9f3a"
             ],
             [
              0.8888888888888888,
              "#fdca26"
             ],
             [
              1,
              "#f0f921"
             ]
            ],
            "type": "heatmapgl"
           }
          ],
          "histogram": [
           {
            "marker": {
             "pattern": {
              "fillmode": "overlay",
              "size": 10,
              "solidity": 0.2
             }
            },
            "type": "histogram"
           }
          ],
          "histogram2d": [
           {
            "colorbar": {
             "outlinewidth": 0,
             "ticks": ""
            },
            "colorscale": [
             [
              0,
              "#0d0887"
             ],
             [
              0.1111111111111111,
              "#46039f"
             ],
             [
              0.2222222222222222,
              "#7201a8"
             ],
             [
              0.3333333333333333,
              "#9c179e"
             ],
             [
              0.4444444444444444,
              "#bd3786"
             ],
             [
              0.5555555555555556,
              "#d8576b"
             ],
             [
              0.6666666666666666,
              "#ed7953"
             ],
             [
              0.7777777777777778,
              "#fb9f3a"
             ],
             [
              0.8888888888888888,
              "#fdca26"
             ],
             [
              1,
              "#f0f921"
             ]
            ],
            "type": "histogram2d"
           }
          ],
          "histogram2dcontour": [
           {
            "colorbar": {
             "outlinewidth": 0,
             "ticks": ""
            },
            "colorscale": [
             [
              0,
              "#0d0887"
             ],
             [
              0.1111111111111111,
              "#46039f"
             ],
             [
              0.2222222222222222,
              "#7201a8"
             ],
             [
              0.3333333333333333,
              "#9c179e"
             ],
             [
              0.4444444444444444,
              "#bd3786"
             ],
             [
              0.5555555555555556,
              "#d8576b"
             ],
             [
              0.6666666666666666,
              "#ed7953"
             ],
             [
              0.7777777777777778,
              "#fb9f3a"
             ],
             [
              0.8888888888888888,
              "#fdca26"
             ],
             [
              1,
              "#f0f921"
             ]
            ],
            "type": "histogram2dcontour"
           }
          ],
          "mesh3d": [
           {
            "colorbar": {
             "outlinewidth": 0,
             "ticks": ""
            },
            "type": "mesh3d"
           }
          ],
          "parcoords": [
           {
            "line": {
             "colorbar": {
              "outlinewidth": 0,
              "ticks": ""
             }
            },
            "type": "parcoords"
           }
          ],
          "pie": [
           {
            "automargin": true,
            "type": "pie"
           }
          ],
          "scatter": [
           {
            "fillpattern": {
             "fillmode": "overlay",
             "size": 10,
             "solidity": 0.2
            },
            "type": "scatter"
           }
          ],
          "scatter3d": [
           {
            "line": {
             "colorbar": {
              "outlinewidth": 0,
              "ticks": ""
             }
            },
            "marker": {
             "colorbar": {
              "outlinewidth": 0,
              "ticks": ""
             }
            },
            "type": "scatter3d"
           }
          ],
          "scattercarpet": [
           {
            "marker": {
             "colorbar": {
              "outlinewidth": 0,
              "ticks": ""
             }
            },
            "type": "scattercarpet"
           }
          ],
          "scattergeo": [
           {
            "marker": {
             "colorbar": {
              "outlinewidth": 0,
              "ticks": ""
             }
            },
            "type": "scattergeo"
           }
          ],
          "scattergl": [
           {
            "marker": {
             "colorbar": {
              "outlinewidth": 0,
              "ticks": ""
             }
            },
            "type": "scattergl"
           }
          ],
          "scattermapbox": [
           {
            "marker": {
             "colorbar": {
              "outlinewidth": 0,
              "ticks": ""
             }
            },
            "type": "scattermapbox"
           }
          ],
          "scatterpolar": [
           {
            "marker": {
             "colorbar": {
              "outlinewidth": 0,
              "ticks": ""
             }
            },
            "type": "scatterpolar"
           }
          ],
          "scatterpolargl": [
           {
            "marker": {
             "colorbar": {
              "outlinewidth": 0,
              "ticks": ""
             }
            },
            "type": "scatterpolargl"
           }
          ],
          "scatterternary": [
           {
            "marker": {
             "colorbar": {
              "outlinewidth": 0,
              "ticks": ""
             }
            },
            "type": "scatterternary"
           }
          ],
          "surface": [
           {
            "colorbar": {
             "outlinewidth": 0,
             "ticks": ""
            },
            "colorscale": [
             [
              0,
              "#0d0887"
             ],
             [
              0.1111111111111111,
              "#46039f"
             ],
             [
              0.2222222222222222,
              "#7201a8"
             ],
             [
              0.3333333333333333,
              "#9c179e"
             ],
             [
              0.4444444444444444,
              "#bd3786"
             ],
             [
              0.5555555555555556,
              "#d8576b"
             ],
             [
              0.6666666666666666,
              "#ed7953"
             ],
             [
              0.7777777777777778,
              "#fb9f3a"
             ],
             [
              0.8888888888888888,
              "#fdca26"
             ],
             [
              1,
              "#f0f921"
             ]
            ],
            "type": "surface"
           }
          ],
          "table": [
           {
            "cells": {
             "fill": {
              "color": "#EBF0F8"
             },
             "line": {
              "color": "white"
             }
            },
            "header": {
             "fill": {
              "color": "#C8D4E3"
             },
             "line": {
              "color": "white"
             }
            },
            "type": "table"
           }
          ]
         },
         "layout": {
          "annotationdefaults": {
           "arrowcolor": "#2a3f5f",
           "arrowhead": 0,
           "arrowwidth": 1
          },
          "autotypenumbers": "strict",
          "coloraxis": {
           "colorbar": {
            "outlinewidth": 0,
            "ticks": ""
           }
          },
          "colorscale": {
           "diverging": [
            [
             0,
             "#8e0152"
            ],
            [
             0.1,
             "#c51b7d"
            ],
            [
             0.2,
             "#de77ae"
            ],
            [
             0.3,
             "#f1b6da"
            ],
            [
             0.4,
             "#fde0ef"
            ],
            [
             0.5,
             "#f7f7f7"
            ],
            [
             0.6,
             "#e6f5d0"
            ],
            [
             0.7,
             "#b8e186"
            ],
            [
             0.8,
             "#7fbc41"
            ],
            [
             0.9,
             "#4d9221"
            ],
            [
             1,
             "#276419"
            ]
           ],
           "sequential": [
            [
             0,
             "#0d0887"
            ],
            [
             0.1111111111111111,
             "#46039f"
            ],
            [
             0.2222222222222222,
             "#7201a8"
            ],
            [
             0.3333333333333333,
             "#9c179e"
            ],
            [
             0.4444444444444444,
             "#bd3786"
            ],
            [
             0.5555555555555556,
             "#d8576b"
            ],
            [
             0.6666666666666666,
             "#ed7953"
            ],
            [
             0.7777777777777778,
             "#fb9f3a"
            ],
            [
             0.8888888888888888,
             "#fdca26"
            ],
            [
             1,
             "#f0f921"
            ]
           ],
           "sequentialminus": [
            [
             0,
             "#0d0887"
            ],
            [
             0.1111111111111111,
             "#46039f"
            ],
            [
             0.2222222222222222,
             "#7201a8"
            ],
            [
             0.3333333333333333,
             "#9c179e"
            ],
            [
             0.4444444444444444,
             "#bd3786"
            ],
            [
             0.5555555555555556,
             "#d8576b"
            ],
            [
             0.6666666666666666,
             "#ed7953"
            ],
            [
             0.7777777777777778,
             "#fb9f3a"
            ],
            [
             0.8888888888888888,
             "#fdca26"
            ],
            [
             1,
             "#f0f921"
            ]
           ]
          },
          "colorway": [
           "#636efa",
           "#EF553B",
           "#00cc96",
           "#ab63fa",
           "#FFA15A",
           "#19d3f3",
           "#FF6692",
           "#B6E880",
           "#FF97FF",
           "#FECB52"
          ],
          "font": {
           "color": "#2a3f5f"
          },
          "geo": {
           "bgcolor": "white",
           "lakecolor": "white",
           "landcolor": "#E5ECF6",
           "showlakes": true,
           "showland": true,
           "subunitcolor": "white"
          },
          "hoverlabel": {
           "align": "left"
          },
          "hovermode": "closest",
          "mapbox": {
           "style": "light"
          },
          "paper_bgcolor": "white",
          "plot_bgcolor": "#E5ECF6",
          "polar": {
           "angularaxis": {
            "gridcolor": "white",
            "linecolor": "white",
            "ticks": ""
           },
           "bgcolor": "#E5ECF6",
           "radialaxis": {
            "gridcolor": "white",
            "linecolor": "white",
            "ticks": ""
           }
          },
          "scene": {
           "xaxis": {
            "backgroundcolor": "#E5ECF6",
            "gridcolor": "white",
            "gridwidth": 2,
            "linecolor": "white",
            "showbackground": true,
            "ticks": "",
            "zerolinecolor": "white"
           },
           "yaxis": {
            "backgroundcolor": "#E5ECF6",
            "gridcolor": "white",
            "gridwidth": 2,
            "linecolor": "white",
            "showbackground": true,
            "ticks": "",
            "zerolinecolor": "white"
           },
           "zaxis": {
            "backgroundcolor": "#E5ECF6",
            "gridcolor": "white",
            "gridwidth": 2,
            "linecolor": "white",
            "showbackground": true,
            "ticks": "",
            "zerolinecolor": "white"
           }
          },
          "shapedefaults": {
           "line": {
            "color": "#2a3f5f"
           }
          },
          "ternary": {
           "aaxis": {
            "gridcolor": "white",
            "linecolor": "white",
            "ticks": ""
           },
           "baxis": {
            "gridcolor": "white",
            "linecolor": "white",
            "ticks": ""
           },
           "bgcolor": "#E5ECF6",
           "caxis": {
            "gridcolor": "white",
            "linecolor": "white",
            "ticks": ""
           }
          },
          "title": {
           "x": 0.05
          },
          "xaxis": {
           "automargin": true,
           "gridcolor": "white",
           "linecolor": "white",
           "ticks": "",
           "title": {
            "standoff": 15
           },
           "zerolinecolor": "white",
           "zerolinewidth": 2
          },
          "yaxis": {
           "automargin": true,
           "gridcolor": "white",
           "linecolor": "white",
           "ticks": "",
           "title": {
            "standoff": 15
           },
           "zerolinecolor": "white",
           "zerolinewidth": 2
          }
         }
        },
        "xaxis": {
         "anchor": "y",
         "constrain": "domain",
         "domain": [
          0,
          1
         ],
         "scaleanchor": "y"
        },
        "yaxis": {
         "anchor": "x",
         "autorange": "reversed",
         "constrain": "domain",
         "domain": [
          0,
          1
         ]
        }
       }
      }
     },
     "metadata": {},
     "output_type": "display_data"
    }
   ],
   "source": [
    "#for all the numerical variable\n",
    "px.imshow(trait.loc[:, ['MaxLengthTL','Body_size_max','MaxLengthSL', 'MaxJuvLength', 'AspectRatio', 'AspectRatio_Q', 'Log_AR', 'Total.length.Body.depth.ratio', 'presence_defense', 'ComDepthMax', 'DepthMax', 'Depth_min', 'Depth_max', 'Troph', 'Trophic_level', 'Nocturnal', 'Specialist', 'Fished', 'Relief', 'Coral', 'Cryptic', 'random']].corr())"
   ]
  },
  {
   "cell_type": "markdown",
   "metadata": {},
   "source": [
    "The correlation matrix shows that:\n",
    "- to consider if a feature is really in correlation with the other we can refer to the correlation score with the random feature which correspond to nothing for the model. \n",
    "- The relief shows a strong negative correlation with presence_defense and a positive with coral, specialist and fished features. \n",
    "- The coral shows a strong positive correlation with specialist and relief and a strong negatif with Total.length.body.depth.ratio(describe the fineness of the fish) and the trophic_level\n",
    "- A strong relation exist between Depth_max and ComDepthMax as well as Depth_min and ComDepthMax. These features represent the Depth where we can find the fish. The comDepthMax is the commun depth where the fish evolve. *Maybe the ComDepthMax should be necessary to keep and the other can be drop to avoid redondancy*\n",
    "- the features MaxLengthTL and SL are in strong correlation (arround 0.9) suggested they are redundant. The authors describe these feature has the maximum total length in cm for TL and SL it's the same but standardized. The standardized method isn't precised here. *Maybe keep the MaxLengthSL and drop the TL to avoid redundancy*. \n",
    "- the aspect ratio and the Log_AR are redundant because the Log_AR is the log of the aspect ratio value. The aspect ratio shows no missing value on the contrary for the Log_AR. *Keep the aspect ratio and drop the log the same for the aspect ration Q*."
   ]
  },
  {
   "cell_type": "code",
   "execution_count": 20,
   "metadata": {},
   "outputs": [
    {
     "data": {
      "image/png": "[encoded data removed]",
      "text/plain": [
       "<Figure size 640x480 with 1 Axes>"
      ]
     },
     "metadata": {},
     "output_type": "display_data"
    }
   ],
   "source": [
    "#the repartition of the observation accross the swim type feature\n",
    "\n",
    "plt.pie(trait['swim_type'].value_counts(),labels=trait['swim_type'].value_counts().index,autopct='%1.2f%%')\n",
    "plt.show()"
   ]
  },
  {
   "cell_type": "markdown",
   "metadata": {},
   "source": [
    "Principally the fish has a pectoral or body_caudal mode of swiming the other categories are under reprented."
   ]
  },
  {
   "cell_type": "code",
   "execution_count": 21,
   "metadata": {},
   "outputs": [
    {
     "data": {
      "image/png": "[encoded data removed]",
      "text/plain": [
       "<Figure size 640x480 with 1 Axes>"
      ]
     },
     "metadata": {},
     "output_type": "display_data"
    }
   ],
   "source": [
    "#the repartition of the observation accross the diet.x feature\n",
    "\n",
    "plt.pie(trait['Diet.x'].value_counts(),labels=trait['Diet.x'].value_counts().index,autopct='%1.2f%%')\n",
    "plt.show()"
   ]
  },
  {
   "cell_type": "code",
   "execution_count": 22,
   "metadata": {},
   "outputs": [
    {
     "data": {
      "image/png": "[encoded data removed]",
      "text/plain": [
       "<Figure size 640x480 with 1 Axes>"
      ]
     },
     "metadata": {},
     "output_type": "display_data"
    }
   ],
   "source": [
    "#the repartition of the observation accross the Spawn feature\n",
    "\n",
    "plt.pie(trait['Spawn'].value_counts(),labels=trait['Spawn'].value_counts().index,autopct='%1.2f%%')\n",
    "plt.show()"
   ]
  },
  {
   "cell_type": "code",
   "execution_count": 23,
   "metadata": {},
   "outputs": [
    {
     "data": {
      "image/png": "[encoded data removed]",
      "text/plain": [
       "<Figure size 640x480 with 1 Axes>"
      ]
     },
     "metadata": {},
     "output_type": "display_data"
    }
   ],
   "source": [
    "#the repartition of the observation accross the Spawning feature\n",
    "\n",
    "plt.pie(trait['Spawning'].value_counts(),labels=trait['Spawning'].value_counts().index,autopct='%1.2f%%')\n",
    "plt.show()"
   ]
  },
  {
   "cell_type": "code",
   "execution_count": 24,
   "metadata": {},
   "outputs": [
    {
     "data": {
      "image/png": "[encoded data removed]",
      "text/plain": [
       "<Figure size 640x480 with 1 Axes>"
      ]
     },
     "metadata": {},
     "output_type": "display_data"
    }
   ],
   "source": [
    "#the repartition of the observation accross the Brackish feature\n",
    "\n",
    "plt.pie(trait['Brackish'].value_counts(),labels=trait['Brackish'].value_counts().index,autopct='%1.2f%%')\n",
    "plt.show()"
   ]
  },
  {
   "cell_type": "code",
   "execution_count": 25,
   "metadata": {},
   "outputs": [
    {
     "data": {
      "image/png": "[encoded data removed]",
      "text/plain": [
       "<Figure size 640x480 with 1 Axes>"
      ]
     },
     "metadata": {},
     "output_type": "display_data"
    }
   ],
   "source": [
    "#the repartition of the observation accross the Multihabitat feature\n",
    "\n",
    "plt.pie(trait['Multihabitat'].value_counts(),labels=trait['Multihabitat'].value_counts().index,autopct='%1.2f%%')\n",
    "plt.show()"
   ]
  },
  {
   "cell_type": "code",
   "execution_count": 26,
   "metadata": {},
   "outputs": [
    {
     "data": {
      "image/png": "[encoded data removed]",
      "text/plain": [
       "<Figure size 640x480 with 1 Axes>"
      ]
     },
     "metadata": {},
     "output_type": "display_data"
    }
   ],
   "source": [
    "#the repartition of the observation accross the Home_range feature\n",
    "\n",
    "plt.pie(trait['Home_range'].value_counts(),labels=trait['Home_range'].value_counts().index,autopct='%1.2f%%')\n",
    "plt.show()"
   ]
  }
 ],
 "metadata": {
  "kernelspec": {
   "display_name": "ML_Class_Project",
   "language": "python",
   "name": "python3"
  },
  "language_info": {
   "codemirror_mode": {
    "name": "ipython",
    "version": 3
   },
   "file_extension": ".py",
   "mimetype": "text/x-python",
   "name": "python",
   "nbconvert_exporter": "python",
   "pygments_lexer": "ipython3",
   "version": "3.9.19"
  }
 },
 "nbformat": 4,
 "nbformat_minor": 2
}
